{
 "nbformat": 4,
 "nbformat_minor": 5,
 "metadata": {
  "kernelspec": {
   "name": "python3",
   "display_name": "Python 3.9.6 64-bit ('Drill_DL_TF': conda)"
  },
  "language_info": {
   "codemirror_mode": {
    "name": "ipython",
    "version": 3
   },
   "file_extension": ".py",
   "mimetype": "text/x-python",
   "name": "python",
   "nbconvert_exporter": "python",
   "pygments_lexer": "ipython3",
   "version": "3.9.6"
  },
  "colab": {
   "name": "울산광역시 CCTV_practice.ipynb",
   "provenance": [],
   "collapsed_sections": [],
   "toc_visible": true
  },
  "interpreter": {
   "hash": "919cf3ae0e9712d87b63b1e10ff40154688c8cbaba6389820679510ec494ce74"
  }
 },
 "cells": [
  {
   "cell_type": "markdown",
   "source": [
    "# 울산광역시 CCTV 현황 탐색"
   ],
   "metadata": {
    "id": "c1e60ee5"
   }
  },
  {
   "cell_type": "markdown",
   "source": [
    "+ 데이터: 울산광역시 CCTV 설치현황, 울산광역시 주민등록인구"
   ],
   "metadata": {
    "id": "1b9f24d8"
   }
  },
  {
   "cell_type": "code",
   "execution_count": 1,
   "source": [
    "import matplotlib.pyplot as plt\n",
    "\n",
    "import platform\n",
    "\n",
    "from matplotlib import font_manager, rc\n",
    "plt.rcParams['axes.unicode_minus'] = False\n",
    "\n",
    "if platform.system() == 'Darwin':\n",
    "    rc('font', family='AppleGothic')\n",
    "elif platform.system() == 'Windows':\n",
    "    path = \"c:/Windows/Fonts/malgun.ttf\"\n",
    "    font_name = font_manager.FontProperties(fname=path).get_name()\n",
    "    rc('font', family=font_name)\n",
    "else:\n",
    "    print('Unknown system... sorry~~~~')"
   ],
   "outputs": [],
   "metadata": {
    "id": "61673fe1"
   }
  },
  {
   "cell_type": "code",
   "execution_count": 2,
   "source": [
    "import numpy as np\n",
    "import pandas as pd"
   ],
   "outputs": [],
   "metadata": {
    "collapsed": false,
    "pycharm": {
     "name": "#%%\n"
    }
   }
  },
  {
   "cell_type": "markdown",
   "source": [
    "# 울산 CCTV \"ulsan_cctv.csv\" 불러오기"
   ],
   "metadata": {
    "id": "0b769c22"
   }
  },
  {
   "cell_type": "code",
   "execution_count": 3,
   "source": [
    "cctv = pd.read_csv('/Users/escortkwon/Code/Advanced_AI_Course/5th Week/DNN 복습 실습/00. Pandas 활용 능력 평가/울산CCTV/data/ulsan_cctv.csv')\n",
    "cctv.head()"
   ],
   "outputs": [
    {
     "output_type": "execute_result",
     "data": {
      "text/plain": [
       "     고유번호       관리기관명 소재지도로명주소                   소재지지번주소 설치목적구분  카메라대수  \\\n",
       "0  379297  울산광역시 울주군청      NaN  울산광역시 울주군 범서읍 구영리 397-14  어린이보호      2   \n",
       "1  379296  울산광역시 울주군청      NaN     울산광역시 울주군 온양읍 대안리 417  어린이보호      1   \n",
       "2  379295  울산광역시 울주군청      NaN    울산광역시 울주군 온양읍 운화리 47-8  어린이보호      1   \n",
       "3  379294  울산광역시 울주군청      NaN   울산광역시 울주군 언양읍 동부리 375-3  어린이보호      1   \n",
       "4  379293  울산광역시 울주군청      NaN   울산광역시 울주군 온양읍 대안리 183-3  어린이보호      1   \n",
       "\n",
       "   카메라화소수 촬영방면정보  보관일수     설치년월      관리기관전화번호          경도         위도  \\\n",
       "0     200    NaN    30  2021-12  052-204-0030  129.246708  35.567494   \n",
       "1     200    NaN    30  2021-12  052-204-0030  129.281470  35.408266   \n",
       "2     200    NaN    30  2021-12  052-204-0030  129.281236  35.413830   \n",
       "3     200    NaN    30  2021-12  052-204-0030  129.126308  35.570797   \n",
       "4     200    NaN    30  2021-12  052-204-0030  129.287578  35.409694   \n",
       "\n",
       "     데이터기준일자  \n",
       "0  2020.2.25  \n",
       "1  2020.2.25  \n",
       "2  2020.2.25  \n",
       "3  2020.2.25  \n",
       "4  2020.2.25  "
      ],
      "text/html": [
       "<div>\n",
       "<style scoped>\n",
       "    .dataframe tbody tr th:only-of-type {\n",
       "        vertical-align: middle;\n",
       "    }\n",
       "\n",
       "    .dataframe tbody tr th {\n",
       "        vertical-align: top;\n",
       "    }\n",
       "\n",
       "    .dataframe thead th {\n",
       "        text-align: right;\n",
       "    }\n",
       "</style>\n",
       "<table border=\"1\" class=\"dataframe\">\n",
       "  <thead>\n",
       "    <tr style=\"text-align: right;\">\n",
       "      <th></th>\n",
       "      <th>고유번호</th>\n",
       "      <th>관리기관명</th>\n",
       "      <th>소재지도로명주소</th>\n",
       "      <th>소재지지번주소</th>\n",
       "      <th>설치목적구분</th>\n",
       "      <th>카메라대수</th>\n",
       "      <th>카메라화소수</th>\n",
       "      <th>촬영방면정보</th>\n",
       "      <th>보관일수</th>\n",
       "      <th>설치년월</th>\n",
       "      <th>관리기관전화번호</th>\n",
       "      <th>경도</th>\n",
       "      <th>위도</th>\n",
       "      <th>데이터기준일자</th>\n",
       "    </tr>\n",
       "  </thead>\n",
       "  <tbody>\n",
       "    <tr>\n",
       "      <th>0</th>\n",
       "      <td>379297</td>\n",
       "      <td>울산광역시 울주군청</td>\n",
       "      <td>NaN</td>\n",
       "      <td>울산광역시 울주군 범서읍 구영리 397-14</td>\n",
       "      <td>어린이보호</td>\n",
       "      <td>2</td>\n",
       "      <td>200</td>\n",
       "      <td>NaN</td>\n",
       "      <td>30</td>\n",
       "      <td>2021-12</td>\n",
       "      <td>052-204-0030</td>\n",
       "      <td>129.246708</td>\n",
       "      <td>35.567494</td>\n",
       "      <td>2020.2.25</td>\n",
       "    </tr>\n",
       "    <tr>\n",
       "      <th>1</th>\n",
       "      <td>379296</td>\n",
       "      <td>울산광역시 울주군청</td>\n",
       "      <td>NaN</td>\n",
       "      <td>울산광역시 울주군 온양읍 대안리 417</td>\n",
       "      <td>어린이보호</td>\n",
       "      <td>1</td>\n",
       "      <td>200</td>\n",
       "      <td>NaN</td>\n",
       "      <td>30</td>\n",
       "      <td>2021-12</td>\n",
       "      <td>052-204-0030</td>\n",
       "      <td>129.281470</td>\n",
       "      <td>35.408266</td>\n",
       "      <td>2020.2.25</td>\n",
       "    </tr>\n",
       "    <tr>\n",
       "      <th>2</th>\n",
       "      <td>379295</td>\n",
       "      <td>울산광역시 울주군청</td>\n",
       "      <td>NaN</td>\n",
       "      <td>울산광역시 울주군 온양읍 운화리 47-8</td>\n",
       "      <td>어린이보호</td>\n",
       "      <td>1</td>\n",
       "      <td>200</td>\n",
       "      <td>NaN</td>\n",
       "      <td>30</td>\n",
       "      <td>2021-12</td>\n",
       "      <td>052-204-0030</td>\n",
       "      <td>129.281236</td>\n",
       "      <td>35.413830</td>\n",
       "      <td>2020.2.25</td>\n",
       "    </tr>\n",
       "    <tr>\n",
       "      <th>3</th>\n",
       "      <td>379294</td>\n",
       "      <td>울산광역시 울주군청</td>\n",
       "      <td>NaN</td>\n",
       "      <td>울산광역시 울주군 언양읍 동부리 375-3</td>\n",
       "      <td>어린이보호</td>\n",
       "      <td>1</td>\n",
       "      <td>200</td>\n",
       "      <td>NaN</td>\n",
       "      <td>30</td>\n",
       "      <td>2021-12</td>\n",
       "      <td>052-204-0030</td>\n",
       "      <td>129.126308</td>\n",
       "      <td>35.570797</td>\n",
       "      <td>2020.2.25</td>\n",
       "    </tr>\n",
       "    <tr>\n",
       "      <th>4</th>\n",
       "      <td>379293</td>\n",
       "      <td>울산광역시 울주군청</td>\n",
       "      <td>NaN</td>\n",
       "      <td>울산광역시 울주군 온양읍 대안리 183-3</td>\n",
       "      <td>어린이보호</td>\n",
       "      <td>1</td>\n",
       "      <td>200</td>\n",
       "      <td>NaN</td>\n",
       "      <td>30</td>\n",
       "      <td>2021-12</td>\n",
       "      <td>052-204-0030</td>\n",
       "      <td>129.287578</td>\n",
       "      <td>35.409694</td>\n",
       "      <td>2020.2.25</td>\n",
       "    </tr>\n",
       "  </tbody>\n",
       "</table>\n",
       "</div>"
      ]
     },
     "metadata": {},
     "execution_count": 3
    }
   ],
   "metadata": {
    "collapsed": false,
    "pycharm": {
     "name": "#%%\n"
    }
   }
  },
  {
   "cell_type": "markdown",
   "source": [
    "## groupby로 카메라대수 집계(sum)하기"
   ],
   "metadata": {
    "id": "fdb01079"
   }
  },
  {
   "cell_type": "markdown",
   "source": [
    "### 관리기관별 집계"
   ],
   "metadata": {
    "id": "6f57bf90"
   }
  },
  {
   "cell_type": "code",
   "execution_count": 4,
   "source": [
    "cctv_region = cctv.groupby(by='관리기관명', as_index=False).sum()\n",
    "cctv_region.drop(['고유번호', '카메라화소수', '보관일수', '경도', '위도'], axis=1, inplace=True)"
   ],
   "outputs": [],
   "metadata": {
    "id": "433037ae"
   }
  },
  {
   "cell_type": "code",
   "execution_count": 5,
   "source": [
    "cctv_region"
   ],
   "outputs": [
    {
     "output_type": "execute_result",
     "data": {
      "text/plain": [
       "        관리기관명  카메라대수\n",
       "0   울산광역시 동구청    719\n",
       "1   울산광역시 북구청   1211\n",
       "2  울산광역시 울주군청   1110\n",
       "3    울산광역시 중구   1321"
      ],
      "text/html": [
       "<div>\n",
       "<style scoped>\n",
       "    .dataframe tbody tr th:only-of-type {\n",
       "        vertical-align: middle;\n",
       "    }\n",
       "\n",
       "    .dataframe tbody tr th {\n",
       "        vertical-align: top;\n",
       "    }\n",
       "\n",
       "    .dataframe thead th {\n",
       "        text-align: right;\n",
       "    }\n",
       "</style>\n",
       "<table border=\"1\" class=\"dataframe\">\n",
       "  <thead>\n",
       "    <tr style=\"text-align: right;\">\n",
       "      <th></th>\n",
       "      <th>관리기관명</th>\n",
       "      <th>카메라대수</th>\n",
       "    </tr>\n",
       "  </thead>\n",
       "  <tbody>\n",
       "    <tr>\n",
       "      <th>0</th>\n",
       "      <td>울산광역시 동구청</td>\n",
       "      <td>719</td>\n",
       "    </tr>\n",
       "    <tr>\n",
       "      <th>1</th>\n",
       "      <td>울산광역시 북구청</td>\n",
       "      <td>1211</td>\n",
       "    </tr>\n",
       "    <tr>\n",
       "      <th>2</th>\n",
       "      <td>울산광역시 울주군청</td>\n",
       "      <td>1110</td>\n",
       "    </tr>\n",
       "    <tr>\n",
       "      <th>3</th>\n",
       "      <td>울산광역시 중구</td>\n",
       "      <td>1321</td>\n",
       "    </tr>\n",
       "  </tbody>\n",
       "</table>\n",
       "</div>"
      ]
     },
     "metadata": {},
     "execution_count": 5
    }
   ],
   "metadata": {
    "id": "109da14d",
    "outputId": "f1e173b3-a225-4f12-9288-d2c494a4fc20"
   }
  },
  {
   "cell_type": "code",
   "execution_count": 6,
   "source": [
    "plt.figure(figsize=(10, 8))\n",
    "plt.bar(cctv_region['관리기관명'], cctv_region['카메라대수'], label='카메라 대수')\n",
    "plt.legend()\n",
    "plt.title('관리기관별 CCTV 설치 현황')\n",
    "plt.xlabel('관리기관명')\n",
    "plt.xticks(rotation=90)\n"
   ],
   "outputs": [
    {
     "output_type": "execute_result",
     "data": {
      "text/plain": [
       "([0, 1, 2, 3],\n",
       " [Text(0, 0, ''), Text(0, 0, ''), Text(0, 0, ''), Text(0, 0, '')])"
      ]
     },
     "metadata": {},
     "execution_count": 6
    },
    {
     "output_type": "display_data",
     "data": {
      "text/plain": [
       "<Figure size 720x576 with 1 Axes>"
      ],
      "image/png": "[encoded data removed]"
     },
     "metadata": {
      "needs_background": "light"
     }
    }
   ],
   "metadata": {
    "id": "fc213024",
    "outputId": "15736950-625b-4c65-9abf-61326e75ae97"
   }
  },
  {
   "cell_type": "markdown",
   "source": [
    "### 설치년월 기준으로 집계"
   ],
   "metadata": {
    "id": "c1c19242"
   }
  },
  {
   "cell_type": "code",
   "execution_count": 7,
   "source": [
    "cctv_month = cctv.groupby(by='설치년월', as_index=False).sum()\n",
    "cctv_month.drop(['고유번호', '카메라화소수', '보관일수', '경도', '위도'], axis=1, inplace=True)"
   ],
   "outputs": [],
   "metadata": {
    "id": "dbc8b4de"
   }
  },
  {
   "cell_type": "code",
   "execution_count": 8,
   "source": [
    "cctv_month"
   ],
   "outputs": [
    {
     "output_type": "execute_result",
     "data": {
      "text/plain": [
       "       설치년월  카메라대수\n",
       "0   2021-01    146\n",
       "1   2021-02     72\n",
       "2   2021-03    104\n",
       "3   2021-04    138\n",
       "4   2021-05    453\n",
       "5   2021-06   1310\n",
       "6   2021-07    356\n",
       "7   2021-08    521\n",
       "8   2021-09    323\n",
       "9   2021-10    188\n",
       "10  2021-11    286\n",
       "11  2021-12    452"
      ],
      "text/html": [
       "<div>\n",
       "<style scoped>\n",
       "    .dataframe tbody tr th:only-of-type {\n",
       "        vertical-align: middle;\n",
       "    }\n",
       "\n",
       "    .dataframe tbody tr th {\n",
       "        vertical-align: top;\n",
       "    }\n",
       "\n",
       "    .dataframe thead th {\n",
       "        text-align: right;\n",
       "    }\n",
       "</style>\n",
       "<table border=\"1\" class=\"dataframe\">\n",
       "  <thead>\n",
       "    <tr style=\"text-align: right;\">\n",
       "      <th></th>\n",
       "      <th>설치년월</th>\n",
       "      <th>카메라대수</th>\n",
       "    </tr>\n",
       "  </thead>\n",
       "  <tbody>\n",
       "    <tr>\n",
       "      <th>0</th>\n",
       "      <td>2021-01</td>\n",
       "      <td>146</td>\n",
       "    </tr>\n",
       "    <tr>\n",
       "      <th>1</th>\n",
       "      <td>2021-02</td>\n",
       "      <td>72</td>\n",
       "    </tr>\n",
       "    <tr>\n",
       "      <th>2</th>\n",
       "      <td>2021-03</td>\n",
       "      <td>104</td>\n",
       "    </tr>\n",
       "    <tr>\n",
       "      <th>3</th>\n",
       "      <td>2021-04</td>\n",
       "      <td>138</td>\n",
       "    </tr>\n",
       "    <tr>\n",
       "      <th>4</th>\n",
       "      <td>2021-05</td>\n",
       "      <td>453</td>\n",
       "    </tr>\n",
       "    <tr>\n",
       "      <th>5</th>\n",
       "      <td>2021-06</td>\n",
       "      <td>1310</td>\n",
       "    </tr>\n",
       "    <tr>\n",
       "      <th>6</th>\n",
       "      <td>2021-07</td>\n",
       "      <td>356</td>\n",
       "    </tr>\n",
       "    <tr>\n",
       "      <th>7</th>\n",
       "      <td>2021-08</td>\n",
       "      <td>521</td>\n",
       "    </tr>\n",
       "    <tr>\n",
       "      <th>8</th>\n",
       "      <td>2021-09</td>\n",
       "      <td>323</td>\n",
       "    </tr>\n",
       "    <tr>\n",
       "      <th>9</th>\n",
       "      <td>2021-10</td>\n",
       "      <td>188</td>\n",
       "    </tr>\n",
       "    <tr>\n",
       "      <th>10</th>\n",
       "      <td>2021-11</td>\n",
       "      <td>286</td>\n",
       "    </tr>\n",
       "    <tr>\n",
       "      <th>11</th>\n",
       "      <td>2021-12</td>\n",
       "      <td>452</td>\n",
       "    </tr>\n",
       "  </tbody>\n",
       "</table>\n",
       "</div>"
      ]
     },
     "metadata": {},
     "execution_count": 8
    }
   ],
   "metadata": {
    "id": "2f663da5",
    "outputId": "7203ec73-a90d-45e8-accc-11290becfff0"
   }
  },
  {
   "cell_type": "code",
   "execution_count": 9,
   "source": [
    "plt.figure(figsize=(12, 8))\n",
    "plt.bar(cctv_month['설치년월'], cctv_month['카메라대수'], label='카메라 대수')\n",
    "plt.legend()\n",
    "plt.title('월별 CCTV 설치 현황')\n",
    "plt.xlabel('설치년월')"
   ],
   "outputs": [
    {
     "output_type": "execute_result",
     "data": {
      "text/plain": [
       "Text(0.5, 0, '설치년월')"
      ]
     },
     "metadata": {},
     "execution_count": 9
    },
    {
     "output_type": "display_data",
     "data": {
      "text/plain": [
       "<Figure size 864x576 with 1 Axes>"
      ],
      "image/png": "[encoded data removed]"
     },
     "metadata": {
      "needs_background": "light"
     }
    }
   ],
   "metadata": {
    "id": "05eedff7"
   }
  },
  {
   "cell_type": "markdown",
   "source": [
    "### 관리기관별 설치목적구분을 기준으로 집계"
   ],
   "metadata": {
    "id": "cce6ca09"
   }
  },
  {
   "cell_type": "code",
   "execution_count": 10,
   "source": [
    "cctv_purpose = cctv.groupby(by=['관리기관명', '설치목적구분'], as_index=False).sum()\n",
    "cctv_purpose.drop(['고유번호', '카메라화소수', '보관일수', '경도', '위도'], axis=1, inplace=True)"
   ],
   "outputs": [],
   "metadata": {
    "id": "db030610"
   }
  },
  {
   "cell_type": "code",
   "execution_count": 11,
   "source": [
    "cctv_purpose"
   ],
   "outputs": [
    {
     "output_type": "execute_result",
     "data": {
      "text/plain": [
       "         관리기관명 설치목적구분  카메라대수\n",
       "0    울산광역시 동구청   생활방범    484\n",
       "1    울산광역시 동구청  어린이보호    223\n",
       "2    울산광역시 동구청   차량방범     12\n",
       "3    울산광역시 북구청   교통단속    166\n",
       "4    울산광역시 북구청   생활방범    715\n",
       "5    울산광역시 북구청  쓰레기단속     58\n",
       "6    울산광역시 북구청  어린이보호    245\n",
       "7    울산광역시 북구청   재난재해      8\n",
       "8    울산광역시 북구청   차량방범     19\n",
       "9   울산광역시 울주군청   생활방범    530\n",
       "10  울산광역시 울주군청  어린이보호    580\n",
       "11    울산광역시 중구     기타    190\n",
       "12    울산광역시 중구   생활방범    931\n",
       "13    울산광역시 중구  어린이보호    200"
      ],
      "text/html": [
       "<div>\n",
       "<style scoped>\n",
       "    .dataframe tbody tr th:only-of-type {\n",
       "        vertical-align: middle;\n",
       "    }\n",
       "\n",
       "    .dataframe tbody tr th {\n",
       "        vertical-align: top;\n",
       "    }\n",
       "\n",
       "    .dataframe thead th {\n",
       "        text-align: right;\n",
       "    }\n",
       "</style>\n",
       "<table border=\"1\" class=\"dataframe\">\n",
       "  <thead>\n",
       "    <tr style=\"text-align: right;\">\n",
       "      <th></th>\n",
       "      <th>관리기관명</th>\n",
       "      <th>설치목적구분</th>\n",
       "      <th>카메라대수</th>\n",
       "    </tr>\n",
       "  </thead>\n",
       "  <tbody>\n",
       "    <tr>\n",
       "      <th>0</th>\n",
       "      <td>울산광역시 동구청</td>\n",
       "      <td>생활방범</td>\n",
       "      <td>484</td>\n",
       "    </tr>\n",
       "    <tr>\n",
       "      <th>1</th>\n",
       "      <td>울산광역시 동구청</td>\n",
       "      <td>어린이보호</td>\n",
       "      <td>223</td>\n",
       "    </tr>\n",
       "    <tr>\n",
       "      <th>2</th>\n",
       "      <td>울산광역시 동구청</td>\n",
       "      <td>차량방범</td>\n",
       "      <td>12</td>\n",
       "    </tr>\n",
       "    <tr>\n",
       "      <th>3</th>\n",
       "      <td>울산광역시 북구청</td>\n",
       "      <td>교통단속</td>\n",
       "      <td>166</td>\n",
       "    </tr>\n",
       "    <tr>\n",
       "      <th>4</th>\n",
       "      <td>울산광역시 북구청</td>\n",
       "      <td>생활방범</td>\n",
       "      <td>715</td>\n",
       "    </tr>\n",
       "    <tr>\n",
       "      <th>5</th>\n",
       "      <td>울산광역시 북구청</td>\n",
       "      <td>쓰레기단속</td>\n",
       "      <td>58</td>\n",
       "    </tr>\n",
       "    <tr>\n",
       "      <th>6</th>\n",
       "      <td>울산광역시 북구청</td>\n",
       "      <td>어린이보호</td>\n",
       "      <td>245</td>\n",
       "    </tr>\n",
       "    <tr>\n",
       "      <th>7</th>\n",
       "      <td>울산광역시 북구청</td>\n",
       "      <td>재난재해</td>\n",
       "      <td>8</td>\n",
       "    </tr>\n",
       "    <tr>\n",
       "      <th>8</th>\n",
       "      <td>울산광역시 북구청</td>\n",
       "      <td>차량방범</td>\n",
       "      <td>19</td>\n",
       "    </tr>\n",
       "    <tr>\n",
       "      <th>9</th>\n",
       "      <td>울산광역시 울주군청</td>\n",
       "      <td>생활방범</td>\n",
       "      <td>530</td>\n",
       "    </tr>\n",
       "    <tr>\n",
       "      <th>10</th>\n",
       "      <td>울산광역시 울주군청</td>\n",
       "      <td>어린이보호</td>\n",
       "      <td>580</td>\n",
       "    </tr>\n",
       "    <tr>\n",
       "      <th>11</th>\n",
       "      <td>울산광역시 중구</td>\n",
       "      <td>기타</td>\n",
       "      <td>190</td>\n",
       "    </tr>\n",
       "    <tr>\n",
       "      <th>12</th>\n",
       "      <td>울산광역시 중구</td>\n",
       "      <td>생활방범</td>\n",
       "      <td>931</td>\n",
       "    </tr>\n",
       "    <tr>\n",
       "      <th>13</th>\n",
       "      <td>울산광역시 중구</td>\n",
       "      <td>어린이보호</td>\n",
       "      <td>200</td>\n",
       "    </tr>\n",
       "  </tbody>\n",
       "</table>\n",
       "</div>"
      ]
     },
     "metadata": {},
     "execution_count": 11
    }
   ],
   "metadata": {
    "id": "403c820f",
    "outputId": "2bd8209c-adee-441f-c61d-98781c155481"
   }
  },
  {
   "cell_type": "markdown",
   "source": [
    "# 울산 인구 \"ulsan_population.csv\" 불러오기"
   ],
   "metadata": {
    "id": "949cf10b"
   }
  },
  {
   "cell_type": "code",
   "execution_count": 12,
   "source": [
    "pop = pd.read_csv('/Users/escortkwon/Code/Advanced_AI_Course/5th Week/DNN 복습 실습/00. Pandas 활용 능력 평가/울산CCTV/data/ulsan_population.csv')"
   ],
   "outputs": [],
   "metadata": {
    "id": "25dc287e"
   }
  },
  {
   "cell_type": "code",
   "execution_count": 13,
   "source": [
    "pop"
   ],
   "outputs": [
    {
     "output_type": "execute_result",
     "data": {
      "text/plain": [
       "                     행정구역 2020년01월_총인구수 2020년01월_세대수  2020년01월_세대당 인구  \\\n",
       "0     울산광역시  (3100000000)     1,147,037      469,007             2.45   \n",
       "1   울산광역시 중구 (3111000000)       223,060       92,994             2.40   \n",
       "2   울산광역시 남구 (3114000000)       323,704      135,477             2.39   \n",
       "3   울산광역시 동구 (3117000000)       159,294       65,167             2.44   \n",
       "4   울산광역시 북구 (3120000000)       218,053       81,382             2.68   \n",
       "5  울산광역시 울주군 (3171000000)       222,926       93,987             2.37   \n",
       "\n",
       "  2020년01월_남자 인구수 2020년01월_여자 인구수  2020년01월_남여 비율 2020년02월_총인구수 2020년02월_세대수  \\\n",
       "0         589,233         557,804            1.06     1,145,710      469,551   \n",
       "1         113,235         109,825            1.03       222,395       92,927   \n",
       "2         164,993         158,711            1.04       323,756      135,738   \n",
       "3          83,217          76,077            1.09       158,809       65,189   \n",
       "4         112,773         105,280            1.07       218,190       81,608   \n",
       "5         115,015         107,911            1.07       222,560       94,089   \n",
       "\n",
       "   2020년02월_세대당 인구  ... 2020년11월_세대당 인구 2020년11월_남자 인구수  2020년11월_여자 인구수  \\\n",
       "0             2.44  ...            2.39         584,305          553,040   \n",
       "1             2.39  ...            2.34         110,500          107,596   \n",
       "2             2.39  ...            2.33         163,513          157,203   \n",
       "3             2.44  ...            2.39          82,126           74,985   \n",
       "4             2.67  ...            2.62         113,325          105,557   \n",
       "5             2.37  ...            2.32         114,841          107,699   \n",
       "\n",
       "  2020년11월_남여 비율 2020년12월_총인구수  2020년12월_세대수 2020년12월_세대당 인구 2020년12월_남자 인구수  \\\n",
       "0           1.06     1,136,017       476,893            2.38         583,708   \n",
       "1           1.03       217,595        93,212            2.33         110,201   \n",
       "2           1.04       320,064       137,925            2.32         163,198   \n",
       "3           1.10       156,806        65,815            2.38          81,999   \n",
       "4           1.07       219,014        83,781            2.61         113,392   \n",
       "5           1.07       222,538        96,160            2.31         114,918   \n",
       "\n",
       "   2020년12월_여자 인구수 2020년12월_남여 비율  \n",
       "0          552,309           1.06  \n",
       "1          107,394           1.03  \n",
       "2          156,866           1.04  \n",
       "3           74,807           1.10  \n",
       "4          105,622           1.07  \n",
       "5          107,620           1.07  \n",
       "\n",
       "[6 rows x 73 columns]"
      ],
      "text/html": [
       "<div>\n",
       "<style scoped>\n",
       "    .dataframe tbody tr th:only-of-type {\n",
       "        vertical-align: middle;\n",
       "    }\n",
       "\n",
       "    .dataframe tbody tr th {\n",
       "        vertical-align: top;\n",
       "    }\n",
       "\n",
       "    .dataframe thead th {\n",
       "        text-align: right;\n",
       "    }\n",
       "</style>\n",
       "<table border=\"1\" class=\"dataframe\">\n",
       "  <thead>\n",
       "    <tr style=\"text-align: right;\">\n",
       "      <th></th>\n",
       "      <th>행정구역</th>\n",
       "      <th>2020년01월_총인구수</th>\n",
       "      <th>2020년01월_세대수</th>\n",
       "      <th>2020년01월_세대당 인구</th>\n",
       "      <th>2020년01월_남자 인구수</th>\n",
       "      <th>2020년01월_여자 인구수</th>\n",
       "      <th>2020년01월_남여 비율</th>\n",
       "      <th>2020년02월_총인구수</th>\n",
       "      <th>2020년02월_세대수</th>\n",
       "      <th>2020년02월_세대당 인구</th>\n",
       "      <th>...</th>\n",
       "      <th>2020년11월_세대당 인구</th>\n",
       "      <th>2020년11월_남자 인구수</th>\n",
       "      <th>2020년11월_여자 인구수</th>\n",
       "      <th>2020년11월_남여 비율</th>\n",
       "      <th>2020년12월_총인구수</th>\n",
       "      <th>2020년12월_세대수</th>\n",
       "      <th>2020년12월_세대당 인구</th>\n",
       "      <th>2020년12월_남자 인구수</th>\n",
       "      <th>2020년12월_여자 인구수</th>\n",
       "      <th>2020년12월_남여 비율</th>\n",
       "    </tr>\n",
       "  </thead>\n",
       "  <tbody>\n",
       "    <tr>\n",
       "      <th>0</th>\n",
       "      <td>울산광역시  (3100000000)</td>\n",
       "      <td>1,147,037</td>\n",
       "      <td>469,007</td>\n",
       "      <td>2.45</td>\n",
       "      <td>589,233</td>\n",
       "      <td>557,804</td>\n",
       "      <td>1.06</td>\n",
       "      <td>1,145,710</td>\n",
       "      <td>469,551</td>\n",
       "      <td>2.44</td>\n",
       "      <td>...</td>\n",
       "      <td>2.39</td>\n",
       "      <td>584,305</td>\n",
       "      <td>553,040</td>\n",
       "      <td>1.06</td>\n",
       "      <td>1,136,017</td>\n",
       "      <td>476,893</td>\n",
       "      <td>2.38</td>\n",
       "      <td>583,708</td>\n",
       "      <td>552,309</td>\n",
       "      <td>1.06</td>\n",
       "    </tr>\n",
       "    <tr>\n",
       "      <th>1</th>\n",
       "      <td>울산광역시 중구 (3111000000)</td>\n",
       "      <td>223,060</td>\n",
       "      <td>92,994</td>\n",
       "      <td>2.40</td>\n",
       "      <td>113,235</td>\n",
       "      <td>109,825</td>\n",
       "      <td>1.03</td>\n",
       "      <td>222,395</td>\n",
       "      <td>92,927</td>\n",
       "      <td>2.39</td>\n",
       "      <td>...</td>\n",
       "      <td>2.34</td>\n",
       "      <td>110,500</td>\n",
       "      <td>107,596</td>\n",
       "      <td>1.03</td>\n",
       "      <td>217,595</td>\n",
       "      <td>93,212</td>\n",
       "      <td>2.33</td>\n",
       "      <td>110,201</td>\n",
       "      <td>107,394</td>\n",
       "      <td>1.03</td>\n",
       "    </tr>\n",
       "    <tr>\n",
       "      <th>2</th>\n",
       "      <td>울산광역시 남구 (3114000000)</td>\n",
       "      <td>323,704</td>\n",
       "      <td>135,477</td>\n",
       "      <td>2.39</td>\n",
       "      <td>164,993</td>\n",
       "      <td>158,711</td>\n",
       "      <td>1.04</td>\n",
       "      <td>323,756</td>\n",
       "      <td>135,738</td>\n",
       "      <td>2.39</td>\n",
       "      <td>...</td>\n",
       "      <td>2.33</td>\n",
       "      <td>163,513</td>\n",
       "      <td>157,203</td>\n",
       "      <td>1.04</td>\n",
       "      <td>320,064</td>\n",
       "      <td>137,925</td>\n",
       "      <td>2.32</td>\n",
       "      <td>163,198</td>\n",
       "      <td>156,866</td>\n",
       "      <td>1.04</td>\n",
       "    </tr>\n",
       "    <tr>\n",
       "      <th>3</th>\n",
       "      <td>울산광역시 동구 (3117000000)</td>\n",
       "      <td>159,294</td>\n",
       "      <td>65,167</td>\n",
       "      <td>2.44</td>\n",
       "      <td>83,217</td>\n",
       "      <td>76,077</td>\n",
       "      <td>1.09</td>\n",
       "      <td>158,809</td>\n",
       "      <td>65,189</td>\n",
       "      <td>2.44</td>\n",
       "      <td>...</td>\n",
       "      <td>2.39</td>\n",
       "      <td>82,126</td>\n",
       "      <td>74,985</td>\n",
       "      <td>1.10</td>\n",
       "      <td>156,806</td>\n",
       "      <td>65,815</td>\n",
       "      <td>2.38</td>\n",
       "      <td>81,999</td>\n",
       "      <td>74,807</td>\n",
       "      <td>1.10</td>\n",
       "    </tr>\n",
       "    <tr>\n",
       "      <th>4</th>\n",
       "      <td>울산광역시 북구 (3120000000)</td>\n",
       "      <td>218,053</td>\n",
       "      <td>81,382</td>\n",
       "      <td>2.68</td>\n",
       "      <td>112,773</td>\n",
       "      <td>105,280</td>\n",
       "      <td>1.07</td>\n",
       "      <td>218,190</td>\n",
       "      <td>81,608</td>\n",
       "      <td>2.67</td>\n",
       "      <td>...</td>\n",
       "      <td>2.62</td>\n",
       "      <td>113,325</td>\n",
       "      <td>105,557</td>\n",
       "      <td>1.07</td>\n",
       "      <td>219,014</td>\n",
       "      <td>83,781</td>\n",
       "      <td>2.61</td>\n",
       "      <td>113,392</td>\n",
       "      <td>105,622</td>\n",
       "      <td>1.07</td>\n",
       "    </tr>\n",
       "    <tr>\n",
       "      <th>5</th>\n",
       "      <td>울산광역시 울주군 (3171000000)</td>\n",
       "      <td>222,926</td>\n",
       "      <td>93,987</td>\n",
       "      <td>2.37</td>\n",
       "      <td>115,015</td>\n",
       "      <td>107,911</td>\n",
       "      <td>1.07</td>\n",
       "      <td>222,560</td>\n",
       "      <td>94,089</td>\n",
       "      <td>2.37</td>\n",
       "      <td>...</td>\n",
       "      <td>2.32</td>\n",
       "      <td>114,841</td>\n",
       "      <td>107,699</td>\n",
       "      <td>1.07</td>\n",
       "      <td>222,538</td>\n",
       "      <td>96,160</td>\n",
       "      <td>2.31</td>\n",
       "      <td>114,918</td>\n",
       "      <td>107,620</td>\n",
       "      <td>1.07</td>\n",
       "    </tr>\n",
       "  </tbody>\n",
       "</table>\n",
       "<p>6 rows × 73 columns</p>\n",
       "</div>"
      ]
     },
     "metadata": {},
     "execution_count": 13
    }
   ],
   "metadata": {
    "id": "a5f9cd67",
    "outputId": "5d3aaa95-d8ae-43bd-8417-1b8ac495671f"
   }
  },
  {
   "cell_type": "markdown",
   "source": [
    "## DataFrame 변형"
   ],
   "metadata": {
    "id": "af56ecbf"
   }
  },
  {
   "cell_type": "markdown",
   "source": [
    "+ stack()\n",
    "+ unstack()"
   ],
   "metadata": {
    "id": "0b644ac0"
   }
  },
  {
   "cell_type": "code",
   "execution_count": 14,
   "source": [
    "pop_stacked = pop.set_index('행정구역').stack()"
   ],
   "outputs": [],
   "metadata": {
    "id": "f3a962f4"
   }
  },
  {
   "cell_type": "code",
   "execution_count": 15,
   "source": [
    "pop_stacked = pop_stacked.reset_index()"
   ],
   "outputs": [],
   "metadata": {
    "id": "200c126e",
    "outputId": "2e14bf87-3494-4180-8211-6af6bdf6fb79"
   }
  },
  {
   "cell_type": "markdown",
   "source": [
    "## 행정구역 번호 제거"
   ],
   "metadata": {
    "id": "c46c303e"
   }
  },
  {
   "cell_type": "code",
   "execution_count": 16,
   "source": [
    "pop_stacked_new = pop_stacked[\"행정구역\"].str.split(\"(\", expand=True)[0]\n",
    "pop_stacked_new # Series Object"
   ],
   "outputs": [
    {
     "output_type": "execute_result",
     "data": {
      "text/plain": [
       "0         울산광역시  \n",
       "1         울산광역시  \n",
       "2         울산광역시  \n",
       "3         울산광역시  \n",
       "4         울산광역시  \n",
       "          ...    \n",
       "427    울산광역시 울주군 \n",
       "428    울산광역시 울주군 \n",
       "429    울산광역시 울주군 \n",
       "430    울산광역시 울주군 \n",
       "431    울산광역시 울주군 \n",
       "Name: 0, Length: 432, dtype: object"
      ]
     },
     "metadata": {},
     "execution_count": 16
    }
   ],
   "metadata": {
    "id": "2a060c5c",
    "pycharm": {
     "name": "#%%\n"
    }
   }
  },
  {
   "cell_type": "code",
   "execution_count": 17,
   "source": [
    "pop_stacked['행정구역'] = pop_stacked_new"
   ],
   "outputs": [],
   "metadata": {
    "collapsed": false,
    "pycharm": {
     "name": "#%%\n"
    }
   }
  },
  {
   "cell_type": "code",
   "execution_count": 18,
   "source": [
    "pop_stacked"
   ],
   "outputs": [
    {
     "output_type": "execute_result",
     "data": {
      "text/plain": [
       "           행정구역          level_1          0\n",
       "0       울산광역시      2020년01월_총인구수  1,147,037\n",
       "1       울산광역시       2020년01월_세대수    469,007\n",
       "2       울산광역시    2020년01월_세대당 인구       2.45\n",
       "3       울산광역시    2020년01월_남자 인구수    589,233\n",
       "4       울산광역시    2020년01월_여자 인구수    557,804\n",
       "..          ...              ...        ...\n",
       "427  울산광역시 울주군      2020년12월_세대수     96,160\n",
       "428  울산광역시 울주군   2020년12월_세대당 인구       2.31\n",
       "429  울산광역시 울주군   2020년12월_남자 인구수    114,918\n",
       "430  울산광역시 울주군   2020년12월_여자 인구수    107,620\n",
       "431  울산광역시 울주군    2020년12월_남여 비율       1.07\n",
       "\n",
       "[432 rows x 3 columns]"
      ],
      "text/html": [
       "<div>\n",
       "<style scoped>\n",
       "    .dataframe tbody tr th:only-of-type {\n",
       "        vertical-align: middle;\n",
       "    }\n",
       "\n",
       "    .dataframe tbody tr th {\n",
       "        vertical-align: top;\n",
       "    }\n",
       "\n",
       "    .dataframe thead th {\n",
       "        text-align: right;\n",
       "    }\n",
       "</style>\n",
       "<table border=\"1\" class=\"dataframe\">\n",
       "  <thead>\n",
       "    <tr style=\"text-align: right;\">\n",
       "      <th></th>\n",
       "      <th>행정구역</th>\n",
       "      <th>level_1</th>\n",
       "      <th>0</th>\n",
       "    </tr>\n",
       "  </thead>\n",
       "  <tbody>\n",
       "    <tr>\n",
       "      <th>0</th>\n",
       "      <td>울산광역시</td>\n",
       "      <td>2020년01월_총인구수</td>\n",
       "      <td>1,147,037</td>\n",
       "    </tr>\n",
       "    <tr>\n",
       "      <th>1</th>\n",
       "      <td>울산광역시</td>\n",
       "      <td>2020년01월_세대수</td>\n",
       "      <td>469,007</td>\n",
       "    </tr>\n",
       "    <tr>\n",
       "      <th>2</th>\n",
       "      <td>울산광역시</td>\n",
       "      <td>2020년01월_세대당 인구</td>\n",
       "      <td>2.45</td>\n",
       "    </tr>\n",
       "    <tr>\n",
       "      <th>3</th>\n",
       "      <td>울산광역시</td>\n",
       "      <td>2020년01월_남자 인구수</td>\n",
       "      <td>589,233</td>\n",
       "    </tr>\n",
       "    <tr>\n",
       "      <th>4</th>\n",
       "      <td>울산광역시</td>\n",
       "      <td>2020년01월_여자 인구수</td>\n",
       "      <td>557,804</td>\n",
       "    </tr>\n",
       "    <tr>\n",
       "      <th>...</th>\n",
       "      <td>...</td>\n",
       "      <td>...</td>\n",
       "      <td>...</td>\n",
       "    </tr>\n",
       "    <tr>\n",
       "      <th>427</th>\n",
       "      <td>울산광역시 울주군</td>\n",
       "      <td>2020년12월_세대수</td>\n",
       "      <td>96,160</td>\n",
       "    </tr>\n",
       "    <tr>\n",
       "      <th>428</th>\n",
       "      <td>울산광역시 울주군</td>\n",
       "      <td>2020년12월_세대당 인구</td>\n",
       "      <td>2.31</td>\n",
       "    </tr>\n",
       "    <tr>\n",
       "      <th>429</th>\n",
       "      <td>울산광역시 울주군</td>\n",
       "      <td>2020년12월_남자 인구수</td>\n",
       "      <td>114,918</td>\n",
       "    </tr>\n",
       "    <tr>\n",
       "      <th>430</th>\n",
       "      <td>울산광역시 울주군</td>\n",
       "      <td>2020년12월_여자 인구수</td>\n",
       "      <td>107,620</td>\n",
       "    </tr>\n",
       "    <tr>\n",
       "      <th>431</th>\n",
       "      <td>울산광역시 울주군</td>\n",
       "      <td>2020년12월_남여 비율</td>\n",
       "      <td>1.07</td>\n",
       "    </tr>\n",
       "  </tbody>\n",
       "</table>\n",
       "<p>432 rows × 3 columns</p>\n",
       "</div>"
      ]
     },
     "metadata": {},
     "execution_count": 18
    }
   ],
   "metadata": {
    "id": "d9ef555b",
    "outputId": "be04d46e-b031-4e66-ec35-df37b695e831"
   }
  },
  {
   "cell_type": "markdown",
   "source": [
    "## \"level_1\" 열(column)을 나눠서 \"기간\", \"구분\" 열(column)으로 만들기"
   ],
   "metadata": {
    "id": "5c26346b"
   }
  },
  {
   "cell_type": "code",
   "execution_count": 19,
   "source": [
    "pop_stacked['기간'] = pop_stacked['level_1'].str[0:8]\n",
    "pop_stacked['구분'] = pop_stacked['level_1'].str[9:15]\n",
    "pop_stacked.rename({0: '인구수'}, axis=1, inplace=True)\n",
    "pop_stacked.drop(['level_1'], axis=1, inplace=True)\n",
    "pop_stacked = pop_stacked[['행정구역', '기간', '구분', '인구수']]"
   ],
   "outputs": [],
   "metadata": {
    "id": "3b9dfd1d"
   }
  },
  {
   "cell_type": "code",
   "execution_count": 20,
   "source": [
    "pop_stacked"
   ],
   "outputs": [
    {
     "output_type": "execute_result",
     "data": {
      "text/plain": [
       "           행정구역        기간      구분        인구수\n",
       "0       울산광역시    2020년01월    총인구수  1,147,037\n",
       "1       울산광역시    2020년01월     세대수    469,007\n",
       "2       울산광역시    2020년01월  세대당 인구       2.45\n",
       "3       울산광역시    2020년01월  남자 인구수    589,233\n",
       "4       울산광역시    2020년01월  여자 인구수    557,804\n",
       "..          ...       ...     ...        ...\n",
       "427  울산광역시 울주군   2020년12월     세대수     96,160\n",
       "428  울산광역시 울주군   2020년12월  세대당 인구       2.31\n",
       "429  울산광역시 울주군   2020년12월  남자 인구수    114,918\n",
       "430  울산광역시 울주군   2020년12월  여자 인구수    107,620\n",
       "431  울산광역시 울주군   2020년12월   남여 비율       1.07\n",
       "\n",
       "[432 rows x 4 columns]"
      ],
      "text/html": [
       "<div>\n",
       "<style scoped>\n",
       "    .dataframe tbody tr th:only-of-type {\n",
       "        vertical-align: middle;\n",
       "    }\n",
       "\n",
       "    .dataframe tbody tr th {\n",
       "        vertical-align: top;\n",
       "    }\n",
       "\n",
       "    .dataframe thead th {\n",
       "        text-align: right;\n",
       "    }\n",
       "</style>\n",
       "<table border=\"1\" class=\"dataframe\">\n",
       "  <thead>\n",
       "    <tr style=\"text-align: right;\">\n",
       "      <th></th>\n",
       "      <th>행정구역</th>\n",
       "      <th>기간</th>\n",
       "      <th>구분</th>\n",
       "      <th>인구수</th>\n",
       "    </tr>\n",
       "  </thead>\n",
       "  <tbody>\n",
       "    <tr>\n",
       "      <th>0</th>\n",
       "      <td>울산광역시</td>\n",
       "      <td>2020년01월</td>\n",
       "      <td>총인구수</td>\n",
       "      <td>1,147,037</td>\n",
       "    </tr>\n",
       "    <tr>\n",
       "      <th>1</th>\n",
       "      <td>울산광역시</td>\n",
       "      <td>2020년01월</td>\n",
       "      <td>세대수</td>\n",
       "      <td>469,007</td>\n",
       "    </tr>\n",
       "    <tr>\n",
       "      <th>2</th>\n",
       "      <td>울산광역시</td>\n",
       "      <td>2020년01월</td>\n",
       "      <td>세대당 인구</td>\n",
       "      <td>2.45</td>\n",
       "    </tr>\n",
       "    <tr>\n",
       "      <th>3</th>\n",
       "      <td>울산광역시</td>\n",
       "      <td>2020년01월</td>\n",
       "      <td>남자 인구수</td>\n",
       "      <td>589,233</td>\n",
       "    </tr>\n",
       "    <tr>\n",
       "      <th>4</th>\n",
       "      <td>울산광역시</td>\n",
       "      <td>2020년01월</td>\n",
       "      <td>여자 인구수</td>\n",
       "      <td>557,804</td>\n",
       "    </tr>\n",
       "    <tr>\n",
       "      <th>...</th>\n",
       "      <td>...</td>\n",
       "      <td>...</td>\n",
       "      <td>...</td>\n",
       "      <td>...</td>\n",
       "    </tr>\n",
       "    <tr>\n",
       "      <th>427</th>\n",
       "      <td>울산광역시 울주군</td>\n",
       "      <td>2020년12월</td>\n",
       "      <td>세대수</td>\n",
       "      <td>96,160</td>\n",
       "    </tr>\n",
       "    <tr>\n",
       "      <th>428</th>\n",
       "      <td>울산광역시 울주군</td>\n",
       "      <td>2020년12월</td>\n",
       "      <td>세대당 인구</td>\n",
       "      <td>2.31</td>\n",
       "    </tr>\n",
       "    <tr>\n",
       "      <th>429</th>\n",
       "      <td>울산광역시 울주군</td>\n",
       "      <td>2020년12월</td>\n",
       "      <td>남자 인구수</td>\n",
       "      <td>114,918</td>\n",
       "    </tr>\n",
       "    <tr>\n",
       "      <th>430</th>\n",
       "      <td>울산광역시 울주군</td>\n",
       "      <td>2020년12월</td>\n",
       "      <td>여자 인구수</td>\n",
       "      <td>107,620</td>\n",
       "    </tr>\n",
       "    <tr>\n",
       "      <th>431</th>\n",
       "      <td>울산광역시 울주군</td>\n",
       "      <td>2020년12월</td>\n",
       "      <td>남여 비율</td>\n",
       "      <td>1.07</td>\n",
       "    </tr>\n",
       "  </tbody>\n",
       "</table>\n",
       "<p>432 rows × 4 columns</p>\n",
       "</div>"
      ]
     },
     "metadata": {},
     "execution_count": 20
    }
   ],
   "metadata": {}
  },
  {
   "cell_type": "markdown",
   "source": [
    "## \"구분\" 열(column)을 피벗하여 변형하기"
   ],
   "metadata": {
    "id": "e78a7919"
   }
  },
  {
   "cell_type": "code",
   "execution_count": 21,
   "source": [
    "pop_pivot = pd.pivot(pop_stacked, index=['행정구역', '기간'], columns='구분')"
   ],
   "outputs": [],
   "metadata": {
    "id": "7169bee6"
   }
  },
  {
   "cell_type": "code",
   "execution_count": 22,
   "source": [
    "pop_pivot"
   ],
   "outputs": [
    {
     "output_type": "execute_result",
     "data": {
      "text/plain": [
       "                     인구수                                             \n",
       "구분                 남여 비율   남자 인구수 세대당 인구      세대수   여자 인구수       총인구수\n",
       "행정구역      기간                                                         \n",
       "울산광역시     2020년01월  1.06  589,233   2.45  469,007  557,804  1,147,037\n",
       "          2020년02월  1.06  588,626   2.44  469,551  557,084  1,145,710\n",
       "          2020년03월  1.06  588,127   2.43  470,294  556,436  1,144,563\n",
       "          2020년04월  1.06  587,902   2.43  471,153  556,196  1,144,098\n",
       "          2020년05월  1.06  587,434   2.42  472,255  555,714  1,143,148\n",
       "...                  ...      ...    ...      ...      ...        ...\n",
       "울산광역시 중구  2020년08월  1.03  111,137   2.36   93,093  108,112    219,249\n",
       "          2020년09월  1.03  110,913   2.35   93,138  107,949    218,862\n",
       "          2020년10월  1.03  110,780   2.35   93,207  107,791    218,571\n",
       "          2020년11월  1.03  110,500   2.34   93,192  107,596    218,096\n",
       "          2020년12월  1.03  110,201   2.33   93,212  107,394    217,595\n",
       "\n",
       "[72 rows x 6 columns]"
      ],
      "text/html": [
       "<div>\n",
       "<style scoped>\n",
       "    .dataframe tbody tr th:only-of-type {\n",
       "        vertical-align: middle;\n",
       "    }\n",
       "\n",
       "    .dataframe tbody tr th {\n",
       "        vertical-align: top;\n",
       "    }\n",
       "\n",
       "    .dataframe thead tr th {\n",
       "        text-align: left;\n",
       "    }\n",
       "\n",
       "    .dataframe thead tr:last-of-type th {\n",
       "        text-align: right;\n",
       "    }\n",
       "</style>\n",
       "<table border=\"1\" class=\"dataframe\">\n",
       "  <thead>\n",
       "    <tr>\n",
       "      <th></th>\n",
       "      <th></th>\n",
       "      <th colspan=\"6\" halign=\"left\">인구수</th>\n",
       "    </tr>\n",
       "    <tr>\n",
       "      <th></th>\n",
       "      <th>구분</th>\n",
       "      <th>남여 비율</th>\n",
       "      <th>남자 인구수</th>\n",
       "      <th>세대당 인구</th>\n",
       "      <th>세대수</th>\n",
       "      <th>여자 인구수</th>\n",
       "      <th>총인구수</th>\n",
       "    </tr>\n",
       "    <tr>\n",
       "      <th>행정구역</th>\n",
       "      <th>기간</th>\n",
       "      <th></th>\n",
       "      <th></th>\n",
       "      <th></th>\n",
       "      <th></th>\n",
       "      <th></th>\n",
       "      <th></th>\n",
       "    </tr>\n",
       "  </thead>\n",
       "  <tbody>\n",
       "    <tr>\n",
       "      <th rowspan=\"5\" valign=\"top\">울산광역시</th>\n",
       "      <th>2020년01월</th>\n",
       "      <td>1.06</td>\n",
       "      <td>589,233</td>\n",
       "      <td>2.45</td>\n",
       "      <td>469,007</td>\n",
       "      <td>557,804</td>\n",
       "      <td>1,147,037</td>\n",
       "    </tr>\n",
       "    <tr>\n",
       "      <th>2020년02월</th>\n",
       "      <td>1.06</td>\n",
       "      <td>588,626</td>\n",
       "      <td>2.44</td>\n",
       "      <td>469,551</td>\n",
       "      <td>557,084</td>\n",
       "      <td>1,145,710</td>\n",
       "    </tr>\n",
       "    <tr>\n",
       "      <th>2020년03월</th>\n",
       "      <td>1.06</td>\n",
       "      <td>588,127</td>\n",
       "      <td>2.43</td>\n",
       "      <td>470,294</td>\n",
       "      <td>556,436</td>\n",
       "      <td>1,144,563</td>\n",
       "    </tr>\n",
       "    <tr>\n",
       "      <th>2020년04월</th>\n",
       "      <td>1.06</td>\n",
       "      <td>587,902</td>\n",
       "      <td>2.43</td>\n",
       "      <td>471,153</td>\n",
       "      <td>556,196</td>\n",
       "      <td>1,144,098</td>\n",
       "    </tr>\n",
       "    <tr>\n",
       "      <th>2020년05월</th>\n",
       "      <td>1.06</td>\n",
       "      <td>587,434</td>\n",
       "      <td>2.42</td>\n",
       "      <td>472,255</td>\n",
       "      <td>555,714</td>\n",
       "      <td>1,143,148</td>\n",
       "    </tr>\n",
       "    <tr>\n",
       "      <th>...</th>\n",
       "      <th>...</th>\n",
       "      <td>...</td>\n",
       "      <td>...</td>\n",
       "      <td>...</td>\n",
       "      <td>...</td>\n",
       "      <td>...</td>\n",
       "      <td>...</td>\n",
       "    </tr>\n",
       "    <tr>\n",
       "      <th rowspan=\"5\" valign=\"top\">울산광역시 중구</th>\n",
       "      <th>2020년08월</th>\n",
       "      <td>1.03</td>\n",
       "      <td>111,137</td>\n",
       "      <td>2.36</td>\n",
       "      <td>93,093</td>\n",
       "      <td>108,112</td>\n",
       "      <td>219,249</td>\n",
       "    </tr>\n",
       "    <tr>\n",
       "      <th>2020년09월</th>\n",
       "      <td>1.03</td>\n",
       "      <td>110,913</td>\n",
       "      <td>2.35</td>\n",
       "      <td>93,138</td>\n",
       "      <td>107,949</td>\n",
       "      <td>218,862</td>\n",
       "    </tr>\n",
       "    <tr>\n",
       "      <th>2020년10월</th>\n",
       "      <td>1.03</td>\n",
       "      <td>110,780</td>\n",
       "      <td>2.35</td>\n",
       "      <td>93,207</td>\n",
       "      <td>107,791</td>\n",
       "      <td>218,571</td>\n",
       "    </tr>\n",
       "    <tr>\n",
       "      <th>2020년11월</th>\n",
       "      <td>1.03</td>\n",
       "      <td>110,500</td>\n",
       "      <td>2.34</td>\n",
       "      <td>93,192</td>\n",
       "      <td>107,596</td>\n",
       "      <td>218,096</td>\n",
       "    </tr>\n",
       "    <tr>\n",
       "      <th>2020년12월</th>\n",
       "      <td>1.03</td>\n",
       "      <td>110,201</td>\n",
       "      <td>2.33</td>\n",
       "      <td>93,212</td>\n",
       "      <td>107,394</td>\n",
       "      <td>217,595</td>\n",
       "    </tr>\n",
       "  </tbody>\n",
       "</table>\n",
       "<p>72 rows × 6 columns</p>\n",
       "</div>"
      ]
     },
     "metadata": {},
     "execution_count": 22
    }
   ],
   "metadata": {
    "id": "c2da545d",
    "outputId": "ac232610-10f3-44ae-89c2-9f8a131ccd0b"
   }
  },
  {
   "cell_type": "markdown",
   "source": [
    "## 2020년 12월 인구 데이터만 남기기"
   ],
   "metadata": {
    "id": "71d8c22e"
   }
  },
  {
   "cell_type": "code",
   "execution_count": 23,
   "source": [
    "pop_stacked['행정구역'].unique()"
   ],
   "outputs": [
    {
     "output_type": "execute_result",
     "data": {
      "text/plain": [
       "array(['울산광역시  ', '울산광역시 중구 ', '울산광역시 남구 ', '울산광역시 동구 ', '울산광역시 북구 ',\n",
       "       '울산광역시 울주군 '], dtype=object)"
      ]
     },
     "metadata": {},
     "execution_count": 23
    }
   ],
   "metadata": {}
  },
  {
   "cell_type": "code",
   "execution_count": 38,
   "source": [
    "pop_stacked['행정구역', '울산광역시  '] = '울산광역시'"
   ],
   "outputs": [],
   "metadata": {}
  },
  {
   "cell_type": "code",
   "execution_count": 40,
   "source": [
    "cond1 = pop_stacked['기간'] == \"2020년12월\"\n",
    "cond2 = pop_stacked['행정구역'] != \"울산광역시  \"\n",
    "pop_result = pop_stacked[cond1 & cond2]\n",
    "pop_result.reset_index(drop=True, inplace=True)\n",
    "pop_result"
   ],
   "outputs": [
    {
     "output_type": "execute_result",
     "data": {
      "text/plain": [
       "          행정구역        기간      구분      인구수 (행정구역, 울산광역시  )\n",
       "0    울산광역시 중구   2020년12월    총인구수  217,595           울산광역시\n",
       "1    울산광역시 중구   2020년12월     세대수   93,212           울산광역시\n",
       "2    울산광역시 중구   2020년12월  세대당 인구     2.33           울산광역시\n",
       "3    울산광역시 중구   2020년12월  남자 인구수  110,201           울산광역시\n",
       "4    울산광역시 중구   2020년12월  여자 인구수  107,394           울산광역시\n",
       "5    울산광역시 중구   2020년12월   남여 비율     1.03           울산광역시\n",
       "6    울산광역시 남구   2020년12월    총인구수  320,064           울산광역시\n",
       "7    울산광역시 남구   2020년12월     세대수  137,925           울산광역시\n",
       "8    울산광역시 남구   2020년12월  세대당 인구     2.32           울산광역시\n",
       "9    울산광역시 남구   2020년12월  남자 인구수  163,198           울산광역시\n",
       "10   울산광역시 남구   2020년12월  여자 인구수  156,866           울산광역시\n",
       "11   울산광역시 남구   2020년12월   남여 비율     1.04           울산광역시\n",
       "12   울산광역시 동구   2020년12월    총인구수  156,806           울산광역시\n",
       "13   울산광역시 동구   2020년12월     세대수   65,815           울산광역시\n",
       "14   울산광역시 동구   2020년12월  세대당 인구     2.38           울산광역시\n",
       "15   울산광역시 동구   2020년12월  남자 인구수   81,999           울산광역시\n",
       "16   울산광역시 동구   2020년12월  여자 인구수   74,807           울산광역시\n",
       "17   울산광역시 동구   2020년12월   남여 비율      1.1           울산광역시\n",
       "18   울산광역시 북구   2020년12월    총인구수  219,014           울산광역시\n",
       "19   울산광역시 북구   2020년12월     세대수   83,781           울산광역시\n",
       "20   울산광역시 북구   2020년12월  세대당 인구     2.61           울산광역시\n",
       "21   울산광역시 북구   2020년12월  남자 인구수  113,392           울산광역시\n",
       "22   울산광역시 북구   2020년12월  여자 인구수  105,622           울산광역시\n",
       "23   울산광역시 북구   2020년12월   남여 비율     1.07           울산광역시\n",
       "24  울산광역시 울주군   2020년12월    총인구수  222,538           울산광역시\n",
       "25  울산광역시 울주군   2020년12월     세대수   96,160           울산광역시\n",
       "26  울산광역시 울주군   2020년12월  세대당 인구     2.31           울산광역시\n",
       "27  울산광역시 울주군   2020년12월  남자 인구수  114,918           울산광역시\n",
       "28  울산광역시 울주군   2020년12월  여자 인구수  107,620           울산광역시\n",
       "29  울산광역시 울주군   2020년12월   남여 비율     1.07           울산광역시"
      ],
      "text/html": [
       "<div>\n",
       "<style scoped>\n",
       "    .dataframe tbody tr th:only-of-type {\n",
       "        vertical-align: middle;\n",
       "    }\n",
       "\n",
       "    .dataframe tbody tr th {\n",
       "        vertical-align: top;\n",
       "    }\n",
       "\n",
       "    .dataframe thead th {\n",
       "        text-align: right;\n",
       "    }\n",
       "</style>\n",
       "<table border=\"1\" class=\"dataframe\">\n",
       "  <thead>\n",
       "    <tr style=\"text-align: right;\">\n",
       "      <th></th>\n",
       "      <th>행정구역</th>\n",
       "      <th>기간</th>\n",
       "      <th>구분</th>\n",
       "      <th>인구수</th>\n",
       "      <th>(행정구역, 울산광역시  )</th>\n",
       "    </tr>\n",
       "  </thead>\n",
       "  <tbody>\n",
       "    <tr>\n",
       "      <th>0</th>\n",
       "      <td>울산광역시 중구</td>\n",
       "      <td>2020년12월</td>\n",
       "      <td>총인구수</td>\n",
       "      <td>217,595</td>\n",
       "      <td>울산광역시</td>\n",
       "    </tr>\n",
       "    <tr>\n",
       "      <th>1</th>\n",
       "      <td>울산광역시 중구</td>\n",
       "      <td>2020년12월</td>\n",
       "      <td>세대수</td>\n",
       "      <td>93,212</td>\n",
       "      <td>울산광역시</td>\n",
       "    </tr>\n",
       "    <tr>\n",
       "      <th>2</th>\n",
       "      <td>울산광역시 중구</td>\n",
       "      <td>2020년12월</td>\n",
       "      <td>세대당 인구</td>\n",
       "      <td>2.33</td>\n",
       "      <td>울산광역시</td>\n",
       "    </tr>\n",
       "    <tr>\n",
       "      <th>3</th>\n",
       "      <td>울산광역시 중구</td>\n",
       "      <td>2020년12월</td>\n",
       "      <td>남자 인구수</td>\n",
       "      <td>110,201</td>\n",
       "      <td>울산광역시</td>\n",
       "    </tr>\n",
       "    <tr>\n",
       "      <th>4</th>\n",
       "      <td>울산광역시 중구</td>\n",
       "      <td>2020년12월</td>\n",
       "      <td>여자 인구수</td>\n",
       "      <td>107,394</td>\n",
       "      <td>울산광역시</td>\n",
       "    </tr>\n",
       "    <tr>\n",
       "      <th>5</th>\n",
       "      <td>울산광역시 중구</td>\n",
       "      <td>2020년12월</td>\n",
       "      <td>남여 비율</td>\n",
       "      <td>1.03</td>\n",
       "      <td>울산광역시</td>\n",
       "    </tr>\n",
       "    <tr>\n",
       "      <th>6</th>\n",
       "      <td>울산광역시 남구</td>\n",
       "      <td>2020년12월</td>\n",
       "      <td>총인구수</td>\n",
       "      <td>320,064</td>\n",
       "      <td>울산광역시</td>\n",
       "    </tr>\n",
       "    <tr>\n",
       "      <th>7</th>\n",
       "      <td>울산광역시 남구</td>\n",
       "      <td>2020년12월</td>\n",
       "      <td>세대수</td>\n",
       "      <td>137,925</td>\n",
       "      <td>울산광역시</td>\n",
       "    </tr>\n",
       "    <tr>\n",
       "      <th>8</th>\n",
       "      <td>울산광역시 남구</td>\n",
       "      <td>2020년12월</td>\n",
       "      <td>세대당 인구</td>\n",
       "      <td>2.32</td>\n",
       "      <td>울산광역시</td>\n",
       "    </tr>\n",
       "    <tr>\n",
       "      <th>9</th>\n",
       "      <td>울산광역시 남구</td>\n",
       "      <td>2020년12월</td>\n",
       "      <td>남자 인구수</td>\n",
       "      <td>163,198</td>\n",
       "      <td>울산광역시</td>\n",
       "    </tr>\n",
       "    <tr>\n",
       "      <th>10</th>\n",
       "      <td>울산광역시 남구</td>\n",
       "      <td>2020년12월</td>\n",
       "      <td>여자 인구수</td>\n",
       "      <td>156,866</td>\n",
       "      <td>울산광역시</td>\n",
       "    </tr>\n",
       "    <tr>\n",
       "      <th>11</th>\n",
       "      <td>울산광역시 남구</td>\n",
       "      <td>2020년12월</td>\n",
       "      <td>남여 비율</td>\n",
       "      <td>1.04</td>\n",
       "      <td>울산광역시</td>\n",
       "    </tr>\n",
       "    <tr>\n",
       "      <th>12</th>\n",
       "      <td>울산광역시 동구</td>\n",
       "      <td>2020년12월</td>\n",
       "      <td>총인구수</td>\n",
       "      <td>156,806</td>\n",
       "      <td>울산광역시</td>\n",
       "    </tr>\n",
       "    <tr>\n",
       "      <th>13</th>\n",
       "      <td>울산광역시 동구</td>\n",
       "      <td>2020년12월</td>\n",
       "      <td>세대수</td>\n",
       "      <td>65,815</td>\n",
       "      <td>울산광역시</td>\n",
       "    </tr>\n",
       "    <tr>\n",
       "      <th>14</th>\n",
       "      <td>울산광역시 동구</td>\n",
       "      <td>2020년12월</td>\n",
       "      <td>세대당 인구</td>\n",
       "      <td>2.38</td>\n",
       "      <td>울산광역시</td>\n",
       "    </tr>\n",
       "    <tr>\n",
       "      <th>15</th>\n",
       "      <td>울산광역시 동구</td>\n",
       "      <td>2020년12월</td>\n",
       "      <td>남자 인구수</td>\n",
       "      <td>81,999</td>\n",
       "      <td>울산광역시</td>\n",
       "    </tr>\n",
       "    <tr>\n",
       "      <th>16</th>\n",
       "      <td>울산광역시 동구</td>\n",
       "      <td>2020년12월</td>\n",
       "      <td>여자 인구수</td>\n",
       "      <td>74,807</td>\n",
       "      <td>울산광역시</td>\n",
       "    </tr>\n",
       "    <tr>\n",
       "      <th>17</th>\n",
       "      <td>울산광역시 동구</td>\n",
       "      <td>2020년12월</td>\n",
       "      <td>남여 비율</td>\n",
       "      <td>1.1</td>\n",
       "      <td>울산광역시</td>\n",
       "    </tr>\n",
       "    <tr>\n",
       "      <th>18</th>\n",
       "      <td>울산광역시 북구</td>\n",
       "      <td>2020년12월</td>\n",
       "      <td>총인구수</td>\n",
       "      <td>219,014</td>\n",
       "      <td>울산광역시</td>\n",
       "    </tr>\n",
       "    <tr>\n",
       "      <th>19</th>\n",
       "      <td>울산광역시 북구</td>\n",
       "      <td>2020년12월</td>\n",
       "      <td>세대수</td>\n",
       "      <td>83,781</td>\n",
       "      <td>울산광역시</td>\n",
       "    </tr>\n",
       "    <tr>\n",
       "      <th>20</th>\n",
       "      <td>울산광역시 북구</td>\n",
       "      <td>2020년12월</td>\n",
       "      <td>세대당 인구</td>\n",
       "      <td>2.61</td>\n",
       "      <td>울산광역시</td>\n",
       "    </tr>\n",
       "    <tr>\n",
       "      <th>21</th>\n",
       "      <td>울산광역시 북구</td>\n",
       "      <td>2020년12월</td>\n",
       "      <td>남자 인구수</td>\n",
       "      <td>113,392</td>\n",
       "      <td>울산광역시</td>\n",
       "    </tr>\n",
       "    <tr>\n",
       "      <th>22</th>\n",
       "      <td>울산광역시 북구</td>\n",
       "      <td>2020년12월</td>\n",
       "      <td>여자 인구수</td>\n",
       "      <td>105,622</td>\n",
       "      <td>울산광역시</td>\n",
       "    </tr>\n",
       "    <tr>\n",
       "      <th>23</th>\n",
       "      <td>울산광역시 북구</td>\n",
       "      <td>2020년12월</td>\n",
       "      <td>남여 비율</td>\n",
       "      <td>1.07</td>\n",
       "      <td>울산광역시</td>\n",
       "    </tr>\n",
       "    <tr>\n",
       "      <th>24</th>\n",
       "      <td>울산광역시 울주군</td>\n",
       "      <td>2020년12월</td>\n",
       "      <td>총인구수</td>\n",
       "      <td>222,538</td>\n",
       "      <td>울산광역시</td>\n",
       "    </tr>\n",
       "    <tr>\n",
       "      <th>25</th>\n",
       "      <td>울산광역시 울주군</td>\n",
       "      <td>2020년12월</td>\n",
       "      <td>세대수</td>\n",
       "      <td>96,160</td>\n",
       "      <td>울산광역시</td>\n",
       "    </tr>\n",
       "    <tr>\n",
       "      <th>26</th>\n",
       "      <td>울산광역시 울주군</td>\n",
       "      <td>2020년12월</td>\n",
       "      <td>세대당 인구</td>\n",
       "      <td>2.31</td>\n",
       "      <td>울산광역시</td>\n",
       "    </tr>\n",
       "    <tr>\n",
       "      <th>27</th>\n",
       "      <td>울산광역시 울주군</td>\n",
       "      <td>2020년12월</td>\n",
       "      <td>남자 인구수</td>\n",
       "      <td>114,918</td>\n",
       "      <td>울산광역시</td>\n",
       "    </tr>\n",
       "    <tr>\n",
       "      <th>28</th>\n",
       "      <td>울산광역시 울주군</td>\n",
       "      <td>2020년12월</td>\n",
       "      <td>여자 인구수</td>\n",
       "      <td>107,620</td>\n",
       "      <td>울산광역시</td>\n",
       "    </tr>\n",
       "    <tr>\n",
       "      <th>29</th>\n",
       "      <td>울산광역시 울주군</td>\n",
       "      <td>2020년12월</td>\n",
       "      <td>남여 비율</td>\n",
       "      <td>1.07</td>\n",
       "      <td>울산광역시</td>\n",
       "    </tr>\n",
       "  </tbody>\n",
       "</table>\n",
       "</div>"
      ]
     },
     "metadata": {},
     "execution_count": 40
    }
   ],
   "metadata": {
    "id": "63dc32c0"
   }
  },
  {
   "cell_type": "markdown",
   "source": [
    "# DataFrame 결합"
   ],
   "metadata": {
    "id": "81e99814"
   }
  },
  {
   "cell_type": "code",
   "execution_count": 26,
   "source": [
    "merge_df = pd.merge(pop_result, pd.DataFrame(pop_stacked['카메라대수']), how='inner', on=None)\n",
    "\n",
    "# 남구청 제외"
   ],
   "outputs": [
    {
     "output_type": "error",
     "ename": "KeyError",
     "evalue": "'카메라대수'",
     "traceback": [
      "\u001b[0;31m---------------------------------------------------------------------------\u001b[0m",
      "\u001b[0;31mKeyError\u001b[0m                                  Traceback (most recent call last)",
      "\u001b[0;32m~/miniforge3/envs/Drill_DL_TF/lib/python3.9/site-packages/pandas/core/indexes/base.py\u001b[0m in \u001b[0;36mget_loc\u001b[0;34m(self, key, method, tolerance)\u001b[0m\n\u001b[1;32m   3360\u001b[0m             \u001b[0;32mtry\u001b[0m\u001b[0;34m:\u001b[0m\u001b[0;34m\u001b[0m\u001b[0;34m\u001b[0m\u001b[0m\n\u001b[0;32m-> 3361\u001b[0;31m                 \u001b[0;32mreturn\u001b[0m \u001b[0mself\u001b[0m\u001b[0;34m.\u001b[0m\u001b[0m_engine\u001b[0m\u001b[0;34m.\u001b[0m\u001b[0mget_loc\u001b[0m\u001b[0;34m(\u001b[0m\u001b[0mcasted_key\u001b[0m\u001b[0;34m)\u001b[0m\u001b[0;34m\u001b[0m\u001b[0;34m\u001b[0m\u001b[0m\n\u001b[0m\u001b[1;32m   3362\u001b[0m             \u001b[0;32mexcept\u001b[0m \u001b[0mKeyError\u001b[0m \u001b[0;32mas\u001b[0m \u001b[0merr\u001b[0m\u001b[0;34m:\u001b[0m\u001b[0;34m\u001b[0m\u001b[0;34m\u001b[0m\u001b[0m\n",
      "\u001b[0;32m~/miniforge3/envs/Drill_DL_TF/lib/python3.9/site-packages/pandas/_libs/index.pyx\u001b[0m in \u001b[0;36mpandas._libs.index.IndexEngine.get_loc\u001b[0;34m()\u001b[0m\n",
      "\u001b[0;32m~/miniforge3/envs/Drill_DL_TF/lib/python3.9/site-packages/pandas/_libs/index.pyx\u001b[0m in \u001b[0;36mpandas._libs.index.IndexEngine.get_loc\u001b[0;34m()\u001b[0m\n",
      "\u001b[0;32mpandas/_libs/hashtable_class_helper.pxi\u001b[0m in \u001b[0;36mpandas._libs.hashtable.PyObjectHashTable.get_item\u001b[0;34m()\u001b[0m\n",
      "\u001b[0;32mpandas/_libs/hashtable_class_helper.pxi\u001b[0m in \u001b[0;36mpandas._libs.hashtable.PyObjectHashTable.get_item\u001b[0;34m()\u001b[0m\n",
      "\u001b[0;31mKeyError\u001b[0m: '카메라대수'",
      "\nThe above exception was the direct cause of the following exception:\n",
      "\u001b[0;31mKeyError\u001b[0m                                  Traceback (most recent call last)",
      "\u001b[0;32m/var/folders/kl/nd2chp7939jbg1c7f45c9ymr0000gn/T/ipykernel_12018/4176388639.py\u001b[0m in \u001b[0;36m<module>\u001b[0;34m\u001b[0m\n\u001b[0;32m----> 1\u001b[0;31m \u001b[0mmerge_df\u001b[0m \u001b[0;34m=\u001b[0m \u001b[0mpd\u001b[0m\u001b[0;34m.\u001b[0m\u001b[0mmerge\u001b[0m\u001b[0;34m(\u001b[0m\u001b[0mpop_result\u001b[0m\u001b[0;34m,\u001b[0m \u001b[0mpd\u001b[0m\u001b[0;34m.\u001b[0m\u001b[0mDataFrame\u001b[0m\u001b[0;34m(\u001b[0m\u001b[0mpop_stacked\u001b[0m\u001b[0;34m[\u001b[0m\u001b[0;34m'카메라대수'\u001b[0m\u001b[0;34m]\u001b[0m\u001b[0;34m)\u001b[0m\u001b[0;34m,\u001b[0m \u001b[0mhow\u001b[0m\u001b[0;34m=\u001b[0m\u001b[0;34m'inner'\u001b[0m\u001b[0;34m,\u001b[0m \u001b[0mon\u001b[0m\u001b[0;34m=\u001b[0m\u001b[0;32mNone\u001b[0m\u001b[0;34m)\u001b[0m\u001b[0;34m\u001b[0m\u001b[0;34m\u001b[0m\u001b[0m\n\u001b[0m\u001b[1;32m      2\u001b[0m \u001b[0;34m\u001b[0m\u001b[0m\n\u001b[1;32m      3\u001b[0m \u001b[0;31m# 남구청 제외\u001b[0m\u001b[0;34m\u001b[0m\u001b[0;34m\u001b[0m\u001b[0;34m\u001b[0m\u001b[0m\n",
      "\u001b[0;32m~/miniforge3/envs/Drill_DL_TF/lib/python3.9/site-packages/pandas/core/frame.py\u001b[0m in \u001b[0;36m__getitem__\u001b[0;34m(self, key)\u001b[0m\n\u001b[1;32m   3453\u001b[0m             \u001b[0;32mif\u001b[0m \u001b[0mself\u001b[0m\u001b[0;34m.\u001b[0m\u001b[0mcolumns\u001b[0m\u001b[0;34m.\u001b[0m\u001b[0mnlevels\u001b[0m \u001b[0;34m>\u001b[0m \u001b[0;36m1\u001b[0m\u001b[0;34m:\u001b[0m\u001b[0;34m\u001b[0m\u001b[0;34m\u001b[0m\u001b[0m\n\u001b[1;32m   3454\u001b[0m                 \u001b[0;32mreturn\u001b[0m \u001b[0mself\u001b[0m\u001b[0;34m.\u001b[0m\u001b[0m_getitem_multilevel\u001b[0m\u001b[0;34m(\u001b[0m\u001b[0mkey\u001b[0m\u001b[0;34m)\u001b[0m\u001b[0;34m\u001b[0m\u001b[0;34m\u001b[0m\u001b[0m\n\u001b[0;32m-> 3455\u001b[0;31m             \u001b[0mindexer\u001b[0m \u001b[0;34m=\u001b[0m \u001b[0mself\u001b[0m\u001b[0;34m.\u001b[0m\u001b[0mcolumns\u001b[0m\u001b[0;34m.\u001b[0m\u001b[0mget_loc\u001b[0m\u001b[0;34m(\u001b[0m\u001b[0mkey\u001b[0m\u001b[0;34m)\u001b[0m\u001b[0;34m\u001b[0m\u001b[0;34m\u001b[0m\u001b[0m\n\u001b[0m\u001b[1;32m   3456\u001b[0m             \u001b[0;32mif\u001b[0m \u001b[0mis_integer\u001b[0m\u001b[0;34m(\u001b[0m\u001b[0mindexer\u001b[0m\u001b[0;34m)\u001b[0m\u001b[0;34m:\u001b[0m\u001b[0;34m\u001b[0m\u001b[0;34m\u001b[0m\u001b[0m\n\u001b[1;32m   3457\u001b[0m                 \u001b[0mindexer\u001b[0m \u001b[0;34m=\u001b[0m \u001b[0;34m[\u001b[0m\u001b[0mindexer\u001b[0m\u001b[0;34m]\u001b[0m\u001b[0;34m\u001b[0m\u001b[0;34m\u001b[0m\u001b[0m\n",
      "\u001b[0;32m~/miniforge3/envs/Drill_DL_TF/lib/python3.9/site-packages/pandas/core/indexes/base.py\u001b[0m in \u001b[0;36mget_loc\u001b[0;34m(self, key, method, tolerance)\u001b[0m\n\u001b[1;32m   3361\u001b[0m                 \u001b[0;32mreturn\u001b[0m \u001b[0mself\u001b[0m\u001b[0;34m.\u001b[0m\u001b[0m_engine\u001b[0m\u001b[0;34m.\u001b[0m\u001b[0mget_loc\u001b[0m\u001b[0;34m(\u001b[0m\u001b[0mcasted_key\u001b[0m\u001b[0;34m)\u001b[0m\u001b[0;34m\u001b[0m\u001b[0;34m\u001b[0m\u001b[0m\n\u001b[1;32m   3362\u001b[0m             \u001b[0;32mexcept\u001b[0m \u001b[0mKeyError\u001b[0m \u001b[0;32mas\u001b[0m \u001b[0merr\u001b[0m\u001b[0;34m:\u001b[0m\u001b[0;34m\u001b[0m\u001b[0;34m\u001b[0m\u001b[0m\n\u001b[0;32m-> 3363\u001b[0;31m                 \u001b[0;32mraise\u001b[0m \u001b[0mKeyError\u001b[0m\u001b[0;34m(\u001b[0m\u001b[0mkey\u001b[0m\u001b[0;34m)\u001b[0m \u001b[0;32mfrom\u001b[0m \u001b[0merr\u001b[0m\u001b[0;34m\u001b[0m\u001b[0;34m\u001b[0m\u001b[0m\n\u001b[0m\u001b[1;32m   3364\u001b[0m \u001b[0;34m\u001b[0m\u001b[0m\n\u001b[1;32m   3365\u001b[0m         \u001b[0;32mif\u001b[0m \u001b[0mis_scalar\u001b[0m\u001b[0;34m(\u001b[0m\u001b[0mkey\u001b[0m\u001b[0;34m)\u001b[0m \u001b[0;32mand\u001b[0m \u001b[0misna\u001b[0m\u001b[0;34m(\u001b[0m\u001b[0mkey\u001b[0m\u001b[0;34m)\u001b[0m \u001b[0;32mand\u001b[0m \u001b[0;32mnot\u001b[0m \u001b[0mself\u001b[0m\u001b[0;34m.\u001b[0m\u001b[0mhasnans\u001b[0m\u001b[0;34m:\u001b[0m\u001b[0;34m\u001b[0m\u001b[0;34m\u001b[0m\u001b[0m\n",
      "\u001b[0;31mKeyError\u001b[0m: '카메라대수'"
     ]
    }
   ],
   "metadata": {
    "id": "2f5e53dd"
   }
  },
  {
   "cell_type": "code",
   "execution_count": null,
   "source": [
    "merge_df"
   ],
   "outputs": [
    {
     "output_type": "error",
     "ename": "NameError",
     "evalue": "name 'merge_df' is not defined",
     "traceback": [
      "\u001b[0;31m---------------------------------------------------------------------------\u001b[0m",
      "\u001b[0;31mNameError\u001b[0m                                 Traceback (most recent call last)",
      "\u001b[0;32m/var/folders/kl/nd2chp7939jbg1c7f45c9ymr0000gn/T/ipykernel_11633/419998230.py\u001b[0m in \u001b[0;36m<module>\u001b[0;34m\u001b[0m\n\u001b[0;32m----> 1\u001b[0;31m \u001b[0mmerge_df\u001b[0m\u001b[0;34m\u001b[0m\u001b[0;34m\u001b[0m\u001b[0m\n\u001b[0m",
      "\u001b[0;31mNameError\u001b[0m: name 'merge_df' is not defined"
     ]
    }
   ],
   "metadata": {
    "id": "01d936ab",
    "outputId": "6cf0b371-5d6b-4ef5-f3e0-06c2af9ce9f1"
   }
  },
  {
   "cell_type": "markdown",
   "source": [
    "## 구분 column의 \"총인구수\"만 남기고 행정구역별 총인구를 cctv 카메라대수로 나눠 \"인구대비cctv\" 열(column) 생성하기\n",
    "* \"카메라대수\" / \"인구수\" - \"인구대비cctv\""
   ],
   "metadata": {
    "id": "06a506e8"
   }
  },
  {
   "cell_type": "code",
   "execution_count": null,
   "source": [
    "# 아래에 코드를 작성하세요.\n"
   ],
   "outputs": [],
   "metadata": {
    "id": "d21db66a"
   }
  },
  {
   "cell_type": "code",
   "execution_count": null,
   "source": [
    "result"
   ],
   "outputs": [],
   "metadata": {
    "id": "502f9149",
    "outputId": "fa9ea99b-667f-47b2-f001-4fe514d3a67f"
   }
  },
  {
   "cell_type": "markdown",
   "source": [
    "## 행정구역 - 인구대비cctv 시각화하기"
   ],
   "metadata": {
    "id": "V8PMVrmC7cIp"
   }
  },
  {
   "cell_type": "code",
   "execution_count": null,
   "source": [
    "# 아래에 코드를 작성하세요.\n"
   ],
   "outputs": [],
   "metadata": {
    "id": "cc7e92df"
   }
  },
  {
   "cell_type": "code",
   "execution_count": null,
   "source": [],
   "outputs": [],
   "metadata": {
    "id": "7758c02a",
    "outputId": "dd8612ec-9c43-4f7d-a7f7-2eca1f188b3c"
   }
  }
 ]
}