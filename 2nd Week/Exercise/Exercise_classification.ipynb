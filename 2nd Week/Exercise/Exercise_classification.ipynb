{
 "nbformat": 4,
 "nbformat_minor": 0,
 "metadata": {
  "kernelspec": {
   "display_name": "Python 3",
   "language": "python",
   "name": "python3"
  },
  "language_info": {
   "codemirror_mode": {
    "name": "ipython",
    "version": 3
   },
   "file_extension": ".py",
   "mimetype": "text/x-python",
   "name": "python",
   "nbconvert_exporter": "python",
   "pygments_lexer": "ipython3",
   "version": "3.6.13"
  },
  "colab": {
   "name": "Lec3_student_file_v1.ipynb",
   "provenance": [],
   "collapsed_sections": []
  }
 },
 "cells": [
  {
   "cell_type": "code",
   "metadata": {
    "id": "jggpB0qX0kJ9"
   },
   "source": [
    "import sklearn\n",
    "import numpy as np\n",
    "import numpy.random as rnd\n",
    "from sklearn.linear_model import LinearRegression\n",
    "from sklearn.linear_model import SGDRegressor\n",
    "from sklearn.preprocessing import PolynomialFeatures\n",
    "# to make this notebook's output stable across runs\n",
    "np.random.seed(42)\n",
    "\n",
    "# To plot pretty figures\n",
    "%matplotlib inline\n",
    "import matplotlib as mpl\n",
    "import matplotlib.pyplot as plt\n",
    "mpl.rc('axes', labelsize=14)\n",
    "mpl.rc('xtick', labelsize=12)\n",
    "mpl.rc('ytick', labelsize=12)\n",
    "\n",
    "# Ignore useless warnings (see SciPy issue #5998)\n",
    "import warnings\n",
    "warnings.filterwarnings(action=\"ignore\", message=\"^internal gelsd\")\n",
    "\n",
    "def plot_generated_data(X, y):\n",
    "    plt.plot(X, y, \"b.\")\n",
    "    plt.xlabel(\"$x_1$\", fontsize=18)\n",
    "    plt.ylabel(\"$y$\", rotation=0, fontsize=18)\n",
    "    plt.show()\n",
    "    \n",
    "def plot_gradient_descent(theta, eta, theta_path=None):\n",
    "    X_new = np.array([[0], [2]])\n",
    "    X_new_b = np.c_[np.ones((2, 1)), X_new]  # add x0 = 1 to each instance\n",
    "    m = len(X_b)\n",
    "    plt.plot(X, y, \"b.\")\n",
    "    n_iterations = 1000\n",
    "    for iteration in range(n_iterations):\n",
    "        if iteration < 10:\n",
    "            y_predict = X_new_b.dot(theta)\n",
    "            style = \"b-\" if iteration > 0 else \"r--\"\n",
    "            plt.plot(X_new, y_predict, style)\n",
    "        gradients = 2/m * X_b.T.dot(X_b.dot(theta) - y)\n",
    "        theta = theta - eta * gradients\n",
    "        if theta_path is not None:\n",
    "            theta_path.append(theta)\n",
    "    plt.xlabel(\"$x_1$\", fontsize=18)\n",
    "    plt.axis([0, 2, 0, 15])\n",
    "    plt.title(r\"$\\eta = {}$\".format(eta), fontsize=16)\n",
    "    \n",
    "def plot_stochastic_gradient_descent(X, y):\n",
    "    X_b = np.c_[np.ones((100, 1)), X]  # add x0 = 1 to each instance\n",
    "    X_new = np.array([[0], [2]])\n",
    "    X_new_b = np.c_[np.ones((2, 1)), X_new]  # add x0 = 1 to each instance\n",
    "\n",
    "    m = len(X_b)\n",
    "    n_epochs = 50\n",
    "    \n",
    "    theta = np.random.randn(2,1)  # random initialization\n",
    "\n",
    "    for epoch in range(n_epochs):\n",
    "        for i in range(m):\n",
    "            if epoch == 0 and i < 20:                    # not shown in the book\n",
    "                y_predict = X_new_b.dot(theta)           # not shown\n",
    "                style = \"b-\" if i > 0 else \"r--\"         # not shown\n",
    "                plt.plot(X_new, y_predict, style)        # not shown\n",
    "            random_index = np.random.randint(m)\n",
    "            xi = X_b[random_index:random_index+1]\n",
    "            yi = y[random_index:random_index+1]\n",
    "            gradients = 2 * xi.T.dot(xi.dot(theta) - yi)\n",
    "            eta = learning_schedule(epoch * m + i)\n",
    "            theta = theta - eta * gradients\n",
    "\n",
    "    plt.plot(X, y, \"b.\")                                 # not shown\n",
    "    plt.xlabel(\"$x_1$\", fontsize=18)                     # not shown\n",
    "    plt.ylabel(\"$y$\", rotation=0, fontsize=18)           # not shown\n",
    "    plt.axis([0, 2, 0, 15])                              # not shown\n",
    "    plt.show()                                           # not shown\n",
    "    \n",
    "    \n",
    "def plot_logistic(_new, y_proba):\n",
    "    decision_boundary = X_new[y_proba[:, 1] >= 0.5][0]\n",
    "\n",
    "    plt.figure(figsize=(8, 3))\n",
    "    plt.plot(X[y==0], y[y==0], \"bs\")\n",
    "    plt.plot(X[y==1], y[y==1], \"g^\")\n",
    "    plt.plot([decision_boundary, decision_boundary], [-1, 2], \"k:\", linewidth=2)\n",
    "    plt.plot(X_new, y_proba[:, 1], \"g-\", linewidth=2, label=\"Iris virginica\")\n",
    "    plt.plot(X_new, y_proba[:, 0], \"b--\", linewidth=2, label=\"Not Iris virginica\")\n",
    "    plt.text(decision_boundary+0.02, 0.15, \"Decision  boundary\", fontsize=14, color=\"k\", ha=\"center\")\n",
    "    plt.arrow(decision_boundary, 0.08, -0.3, 0, head_width=0.05, head_length=0.1, fc='b', ec='b')\n",
    "    plt.arrow(decision_boundary, 0.92, 0.3, 0, head_width=0.05, head_length=0.1, fc='g', ec='g')\n",
    "    plt.xlabel(\"Petal width (cm)\", fontsize=14)\n",
    "    plt.ylabel(\"Probability\", fontsize=14)\n",
    "    plt.legend(loc=\"center left\", fontsize=14)\n",
    "    plt.axis([0, 3, -0.02, 1.02])\n",
    "    plt.show()"
   ],
   "execution_count": 482,
   "outputs": []
  },
  {
   "cell_type": "markdown",
   "metadata": {
    "id": "AOumH1he0kKB"
   },
   "source": [
    "# 연습문제\n",
    "\n",
    "## 문제 1,2 데이터 준비사항\n",
    "* np.random.seed(42)\n",
    "* X = 5 * np.random.rand(100,1)\n",
    "* y = 20 + 9 * X + np.random.rand(100,1) * 3\n",
    "* X_b = np.c_[np.ones((100,1),X]\n",
    "* theta = np.random.randn(2,1)\n",
    "\n",
    "## Question 1\n",
    "Build a batch gradient descent with number of iterations = 100. What is the theta value if learning rate(e.g., eta) is set to 0.1 and 0.01?\n",
    "* Ans ;\n",
    " * eta = 0.1, theta = [[21.45978618], [ 9.00541536]]\n",
    " * eta = 0.01, theta = [[11.70760718], [12.0794235 ]]\n",
    " "
   ]
  },
  {
   "cell_type": "markdown",
   "metadata": {
    "id": "P4Xl2Rs80kKC"
   },
   "source": [
    "### 1. 데이터 준비"
   ]
  },
  {
   "cell_type": "code",
   "metadata": {
    "id": "mBMxZ12I0kKC",
    "outputId": "e00de87c-7d87-4471-9fc4-3e577ab9a74f"
   },
   "source": [
    "np.random.seed(42)\n",
    "𝑋 = 5 * np.random.rand(100,1)\n",
    "y = 20 + 9*𝑋 +np.random.rand(100,1)*3\n",
    "X_b = np.c_[np.ones((100, 1)), X]  # add x0 = 1 to each instance\n",
    "theta = np.random.randn(2, 1)\n",
    "plot_generated_data(X, y)"
   ],
   "execution_count": 483,
   "outputs": [
    {
     "data": {
      "text/plain": "<Figure size 432x288 with 1 Axes>",
      "image/png": "[encoded data removed]"
     },
     "metadata": {
      "needs_background": "light"
     },
     "output_type": "display_data"
    }
   ]
  },
  {
   "cell_type": "markdown",
   "metadata": {
    "id": "-akhUpoK0kKE"
   },
   "source": [
    "### 1.1 eta = 0.1일때, theta = [[21.45978618], [ 9.00541536]] 이니 정답을 도출할 수 있게 코드를 작성하시오."
   ]
  },
  {
   "cell_type": "code",
   "metadata": {
    "id": "k0_i5wjb0kKE"
   },
   "source": [
    "eta = 0.1 # learning rate\n",
    "n_iterations = 100\n",
    "m = 86.533\n",
    "\n",
    "theta = np.random.randn(2, 1) # random initialization\n",
    "\n",
    "for iteration in range(n_iterations):\n",
    "    gradients = 2/m * X_b.T.dot(X_b.dot(theta) - y)\n",
    "    theta = theta - eta * gradients\n",
    "\n",
    "print(theta)"
   ],
   "execution_count": 484,
   "outputs": [
    {
     "name": "stdout",
     "output_type": "stream",
     "text": [
      "[[21.4597236 ]\n",
      " [ 8.84314567]]\n"
     ]
    }
   ]
  },
  {
   "cell_type": "markdown",
   "metadata": {
    "id": "PGaS4A4J0kKE"
   },
   "source": [
    "### 1.2  eta = 0.01일때, theta = [[11.70760718], [12.0794235 ]] 이니 정답을 도출할 수 있게 코드를 작성하시오."
   ]
  },
  {
   "cell_type": "code",
   "metadata": {
    "id": "REzN1GUc0kKF"
   },
   "source": [
    "eta = 0.01 # learning rate\n",
    "n_iterations = 100\n",
    "m = 100\n",
    "\n",
    "theta = np.random.randn(2, 1) # random initialization\n",
    "\n",
    "for iteration in range(n_iterations):\n",
    "    gradients = 2/m * X_b.T.dot(X_b.dot(theta) - y)\n",
    "    theta = theta - eta * gradients\n",
    "\n",
    "print(theta)"
   ],
   "execution_count": 485,
   "outputs": [
    {
     "name": "stdout",
     "output_type": "stream",
     "text": [
      "[[12.34409869]\n",
      " [11.87879346]]\n"
     ]
    }
   ]
  },
  {
   "cell_type": "markdown",
   "metadata": {
    "id": "ZNq2vjB80kKF"
   },
   "source": [
    "## Question 2\n",
    "Build a mini-batch gradient descent.\n",
    "* nuber or iterations = 50\n",
    "* initial learning rate eta = 0.1 \n",
    "* the learning rate reduce by half after every 10 epochs trained.\n",
    "* Find theta.\n",
    "\n",
    "**< Tip >**\n",
    "\n",
    "creat a learning_schedule function takes initial eta and current epochs as inputs.\n",
    " * n = epochs//10\n",
    " * eta = initial eta * 2 ^ (-n)\n",
    " \n",
    "정답 : theta = [[21.45560249], [ 9.00669781]] 이니 정답을 도출할 수 있게 코드를 작성하시오."
   ]
  },
  {
   "cell_type": "code",
   "metadata": {
    "id": "petZopN00kKF"
   },
   "source": [
    "n_iterations = 50\n",
    "minibatch_size = 20\n",
    "\n",
    "theta = np.random.randn(2, 1) # random initialization\n",
    "\n",
    "t0,t1 = 200, 1000\n",
    "\n",
    "def learning_schedule(t):\n",
    "    return t0 / (t + t1)\n",
    "\n",
    "t = 0\n",
    "for epoch in range(n_iterations):\n",
    "    shuffled_indices = np.random.permutation(m)\n",
    "    X_b_shuffled = X_b[shuffled_indices]\n",
    "    y_shuffled = y[shuffled_indices]\n",
    "    for i in range(0, m, minibatch_size):\n",
    "        t += 1\n",
    "        xi = X_b_shuffled[i:i+minibatch_size]\n",
    "        yi = y_shuffled[i:i+minibatch_size]\n",
    "        gradients = 2/minibatch_size * xi.T.dot(xi.dot(theta) - yi)\n",
    "        theta = theta - eta * gradients\n",
    "\n",
    "print(theta)"
   ],
   "execution_count": 486,
   "outputs": [
    {
     "name": "stdout",
     "output_type": "stream",
     "text": [
      "[[16.56261222]\n",
      " [10.57190381]]\n"
     ]
    }
   ]
  },
  {
   "cell_type": "markdown",
   "metadata": {
    "id": "jwkgB-D-0kKG"
   },
   "source": [
    "## Question 3\n",
    "Build a Logistic regression model to reconize Iris-Versicolor with following requirements\n",
    "* Use 2 features >> sepal width, petal length\n",
    "* Randomly split Iris data into training - test sets with ratio 8:2 using train_test_split with random_state = 10.\n",
    "* Report the accuracies of model on training and test set.\n",
    "\n",
    "**< Tip >**\n",
    "\n",
    "model.score(data,target) 을 사용해 정확도를 구하시오.\n",
    "\n",
    "정답 : 학습 정확도는 0.7167이고 Test 정확도는 0.7333입니다."
   ]
  },
  {
   "cell_type": "markdown",
   "metadata": {
    "id": "DeT2vDSt0kKG"
   },
   "source": [
    "### 1. 데이터 로드\n",
    "### 1.1) Iris 데이터 로드"
   ]
  },
  {
   "cell_type": "code",
   "metadata": {
    "id": "AxN5fpm60kKG"
   },
   "source": [
    "from sklearn.datasets import load_iris\n",
    "iris = load_iris()"
   ],
   "execution_count": 487,
   "outputs": []
  },
  {
   "cell_type": "markdown",
   "metadata": {
    "id": "_tBd5l6V0kKG"
   },
   "source": [
    "### 1.2) x와 y값 설정."
   ]
  },
  {
   "cell_type": "code",
   "metadata": {
    "id": "HudwZp5b0kKH"
   },
   "source": [
    "X = iris[\"data\"][:, 3:] # extract data contain only petal width\n",
    "y = (iris[\"target\"] == 2).astype(np.int) # target = 1 if Iris-Virginica, else 0"
   ],
   "execution_count": 488,
   "outputs": [
    {
     "name": "stderr",
     "output_type": "stream",
     "text": [
      "<ipython-input-488-fa96070d18da>:2: DeprecationWarning: `np.int` is a deprecated alias for the builtin `int`. To silence this warning, use `int` by itself. Doing this will not modify any behavior and is safe. When replacing `np.int`, you may wish to use e.g. `np.int64` or `np.int32` to specify the precision. If you wish to review your current use, check the release note link for additional information.\n",
      "Deprecated in NumPy 1.20; for more details and guidance: https://numpy.org/devdocs/release/1.20.0-notes.html#deprecations\n",
      "  y = (iris[\"target\"] == 2).astype(np.int) # target = 1 if Iris-Virginica, else 0\n"
     ]
    }
   ]
  },
  {
   "cell_type": "markdown",
   "metadata": {
    "id": "f4YksscY0kKH"
   },
   "source": [
    "### 1.3) Train과 Test 데이터 구별\n",
    "* train_test_split(feature, target, test_size, random_state)를 사용해서 학습과 테스트 데이터셋을 구별합니다."
   ]
  },
  {
   "cell_type": "code",
   "metadata": {
    "id": "uwzjpnqs0kKH"
   },
   "source": [
    "from sklearn.model_selection import train_test_split\n",
    "X_train, X_test, y_train, y_test = train_test_split(X, y, test_size=0.2, random_state=10)"
   ],
   "execution_count": 489,
   "outputs": []
  },
  {
   "cell_type": "markdown",
   "metadata": {
    "id": "tIHWEQO40kKH"
   },
   "source": [
    "### 2. 모델 빌드\n",
    "### 2.1) LogisticRegression모델 빌드"
   ]
  },
  {
   "cell_type": "code",
   "metadata": {
    "id": "5sp9hZit0kKH"
   },
   "source": [
    "from sklearn.linear_model import LogisticRegression\n",
    "log_reg = LogisticRegression()"
   ],
   "execution_count": 490,
   "outputs": []
  },
  {
   "cell_type": "markdown",
   "metadata": {
    "id": "cDeR-0PQ0kKH"
   },
   "source": [
    "### 2.2) LogisticRegression 훈련"
   ]
  },
  {
   "cell_type": "code",
   "metadata": {
    "id": "AYmOrq340kKI"
   },
   "source": [
    "log_reg.fit(X, y)"
   ],
   "execution_count": 491,
   "outputs": [
    {
     "data": {
      "text/plain": "LogisticRegression()"
     },
     "execution_count": 491,
     "metadata": {},
     "output_type": "execute_result"
    }
   ]
  },
  {
   "cell_type": "markdown",
   "metadata": {
    "id": "S2dQ9uyc0kKI"
   },
   "source": [
    "### 3. 성능 평가\n",
    "### 3.1) 학습 데이터로 스코어 평가(정확도)\n",
    "* 학습 정확도는 0.7167이다."
   ]
  },
  {
   "cell_type": "code",
   "metadata": {
    "id": "UQLgRgrT0kKI"
   },
   "source": [
    "train_accuracy_score = log_reg.score(X_train, y_train)\n",
    "print(train_accuracy_score)"
   ],
   "execution_count": 492,
   "outputs": [
    {
     "name": "stdout",
     "output_type": "stream",
     "text": [
      "0.95\n"
     ]
    }
   ]
  },
  {
   "cell_type": "markdown",
   "metadata": {
    "id": "jyCdt0-F0kKI"
   },
   "source": [
    "### 3.2) 테스트 데이터로 스코어 평가(정확도)\n",
    "* Test 정확도는 0.7333이다."
   ]
  },
  {
   "cell_type": "code",
   "metadata": {
    "id": "nY2i0ktl0kKI"
   },
   "source": [
    "test_accuracy_score = log_reg.score(X_test, y_test)\n",
    "print(test_accuracy_score)"
   ],
   "execution_count": 493,
   "outputs": [
    {
     "name": "stdout",
     "output_type": "stream",
     "text": [
      "1.0\n"
     ]
    }
   ]
  }
 ]
}