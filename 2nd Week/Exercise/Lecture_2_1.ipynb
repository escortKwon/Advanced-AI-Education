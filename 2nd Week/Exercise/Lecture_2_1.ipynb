{
 "nbformat": 4,
 "nbformat_minor": 0,
 "metadata": {
  "kernelspec": {
   "display_name": "Python 3",
   "language": "python",
   "name": "python3"
  },
  "language_info": {
   "codemirror_mode": {
    "name": "ipython",
    "version": 3
   },
   "file_extension": ".py",
   "mimetype": "text/x-python",
   "name": "python",
   "nbconvert_exporter": "python",
   "pygments_lexer": "ipython3",
   "version": "3.6.13"
  },
  "colab": {
   "name": "Lec2_student_file_v1.ipynb",
   "provenance": [],
   "collapsed_sections": []
  }
 },
 "cells": [
  {
   "cell_type": "code",
   "metadata": {
    "id": "RqTts13izYQM"
   },
   "source": [
    "import sklearn\n",
    "import numpy as np\n",
    "import os\n",
    "# Import for week 3\n",
    "from sklearn.datasets import fetch_openml\n",
    "from sklearn.linear_model import SGDClassifier\n",
    "from sklearn.model_selection import cross_val_score\n",
    "from sklearn.model_selection import cross_val_predict\n",
    "from sklearn.base import BaseEstimator\n",
    "from sklearn.metrics import confusion_matrix, precision_score, recall_score, f1_score, precision_recall_curve, roc_curve, roc_auc_score\n",
    "from sklearn.ensemble import RandomForestClassifier\n",
    "\n",
    "# Prepare for plotting figure\n",
    "# 시각화하기 위한 기본적인 패키지 임포트\n",
    "%matplotlib inline\n",
    "import matplotlib as mpl\n",
    "import matplotlib.pyplot as plt\n",
    "mpl.rc('axes', labelsize=14)\n",
    "mpl.rc('xtick', labelsize=12)\n",
    "mpl.rc('ytick', labelsize=12)\n",
    "\n",
    "# 정밀도와 재현율을 Threshold(임계값)에 따른 결과를 시각화하는 함수\n",
    "def plot_precision_recall_vs_threshold(precisions, recalls, thresholds):\n",
    "    plt.plot(thresholds, precisions[:-1], \"b--\", label=\"Precision\", linewidth=2)\n",
    "    plt.plot(thresholds, recalls[:-1], \"g-\", label=\"Recall\", linewidth=2)\n",
    "    plt.legend(loc=\"center right\", fontsize=16) # Not shown in the book\n",
    "    plt.xlabel(\"Threshold\", fontsize=16)        # Not shown\n",
    "    plt.grid(True)                              # Not shown\n",
    "    plt.axis([-50000, 50000, 0, 1])             # Not shown\n",
    "    plt.show()\n",
    "\n",
    "# 정밀도 재현율을 시각화하는 함수\n",
    "def plot_precision_recall_curve(recalls, precisions):\n",
    "    plt.plot(recalls, precisions)\n",
    "    plt.xlabel('Recall')\n",
    "    plt.ylabel('Precision')\n",
    "    plt.show()\n",
    "    \n",
    "# AUC-ROC 커브를 시각화하는 함수\n",
    "def plot_roc_curve(fpr, tpr, label=None):\n",
    "    plt.plot(fpr, tpr, linewidth=2, label=label)\n",
    "    plt.plot([0, 1], [0, 1], 'k--') # dashed diagonal\n",
    "    plt.axis([0, 1, 0, 1])                                    # Not shown in the book\n",
    "    plt.xlabel('False Positive Rate (Fall-Out)', fontsize=16) # Not shown\n",
    "    plt.ylabel('True Positive Rate (Recall)', fontsize=16)    # Not shown\n",
    "    plt.grid(True)"
   ],
   "execution_count": 1,
   "outputs": []
  },
  {
   "cell_type": "code",
   "metadata": {
    "id": "Q8PPpL2f6A7s"
   },
   "source": [],
   "execution_count": null,
   "outputs": []
  },
  {
   "cell_type": "markdown",
   "metadata": {
    "id": "EOvPMIzUzYQP"
   },
   "source": [
    "# 첫번째 연습문제 \n",
    "\n",
    "## Question 1: \n",
    "    7과8 숫자를 판별하는 이진 분류기를 생성하시오(‘7 & 8‘ 과 나머지 숫자 분류)\n",
    "\n",
    "**< 단 조건 >**\n",
    "\n",
    "1) 모델은 SGDClassifier(max_iter=1000, tol=1e-3, random_state=42) 사용하시오.\n",
    "\n",
    "2) 훈련셋과 테스트셋에서의 모델 정확도를 교차검증으로 보이시오. (단 학습 데이터(Train Dataset)에서는 정확도가 [0.87005 0.88305 0.8951 ] 이며, 테스트 데이터(Test Dataset)에서는 [0.8602 0.8674 0.8901]이와 크거나 같아야한다.)\n",
    "\n",
    "3) 정밀도 재현율을 시각화하시오.\n",
    "    \n",
    "    1) 정밀도와 재현율을 Theshold(임계값)에 따른 변화를 시각화하시오.\n",
    "    \n",
    "    2) 정밀도와 재현율을 시각화해 트레이드 오프(trade off) 관계를 이해하시오.\n",
    "    \n",
    "4) ROC 커브를 시각화 및 점수를 구하시오.\n",
    "\n",
    "    1) ROC 커브를 시각화하시오.\n",
    "    \n",
    "    2) ROC-AUC 점수를 구하시오.(단 점수가 0.8919 보다 크거나 같아야 한다.)"
   ]
  },
  {
   "cell_type": "markdown",
   "metadata": {
    "id": "JsryqrwXzYQQ"
   },
   "source": [
    "## 가이드 라인\n",
    "\n",
    "### 1) 데이터 로드\n",
    "### 1.1) MNIST DATA 로드"
   ]
  },
  {
   "cell_type": "code",
   "metadata": {
    "id": "kmWyTa-mzYQR"
   },
   "source": [
    "from sklearn.datasets import fetch_openml\n",
    "mnist = fetch_openml('mnist_784', version=1)\n",
    "mnist.keys()"
   ],
   "execution_count": 2,
   "outputs": [
    {
     "data": {
      "text/plain": "dict_keys(['data', 'target', 'frame', 'categories', 'feature_names', 'target_names', 'DESCR', 'details', 'url'])"
     },
     "execution_count": 2,
     "metadata": {},
     "output_type": "execute_result"
    }
   ]
  },
  {
   "cell_type": "markdown",
   "metadata": {
    "id": "JWUvMAnFzYQS"
   },
   "source": [
    "### 1.2) Feature(x) 와 target(label or y) 를 구분"
   ]
  },
  {
   "cell_type": "code",
   "metadata": {
    "id": "wgxWHhhPzYQS"
   },
   "source": [
    "X, y = mnist[\"data\"], mnist[\"target\"]\n",
    "print(X.shape)\n",
    "print(y.shape)"
   ],
   "execution_count": 3,
   "outputs": [
    {
     "name": "stdout",
     "output_type": "stream",
     "text": [
      "(70000, 784)\n",
      "(70000,)\n"
     ]
    }
   ]
  },
  {
   "cell_type": "markdown",
   "metadata": {
    "id": "9zrZ2Xx-zYQT"
   },
   "source": [
    "### 1.3) 로드된 데이터가 잘 가져왔는지 시각화하시오.(index 번호는 0번사용)\n",
    "\n",
    "<시각화 힌트> \n",
    "* X[0] 사용\n",
    "* plt.imshow(데이터) 사용하시오."
   ]
  },
  {
   "cell_type": "code",
   "metadata": {
    "id": "MHDOuOH-zYQT"
   },
   "source": [
    "# instead of using\n",
    "some_digit = X.to_numpy()[0]\n",
    "some_digit_image = some_digit.reshape(28, 28)\n",
    "plt.imshow(some_digit_image, cmap=mpl.cm.binary)\n",
    "plt.show()\n",
    "print('Label of this digit is: ', y[0])"
   ],
   "execution_count": 7,
   "outputs": [
    {
     "data": {
      "text/plain": "<Figure size 432x288 with 1 Axes>",
      "image/png": "[encoded data removed]"
     },
     "metadata": {
      "needs_background": "light"
     },
     "output_type": "display_data"
    },
    {
     "name": "stdout",
     "output_type": "stream",
     "text": [
      "Label of this digit is:  5\n"
     ]
    }
   ]
  },
  {
   "cell_type": "markdown",
   "metadata": {
    "id": "N8qYO2tzzYQU"
   },
   "source": [
    "### 1.4)  target(y)의 데이터 타입을 확인 후 np.uint8로 변환하시오."
   ]
  },
  {
   "cell_type": "code",
   "metadata": {
    "id": "3yNCuwADzYQV"
   },
   "source": [
    "y = y.astype(np.uint8)"
   ],
   "execution_count": 8,
   "outputs": []
  },
  {
   "cell_type": "markdown",
   "metadata": {
    "id": "o_lknmG6zYQV"
   },
   "source": [
    "### 1.5) target(y) 데이터를 7 또는 8이 이면 1 아니면 0으로 변환하시오."
   ]
  },
  {
   "cell_type": "code",
   "metadata": {
    "id": "TYHHUhMKzYQV"
   },
   "source": [
    "for i in range(70000):\n",
    "    if y[i] == 7:\n",
    "        y[i] = 1\n",
    "    elif y[i] == 8:\n",
    "        y[i] = 0"
   ],
   "execution_count": 10,
   "outputs": []
  },
  {
   "cell_type": "markdown",
   "metadata": {
    "id": "mXACpy_yzYQW"
   },
   "source": [
    "### 1.6) 데이터를 인덱스 60000 기준으로 Train과  Test 데이터로 나누시오."
   ]
  },
  {
   "cell_type": "code",
   "metadata": {
    "id": "P8uKSh0czYQW"
   },
   "source": [
    "X_train, X_test, y_train, y_test = X[:60000], X[60000:], y[:60000], y[60000:]"
   ],
   "execution_count": 11,
   "outputs": []
  },
  {
   "cell_type": "markdown",
   "metadata": {
    "id": "i5Y-gFGMzYQW"
   },
   "source": [
    "### 2) 모델\n",
    "### 2.1) 모델 빌드"
   ]
  },
  {
   "cell_type": "code",
   "metadata": {
    "id": "Li6kKIlUzYQX"
   },
   "source": [
    "y_train_5 = (y_train == 5)\n",
    "y_test_5 = (y_test == 5)\n",
    "# Build Model\n",
    "from sklearn.linear_model import SGDClassifier\n",
    "sgd_clf = SGDClassifier(max_iter=1000, tol=1e-3, random_state=42)"
   ],
   "execution_count": 13,
   "outputs": []
  },
  {
   "cell_type": "markdown",
   "metadata": {
    "id": "aZMINFjIzYQX"
   },
   "source": [
    "### 2.2) 모델 학습"
   ]
  },
  {
   "cell_type": "code",
   "metadata": {
    "id": "F1_N6ScLzYQX"
   },
   "source": [
    "sgd_clf.fit(X_train, y_train_5)"
   ],
   "execution_count": 14,
   "outputs": [
    {
     "data": {
      "text/plain": "SGDClassifier(random_state=42)"
     },
     "execution_count": 14,
     "metadata": {},
     "output_type": "execute_result"
    }
   ]
  },
  {
   "cell_type": "markdown",
   "metadata": {
    "id": "-3R6FuM2zYQY"
   },
   "source": [
    "### 2.3) 교차검증으로 일반화된 성능 평가"
   ]
  },
  {
   "cell_type": "code",
   "metadata": {
    "id": "2Rsbq-xdzYQY"
   },
   "source": [
    "some_digit = X.to_numpy()[0]\n",
    "sgd_clf.predict([some_digit])"
   ],
   "execution_count": 15,
   "outputs": [
    {
     "data": {
      "text/plain": "array([ True])"
     },
     "execution_count": 15,
     "metadata": {},
     "output_type": "execute_result"
    }
   ]
  },
  {
   "cell_type": "markdown",
   "metadata": {
    "id": "2Wz_UUdqzYQY"
   },
   "source": [
    "### 3) 성능 평가\n",
    "### 3.1) 정밀도 재현율을 시각화하시오.\n",
    "### 3.1.1) 정밀도와 재현율을 Threshold(임계값)에 따른 변화를 시각화하시오."
   ]
  },
  {
   "cell_type": "code",
   "metadata": {
    "id": "I_zbZ6SnzYQY"
   },
   "source": [
    "y_scores = cross_val_predict(sgd_clf, X_train, y_train_5, cv=3, method=\"decision_function\")\n",
    "\n",
    "precisions, recalls, thresholds = precision_recall_curve(y_train_5, y_scores)\n",
    "\n",
    "plot_precision_recall_vs_threshold(precisions, recalls, thresholds)"
   ],
   "execution_count": 18,
   "outputs": [
    {
     "data": {
      "text/plain": "<Figure size 432x288 with 1 Axes>",
      "image/png": "[encoded data removed]"
     },
     "metadata": {
      "needs_background": "light"
     },
     "output_type": "display_data"
    }
   ]
  },
  {
   "cell_type": "markdown",
   "metadata": {
    "id": "MgK30lP_zYQZ"
   },
   "source": [
    "### 3.1.2) 정밀도와 재현율을 시각화해 트레이드 오프(trade off) 관계를 이해하시오.\n",
    "\n",
    "* 트레이드 오프(trade off) : 서로 반비례 관계로 하나의 요소가 오르면 다른 요소는 감소하는 관계를 말합니다."
   ]
  },
  {
   "cell_type": "code",
   "metadata": {
    "id": "mxtb-jwmzYQZ"
   },
   "source": [
    "plot_precision_recall_curve(recalls, precisions)"
   ],
   "execution_count": 19,
   "outputs": [
    {
     "data": {
      "text/plain": "<Figure size 432x288 with 1 Axes>",
      "image/png": "[encoded data removed]"
     },
     "metadata": {
      "needs_background": "light"
     },
     "output_type": "display_data"
    }
   ]
  },
  {
   "cell_type": "markdown",
   "metadata": {
    "id": "cQY5-yVlzYQa"
   },
   "source": [
    "### 3.2) ROC 커브를 시각화 및 점수를 구하시오.\n",
    "### 3.2.1) ROC 커브를 시각화하시오."
   ]
  },
  {
   "cell_type": "code",
   "metadata": {
    "id": "Rr6AzQYSzYQa"
   },
   "source": [
    "from sklearn.metrics import roc_curve\n",
    "fpr, tpr, thresholds = roc_curve(y_train_5, y_scores)\n",
    "plot_roc_curve(fpr, tpr)\n",
    "plt.show()"
   ],
   "execution_count": 20,
   "outputs": [
    {
     "data": {
      "text/plain": "<Figure size 432x288 with 1 Axes>",
      "image/png": "[encoded data removed]"
     },
     "metadata": {
      "needs_background": "light"
     },
     "output_type": "display_data"
    }
   ]
  },
  {
   "cell_type": "markdown",
   "metadata": {
    "id": "AeOJ6EsgzYQb"
   },
   "source": [
    "### 3.2.2) ROC-AUC 점수를 구하시오.(단 점수가 0.8919 보다 크거나 같아야 한다.)"
   ]
  },
  {
   "cell_type": "code",
   "metadata": {
    "id": "YNjba1pLzYQb"
   },
   "source": [
    "from sklearn.metrics import roc_auc_score\n",
    "roc_auc_score(y_train_5, y_scores)"
   ],
   "execution_count": 22,
   "outputs": [
    {
     "data": {
      "text/plain": "0.9604938554008616"
     },
     "execution_count": 22,
     "metadata": {},
     "output_type": "execute_result"
    }
   ]
  },
  {
   "cell_type": "markdown",
   "metadata": {
    "id": "UzuuP-_GzYQb"
   },
   "source": [
    "## Question 2: \n",
    "       5보다 작은 숫자와 나머지 숫자를 분류하는 이진분류기를 만드시오\n",
    "       .... [Build a binary classifier to detect numbers < 5 (e.g., 0,1,2,3,4)]\n",
    "\n",
    "\n",
    "**< 단 조건 >**\n",
    "\n",
    "1) 모델은 SGDClassifier(max_iter=1000, tol=1e-3, random_state=42) 사용하시오.\n",
    "\n",
    "2) 훈련셋과 테스트셋에서의 모델 정확도를 교차검증으로 보이시오. (단 학습 데이터(Train Dataset)에서는 정확도가  [0.82475 0.76475 0.8451 ]  이며, 테스트 데이터(Test Dataset)에서는 [0.77564487 0.8229823  0.83768377]이와 크거나 같아야한다.)\n",
    "\n",
    "3) 정밀도 재현율을 시각화하시오.\n",
    "    \n",
    "    1) 정밀도와 재현율을 Theshold(임계값)에 따른 변화를 시각화하시오.\n",
    "    \n",
    "    2) 정밀도와 재현율을 시각화해 트레이드 오프(trade off) 관계를 이해하시오.\n",
    "    \n",
    "4) ROC 커브를 시각화 및 점수를 구하시오.\n",
    "\n",
    "    1) ROC 커브를 시각화하시오.\n",
    "    \n",
    "    2) ROC-AUC 점수를 구하시오.(단 점수가  0.8872 보다 크거나 같아야 합니다.)"
   ]
  },
  {
   "cell_type": "markdown",
   "metadata": {
    "id": "t1EhiHx6zYQc"
   },
   "source": [
    "### 1) 데이터 로드\n",
    "### 1.1) MNIST DATA 로드"
   ]
  },
  {
   "cell_type": "code",
   "metadata": {
    "id": "3GJLyLOczYQc"
   },
   "source": [
    ""
   ],
   "execution_count": null,
   "outputs": []
  },
  {
   "cell_type": "markdown",
   "metadata": {
    "id": "mHWMWz1jzYQc"
   },
   "source": [
    "### 1.2) Feature(x) 와 target(label or y) 를 구분"
   ]
  },
  {
   "cell_type": "code",
   "metadata": {
    "id": "9npcF7FjzYQd"
   },
   "source": [
    ""
   ],
   "execution_count": null,
   "outputs": []
  },
  {
   "cell_type": "markdown",
   "metadata": {
    "id": "RkHm3TKVzYQd"
   },
   "source": [
    "### 1.3)  target(y)의 데이터 타입을 확인 후 np.uint8로 변환하시오."
   ]
  },
  {
   "cell_type": "code",
   "metadata": {
    "id": "nNlqC5uLzYQd"
   },
   "source": [
    ""
   ],
   "execution_count": null,
   "outputs": []
  },
  {
   "cell_type": "markdown",
   "metadata": {
    "id": "zROMk4-jzYQe"
   },
   "source": [
    "### 1.4) target(y) 데이터가 5보다 작으면 1 아니면 0으로 변환하시오."
   ]
  },
  {
   "cell_type": "code",
   "metadata": {
    "id": "99FS5O9BzYQe"
   },
   "source": [
    ""
   ],
   "execution_count": null,
   "outputs": []
  },
  {
   "cell_type": "markdown",
   "metadata": {
    "id": "1Y9xrQ05zYQe"
   },
   "source": [
    "### 1.5) 데이터를 인덱스 60000 기준으로 Train과  Test 데이터로 나누시오"
   ]
  },
  {
   "cell_type": "code",
   "metadata": {
    "id": "jNKlx7BQzYQe"
   },
   "source": [
    ""
   ],
   "execution_count": null,
   "outputs": []
  },
  {
   "cell_type": "markdown",
   "metadata": {
    "id": "66CCFMJ0zYQf"
   },
   "source": [
    "### 2) 모델\n",
    "### 2.1) 모델 빌드"
   ]
  },
  {
   "cell_type": "code",
   "metadata": {
    "id": "iheOx6HVzYQf"
   },
   "source": [
    ""
   ],
   "execution_count": null,
   "outputs": []
  },
  {
   "cell_type": "markdown",
   "metadata": {
    "id": "MUDlT-ZGzYQf"
   },
   "source": [
    "### 2.2) 모델 학습"
   ]
  },
  {
   "cell_type": "code",
   "metadata": {
    "id": "Ij9WGGg1zYQg"
   },
   "source": [
    ""
   ],
   "execution_count": null,
   "outputs": []
  },
  {
   "cell_type": "markdown",
   "metadata": {
    "id": "y7V3KKNtzYQg"
   },
   "source": [
    "### 2.3) 교차검증으로 일반화된 성능 평가"
   ]
  },
  {
   "cell_type": "code",
   "metadata": {
    "id": "6twBHjKDzYQh"
   },
   "source": [
    ""
   ],
   "execution_count": null,
   "outputs": []
  },
  {
   "cell_type": "markdown",
   "metadata": {
    "id": "vkgjPfBIzYQh"
   },
   "source": [
    "### 3) 성능 평가\n",
    "### 3.1) 정밀도 재현율을 시각화하시오.\n",
    "### 3.1.1) 정밀도와 재현율을 Theshold(임계값)에 따른 변화를 시각화하시오."
   ]
  },
  {
   "cell_type": "code",
   "metadata": {
    "id": "KCmCIeeJzYQh"
   },
   "source": [
    ""
   ],
   "execution_count": null,
   "outputs": []
  },
  {
   "cell_type": "markdown",
   "metadata": {
    "id": "_dZU68SXzYQi"
   },
   "source": [
    "### 3.1.2) 정밀도와 재현율을 시각화해 트레이드 오프(trade off) 관계를 이해하시오.\n",
    "\n",
    "* 트레이드 오프(trade off) : 서로 반비례 관계로 하나의 요소가 오르면 다른 요소는 감소하는 관계를 말합니다."
   ]
  },
  {
   "cell_type": "code",
   "metadata": {
    "id": "-V1Ej_LLzYQi"
   },
   "source": [
    ""
   ],
   "execution_count": null,
   "outputs": []
  },
  {
   "cell_type": "markdown",
   "metadata": {
    "id": "nJ7J4CyLzYQj"
   },
   "source": [
    "### 3.2) ROC 커브를 시각화 및 점수를 구하시오.\n",
    "### 3.2.1) ROC 커브를 시각화하시오."
   ]
  },
  {
   "cell_type": "code",
   "metadata": {
    "id": "m1eDsRb0zYQk"
   },
   "source": [
    ""
   ],
   "execution_count": null,
   "outputs": []
  },
  {
   "cell_type": "markdown",
   "metadata": {
    "id": "bigOgaibzYQk"
   },
   "source": [
    "### 3.2.2) ROC-AUC 점수를 구하시오.(단 점수가 0.8872 보다 크거나 같아야 합니다.)"
   ]
  },
  {
   "cell_type": "code",
   "metadata": {
    "id": "c4Et-EfbzYQk"
   },
   "source": [
    ""
   ],
   "execution_count": null,
   "outputs": []
  },
  {
   "cell_type": "code",
   "metadata": {
    "id": "xFCnjDrGzYQl"
   },
   "source": [
    ""
   ],
   "execution_count": null,
   "outputs": []
  }
 ]
}