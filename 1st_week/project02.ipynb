{
 "nbformat": 4,
 "nbformat_minor": 0,
 "metadata": {
  "colab": {
   "name": "project02.ipynb",
   "provenance": [],
   "collapsed_sections": [],
   "mount_file_id": "1ILVqE-QDgBIWUqprEiwQlORBIbBpSeUc",
   "authorship_tag": "ABX9TyOLSeBU6U78BN6yQ77mVBP+"
  },
  "kernelspec": {
   "name": "python3",
   "language": "python",
   "display_name": "Python 3"
  },
  "language_info": {
   "name": "python"
  }
 },
 "cells": [
  {
   "cell_type": "code",
   "metadata": {
    "id": "4LE1CAbTdKqd",
    "executionInfo": {
     "status": "ok",
     "timestamp": 1625661071177,
     "user_tz": -540,
     "elapsed": 412,
     "user": {
      "displayName": "Jg P",
      "photoUrl": "",
      "userId": "14743859658637873937"
     }
    }
   },
   "source": [
    "import numpy as np\n",
    "import pandas as pd\n",
    "import matplotlib.pyplot as plt\n",
    "from sklearn.model_selection import train_test_split\n",
    "import folium\n",
    "from sklearn.tree import export_graphviz\n",
    "from IPython.display import display\n",
    "pd.set_option('display.max_row', 300)\n",
    "pd.set_option('display.max_columns', 100)"
   ],
   "execution_count": 3,
   "outputs": []
  },
  {
   "cell_type": "code",
   "metadata": {
    "colab": {
     "base_uri": "https://localhost:8080/",
     "height": 425
    },
    "id": "fY_taHq4ddZV",
    "executionInfo": {
     "status": "ok",
     "timestamp": 1625660289702,
     "user_tz": -540,
     "elapsed": 1783,
     "user": {
      "displayName": "Jg P",
      "photoUrl": "",
      "userId": "14743859658637873937"
     }
    },
    "outputId": "9deb3d8c-455d-4485-ed02-2295f5a2d485"
   },
   "source": [
    "df = pd.read_csv(\"Dataset/시군별유동인구데이터.csv\")\n",
    "df"
   ],
   "execution_count": 4,
   "outputs": [
    {
     "data": {
      "text/plain": "          ���  �����(�߰�ü����) �ñ��ڵ�  ������ �ñ��ڵ�  10�볲�� �����α�  \\\n0      202001                   11170          41590           19.15   \n1      202001                   11170          41610           39.55   \n2      202001                   11170          41630           30.51   \n3      202001                   11170          41650           29.74   \n4      202001                   11170          41670            9.37   \n...       ...                     ...            ...             ...   \n85099  202012                   29155          41820            0.12   \n85100  202012                   29155          41830            0.38   \n85101  202012                   29170          41110            6.97   \n85102  202012                   29170          41130           13.45   \n85103  202012                   28140          41550            0.53   \n\n       20�볲�� �����α�  30�볲�� �����α�  40�볲�� �����α�  50�볲�� �����α�  \\\n0               64.28          116.56          136.39          118.72   \n1               39.38           48.18           63.35           59.68   \n2               21.78           29.73           38.39           37.38   \n3               17.65           26.94           35.66           32.29   \n4                8.90           21.12           17.89           22.00   \n...               ...             ...             ...             ...   \n85099            0.83            0.54            0.16            0.71   \n85100            0.82            0.45            0.66            0.25   \n85101           35.91           27.35           21.80           22.02   \n85102           27.70           24.01           24.48           28.95   \n85103            1.47            5.33            6.48            6.04   \n\n       60�볲�� �����α�  70�볲�� �����α�  10�뿩�� �����α�  20�뿩�� �����α�  \\\n0               45.84           13.68           23.83           52.79   \n1               29.78           11.60           29.66           30.79   \n2               21.49            7.53           21.10           12.57   \n3               21.60           12.11           31.00           20.25   \n4               10.84            2.60           14.36           16.70   \n...               ...             ...             ...             ...   \n85099            0.50            0.22            0.62            1.05   \n85100            0.92            0.07            0.00            1.18   \n85101            9.26            2.42           10.00           22.55   \n85102            8.63            4.57            8.87           21.94   \n85103            4.36            0.39            1.07            0.52   \n\n       30�뿩�� �����α�  40�뿩�� �����α�  50�뿩�� �����α�  60�뿩�� �����α�  \\\n0               67.96           51.08           33.53           26.28   \n1               44.08           36.09           25.58           16.77   \n2               21.77           24.48           25.13           17.43   \n3               19.12           27.59           23.03           15.15   \n4               21.71           15.95           11.51            8.15   \n...               ...             ...             ...             ...   \n85099            0.90            0.69            0.18            0.32   \n85100            0.00            0.20            0.16            0.56   \n85101           14.96            7.48           15.39            9.21   \n85102           11.87           12.69           15.28            7.72   \n85103            0.39            0.76            3.43            0.96   \n\n       70�뿩�� �����α�  \n0               16.03  \n1                9.27  \n2               11.46  \n3                7.43  \n4                4.50  \n...               ...  \n85099            0.21  \n85100            0.25  \n85101            5.09  \n85102            8.06  \n85103            0.07  \n\n[85104 rows x 17 columns]",
      "text/html": "<div>\n<style scoped>\n    .dataframe tbody tr th:only-of-type {\n        vertical-align: middle;\n    }\n\n    .dataframe tbody tr th {\n        vertical-align: top;\n    }\n\n    .dataframe thead th {\n        text-align: right;\n    }\n</style>\n<table border=\"1\" class=\"dataframe\">\n  <thead>\n    <tr style=\"text-align: right;\">\n      <th></th>\n      <th>���</th>\n      <th>�����(�߰�ü����) �ñ��ڵ�</th>\n      <th>������ �ñ��ڵ�</th>\n      <th>10�볲�� �����α�</th>\n      <th>20�볲�� �����α�</th>\n      <th>30�볲�� �����α�</th>\n      <th>40�볲�� �����α�</th>\n      <th>50�볲�� �����α�</th>\n      <th>60�볲�� �����α�</th>\n      <th>70�볲�� �����α�</th>\n      <th>10�뿩�� �����α�</th>\n      <th>20�뿩�� �����α�</th>\n      <th>30�뿩�� �����α�</th>\n      <th>40�뿩�� �����α�</th>\n      <th>50�뿩�� �����α�</th>\n      <th>60�뿩�� �����α�</th>\n      <th>70�뿩�� �����α�</th>\n    </tr>\n  </thead>\n  <tbody>\n    <tr>\n      <th>0</th>\n      <td>202001</td>\n      <td>11170</td>\n      <td>41590</td>\n      <td>19.15</td>\n      <td>64.28</td>\n      <td>116.56</td>\n      <td>136.39</td>\n      <td>118.72</td>\n      <td>45.84</td>\n      <td>13.68</td>\n      <td>23.83</td>\n      <td>52.79</td>\n      <td>67.96</td>\n      <td>51.08</td>\n      <td>33.53</td>\n      <td>26.28</td>\n      <td>16.03</td>\n    </tr>\n    <tr>\n      <th>1</th>\n      <td>202001</td>\n      <td>11170</td>\n      <td>41610</td>\n      <td>39.55</td>\n      <td>39.38</td>\n      <td>48.18</td>\n      <td>63.35</td>\n      <td>59.68</td>\n      <td>29.78</td>\n      <td>11.60</td>\n      <td>29.66</td>\n      <td>30.79</td>\n      <td>44.08</td>\n      <td>36.09</td>\n      <td>25.58</td>\n      <td>16.77</td>\n      <td>9.27</td>\n    </tr>\n    <tr>\n      <th>2</th>\n      <td>202001</td>\n      <td>11170</td>\n      <td>41630</td>\n      <td>30.51</td>\n      <td>21.78</td>\n      <td>29.73</td>\n      <td>38.39</td>\n      <td>37.38</td>\n      <td>21.49</td>\n      <td>7.53</td>\n      <td>21.10</td>\n      <td>12.57</td>\n      <td>21.77</td>\n      <td>24.48</td>\n      <td>25.13</td>\n      <td>17.43</td>\n      <td>11.46</td>\n    </tr>\n    <tr>\n      <th>3</th>\n      <td>202001</td>\n      <td>11170</td>\n      <td>41650</td>\n      <td>29.74</td>\n      <td>17.65</td>\n      <td>26.94</td>\n      <td>35.66</td>\n      <td>32.29</td>\n      <td>21.60</td>\n      <td>12.11</td>\n      <td>31.00</td>\n      <td>20.25</td>\n      <td>19.12</td>\n      <td>27.59</td>\n      <td>23.03</td>\n      <td>15.15</td>\n      <td>7.43</td>\n    </tr>\n    <tr>\n      <th>4</th>\n      <td>202001</td>\n      <td>11170</td>\n      <td>41670</td>\n      <td>9.37</td>\n      <td>8.90</td>\n      <td>21.12</td>\n      <td>17.89</td>\n      <td>22.00</td>\n      <td>10.84</td>\n      <td>2.60</td>\n      <td>14.36</td>\n      <td>16.70</td>\n      <td>21.71</td>\n      <td>15.95</td>\n      <td>11.51</td>\n      <td>8.15</td>\n      <td>4.50</td>\n    </tr>\n    <tr>\n      <th>...</th>\n      <td>...</td>\n      <td>...</td>\n      <td>...</td>\n      <td>...</td>\n      <td>...</td>\n      <td>...</td>\n      <td>...</td>\n      <td>...</td>\n      <td>...</td>\n      <td>...</td>\n      <td>...</td>\n      <td>...</td>\n      <td>...</td>\n      <td>...</td>\n      <td>...</td>\n      <td>...</td>\n      <td>...</td>\n    </tr>\n    <tr>\n      <th>85099</th>\n      <td>202012</td>\n      <td>29155</td>\n      <td>41820</td>\n      <td>0.12</td>\n      <td>0.83</td>\n      <td>0.54</td>\n      <td>0.16</td>\n      <td>0.71</td>\n      <td>0.50</td>\n      <td>0.22</td>\n      <td>0.62</td>\n      <td>1.05</td>\n      <td>0.90</td>\n      <td>0.69</td>\n      <td>0.18</td>\n      <td>0.32</td>\n      <td>0.21</td>\n    </tr>\n    <tr>\n      <th>85100</th>\n      <td>202012</td>\n      <td>29155</td>\n      <td>41830</td>\n      <td>0.38</td>\n      <td>0.82</td>\n      <td>0.45</td>\n      <td>0.66</td>\n      <td>0.25</td>\n      <td>0.92</td>\n      <td>0.07</td>\n      <td>0.00</td>\n      <td>1.18</td>\n      <td>0.00</td>\n      <td>0.20</td>\n      <td>0.16</td>\n      <td>0.56</td>\n      <td>0.25</td>\n    </tr>\n    <tr>\n      <th>85101</th>\n      <td>202012</td>\n      <td>29170</td>\n      <td>41110</td>\n      <td>6.97</td>\n      <td>35.91</td>\n      <td>27.35</td>\n      <td>21.80</td>\n      <td>22.02</td>\n      <td>9.26</td>\n      <td>2.42</td>\n      <td>10.00</td>\n      <td>22.55</td>\n      <td>14.96</td>\n      <td>7.48</td>\n      <td>15.39</td>\n      <td>9.21</td>\n      <td>5.09</td>\n    </tr>\n    <tr>\n      <th>85102</th>\n      <td>202012</td>\n      <td>29170</td>\n      <td>41130</td>\n      <td>13.45</td>\n      <td>27.70</td>\n      <td>24.01</td>\n      <td>24.48</td>\n      <td>28.95</td>\n      <td>8.63</td>\n      <td>4.57</td>\n      <td>8.87</td>\n      <td>21.94</td>\n      <td>11.87</td>\n      <td>12.69</td>\n      <td>15.28</td>\n      <td>7.72</td>\n      <td>8.06</td>\n    </tr>\n    <tr>\n      <th>85103</th>\n      <td>202012</td>\n      <td>28140</td>\n      <td>41550</td>\n      <td>0.53</td>\n      <td>1.47</td>\n      <td>5.33</td>\n      <td>6.48</td>\n      <td>6.04</td>\n      <td>4.36</td>\n      <td>0.39</td>\n      <td>1.07</td>\n      <td>0.52</td>\n      <td>0.39</td>\n      <td>0.76</td>\n      <td>3.43</td>\n      <td>0.96</td>\n      <td>0.07</td>\n    </tr>\n  </tbody>\n</table>\n<p>85104 rows × 17 columns</p>\n</div>"
     },
     "execution_count": 4,
     "metadata": {},
     "output_type": "execute_result"
    }
   ]
  },
  {
   "cell_type": "code",
   "metadata": {
    "colab": {
     "base_uri": "https://localhost:8080/"
    },
    "id": "F_B3iMOGfGRz",
    "executionInfo": {
     "status": "ok",
     "timestamp": 1625660310772,
     "user_tz": -540,
     "elapsed": 21079,
     "user": {
      "displayName": "Jg P",
      "photoUrl": "",
      "userId": "14743859658637873937"
     }
    },
    "outputId": "1b047db6-85f6-4bc8-ddaf-2e14772942e8"
   },
   "source": [
    "# 데이터 전처리\n",
    "\n",
    "destination = input(\">>> 확인할 지역 입력: \")\n",
    "gender = input(\">>> 성별 입력 (남성 / 여성): \")\n",
    "age = input(\">>> 확인할 나이대 입력(숫자만 입력): \")\n",
    "month = input(\">>> 확인할 달 입력(예 : 2월 --> 02): \")\n",
    "\n",
    "print(\"\\n\" + month+ \"월 \" + destination + \"지역에 관련된 \" + age + \"대 \" + gender + \"들의 유동인구를 확인합니다\")\n",
    "check_column = age + '대' + gender + ' ' + '유입인구'\n",
    "month= '2020' + month"
   ],
   "execution_count": 5,
   "outputs": [
    {
     "name": "stdout",
     "output_type": "stream",
     "text": [
      "\n",
      "08월 41550지역에 관련된 40대 남성들의 유동인구를 확인합니다\n"
     ]
    }
   ]
  },
  {
   "cell_type": "code",
   "metadata": {
    "colab": {
     "base_uri": "https://localhost:8080/",
     "height": 562
    },
    "id": "OeUJqmWd8ZHk",
    "executionInfo": {
     "status": "ok",
     "timestamp": 1625660310773,
     "user_tz": -540,
     "elapsed": 17,
     "user": {
      "displayName": "Jg P",
      "photoUrl": "",
      "userId": "14743859658637873937"
     }
    },
    "outputId": "16d4ed5c-60ac-4b4b-e530-5cb9aef22cc1"
   },
   "source": [
    "data = df.loc[:,['년월','출발지(야간체류지) 시군코드','도착지 시군코드',check_column]][df['년월']==int(month)]\n",
    "data_simple = data[data['도착지 시군코드']==int(destination)]\n",
    "data_simple = data_simple.drop(['년월','도착지 시군코드'],axis=1)\n",
    "data_simple['출발지']= data_simple['출발지(야간체류지) 시군코드']-(data_simple['출발지(야간체류지) 시군코드']%1000)\n",
    "data_simple['출발지']=data_simple['출발지']/1000\n",
    "data_simple['출발지']=data_simple['출발지'].astype(int)\n",
    "data_simple=data_simple.drop('출발지(야간체류지) 시군코드',axis=1)\n",
    "return_data=data_simple.groupby('출발지', as_index=False).sum()\n",
    "return_data['경도']=0\n",
    "return_data['위도']=0\n",
    "return_data"
   ],
   "execution_count": 6,
   "outputs": [
    {
     "ename": "KeyError",
     "evalue": "\"None of [Index(['년월', '출발지(야간체류지) 시군코드', '도착지 시군코드', '40대남성 유입인구'], dtype='object')] are in the [columns]\"",
     "output_type": "error",
     "traceback": [
      "\u001B[0;31m---------------------------------------------------------------------------\u001B[0m",
      "\u001B[0;31mKeyError\u001B[0m                                  Traceback (most recent call last)",
      "\u001B[0;32m<ipython-input-6-301f36f3f560>\u001B[0m in \u001B[0;36m<module>\u001B[0;34m\u001B[0m\n\u001B[0;32m----> 1\u001B[0;31m \u001B[0mdata\u001B[0m \u001B[0;34m=\u001B[0m \u001B[0mdf\u001B[0m\u001B[0;34m.\u001B[0m\u001B[0mloc\u001B[0m\u001B[0;34m[\u001B[0m\u001B[0;34m:\u001B[0m\u001B[0;34m,\u001B[0m\u001B[0;34m[\u001B[0m\u001B[0;34m'년월'\u001B[0m\u001B[0;34m,\u001B[0m\u001B[0;34m'출발지(야간체류지) 시군코드'\u001B[0m\u001B[0;34m,\u001B[0m\u001B[0;34m'도착지 시군코드'\u001B[0m\u001B[0;34m,\u001B[0m\u001B[0mcheck_column\u001B[0m\u001B[0;34m]\u001B[0m\u001B[0;34m]\u001B[0m\u001B[0;34m[\u001B[0m\u001B[0mdf\u001B[0m\u001B[0;34m[\u001B[0m\u001B[0;34m'년월'\u001B[0m\u001B[0;34m]\u001B[0m\u001B[0;34m==\u001B[0m\u001B[0mint\u001B[0m\u001B[0;34m(\u001B[0m\u001B[0mmonth\u001B[0m\u001B[0;34m)\u001B[0m\u001B[0;34m]\u001B[0m\u001B[0;34m\u001B[0m\u001B[0;34m\u001B[0m\u001B[0m\n\u001B[0m\u001B[1;32m      2\u001B[0m \u001B[0mdata_simple\u001B[0m \u001B[0;34m=\u001B[0m \u001B[0mdata\u001B[0m\u001B[0;34m[\u001B[0m\u001B[0mdata\u001B[0m\u001B[0;34m[\u001B[0m\u001B[0;34m'도착지 시군코드'\u001B[0m\u001B[0;34m]\u001B[0m\u001B[0;34m==\u001B[0m\u001B[0mint\u001B[0m\u001B[0;34m(\u001B[0m\u001B[0mdestination\u001B[0m\u001B[0;34m)\u001B[0m\u001B[0;34m]\u001B[0m\u001B[0;34m\u001B[0m\u001B[0;34m\u001B[0m\u001B[0m\n\u001B[1;32m      3\u001B[0m \u001B[0mdata_simple\u001B[0m \u001B[0;34m=\u001B[0m \u001B[0mdata_simple\u001B[0m\u001B[0;34m.\u001B[0m\u001B[0mdrop\u001B[0m\u001B[0;34m(\u001B[0m\u001B[0;34m[\u001B[0m\u001B[0;34m'년월'\u001B[0m\u001B[0;34m,\u001B[0m\u001B[0;34m'도착지 시군코드'\u001B[0m\u001B[0;34m]\u001B[0m\u001B[0;34m,\u001B[0m\u001B[0maxis\u001B[0m\u001B[0;34m=\u001B[0m\u001B[0;36m1\u001B[0m\u001B[0;34m)\u001B[0m\u001B[0;34m\u001B[0m\u001B[0;34m\u001B[0m\u001B[0m\n\u001B[1;32m      4\u001B[0m \u001B[0mdata_simple\u001B[0m\u001B[0;34m[\u001B[0m\u001B[0;34m'출발지'\u001B[0m\u001B[0;34m]\u001B[0m\u001B[0;34m=\u001B[0m \u001B[0mdata_simple\u001B[0m\u001B[0;34m[\u001B[0m\u001B[0;34m'출발지(야간체류지) 시군코드'\u001B[0m\u001B[0;34m]\u001B[0m\u001B[0;34m-\u001B[0m\u001B[0;34m(\u001B[0m\u001B[0mdata_simple\u001B[0m\u001B[0;34m[\u001B[0m\u001B[0;34m'출발지(야간체류지) 시군코드'\u001B[0m\u001B[0;34m]\u001B[0m\u001B[0;34m%\u001B[0m\u001B[0;36m1000\u001B[0m\u001B[0;34m)\u001B[0m\u001B[0;34m\u001B[0m\u001B[0;34m\u001B[0m\u001B[0m\n\u001B[1;32m      5\u001B[0m \u001B[0mdata_simple\u001B[0m\u001B[0;34m[\u001B[0m\u001B[0;34m'출발지'\u001B[0m\u001B[0;34m]\u001B[0m\u001B[0;34m=\u001B[0m\u001B[0mdata_simple\u001B[0m\u001B[0;34m[\u001B[0m\u001B[0;34m'출발지'\u001B[0m\u001B[0;34m]\u001B[0m\u001B[0;34m/\u001B[0m\u001B[0;36m1000\u001B[0m\u001B[0;34m\u001B[0m\u001B[0;34m\u001B[0m\u001B[0m\n",
      "\u001B[0;32m~/miniforge3/envs/Drill_ML/lib/python3.8/site-packages/pandas/core/indexing.py\u001B[0m in \u001B[0;36m__getitem__\u001B[0;34m(self, key)\u001B[0m\n\u001B[1;32m    887\u001B[0m                     \u001B[0;31m# AttributeError for IntervalTree get_value\u001B[0m\u001B[0;34m\u001B[0m\u001B[0;34m\u001B[0m\u001B[0;34m\u001B[0m\u001B[0m\n\u001B[1;32m    888\u001B[0m                     \u001B[0;32mreturn\u001B[0m \u001B[0mself\u001B[0m\u001B[0;34m.\u001B[0m\u001B[0mobj\u001B[0m\u001B[0;34m.\u001B[0m\u001B[0m_get_value\u001B[0m\u001B[0;34m(\u001B[0m\u001B[0;34m*\u001B[0m\u001B[0mkey\u001B[0m\u001B[0;34m,\u001B[0m \u001B[0mtakeable\u001B[0m\u001B[0;34m=\u001B[0m\u001B[0mself\u001B[0m\u001B[0;34m.\u001B[0m\u001B[0m_takeable\u001B[0m\u001B[0;34m)\u001B[0m\u001B[0;34m\u001B[0m\u001B[0;34m\u001B[0m\u001B[0m\n\u001B[0;32m--> 889\u001B[0;31m             \u001B[0;32mreturn\u001B[0m \u001B[0mself\u001B[0m\u001B[0;34m.\u001B[0m\u001B[0m_getitem_tuple\u001B[0m\u001B[0;34m(\u001B[0m\u001B[0mkey\u001B[0m\u001B[0;34m)\u001B[0m\u001B[0;34m\u001B[0m\u001B[0;34m\u001B[0m\u001B[0m\n\u001B[0m\u001B[1;32m    890\u001B[0m         \u001B[0;32melse\u001B[0m\u001B[0;34m:\u001B[0m\u001B[0;34m\u001B[0m\u001B[0;34m\u001B[0m\u001B[0m\n\u001B[1;32m    891\u001B[0m             \u001B[0;31m# we by definition only have the 0th axis\u001B[0m\u001B[0;34m\u001B[0m\u001B[0;34m\u001B[0m\u001B[0;34m\u001B[0m\u001B[0m\n",
      "\u001B[0;32m~/miniforge3/envs/Drill_ML/lib/python3.8/site-packages/pandas/core/indexing.py\u001B[0m in \u001B[0;36m_getitem_tuple\u001B[0;34m(self, tup)\u001B[0m\n\u001B[1;32m   1067\u001B[0m             \u001B[0;32mreturn\u001B[0m \u001B[0mself\u001B[0m\u001B[0;34m.\u001B[0m\u001B[0m_multi_take\u001B[0m\u001B[0;34m(\u001B[0m\u001B[0mtup\u001B[0m\u001B[0;34m)\u001B[0m\u001B[0;34m\u001B[0m\u001B[0;34m\u001B[0m\u001B[0m\n\u001B[1;32m   1068\u001B[0m \u001B[0;34m\u001B[0m\u001B[0m\n\u001B[0;32m-> 1069\u001B[0;31m         \u001B[0;32mreturn\u001B[0m \u001B[0mself\u001B[0m\u001B[0;34m.\u001B[0m\u001B[0m_getitem_tuple_same_dim\u001B[0m\u001B[0;34m(\u001B[0m\u001B[0mtup\u001B[0m\u001B[0;34m)\u001B[0m\u001B[0;34m\u001B[0m\u001B[0;34m\u001B[0m\u001B[0m\n\u001B[0m\u001B[1;32m   1070\u001B[0m \u001B[0;34m\u001B[0m\u001B[0m\n\u001B[1;32m   1071\u001B[0m     \u001B[0;32mdef\u001B[0m \u001B[0m_get_label\u001B[0m\u001B[0;34m(\u001B[0m\u001B[0mself\u001B[0m\u001B[0;34m,\u001B[0m \u001B[0mlabel\u001B[0m\u001B[0;34m,\u001B[0m \u001B[0maxis\u001B[0m\u001B[0;34m:\u001B[0m \u001B[0mint\u001B[0m\u001B[0;34m)\u001B[0m\u001B[0;34m:\u001B[0m\u001B[0;34m\u001B[0m\u001B[0;34m\u001B[0m\u001B[0m\n",
      "\u001B[0;32m~/miniforge3/envs/Drill_ML/lib/python3.8/site-packages/pandas/core/indexing.py\u001B[0m in \u001B[0;36m_getitem_tuple_same_dim\u001B[0;34m(self, tup)\u001B[0m\n\u001B[1;32m    773\u001B[0m                 \u001B[0;32mcontinue\u001B[0m\u001B[0;34m\u001B[0m\u001B[0;34m\u001B[0m\u001B[0m\n\u001B[1;32m    774\u001B[0m \u001B[0;34m\u001B[0m\u001B[0m\n\u001B[0;32m--> 775\u001B[0;31m             \u001B[0mretval\u001B[0m \u001B[0;34m=\u001B[0m \u001B[0mgetattr\u001B[0m\u001B[0;34m(\u001B[0m\u001B[0mretval\u001B[0m\u001B[0;34m,\u001B[0m \u001B[0mself\u001B[0m\u001B[0;34m.\u001B[0m\u001B[0mname\u001B[0m\u001B[0;34m)\u001B[0m\u001B[0;34m.\u001B[0m\u001B[0m_getitem_axis\u001B[0m\u001B[0;34m(\u001B[0m\u001B[0mkey\u001B[0m\u001B[0;34m,\u001B[0m \u001B[0maxis\u001B[0m\u001B[0;34m=\u001B[0m\u001B[0mi\u001B[0m\u001B[0;34m)\u001B[0m\u001B[0;34m\u001B[0m\u001B[0;34m\u001B[0m\u001B[0m\n\u001B[0m\u001B[1;32m    776\u001B[0m             \u001B[0;31m# We should never have retval.ndim < self.ndim, as that should\u001B[0m\u001B[0;34m\u001B[0m\u001B[0;34m\u001B[0m\u001B[0;34m\u001B[0m\u001B[0m\n\u001B[1;32m    777\u001B[0m             \u001B[0;31m#  be handled by the _getitem_lowerdim call above.\u001B[0m\u001B[0;34m\u001B[0m\u001B[0;34m\u001B[0m\u001B[0;34m\u001B[0m\u001B[0m\n",
      "\u001B[0;32m~/miniforge3/envs/Drill_ML/lib/python3.8/site-packages/pandas/core/indexing.py\u001B[0m in \u001B[0;36m_getitem_axis\u001B[0;34m(self, key, axis)\u001B[0m\n\u001B[1;32m   1111\u001B[0m                     \u001B[0;32mraise\u001B[0m \u001B[0mValueError\u001B[0m\u001B[0;34m(\u001B[0m\u001B[0;34m\"Cannot index with multidimensional key\"\u001B[0m\u001B[0;34m)\u001B[0m\u001B[0;34m\u001B[0m\u001B[0;34m\u001B[0m\u001B[0m\n\u001B[1;32m   1112\u001B[0m \u001B[0;34m\u001B[0m\u001B[0m\n\u001B[0;32m-> 1113\u001B[0;31m                 \u001B[0;32mreturn\u001B[0m \u001B[0mself\u001B[0m\u001B[0;34m.\u001B[0m\u001B[0m_getitem_iterable\u001B[0m\u001B[0;34m(\u001B[0m\u001B[0mkey\u001B[0m\u001B[0;34m,\u001B[0m \u001B[0maxis\u001B[0m\u001B[0;34m=\u001B[0m\u001B[0maxis\u001B[0m\u001B[0;34m)\u001B[0m\u001B[0;34m\u001B[0m\u001B[0;34m\u001B[0m\u001B[0m\n\u001B[0m\u001B[1;32m   1114\u001B[0m \u001B[0;34m\u001B[0m\u001B[0m\n\u001B[1;32m   1115\u001B[0m             \u001B[0;31m# nested tuple slicing\u001B[0m\u001B[0;34m\u001B[0m\u001B[0;34m\u001B[0m\u001B[0;34m\u001B[0m\u001B[0m\n",
      "\u001B[0;32m~/miniforge3/envs/Drill_ML/lib/python3.8/site-packages/pandas/core/indexing.py\u001B[0m in \u001B[0;36m_getitem_iterable\u001B[0;34m(self, key, axis)\u001B[0m\n\u001B[1;32m   1051\u001B[0m \u001B[0;34m\u001B[0m\u001B[0m\n\u001B[1;32m   1052\u001B[0m         \u001B[0;31m# A collection of keys\u001B[0m\u001B[0;34m\u001B[0m\u001B[0;34m\u001B[0m\u001B[0;34m\u001B[0m\u001B[0m\n\u001B[0;32m-> 1053\u001B[0;31m         \u001B[0mkeyarr\u001B[0m\u001B[0;34m,\u001B[0m \u001B[0mindexer\u001B[0m \u001B[0;34m=\u001B[0m \u001B[0mself\u001B[0m\u001B[0;34m.\u001B[0m\u001B[0m_get_listlike_indexer\u001B[0m\u001B[0;34m(\u001B[0m\u001B[0mkey\u001B[0m\u001B[0;34m,\u001B[0m \u001B[0maxis\u001B[0m\u001B[0;34m,\u001B[0m \u001B[0mraise_missing\u001B[0m\u001B[0;34m=\u001B[0m\u001B[0;32mFalse\u001B[0m\u001B[0;34m)\u001B[0m\u001B[0;34m\u001B[0m\u001B[0;34m\u001B[0m\u001B[0m\n\u001B[0m\u001B[1;32m   1054\u001B[0m         return self.obj._reindex_with_indexers(\n\u001B[1;32m   1055\u001B[0m             \u001B[0;34m{\u001B[0m\u001B[0maxis\u001B[0m\u001B[0;34m:\u001B[0m \u001B[0;34m[\u001B[0m\u001B[0mkeyarr\u001B[0m\u001B[0;34m,\u001B[0m \u001B[0mindexer\u001B[0m\u001B[0;34m]\u001B[0m\u001B[0;34m}\u001B[0m\u001B[0;34m,\u001B[0m \u001B[0mcopy\u001B[0m\u001B[0;34m=\u001B[0m\u001B[0;32mTrue\u001B[0m\u001B[0;34m,\u001B[0m \u001B[0mallow_dups\u001B[0m\u001B[0;34m=\u001B[0m\u001B[0;32mTrue\u001B[0m\u001B[0;34m\u001B[0m\u001B[0;34m\u001B[0m\u001B[0m\n",
      "\u001B[0;32m~/miniforge3/envs/Drill_ML/lib/python3.8/site-packages/pandas/core/indexing.py\u001B[0m in \u001B[0;36m_get_listlike_indexer\u001B[0;34m(self, key, axis, raise_missing)\u001B[0m\n\u001B[1;32m   1264\u001B[0m             \u001B[0mkeyarr\u001B[0m\u001B[0;34m,\u001B[0m \u001B[0mindexer\u001B[0m\u001B[0;34m,\u001B[0m \u001B[0mnew_indexer\u001B[0m \u001B[0;34m=\u001B[0m \u001B[0max\u001B[0m\u001B[0;34m.\u001B[0m\u001B[0m_reindex_non_unique\u001B[0m\u001B[0;34m(\u001B[0m\u001B[0mkeyarr\u001B[0m\u001B[0;34m)\u001B[0m\u001B[0;34m\u001B[0m\u001B[0;34m\u001B[0m\u001B[0m\n\u001B[1;32m   1265\u001B[0m \u001B[0;34m\u001B[0m\u001B[0m\n\u001B[0;32m-> 1266\u001B[0;31m         \u001B[0mself\u001B[0m\u001B[0;34m.\u001B[0m\u001B[0m_validate_read_indexer\u001B[0m\u001B[0;34m(\u001B[0m\u001B[0mkeyarr\u001B[0m\u001B[0;34m,\u001B[0m \u001B[0mindexer\u001B[0m\u001B[0;34m,\u001B[0m \u001B[0maxis\u001B[0m\u001B[0;34m,\u001B[0m \u001B[0mraise_missing\u001B[0m\u001B[0;34m=\u001B[0m\u001B[0mraise_missing\u001B[0m\u001B[0;34m)\u001B[0m\u001B[0;34m\u001B[0m\u001B[0;34m\u001B[0m\u001B[0m\n\u001B[0m\u001B[1;32m   1267\u001B[0m         \u001B[0;32mreturn\u001B[0m \u001B[0mkeyarr\u001B[0m\u001B[0;34m,\u001B[0m \u001B[0mindexer\u001B[0m\u001B[0;34m\u001B[0m\u001B[0;34m\u001B[0m\u001B[0m\n\u001B[1;32m   1268\u001B[0m \u001B[0;34m\u001B[0m\u001B[0m\n",
      "\u001B[0;32m~/miniforge3/envs/Drill_ML/lib/python3.8/site-packages/pandas/core/indexing.py\u001B[0m in \u001B[0;36m_validate_read_indexer\u001B[0;34m(self, key, indexer, axis, raise_missing)\u001B[0m\n\u001B[1;32m   1306\u001B[0m             \u001B[0;32mif\u001B[0m \u001B[0mmissing\u001B[0m \u001B[0;34m==\u001B[0m \u001B[0mlen\u001B[0m\u001B[0;34m(\u001B[0m\u001B[0mindexer\u001B[0m\u001B[0;34m)\u001B[0m\u001B[0;34m:\u001B[0m\u001B[0;34m\u001B[0m\u001B[0;34m\u001B[0m\u001B[0m\n\u001B[1;32m   1307\u001B[0m                 \u001B[0maxis_name\u001B[0m \u001B[0;34m=\u001B[0m \u001B[0mself\u001B[0m\u001B[0;34m.\u001B[0m\u001B[0mobj\u001B[0m\u001B[0;34m.\u001B[0m\u001B[0m_get_axis_name\u001B[0m\u001B[0;34m(\u001B[0m\u001B[0maxis\u001B[0m\u001B[0;34m)\u001B[0m\u001B[0;34m\u001B[0m\u001B[0;34m\u001B[0m\u001B[0m\n\u001B[0;32m-> 1308\u001B[0;31m                 \u001B[0;32mraise\u001B[0m \u001B[0mKeyError\u001B[0m\u001B[0;34m(\u001B[0m\u001B[0;34mf\"None of [{key}] are in the [{axis_name}]\"\u001B[0m\u001B[0;34m)\u001B[0m\u001B[0;34m\u001B[0m\u001B[0;34m\u001B[0m\u001B[0m\n\u001B[0m\u001B[1;32m   1309\u001B[0m \u001B[0;34m\u001B[0m\u001B[0m\n\u001B[1;32m   1310\u001B[0m             \u001B[0max\u001B[0m \u001B[0;34m=\u001B[0m \u001B[0mself\u001B[0m\u001B[0;34m.\u001B[0m\u001B[0mobj\u001B[0m\u001B[0;34m.\u001B[0m\u001B[0m_get_axis\u001B[0m\u001B[0;34m(\u001B[0m\u001B[0maxis\u001B[0m\u001B[0;34m)\u001B[0m\u001B[0;34m\u001B[0m\u001B[0;34m\u001B[0m\u001B[0m\n",
      "\u001B[0;31mKeyError\u001B[0m: \"None of [Index(['년월', '출발지(야간체류지) 시군코드', '도착지 시군코드', '40대남성 유입인구'], dtype='object')] are in the [columns]\""
     ]
    }
   ]
  },
  {
   "cell_type": "code",
   "metadata": {
    "colab": {
     "base_uri": "https://localhost:8080/",
     "height": 425
    },
    "id": "uULA6Wj05u-O",
    "executionInfo": {
     "status": "ok",
     "timestamp": 1625660688861,
     "user_tz": -540,
     "elapsed": 442,
     "user": {
      "displayName": "Jg P",
      "photoUrl": "",
      "userId": "14743859658637873937"
     }
    },
    "outputId": "c71365e0-910b-43c0-d422-d8e52de6f60a"
   },
   "source": [
    "# df에서 출발지에 destination 포함 행들 뽑아냄\n",
    "data1 = df.loc[df['출발지(야간체류지) 시군코드']==int(destination)]\n",
    "data2 = df.loc[(df['도착지 시군코드']==int(destination))]\n",
    "data3 = pd.concat([data1,data2])\n",
    "data3"
   ],
   "execution_count": null,
   "outputs": []
  },
  {
   "cell_type": "code",
   "metadata": {
    "colab": {
     "base_uri": "https://localhost:8080/",
     "height": 635
    },
    "id": "-w1BZqU76MsF",
    "executionInfo": {
     "status": "ok",
     "timestamp": 1625660692592,
     "user_tz": -540,
     "elapsed": 415,
     "user": {
      "displayName": "Jg P",
      "photoUrl": "",
      "userId": "14743859658637873937"
     }
    },
    "outputId": "943a45b1-8324-404d-a5c3-9f970c5a1140"
   },
   "source": [
    "#destination의 값이 출발지에 있다면 \"출\", 도착지에 있으면 \"입\"의 값을 가지는 출/입 열 생성\n",
    "data1['출/입']='출'\n",
    "data2['출/입']='입'\n",
    "data3= pd.concat([data1,data2])\n",
    "data3"
   ],
   "execution_count": null,
   "outputs": []
  },
  {
   "cell_type": "code",
   "metadata": {
    "colab": {
     "base_uri": "https://localhost:8080/"
    },
    "id": "0M7hlaBB6UJl",
    "executionInfo": {
     "status": "ok",
     "timestamp": 1625660624590,
     "user_tz": -540,
     "elapsed": 759,
     "user": {
      "displayName": "Jg P",
      "photoUrl": "",
      "userId": "14743859658637873937"
     }
    },
    "outputId": "d690ba7d-9533-4fca-ffeb-e8647fc85507"
   },
   "source": [
    "# 출발지 시군코드와 도착지 시군코드열 제거 단 destination코드가 아닌 코드값을 가지는 지역코드 열 생성\n",
    "# data1.drop(columns=['출발지(야간체류지) 시군코드'], inplace=True)\n",
    "# data2.drop(columns=['도착지 시군코드'], inplace=True)\n"
   ],
   "execution_count": null,
   "outputs": []
  },
  {
   "cell_type": "code",
   "metadata": {
    "colab": {
     "base_uri": "https://localhost:8080/",
     "height": 635
    },
    "id": "Y4N4Ya_y7Jwd",
    "executionInfo": {
     "status": "ok",
     "timestamp": 1625660766711,
     "user_tz": -540,
     "elapsed": 411,
     "user": {
      "displayName": "Jg P",
      "photoUrl": "",
      "userId": "14743859658637873937"
     }
    },
    "outputId": "c62c5873-f99a-4384-a0b6-e4cf54293c74"
   },
   "source": [
    "data1['출발지(야간체류지) 시군코드']=0\n",
    "data2['도착지 시군코드']=0\n",
    "data3= pd.concat([data1,data2])\n",
    "data3['도착지 시군코드']=data3['도착지 시군코드']+data3['출발지(야간체류지) 시군코드']\n",
    "data3.drop(columns=['출발지(야간체류지) 시군코드'], inplace=True)\n",
    "data3=data3.rename(columns={'도착지 시군코드':'지역코드'})\n",
    "data3=data3[['년월', '지역코드', '출/입','10대남성 유입인구', '20대남성 유입인구', '30대남성 유입인구',\n",
    "       '40대남성 유입인구', '50대남성 유입인구', '60대남성 유입인구', '70대남성 유입인구', '10대여성 유입인구',\n",
    "       '20대여성 유입인구', '30대여성 유입인구', '40대여성 유입인구', '50대여성 유입인구', '60대여성 유입인구',\n",
    "       '70대여성 유입인구']]\n",
    "data3"
   ],
   "execution_count": null,
   "outputs": []
  },
  {
   "cell_type": "code",
   "metadata": {
    "id": "jzcjfQNR7u8X",
    "executionInfo": {
     "status": "ok",
     "timestamp": 1625660783368,
     "user_tz": -540,
     "elapsed": 474,
     "user": {
      "displayName": "Jg P",
      "photoUrl": "",
      "userId": "14743859658637873937"
     }
    }
   },
   "source": [
    "filename = '유동인구_'+str(destination)\n",
    "data3.to_csv(filename+\".csv\", index = None)"
   ],
   "execution_count": null,
   "outputs": []
  },
  {
   "cell_type": "markdown",
   "metadata": {
    "id": "EnTPPOj_8SVm"
   },
   "source": [
    "시각화"
   ]
  },
  {
   "cell_type": "code",
   "metadata": {
    "colab": {
     "base_uri": "https://localhost:8080/",
     "height": 562
    },
    "id": "2RwBLX9p8R4y",
    "executionInfo": {
     "status": "ok",
     "timestamp": 1625660941218,
     "user_tz": -540,
     "elapsed": 407,
     "user": {
      "displayName": "Jg P",
      "photoUrl": "",
      "userId": "14743859658637873937"
     }
    },
    "outputId": "2205c946-621e-4a08-cfaf-e495b82471e7"
   },
   "source": [
    "# 시군코드 - 도시명 연결\n",
    "condition_list = [\n",
    "    (return_data['출발지'] == 11),\n",
    "    (return_data['출발지'] == 26),\n",
    "    (return_data['출발지'] == 27),\n",
    "    (return_data['출발지'] == 28),\n",
    "    (return_data['출발지'] == 29),\n",
    "    (return_data['출발지'] == 30),\n",
    "    (return_data['출발지'] == 31),\n",
    "    (return_data['출발지'] == 36),\n",
    "    (return_data['출발지'] == 41),\n",
    "    (return_data['출발지'] == 42),\n",
    "    (return_data['출발지'] == 43),\n",
    "    (return_data['출발지'] == 44),\n",
    "    (return_data['출발지'] == 45),\n",
    "    (return_data['출발지'] == 46),\n",
    "    (return_data['출발지'] == 47),\n",
    "    (return_data['출발지'] == 48),\n",
    "    (return_data['출발지'] == 50)\n",
    "]\n",
    "city_list = ['서울특별시', '부산광역시', '대구광역시', '인천광역시',\n",
    "               '광주광역시', '대전광역시', '울산광역시', '세종특별자치시',\n",
    "               '경기도', '강원도', '충청북도', '충청남도', '전라북도',\n",
    "               '전라남도', '경상북도', '경상남도', '제주특별자치도']\n",
    "\n",
    "lat_list = [37.56, 35.16, 35.87, 37.46, 35.17, 36.37, 35.56, 36.25,\n",
    "            37.59, 37.86, 36.63, 36.53, 35.72, 34.69, 36.55, 35.18, 33.57]\n",
    "long_list = [126.90, 129.00, 128.53, 126.60, 126.80, 127.35, 129.28,\n",
    "             127.24, 126.53, 127.68, 127.68, 126.51, 126.64, 125.93,\n",
    "             129.28, 127.83, 126.29]\n",
    "\n",
    "return_data['ADDR'] = np.select(condition_list, city_list, default='Not Specified')\n",
    "return_data['lat'] = np.select(condition_list, lat_list, default='Not Specified')\n",
    "return_data['long'] = np.select(condition_list, long_list, default='Not Specified')\n",
    "\n",
    "return_data # 확인용 출력"
   ],
   "execution_count": null,
   "outputs": []
  },
  {
   "cell_type": "code",
   "metadata": {
    "colab": {
     "base_uri": "https://localhost:8080/",
     "height": 562
    },
    "id": "iUMNoDuD8o07",
    "executionInfo": {
     "status": "ok",
     "timestamp": 1625661023672,
     "user_tz": -540,
     "elapsed": 411,
     "user": {
      "displayName": "Jg P",
      "photoUrl": "",
      "userId": "14743859658637873937"
     }
    },
    "outputId": "46a3a0a1-b23c-4a09-d326-c2cd27fd3fcd"
   },
   "source": [
    "# 가공된 DataFrame 정렬\n",
    "return_data_sorted = return_data.sort_values(by=[check_column], ascending=True)\n",
    "return_data_sorted = return_data_sorted.reset_index()\n",
    "return_data_sorted = return_data_sorted.drop('index', axis=1)\n",
    "return_data_sorted #확인용 출력"
   ],
   "execution_count": null,
   "outputs": []
  },
  {
   "cell_type": "code",
   "metadata": {
    "id": "Hz6wyytV8q3y",
    "executionInfo": {
     "status": "ok",
     "timestamp": 1625661084420,
     "user_tz": -540,
     "elapsed": 402,
     "user": {
      "displayName": "Jg P",
      "photoUrl": "",
      "userId": "14743859658637873937"
     }
    }
   },
   "source": [
    "# folium을 이용하여 지도 핸들링\n",
    "map = folium.Map(location=[35.38, 127.51], zoom_start=6)"
   ],
   "execution_count": null,
   "outputs": []
  },
  {
   "cell_type": "code",
   "metadata": {
    "colab": {
     "base_uri": "https://localhost:8080/",
     "height": 385
    },
    "id": "isTIjucw857f",
    "executionInfo": {
     "status": "error",
     "timestamp": 1625661230468,
     "user_tz": -540,
     "elapsed": 431,
     "user": {
      "displayName": "Jg P",
      "photoUrl": "",
      "userId": "14743859658637873937"
     }
    },
    "outputId": "b007146c-8fc7-41e5-e045-15235ed2201e"
   },
   "source": [
    "# Circle Marker로 지도에 아이콘 표시\n",
    "cnt=0\n",
    "\n",
    "for lat, long, addr, fp in zip(lat_list, long_list, return_data['ADDR'], return_data[check_column]):\n",
    "    cnt += 1\n",
    "    folium.CircleMarker(\n",
    "        location=[lat, long],\n",
    "        radius=5 + cnt,\n",
    "        fill=True,\n",
    "        fill_opacity=0.3,\n",
    "        popup=(addr, fp)\n",
    "    ).add_to(map)\n",
    "\n",
    "map"
   ],
   "execution_count": null,
   "outputs": []
  }
 ]
}