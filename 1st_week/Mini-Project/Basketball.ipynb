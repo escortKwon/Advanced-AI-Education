{
 "nbformat": 4,
 "nbformat_minor": 0,
 "metadata": {
  "colab": {
   "name": "project01.ipynb",
   "provenance": [],
   "collapsed_sections": [],
   "mount_file_id": "1SqfIpnmI5CBMZh8OeaiuVlHL2EE1ZjGl",
   "authorship_tag": "ABX9TyMvMEgjrJjvqGZzdKfirORt"
  },
  "kernelspec": {
   "name": "lab_kernel",
   "language": "python",
   "display_name": "lab_kernel"
  },
  "language_info": {
   "name": "python"
  }
 },
 "cells": [
  {
   "cell_type": "code",
   "metadata": {
    "id": "nZ0L734XbgsF",
    "executionInfo": {
     "status": "ok",
     "timestamp": 1625663399437,
     "user_tz": -540,
     "elapsed": 405,
     "user": {
      "displayName": "Jg P",
      "photoUrl": "",
      "userId": "14743859658637873937"
     }
    }
   },
   "source": [
    "import numpy as np\n",
    "import pandas as pd\n",
    "import matplotlib.pyplot as plt\n",
    "from sklearn.model_selection import train_test_split\n",
    "from sklearn.tree import DecisionTreeClassifier\n",
    "\n",
    "from sklearn.tree import export_graphviz\n",
    "import graphviz\n",
    "from IPython.display import display\n",
    "import seaborn as sns\n",
    "\n",
    "pd.set_option('display.max_row', 30)\n",
    "pd.set_option('display.max_columns', 100)"
   ],
   "execution_count": 1,
   "outputs": []
  },
  {
   "cell_type": "code",
   "metadata": {
    "id": "mZP3wNFnPh6T",
    "colab": {
     "base_uri": "https://localhost:8080/",
     "height": 408
    },
    "executionInfo": {
     "status": "ok",
     "timestamp": 1625663400301,
     "user_tz": -540,
     "elapsed": 866,
     "user": {
      "displayName": "Jg P",
      "photoUrl": "",
      "userId": "14743859658637873937"
     }
    },
    "outputId": "f0ed9c97-addb-49eb-970b-2615a4d42ca2"
   },
   "source": [
    "# 데이터 불러오기\n",
    "df = pd.read_csv('basketball_stat.csv')\n",
    "df"
   ],
   "execution_count": 2,
   "outputs": [
    {
     "data": {
      "text/plain": "              Player Pos   3P   2P   TRB  AST  STL  BLK\n0       Alex Abrines  SG  1.4  0.6   1.3  0.6  0.5  0.1\n1       Steven Adams   C  0.0  4.7   7.7  1.1  1.1  1.0\n2      Alexis Ajinca   C  0.0  2.3   4.5  0.3  0.5  0.6\n3     Chris Andersen   C  0.0  0.8   2.6  0.4  0.4  0.6\n4        Will Barton  SG  1.5  3.5   4.3  3.4  0.8  0.5\n..               ...  ..  ...  ...   ...  ...  ...  ...\n95    Nikola Vucevic   C  0.3  6.1  10.4  2.8  1.0  1.0\n96       Dwyane Wade  SG  0.8  6.2   4.5  3.8  1.4  0.7\n97      Dion Waiters  SG  1.8  4.3   3.3  4.3  0.9  0.4\n98  Hassan Whiteside   C  0.0  7.0  14.1  0.7  0.7  2.1\n99      Lou Williams  SG  2.0  3.3   2.5  3.0  1.0  0.2\n\n[100 rows x 8 columns]",
      "text/html": "<div>\n<style scoped>\n    .dataframe tbody tr th:only-of-type {\n        vertical-align: middle;\n    }\n\n    .dataframe tbody tr th {\n        vertical-align: top;\n    }\n\n    .dataframe thead th {\n        text-align: right;\n    }\n</style>\n<table border=\"1\" class=\"dataframe\">\n  <thead>\n    <tr style=\"text-align: right;\">\n      <th></th>\n      <th>Player</th>\n      <th>Pos</th>\n      <th>3P</th>\n      <th>2P</th>\n      <th>TRB</th>\n      <th>AST</th>\n      <th>STL</th>\n      <th>BLK</th>\n    </tr>\n  </thead>\n  <tbody>\n    <tr>\n      <th>0</th>\n      <td>Alex Abrines</td>\n      <td>SG</td>\n      <td>1.4</td>\n      <td>0.6</td>\n      <td>1.3</td>\n      <td>0.6</td>\n      <td>0.5</td>\n      <td>0.1</td>\n    </tr>\n    <tr>\n      <th>1</th>\n      <td>Steven Adams</td>\n      <td>C</td>\n      <td>0.0</td>\n      <td>4.7</td>\n      <td>7.7</td>\n      <td>1.1</td>\n      <td>1.1</td>\n      <td>1.0</td>\n    </tr>\n    <tr>\n      <th>2</th>\n      <td>Alexis Ajinca</td>\n      <td>C</td>\n      <td>0.0</td>\n      <td>2.3</td>\n      <td>4.5</td>\n      <td>0.3</td>\n      <td>0.5</td>\n      <td>0.6</td>\n    </tr>\n    <tr>\n      <th>3</th>\n      <td>Chris Andersen</td>\n      <td>C</td>\n      <td>0.0</td>\n      <td>0.8</td>\n      <td>2.6</td>\n      <td>0.4</td>\n      <td>0.4</td>\n      <td>0.6</td>\n    </tr>\n    <tr>\n      <th>4</th>\n      <td>Will Barton</td>\n      <td>SG</td>\n      <td>1.5</td>\n      <td>3.5</td>\n      <td>4.3</td>\n      <td>3.4</td>\n      <td>0.8</td>\n      <td>0.5</td>\n    </tr>\n    <tr>\n      <th>...</th>\n      <td>...</td>\n      <td>...</td>\n      <td>...</td>\n      <td>...</td>\n      <td>...</td>\n      <td>...</td>\n      <td>...</td>\n      <td>...</td>\n    </tr>\n    <tr>\n      <th>95</th>\n      <td>Nikola Vucevic</td>\n      <td>C</td>\n      <td>0.3</td>\n      <td>6.1</td>\n      <td>10.4</td>\n      <td>2.8</td>\n      <td>1.0</td>\n      <td>1.0</td>\n    </tr>\n    <tr>\n      <th>96</th>\n      <td>Dwyane Wade</td>\n      <td>SG</td>\n      <td>0.8</td>\n      <td>6.2</td>\n      <td>4.5</td>\n      <td>3.8</td>\n      <td>1.4</td>\n      <td>0.7</td>\n    </tr>\n    <tr>\n      <th>97</th>\n      <td>Dion Waiters</td>\n      <td>SG</td>\n      <td>1.8</td>\n      <td>4.3</td>\n      <td>3.3</td>\n      <td>4.3</td>\n      <td>0.9</td>\n      <td>0.4</td>\n    </tr>\n    <tr>\n      <th>98</th>\n      <td>Hassan Whiteside</td>\n      <td>C</td>\n      <td>0.0</td>\n      <td>7.0</td>\n      <td>14.1</td>\n      <td>0.7</td>\n      <td>0.7</td>\n      <td>2.1</td>\n    </tr>\n    <tr>\n      <th>99</th>\n      <td>Lou Williams</td>\n      <td>SG</td>\n      <td>2.0</td>\n      <td>3.3</td>\n      <td>2.5</td>\n      <td>3.0</td>\n      <td>1.0</td>\n      <td>0.2</td>\n    </tr>\n  </tbody>\n</table>\n<p>100 rows × 8 columns</p>\n</div>"
     },
     "execution_count": 2,
     "metadata": {},
     "output_type": "execute_result"
    }
   ]
  },
  {
   "cell_type": "code",
   "metadata": {
    "id": "TZ9Uf6LjXpBy",
    "colab": {
     "base_uri": "https://localhost:8080/",
     "height": 408
    },
    "executionInfo": {
     "status": "ok",
     "timestamp": 1625663400302,
     "user_tz": -540,
     "elapsed": 14,
     "user": {
      "displayName": "Jg P",
      "photoUrl": "",
      "userId": "14743859658637873937"
     }
    },
    "outputId": "8d98e5d2-f9ba-42ce-9ddb-bc3535a5b620"
   },
   "source": [
    "# Position(SG / C)에 따라 True(0), False(1) 결정\n",
    "df['check'] = np.where(df['Pos'] != 'SG', 0, 1)\n",
    "df"
   ],
   "execution_count": 3,
   "outputs": [
    {
     "data": {
      "text/plain": "              Player Pos   3P   2P   TRB  AST  STL  BLK  check\n0       Alex Abrines  SG  1.4  0.6   1.3  0.6  0.5  0.1      1\n1       Steven Adams   C  0.0  4.7   7.7  1.1  1.1  1.0      0\n2      Alexis Ajinca   C  0.0  2.3   4.5  0.3  0.5  0.6      0\n3     Chris Andersen   C  0.0  0.8   2.6  0.4  0.4  0.6      0\n4        Will Barton  SG  1.5  3.5   4.3  3.4  0.8  0.5      1\n..               ...  ..  ...  ...   ...  ...  ...  ...    ...\n95    Nikola Vucevic   C  0.3  6.1  10.4  2.8  1.0  1.0      0\n96       Dwyane Wade  SG  0.8  6.2   4.5  3.8  1.4  0.7      1\n97      Dion Waiters  SG  1.8  4.3   3.3  4.3  0.9  0.4      1\n98  Hassan Whiteside   C  0.0  7.0  14.1  0.7  0.7  2.1      0\n99      Lou Williams  SG  2.0  3.3   2.5  3.0  1.0  0.2      1\n\n[100 rows x 9 columns]",
      "text/html": "<div>\n<style scoped>\n    .dataframe tbody tr th:only-of-type {\n        vertical-align: middle;\n    }\n\n    .dataframe tbody tr th {\n        vertical-align: top;\n    }\n\n    .dataframe thead th {\n        text-align: right;\n    }\n</style>\n<table border=\"1\" class=\"dataframe\">\n  <thead>\n    <tr style=\"text-align: right;\">\n      <th></th>\n      <th>Player</th>\n      <th>Pos</th>\n      <th>3P</th>\n      <th>2P</th>\n      <th>TRB</th>\n      <th>AST</th>\n      <th>STL</th>\n      <th>BLK</th>\n      <th>check</th>\n    </tr>\n  </thead>\n  <tbody>\n    <tr>\n      <th>0</th>\n      <td>Alex Abrines</td>\n      <td>SG</td>\n      <td>1.4</td>\n      <td>0.6</td>\n      <td>1.3</td>\n      <td>0.6</td>\n      <td>0.5</td>\n      <td>0.1</td>\n      <td>1</td>\n    </tr>\n    <tr>\n      <th>1</th>\n      <td>Steven Adams</td>\n      <td>C</td>\n      <td>0.0</td>\n      <td>4.7</td>\n      <td>7.7</td>\n      <td>1.1</td>\n      <td>1.1</td>\n      <td>1.0</td>\n      <td>0</td>\n    </tr>\n    <tr>\n      <th>2</th>\n      <td>Alexis Ajinca</td>\n      <td>C</td>\n      <td>0.0</td>\n      <td>2.3</td>\n      <td>4.5</td>\n      <td>0.3</td>\n      <td>0.5</td>\n      <td>0.6</td>\n      <td>0</td>\n    </tr>\n    <tr>\n      <th>3</th>\n      <td>Chris Andersen</td>\n      <td>C</td>\n      <td>0.0</td>\n      <td>0.8</td>\n      <td>2.6</td>\n      <td>0.4</td>\n      <td>0.4</td>\n      <td>0.6</td>\n      <td>0</td>\n    </tr>\n    <tr>\n      <th>4</th>\n      <td>Will Barton</td>\n      <td>SG</td>\n      <td>1.5</td>\n      <td>3.5</td>\n      <td>4.3</td>\n      <td>3.4</td>\n      <td>0.8</td>\n      <td>0.5</td>\n      <td>1</td>\n    </tr>\n    <tr>\n      <th>...</th>\n      <td>...</td>\n      <td>...</td>\n      <td>...</td>\n      <td>...</td>\n      <td>...</td>\n      <td>...</td>\n      <td>...</td>\n      <td>...</td>\n      <td>...</td>\n    </tr>\n    <tr>\n      <th>95</th>\n      <td>Nikola Vucevic</td>\n      <td>C</td>\n      <td>0.3</td>\n      <td>6.1</td>\n      <td>10.4</td>\n      <td>2.8</td>\n      <td>1.0</td>\n      <td>1.0</td>\n      <td>0</td>\n    </tr>\n    <tr>\n      <th>96</th>\n      <td>Dwyane Wade</td>\n      <td>SG</td>\n      <td>0.8</td>\n      <td>6.2</td>\n      <td>4.5</td>\n      <td>3.8</td>\n      <td>1.4</td>\n      <td>0.7</td>\n      <td>1</td>\n    </tr>\n    <tr>\n      <th>97</th>\n      <td>Dion Waiters</td>\n      <td>SG</td>\n      <td>1.8</td>\n      <td>4.3</td>\n      <td>3.3</td>\n      <td>4.3</td>\n      <td>0.9</td>\n      <td>0.4</td>\n      <td>1</td>\n    </tr>\n    <tr>\n      <th>98</th>\n      <td>Hassan Whiteside</td>\n      <td>C</td>\n      <td>0.0</td>\n      <td>7.0</td>\n      <td>14.1</td>\n      <td>0.7</td>\n      <td>0.7</td>\n      <td>2.1</td>\n      <td>0</td>\n    </tr>\n    <tr>\n      <th>99</th>\n      <td>Lou Williams</td>\n      <td>SG</td>\n      <td>2.0</td>\n      <td>3.3</td>\n      <td>2.5</td>\n      <td>3.0</td>\n      <td>1.0</td>\n      <td>0.2</td>\n      <td>1</td>\n    </tr>\n  </tbody>\n</table>\n<p>100 rows × 9 columns</p>\n</div>"
     },
     "execution_count": 3,
     "metadata": {},
     "output_type": "execute_result"
    }
   ]
  },
  {
   "cell_type": "code",
   "metadata": {
    "id": "5uk75thcQ12P",
    "executionInfo": {
     "status": "ok",
     "timestamp": 1625663400302,
     "user_tz": -540,
     "elapsed": 12,
     "user": {
      "displayName": "Jg P",
      "photoUrl": "",
      "userId": "14743859658637873937"
     }
    }
   },
   "source": [
    "# Dataset 설정\n",
    "X=df.drop(['Player','Pos','check'],axis=1).to_numpy()\n",
    "y=df['check'].to_numpy()"
   ],
   "execution_count": 4,
   "outputs": []
  },
  {
   "cell_type": "code",
   "metadata": {
    "id": "kmOPvH9rY2h3",
    "executionInfo": {
     "status": "ok",
     "timestamp": 1625663400303,
     "user_tz": -540,
     "elapsed": 12,
     "user": {
      "displayName": "Jg P",
      "photoUrl": "",
      "userId": "14743859658637873937"
     }
    }
   },
   "source": [
    "# train_test_split 이용 train set, test set 분할\n",
    "X_train, X_test,y_train,y_test=train_test_split(X,y,test_size=0.3,random_state=4,stratify=y)"
   ],
   "execution_count": 5,
   "outputs": []
  },
  {
   "cell_type": "code",
   "metadata": {
    "id": "qMDVxs42bYvd",
    "executionInfo": {
     "status": "ok",
     "timestamp": 1625663400303,
     "user_tz": -540,
     "elapsed": 12,
     "user": {
      "displayName": "Jg P",
      "photoUrl": "",
      "userId": "14743859658637873937"
     }
    }
   },
   "source": [
    "# 결정트리 모델 생성\n",
    "model=DecisionTreeClassifier(max_depth=7,random_state=1).fit(X_train,y_train)"
   ],
   "execution_count": 6,
   "outputs": []
  },
  {
   "cell_type": "code",
   "metadata": {
    "colab": {
     "base_uri": "https://localhost:8080/"
    },
    "id": "o9FIaoIHbplF",
    "executionInfo": {
     "status": "ok",
     "timestamp": 1625663400304,
     "user_tz": -540,
     "elapsed": 12,
     "user": {
      "displayName": "Jg P",
      "photoUrl": "",
      "userId": "14743859658637873937"
     }
    },
    "outputId": "320ddc51-874d-4afa-ef0b-be624c794024"
   },
   "source": [
    "# 모델 정확도 출력\n",
    "print(model.score(X_train,y_train))\n",
    "print(model.score(X_test,y_test))"
   ],
   "execution_count": 7,
   "outputs": [
    {
     "name": "stdout",
     "output_type": "stream",
     "text": [
      "1.0\n",
      "0.9666666666666667\n"
     ]
    }
   ]
  },
  {
   "cell_type": "code",
   "metadata": {
    "id": "gzuKNwctfTSi",
    "executionInfo": {
     "status": "ok",
     "timestamp": 1625663400304,
     "user_tz": -540,
     "elapsed": 9,
     "user": {
      "displayName": "Jg P",
      "photoUrl": "",
      "userId": "14743859658637873937"
     }
    }
   },
   "source": [
    "# Graphviz 모듈 이용, 결정트리 시각화\n",
    "export_graphviz(model,out_file='tree.dot',class_names=['C','SG'],feature_names=df.drop(['Player','Pos','check'],axis=1).columns,filled=True)"
   ],
   "execution_count": 8,
   "outputs": []
  },
  {
   "cell_type": "code",
   "metadata": {
    "colab": {
     "base_uri": "https://localhost:8080/",
     "height": 755
    },
    "id": "v2g8rq3pjFhF",
    "executionInfo": {
     "status": "ok",
     "timestamp": 1625663400705,
     "user_tz": -540,
     "elapsed": 408,
     "user": {
      "displayName": "Jg P",
      "photoUrl": "",
      "userId": "14743859658637873937"
     }
    },
    "outputId": "7bd514de-6b6b-4a76-bafe-44d62e8aebec"
   },
   "source": [
    "with open(\"tree.dot\") as f:\n",
    "  dot_graph = f.read()\n",
    "graphviz.Source(dot_graph)"
   ],
   "execution_count": 9,
   "outputs": [
    {
     "data": {
      "text/plain": "<graphviz.files.Source at 0x1ade2ff1d00>",
      "image/svg+xml": "<?xml version=\"1.0\" encoding=\"UTF-8\" standalone=\"no\"?>\r\n<!DOCTYPE svg PUBLIC \"-//W3C//DTD SVG 1.1//EN\"\r\n \"http://www.w3.org/Graphics/SVG/1.1/DTD/svg11.dtd\">\r\n<!-- Generated by graphviz version 2.47.3 (20210619.1520)\r\n -->\r\n<!-- Title: Tree Pages: 1 -->\r\n<svg width=\"276pt\" height=\"552pt\"\r\n viewBox=\"0.00 0.00 275.50 552.00\" xmlns=\"http://www.w3.org/2000/svg\" xmlns:xlink=\"http://www.w3.org/1999/xlink\">\r\n<g id=\"graph0\" class=\"graph\" transform=\"scale(1 1) rotate(0) translate(4 548)\">\r\n<title>Tree</title>\r\n<polygon fill=\"white\" stroke=\"transparent\" points=\"-4,4 -4,-548 271.5,-548 271.5,4 -4,4\"/>\r\n<!-- 0 -->\r\n<g id=\"node1\" class=\"node\">\r\n<title>0</title>\r\n<polygon fill=\"#ffffff\" stroke=\"black\" points=\"159,-544 55,-544 55,-461 159,-461 159,-544\"/>\r\n<text text-anchor=\"middle\" x=\"107\" y=\"-528.8\" font-family=\"Times New Roman,serif\" font-size=\"14.00\">BLK &lt;= 0.45</text>\r\n<text text-anchor=\"middle\" x=\"107\" y=\"-513.8\" font-family=\"Times New Roman,serif\" font-size=\"14.00\">gini = 0.5</text>\r\n<text text-anchor=\"middle\" x=\"107\" y=\"-498.8\" font-family=\"Times New Roman,serif\" font-size=\"14.00\">samples = 70</text>\r\n<text text-anchor=\"middle\" x=\"107\" y=\"-483.8\" font-family=\"Times New Roman,serif\" font-size=\"14.00\">value = [35, 35]</text>\r\n<text text-anchor=\"middle\" x=\"107\" y=\"-468.8\" font-family=\"Times New Roman,serif\" font-size=\"14.00\">class = C</text>\r\n</g>\r\n<!-- 1 -->\r\n<g id=\"node2\" class=\"node\">\r\n<title>1</title>\r\n<polygon fill=\"#399de5\" stroke=\"black\" points=\"98,-417.5 0,-417.5 0,-349.5 98,-349.5 98,-417.5\"/>\r\n<text text-anchor=\"middle\" x=\"49\" y=\"-402.3\" font-family=\"Times New Roman,serif\" font-size=\"14.00\">gini = 0.0</text>\r\n<text text-anchor=\"middle\" x=\"49\" y=\"-387.3\" font-family=\"Times New Roman,serif\" font-size=\"14.00\">samples = 30</text>\r\n<text text-anchor=\"middle\" x=\"49\" y=\"-372.3\" font-family=\"Times New Roman,serif\" font-size=\"14.00\">value = [0, 30]</text>\r\n<text text-anchor=\"middle\" x=\"49\" y=\"-357.3\" font-family=\"Times New Roman,serif\" font-size=\"14.00\">class = SG</text>\r\n</g>\r\n<!-- 0&#45;&gt;1 -->\r\n<g id=\"edge1\" class=\"edge\">\r\n<title>0&#45;&gt;1</title>\r\n<path fill=\"none\" stroke=\"black\" d=\"M86.88,-460.91C81.41,-449.87 75.47,-437.9 69.96,-426.77\"/>\r\n<polygon fill=\"black\" stroke=\"black\" points=\"73.02,-425.07 65.44,-417.67 66.75,-428.18 73.02,-425.07\"/>\r\n<text text-anchor=\"middle\" x=\"57.45\" y=\"-437.66\" font-family=\"Times New Roman,serif\" font-size=\"14.00\">True</text>\r\n</g>\r\n<!-- 2 -->\r\n<g id=\"node3\" class=\"node\">\r\n<title>2</title>\r\n<polygon fill=\"#e99355\" stroke=\"black\" points=\"214,-425 116,-425 116,-342 214,-342 214,-425\"/>\r\n<text text-anchor=\"middle\" x=\"165\" y=\"-409.8\" font-family=\"Times New Roman,serif\" font-size=\"14.00\">3P &lt;= 2.6</text>\r\n<text text-anchor=\"middle\" x=\"165\" y=\"-394.8\" font-family=\"Times New Roman,serif\" font-size=\"14.00\">gini = 0.219</text>\r\n<text text-anchor=\"middle\" x=\"165\" y=\"-379.8\" font-family=\"Times New Roman,serif\" font-size=\"14.00\">samples = 40</text>\r\n<text text-anchor=\"middle\" x=\"165\" y=\"-364.8\" font-family=\"Times New Roman,serif\" font-size=\"14.00\">value = [35, 5]</text>\r\n<text text-anchor=\"middle\" x=\"165\" y=\"-349.8\" font-family=\"Times New Roman,serif\" font-size=\"14.00\">class = C</text>\r\n</g>\r\n<!-- 0&#45;&gt;2 -->\r\n<g id=\"edge2\" class=\"edge\">\r\n<title>0&#45;&gt;2</title>\r\n<path fill=\"none\" stroke=\"black\" d=\"M127.12,-460.91C131.4,-452.29 135.96,-443.09 140.37,-434.17\"/>\r\n<polygon fill=\"black\" stroke=\"black\" points=\"143.61,-435.53 144.91,-425.02 137.34,-432.43 143.61,-435.53\"/>\r\n<text text-anchor=\"middle\" x=\"152.9\" y=\"-445.01\" font-family=\"Times New Roman,serif\" font-size=\"14.00\">False</text>\r\n</g>\r\n<!-- 3 -->\r\n<g id=\"node4\" class=\"node\">\r\n<title>3</title>\r\n<polygon fill=\"#e78c4a\" stroke=\"black\" points=\"158,-306 60,-306 60,-223 158,-223 158,-306\"/>\r\n<text text-anchor=\"middle\" x=\"109\" y=\"-290.8\" font-family=\"Times New Roman,serif\" font-size=\"14.00\">AST &lt;= 2.45</text>\r\n<text text-anchor=\"middle\" x=\"109\" y=\"-275.8\" font-family=\"Times New Roman,serif\" font-size=\"14.00\">gini = 0.145</text>\r\n<text text-anchor=\"middle\" x=\"109\" y=\"-260.8\" font-family=\"Times New Roman,serif\" font-size=\"14.00\">samples = 38</text>\r\n<text text-anchor=\"middle\" x=\"109\" y=\"-245.8\" font-family=\"Times New Roman,serif\" font-size=\"14.00\">value = [35, 3]</text>\r\n<text text-anchor=\"middle\" x=\"109\" y=\"-230.8\" font-family=\"Times New Roman,serif\" font-size=\"14.00\">class = C</text>\r\n</g>\r\n<!-- 2&#45;&gt;3 -->\r\n<g id=\"edge3\" class=\"edge\">\r\n<title>2&#45;&gt;3</title>\r\n<path fill=\"none\" stroke=\"black\" d=\"M145.57,-341.91C141.44,-333.29 137.04,-324.09 132.78,-315.17\"/>\r\n<polygon fill=\"black\" stroke=\"black\" points=\"135.87,-313.53 128.39,-306.02 129.55,-316.55 135.87,-313.53\"/>\r\n</g>\r\n<!-- 8 -->\r\n<g id=\"node9\" class=\"node\">\r\n<title>8</title>\r\n<polygon fill=\"#399de5\" stroke=\"black\" points=\"267.5,-298.5 176.5,-298.5 176.5,-230.5 267.5,-230.5 267.5,-298.5\"/>\r\n<text text-anchor=\"middle\" x=\"222\" y=\"-283.3\" font-family=\"Times New Roman,serif\" font-size=\"14.00\">gini = 0.0</text>\r\n<text text-anchor=\"middle\" x=\"222\" y=\"-268.3\" font-family=\"Times New Roman,serif\" font-size=\"14.00\">samples = 2</text>\r\n<text text-anchor=\"middle\" x=\"222\" y=\"-253.3\" font-family=\"Times New Roman,serif\" font-size=\"14.00\">value = [0, 2]</text>\r\n<text text-anchor=\"middle\" x=\"222\" y=\"-238.3\" font-family=\"Times New Roman,serif\" font-size=\"14.00\">class = SG</text>\r\n</g>\r\n<!-- 2&#45;&gt;8 -->\r\n<g id=\"edge8\" class=\"edge\">\r\n<title>2&#45;&gt;8</title>\r\n<path fill=\"none\" stroke=\"black\" d=\"M184.78,-341.91C190.15,-330.87 195.99,-318.9 201.41,-307.77\"/>\r\n<polygon fill=\"black\" stroke=\"black\" points=\"204.61,-309.19 205.84,-298.67 198.32,-306.12 204.61,-309.19\"/>\r\n</g>\r\n<!-- 4 -->\r\n<g id=\"node5\" class=\"node\">\r\n<title>4</title>\r\n<polygon fill=\"#e58139\" stroke=\"black\" points=\"102,-179.5 4,-179.5 4,-111.5 102,-111.5 102,-179.5\"/>\r\n<text text-anchor=\"middle\" x=\"53\" y=\"-164.3\" font-family=\"Times New Roman,serif\" font-size=\"14.00\">gini = 0.0</text>\r\n<text text-anchor=\"middle\" x=\"53\" y=\"-149.3\" font-family=\"Times New Roman,serif\" font-size=\"14.00\">samples = 30</text>\r\n<text text-anchor=\"middle\" x=\"53\" y=\"-134.3\" font-family=\"Times New Roman,serif\" font-size=\"14.00\">value = [30, 0]</text>\r\n<text text-anchor=\"middle\" x=\"53\" y=\"-119.3\" font-family=\"Times New Roman,serif\" font-size=\"14.00\">class = C</text>\r\n</g>\r\n<!-- 3&#45;&gt;4 -->\r\n<g id=\"edge4\" class=\"edge\">\r\n<title>3&#45;&gt;4</title>\r\n<path fill=\"none\" stroke=\"black\" d=\"M89.57,-222.91C84.29,-211.87 78.56,-199.9 73.23,-188.77\"/>\r\n<polygon fill=\"black\" stroke=\"black\" points=\"76.35,-187.18 68.87,-179.67 70.04,-190.2 76.35,-187.18\"/>\r\n</g>\r\n<!-- 5 -->\r\n<g id=\"node6\" class=\"node\">\r\n<title>5</title>\r\n<polygon fill=\"#f5cdb0\" stroke=\"black\" points=\"212,-187 120,-187 120,-104 212,-104 212,-187\"/>\r\n<text text-anchor=\"middle\" x=\"166\" y=\"-171.8\" font-family=\"Times New Roman,serif\" font-size=\"14.00\">BLK &lt;= 0.75</text>\r\n<text text-anchor=\"middle\" x=\"166\" y=\"-156.8\" font-family=\"Times New Roman,serif\" font-size=\"14.00\">gini = 0.469</text>\r\n<text text-anchor=\"middle\" x=\"166\" y=\"-141.8\" font-family=\"Times New Roman,serif\" font-size=\"14.00\">samples = 8</text>\r\n<text text-anchor=\"middle\" x=\"166\" y=\"-126.8\" font-family=\"Times New Roman,serif\" font-size=\"14.00\">value = [5, 3]</text>\r\n<text text-anchor=\"middle\" x=\"166\" y=\"-111.8\" font-family=\"Times New Roman,serif\" font-size=\"14.00\">class = C</text>\r\n</g>\r\n<!-- 3&#45;&gt;5 -->\r\n<g id=\"edge5\" class=\"edge\">\r\n<title>3&#45;&gt;5</title>\r\n<path fill=\"none\" stroke=\"black\" d=\"M128.78,-222.91C132.98,-214.29 137.46,-205.09 141.8,-196.17\"/>\r\n<polygon fill=\"black\" stroke=\"black\" points=\"145.03,-197.54 146.26,-187.02 138.73,-194.48 145.03,-197.54\"/>\r\n</g>\r\n<!-- 6 -->\r\n<g id=\"node7\" class=\"node\">\r\n<title>6</title>\r\n<polygon fill=\"#399de5\" stroke=\"black\" points=\"156.5,-68 65.5,-68 65.5,0 156.5,0 156.5,-68\"/>\r\n<text text-anchor=\"middle\" x=\"111\" y=\"-52.8\" font-family=\"Times New Roman,serif\" font-size=\"14.00\">gini = 0.0</text>\r\n<text text-anchor=\"middle\" x=\"111\" y=\"-37.8\" font-family=\"Times New Roman,serif\" font-size=\"14.00\">samples = 3</text>\r\n<text text-anchor=\"middle\" x=\"111\" y=\"-22.8\" font-family=\"Times New Roman,serif\" font-size=\"14.00\">value = [0, 3]</text>\r\n<text text-anchor=\"middle\" x=\"111\" y=\"-7.8\" font-family=\"Times New Roman,serif\" font-size=\"14.00\">class = SG</text>\r\n</g>\r\n<!-- 5&#45;&gt;6 -->\r\n<g id=\"edge6\" class=\"edge\">\r\n<title>5&#45;&gt;6</title>\r\n<path fill=\"none\" stroke=\"black\" d=\"M145.52,-103.73C141.21,-95.15 136.66,-86.09 132.32,-77.46\"/>\r\n<polygon fill=\"black\" stroke=\"black\" points=\"135.34,-75.66 127.73,-68.3 129.09,-78.81 135.34,-75.66\"/>\r\n</g>\r\n<!-- 7 -->\r\n<g id=\"node8\" class=\"node\">\r\n<title>7</title>\r\n<polygon fill=\"#e58139\" stroke=\"black\" points=\"265.5,-68 174.5,-68 174.5,0 265.5,0 265.5,-68\"/>\r\n<text text-anchor=\"middle\" x=\"220\" y=\"-52.8\" font-family=\"Times New Roman,serif\" font-size=\"14.00\">gini = 0.0</text>\r\n<text text-anchor=\"middle\" x=\"220\" y=\"-37.8\" font-family=\"Times New Roman,serif\" font-size=\"14.00\">samples = 5</text>\r\n<text text-anchor=\"middle\" x=\"220\" y=\"-22.8\" font-family=\"Times New Roman,serif\" font-size=\"14.00\">value = [5, 0]</text>\r\n<text text-anchor=\"middle\" x=\"220\" y=\"-7.8\" font-family=\"Times New Roman,serif\" font-size=\"14.00\">class = C</text>\r\n</g>\r\n<!-- 5&#45;&gt;7 -->\r\n<g id=\"edge7\" class=\"edge\">\r\n<title>5&#45;&gt;7</title>\r\n<path fill=\"none\" stroke=\"black\" d=\"M186.11,-103.73C190.34,-95.15 194.81,-86.09 199.06,-77.46\"/>\r\n<polygon fill=\"black\" stroke=\"black\" points=\"202.29,-78.82 203.58,-68.3 196.02,-75.72 202.29,-78.82\"/>\r\n</g>\r\n</g>\r\n</svg>\r\n"
     },
     "execution_count": 9,
     "metadata": {},
     "output_type": "execute_result"
    }
   ]
  },
  {
   "cell_type": "code",
   "metadata": {
    "colab": {
     "base_uri": "https://localhost:8080/",
     "height": 295
    },
    "id": "ZCyaDHFxjNIe",
    "executionInfo": {
     "status": "ok",
     "timestamp": 1625663401171,
     "user_tz": -540,
     "elapsed": 469,
     "user": {
      "displayName": "Jg P",
      "photoUrl": "",
      "userId": "14743859658637873937"
     }
    },
    "outputId": "7a40be91-9180-426b-f04a-8fec3faecdcd"
   },
   "source": [
    "# BLK-STL에 대해 Shooting Guard - Center 영역 시각화\n",
    "sns.scatterplot(x='BLK', y='STL', data=df, hue=\"check\")\n",
    "plt.xlabel('BLK')\n",
    "plt.ylabel('STL')\n",
    "plt.legend(['SG', 'C'])\n",
    "plt.axvline(x=0.5, color='r', linestyle='--')\n",
    "plt.axhline(y=1.05, xmin=0.5/3.0, xmax=3.0, color='g', linestyle='--')\n",
    "plt.axhline(y=0.45, xmin=0, xmax=0.5/3.0, color='g', linestyle='--')\n",
    "plt.title('BLK - STL')\n",
    "plt.show()"
   ],
   "execution_count": 10,
   "outputs": [
    {
     "data": {
      "text/plain": "<Figure size 432x288 with 1 Axes>",
      "image/png": "[encoded data removed]"
     },
     "metadata": {
      "needs_background": "light"
     },
     "output_type": "display_data"
    }
   ]
  }
 ]
}