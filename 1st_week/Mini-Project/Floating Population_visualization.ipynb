{
 "cells": [
  {
   "cell_type": "code",
   "execution_count": 1,
   "metadata": {
    "collapsed": true
   },
   "outputs": [],
   "source": [
    "import numpy as np\n",
    "import pandas as pd\n",
    "import matplotlib.pyplot as plt\n",
    "import folium"
   ]
  },
  {
   "cell_type": "code",
   "execution_count": 2,
   "outputs": [
    {
     "name": "stdout",
     "output_type": "stream",
     "text": [
      "data shape: (85104, 17)\n",
      "<class 'pandas.core.frame.DataFrame'>\n",
      "RangeIndex: 85104 entries, 0 to 85103\n",
      "Data columns (total 17 columns):\n",
      " #   Column                  Non-Null Count  Dtype  \n",
      "---  ------                  --------------  -----  \n",
      " 0   ���                     85104 non-null  int64  \n",
      " 1   �����(�߰�ü����) �ñ��ڵ�  85104 non-null  int64  \n",
      " 2   ������ �ñ��ڵ�           85104 non-null  int64  \n",
      " 3   10�볲�� �����α�          85104 non-null  float64\n",
      " 4   20�볲�� �����α�          85104 non-null  float64\n",
      " 5   30�볲�� �����α�          85104 non-null  float64\n",
      " 6   40�볲�� �����α�          85104 non-null  float64\n",
      " 7   50�볲�� �����α�          85104 non-null  float64\n",
      " 8   60�볲�� �����α�          85104 non-null  float64\n",
      " 9   70�볲�� �����α�          85104 non-null  float64\n",
      " 10  10�뿩�� �����α�          85104 non-null  float64\n",
      " 11  20�뿩�� �����α�          85104 non-null  float64\n",
      " 12  30�뿩�� �����α�          85104 non-null  float64\n",
      " 13  40�뿩�� �����α�          85104 non-null  float64\n",
      " 14  50�뿩�� �����α�          85104 non-null  float64\n",
      " 15  60�뿩�� �����α�          85104 non-null  float64\n",
      " 16  70�뿩�� �����α�          85104 non-null  float64\n",
      "dtypes: float64(14), int64(3)\n",
      "memory usage: 11.0 MB\n"
     ]
    },
    {
     "data": {
      "text/plain": "      ���  �����(�߰�ü����) �ñ��ڵ�  ������ �ñ��ڵ�  10�볲�� �����α�  \\\n0  202001                   11170          41590           19.15   \n1  202001                   11170          41610           39.55   \n2  202001                   11170          41630           30.51   \n3  202001                   11170          41650           29.74   \n4  202001                   11170          41670            9.37   \n\n   20�볲�� �����α�  30�볲�� �����α�  40�볲�� �����α�  50�볲�� �����α�  \\\n0           64.28          116.56          136.39          118.72   \n1           39.38           48.18           63.35           59.68   \n2           21.78           29.73           38.39           37.38   \n3           17.65           26.94           35.66           32.29   \n4            8.90           21.12           17.89           22.00   \n\n   60�볲�� �����α�  70�볲�� �����α�  10�뿩�� �����α�  20�뿩�� �����α�  \\\n0           45.84           13.68           23.83           52.79   \n1           29.78           11.60           29.66           30.79   \n2           21.49            7.53           21.10           12.57   \n3           21.60           12.11           31.00           20.25   \n4           10.84            2.60           14.36           16.70   \n\n   30�뿩�� �����α�  40�뿩�� �����α�  50�뿩�� �����α�  60�뿩�� �����α�  \\\n0           67.96           51.08           33.53           26.28   \n1           44.08           36.09           25.58           16.77   \n2           21.77           24.48           25.13           17.43   \n3           19.12           27.59           23.03           15.15   \n4           21.71           15.95           11.51            8.15   \n\n   70�뿩�� �����α�  \n0           16.03  \n1            9.27  \n2           11.46  \n3            7.43  \n4            4.50  ",
      "text/html": "<div>\n<style scoped>\n    .dataframe tbody tr th:only-of-type {\n        vertical-align: middle;\n    }\n\n    .dataframe tbody tr th {\n        vertical-align: top;\n    }\n\n    .dataframe thead th {\n        text-align: right;\n    }\n</style>\n<table border=\"1\" class=\"dataframe\">\n  <thead>\n    <tr style=\"text-align: right;\">\n      <th></th>\n      <th>���</th>\n      <th>�����(�߰�ü����) �ñ��ڵ�</th>\n      <th>������ �ñ��ڵ�</th>\n      <th>10�볲�� �����α�</th>\n      <th>20�볲�� �����α�</th>\n      <th>30�볲�� �����α�</th>\n      <th>40�볲�� �����α�</th>\n      <th>50�볲�� �����α�</th>\n      <th>60�볲�� �����α�</th>\n      <th>70�볲�� �����α�</th>\n      <th>10�뿩�� �����α�</th>\n      <th>20�뿩�� �����α�</th>\n      <th>30�뿩�� �����α�</th>\n      <th>40�뿩�� �����α�</th>\n      <th>50�뿩�� �����α�</th>\n      <th>60�뿩�� �����α�</th>\n      <th>70�뿩�� �����α�</th>\n    </tr>\n  </thead>\n  <tbody>\n    <tr>\n      <th>0</th>\n      <td>202001</td>\n      <td>11170</td>\n      <td>41590</td>\n      <td>19.15</td>\n      <td>64.28</td>\n      <td>116.56</td>\n      <td>136.39</td>\n      <td>118.72</td>\n      <td>45.84</td>\n      <td>13.68</td>\n      <td>23.83</td>\n      <td>52.79</td>\n      <td>67.96</td>\n      <td>51.08</td>\n      <td>33.53</td>\n      <td>26.28</td>\n      <td>16.03</td>\n    </tr>\n    <tr>\n      <th>1</th>\n      <td>202001</td>\n      <td>11170</td>\n      <td>41610</td>\n      <td>39.55</td>\n      <td>39.38</td>\n      <td>48.18</td>\n      <td>63.35</td>\n      <td>59.68</td>\n      <td>29.78</td>\n      <td>11.60</td>\n      <td>29.66</td>\n      <td>30.79</td>\n      <td>44.08</td>\n      <td>36.09</td>\n      <td>25.58</td>\n      <td>16.77</td>\n      <td>9.27</td>\n    </tr>\n    <tr>\n      <th>2</th>\n      <td>202001</td>\n      <td>11170</td>\n      <td>41630</td>\n      <td>30.51</td>\n      <td>21.78</td>\n      <td>29.73</td>\n      <td>38.39</td>\n      <td>37.38</td>\n      <td>21.49</td>\n      <td>7.53</td>\n      <td>21.10</td>\n      <td>12.57</td>\n      <td>21.77</td>\n      <td>24.48</td>\n      <td>25.13</td>\n      <td>17.43</td>\n      <td>11.46</td>\n    </tr>\n    <tr>\n      <th>3</th>\n      <td>202001</td>\n      <td>11170</td>\n      <td>41650</td>\n      <td>29.74</td>\n      <td>17.65</td>\n      <td>26.94</td>\n      <td>35.66</td>\n      <td>32.29</td>\n      <td>21.60</td>\n      <td>12.11</td>\n      <td>31.00</td>\n      <td>20.25</td>\n      <td>19.12</td>\n      <td>27.59</td>\n      <td>23.03</td>\n      <td>15.15</td>\n      <td>7.43</td>\n    </tr>\n    <tr>\n      <th>4</th>\n      <td>202001</td>\n      <td>11170</td>\n      <td>41670</td>\n      <td>9.37</td>\n      <td>8.90</td>\n      <td>21.12</td>\n      <td>17.89</td>\n      <td>22.00</td>\n      <td>10.84</td>\n      <td>2.60</td>\n      <td>14.36</td>\n      <td>16.70</td>\n      <td>21.71</td>\n      <td>15.95</td>\n      <td>11.51</td>\n      <td>8.15</td>\n      <td>4.50</td>\n    </tr>\n  </tbody>\n</table>\n</div>"
     },
     "execution_count": 2,
     "metadata": {},
     "output_type": "execute_result"
    }
   ],
   "source": [
    "# 데이터 불러오기\n",
    "fp_df = pd.read_csv(\"시군별유동인구데이터.csv\")\n",
    "\n",
    "print(\"data shape:\", fp_df.shape)\n",
    "fp_df.info()\n",
    "fp_df.head()"
   ],
   "metadata": {
    "collapsed": false,
    "pycharm": {
     "name": "#%%\n"
    }
   }
  },
  {
   "cell_type": "code",
   "execution_count": 3,
   "outputs": [
    {
     "name": "stdout",
     "output_type": "stream",
     "text": [
      "\n",
      "08월 41550지역의 40대 남성들의 유동인구를 확인합니다\n"
     ]
    }
   ],
   "source": [
    "# 데이터 전처리\n",
    "\n",
    "destination = input(\">>> 확인할 지역 입력: \")\n",
    "gender = input(\">>> 성별 입력 (남성 / 여성): \")\n",
    "age = input(\">>> 확인할 나이대 입력(숫자만 입력): \")\n",
    "month = input(\">>> 확인할 달 입력(예 : 2월 --> 02): \")\n",
    "\n",
    "print(\"\\n\" + month+ \"월 \" + destination + \"지역의 \" + age + \"대 \" + gender + \"들의 유동인구를 확인합니다\")\n",
    "check_column = age + '대' + gender + ' ' + '유입인구'\n",
    "month= '2020' + month"
   ],
   "metadata": {
    "collapsed": false,
    "pycharm": {
     "name": "#%%\n"
    }
   }
  },
  {
   "cell_type": "code",
   "execution_count": 4,
   "outputs": [
    {
     "ename": "KeyError",
     "evalue": "\"None of [Index(['년월', '출발지(야간체류지) 시군코드', '도착지 시군코드', '40대남성 유입인구'], dtype='object')] are in the [columns]\"",
     "output_type": "error",
     "traceback": [
      "\u001B[0;31m---------------------------------------------------------------------------\u001B[0m",
      "\u001B[0;31mKeyError\u001B[0m                                  Traceback (most recent call last)",
      "\u001B[0;32m<ipython-input-4-a9730cf5db31>\u001B[0m in \u001B[0;36m<module>\u001B[0;34m\u001B[0m\n\u001B[1;32m      1\u001B[0m \u001B[0;31m# DataFrame 핸들링\u001B[0m\u001B[0;34m\u001B[0m\u001B[0;34m\u001B[0m\u001B[0;34m\u001B[0m\u001B[0m\n\u001B[0;32m----> 2\u001B[0;31m \u001B[0mdata\u001B[0m \u001B[0;34m=\u001B[0m \u001B[0mfp_df\u001B[0m\u001B[0;34m.\u001B[0m\u001B[0mloc\u001B[0m\u001B[0;34m[\u001B[0m\u001B[0;34m:\u001B[0m\u001B[0;34m,\u001B[0m \u001B[0;34m[\u001B[0m\u001B[0;34m'년월'\u001B[0m\u001B[0;34m,\u001B[0m\u001B[0;34m'출발지(야간체류지) 시군코드'\u001B[0m\u001B[0;34m,\u001B[0m\u001B[0;34m'도착지 시군코드'\u001B[0m\u001B[0;34m,\u001B[0m\u001B[0mcheck_column\u001B[0m\u001B[0;34m]\u001B[0m\u001B[0;34m]\u001B[0m\u001B[0;34m[\u001B[0m\u001B[0mfp_df\u001B[0m\u001B[0;34m[\u001B[0m\u001B[0;34m'년월'\u001B[0m\u001B[0;34m]\u001B[0m \u001B[0;34m==\u001B[0m \u001B[0mint\u001B[0m\u001B[0;34m(\u001B[0m\u001B[0mmonth\u001B[0m\u001B[0;34m)\u001B[0m\u001B[0;34m]\u001B[0m\u001B[0;34m\u001B[0m\u001B[0;34m\u001B[0m\u001B[0m\n\u001B[0m\u001B[1;32m      3\u001B[0m \u001B[0mdata_simple\u001B[0m \u001B[0;34m=\u001B[0m \u001B[0mdata\u001B[0m\u001B[0;34m[\u001B[0m\u001B[0mdata\u001B[0m\u001B[0;34m[\u001B[0m\u001B[0;34m'도착지 시군코드'\u001B[0m\u001B[0;34m]\u001B[0m \u001B[0;34m==\u001B[0m \u001B[0mint\u001B[0m\u001B[0;34m(\u001B[0m\u001B[0mdestination\u001B[0m\u001B[0;34m)\u001B[0m\u001B[0;34m]\u001B[0m\u001B[0;34m\u001B[0m\u001B[0;34m\u001B[0m\u001B[0m\n\u001B[1;32m      4\u001B[0m \u001B[0mdata_simple\u001B[0m \u001B[0;34m=\u001B[0m \u001B[0mdata_simple\u001B[0m\u001B[0;34m.\u001B[0m\u001B[0mdrop\u001B[0m\u001B[0;34m(\u001B[0m\u001B[0;34m[\u001B[0m\u001B[0;34m'년월'\u001B[0m\u001B[0;34m,\u001B[0m\u001B[0;34m'도착지 시군코드'\u001B[0m\u001B[0;34m]\u001B[0m\u001B[0;34m,\u001B[0m \u001B[0maxis\u001B[0m\u001B[0;34m=\u001B[0m\u001B[0;36m1\u001B[0m\u001B[0;34m)\u001B[0m\u001B[0;34m\u001B[0m\u001B[0;34m\u001B[0m\u001B[0m\n\u001B[1;32m      5\u001B[0m \u001B[0mdata_simple\u001B[0m\u001B[0;34m[\u001B[0m\u001B[0;34m'출발지'\u001B[0m\u001B[0;34m]\u001B[0m \u001B[0;34m=\u001B[0m \u001B[0mdata_simple\u001B[0m\u001B[0;34m[\u001B[0m\u001B[0;34m'출발지(야간체류지) 시군코드'\u001B[0m\u001B[0;34m]\u001B[0m \u001B[0;34m-\u001B[0m \u001B[0;34m(\u001B[0m\u001B[0mdata_simple\u001B[0m\u001B[0;34m[\u001B[0m\u001B[0;34m'출발지(야간체류지) 시군코드'\u001B[0m\u001B[0;34m]\u001B[0m\u001B[0;34m%\u001B[0m\u001B[0;36m1000\u001B[0m\u001B[0;34m)\u001B[0m\u001B[0;34m\u001B[0m\u001B[0;34m\u001B[0m\u001B[0m\n",
      "\u001B[0;32m~/miniforge3/envs/Drill_ML/lib/python3.8/site-packages/pandas/core/indexing.py\u001B[0m in \u001B[0;36m__getitem__\u001B[0;34m(self, key)\u001B[0m\n\u001B[1;32m    887\u001B[0m                     \u001B[0;31m# AttributeError for IntervalTree get_value\u001B[0m\u001B[0;34m\u001B[0m\u001B[0;34m\u001B[0m\u001B[0;34m\u001B[0m\u001B[0m\n\u001B[1;32m    888\u001B[0m                     \u001B[0;32mreturn\u001B[0m \u001B[0mself\u001B[0m\u001B[0;34m.\u001B[0m\u001B[0mobj\u001B[0m\u001B[0;34m.\u001B[0m\u001B[0m_get_value\u001B[0m\u001B[0;34m(\u001B[0m\u001B[0;34m*\u001B[0m\u001B[0mkey\u001B[0m\u001B[0;34m,\u001B[0m \u001B[0mtakeable\u001B[0m\u001B[0;34m=\u001B[0m\u001B[0mself\u001B[0m\u001B[0;34m.\u001B[0m\u001B[0m_takeable\u001B[0m\u001B[0;34m)\u001B[0m\u001B[0;34m\u001B[0m\u001B[0;34m\u001B[0m\u001B[0m\n\u001B[0;32m--> 889\u001B[0;31m             \u001B[0;32mreturn\u001B[0m \u001B[0mself\u001B[0m\u001B[0;34m.\u001B[0m\u001B[0m_getitem_tuple\u001B[0m\u001B[0;34m(\u001B[0m\u001B[0mkey\u001B[0m\u001B[0;34m)\u001B[0m\u001B[0;34m\u001B[0m\u001B[0;34m\u001B[0m\u001B[0m\n\u001B[0m\u001B[1;32m    890\u001B[0m         \u001B[0;32melse\u001B[0m\u001B[0;34m:\u001B[0m\u001B[0;34m\u001B[0m\u001B[0;34m\u001B[0m\u001B[0m\n\u001B[1;32m    891\u001B[0m             \u001B[0;31m# we by definition only have the 0th axis\u001B[0m\u001B[0;34m\u001B[0m\u001B[0;34m\u001B[0m\u001B[0;34m\u001B[0m\u001B[0m\n",
      "\u001B[0;32m~/miniforge3/envs/Drill_ML/lib/python3.8/site-packages/pandas/core/indexing.py\u001B[0m in \u001B[0;36m_getitem_tuple\u001B[0;34m(self, tup)\u001B[0m\n\u001B[1;32m   1067\u001B[0m             \u001B[0;32mreturn\u001B[0m \u001B[0mself\u001B[0m\u001B[0;34m.\u001B[0m\u001B[0m_multi_take\u001B[0m\u001B[0;34m(\u001B[0m\u001B[0mtup\u001B[0m\u001B[0;34m)\u001B[0m\u001B[0;34m\u001B[0m\u001B[0;34m\u001B[0m\u001B[0m\n\u001B[1;32m   1068\u001B[0m \u001B[0;34m\u001B[0m\u001B[0m\n\u001B[0;32m-> 1069\u001B[0;31m         \u001B[0;32mreturn\u001B[0m \u001B[0mself\u001B[0m\u001B[0;34m.\u001B[0m\u001B[0m_getitem_tuple_same_dim\u001B[0m\u001B[0;34m(\u001B[0m\u001B[0mtup\u001B[0m\u001B[0;34m)\u001B[0m\u001B[0;34m\u001B[0m\u001B[0;34m\u001B[0m\u001B[0m\n\u001B[0m\u001B[1;32m   1070\u001B[0m \u001B[0;34m\u001B[0m\u001B[0m\n\u001B[1;32m   1071\u001B[0m     \u001B[0;32mdef\u001B[0m \u001B[0m_get_label\u001B[0m\u001B[0;34m(\u001B[0m\u001B[0mself\u001B[0m\u001B[0;34m,\u001B[0m \u001B[0mlabel\u001B[0m\u001B[0;34m,\u001B[0m \u001B[0maxis\u001B[0m\u001B[0;34m:\u001B[0m \u001B[0mint\u001B[0m\u001B[0;34m)\u001B[0m\u001B[0;34m:\u001B[0m\u001B[0;34m\u001B[0m\u001B[0;34m\u001B[0m\u001B[0m\n",
      "\u001B[0;32m~/miniforge3/envs/Drill_ML/lib/python3.8/site-packages/pandas/core/indexing.py\u001B[0m in \u001B[0;36m_getitem_tuple_same_dim\u001B[0;34m(self, tup)\u001B[0m\n\u001B[1;32m    773\u001B[0m                 \u001B[0;32mcontinue\u001B[0m\u001B[0;34m\u001B[0m\u001B[0;34m\u001B[0m\u001B[0m\n\u001B[1;32m    774\u001B[0m \u001B[0;34m\u001B[0m\u001B[0m\n\u001B[0;32m--> 775\u001B[0;31m             \u001B[0mretval\u001B[0m \u001B[0;34m=\u001B[0m \u001B[0mgetattr\u001B[0m\u001B[0;34m(\u001B[0m\u001B[0mretval\u001B[0m\u001B[0;34m,\u001B[0m \u001B[0mself\u001B[0m\u001B[0;34m.\u001B[0m\u001B[0mname\u001B[0m\u001B[0;34m)\u001B[0m\u001B[0;34m.\u001B[0m\u001B[0m_getitem_axis\u001B[0m\u001B[0;34m(\u001B[0m\u001B[0mkey\u001B[0m\u001B[0;34m,\u001B[0m \u001B[0maxis\u001B[0m\u001B[0;34m=\u001B[0m\u001B[0mi\u001B[0m\u001B[0;34m)\u001B[0m\u001B[0;34m\u001B[0m\u001B[0;34m\u001B[0m\u001B[0m\n\u001B[0m\u001B[1;32m    776\u001B[0m             \u001B[0;31m# We should never have retval.ndim < self.ndim, as that should\u001B[0m\u001B[0;34m\u001B[0m\u001B[0;34m\u001B[0m\u001B[0;34m\u001B[0m\u001B[0m\n\u001B[1;32m    777\u001B[0m             \u001B[0;31m#  be handled by the _getitem_lowerdim call above.\u001B[0m\u001B[0;34m\u001B[0m\u001B[0;34m\u001B[0m\u001B[0;34m\u001B[0m\u001B[0m\n",
      "\u001B[0;32m~/miniforge3/envs/Drill_ML/lib/python3.8/site-packages/pandas/core/indexing.py\u001B[0m in \u001B[0;36m_getitem_axis\u001B[0;34m(self, key, axis)\u001B[0m\n\u001B[1;32m   1111\u001B[0m                     \u001B[0;32mraise\u001B[0m \u001B[0mValueError\u001B[0m\u001B[0;34m(\u001B[0m\u001B[0;34m\"Cannot index with multidimensional key\"\u001B[0m\u001B[0;34m)\u001B[0m\u001B[0;34m\u001B[0m\u001B[0;34m\u001B[0m\u001B[0m\n\u001B[1;32m   1112\u001B[0m \u001B[0;34m\u001B[0m\u001B[0m\n\u001B[0;32m-> 1113\u001B[0;31m                 \u001B[0;32mreturn\u001B[0m \u001B[0mself\u001B[0m\u001B[0;34m.\u001B[0m\u001B[0m_getitem_iterable\u001B[0m\u001B[0;34m(\u001B[0m\u001B[0mkey\u001B[0m\u001B[0;34m,\u001B[0m \u001B[0maxis\u001B[0m\u001B[0;34m=\u001B[0m\u001B[0maxis\u001B[0m\u001B[0;34m)\u001B[0m\u001B[0;34m\u001B[0m\u001B[0;34m\u001B[0m\u001B[0m\n\u001B[0m\u001B[1;32m   1114\u001B[0m \u001B[0;34m\u001B[0m\u001B[0m\n\u001B[1;32m   1115\u001B[0m             \u001B[0;31m# nested tuple slicing\u001B[0m\u001B[0;34m\u001B[0m\u001B[0;34m\u001B[0m\u001B[0;34m\u001B[0m\u001B[0m\n",
      "\u001B[0;32m~/miniforge3/envs/Drill_ML/lib/python3.8/site-packages/pandas/core/indexing.py\u001B[0m in \u001B[0;36m_getitem_iterable\u001B[0;34m(self, key, axis)\u001B[0m\n\u001B[1;32m   1051\u001B[0m \u001B[0;34m\u001B[0m\u001B[0m\n\u001B[1;32m   1052\u001B[0m         \u001B[0;31m# A collection of keys\u001B[0m\u001B[0;34m\u001B[0m\u001B[0;34m\u001B[0m\u001B[0;34m\u001B[0m\u001B[0m\n\u001B[0;32m-> 1053\u001B[0;31m         \u001B[0mkeyarr\u001B[0m\u001B[0;34m,\u001B[0m \u001B[0mindexer\u001B[0m \u001B[0;34m=\u001B[0m \u001B[0mself\u001B[0m\u001B[0;34m.\u001B[0m\u001B[0m_get_listlike_indexer\u001B[0m\u001B[0;34m(\u001B[0m\u001B[0mkey\u001B[0m\u001B[0;34m,\u001B[0m \u001B[0maxis\u001B[0m\u001B[0;34m,\u001B[0m \u001B[0mraise_missing\u001B[0m\u001B[0;34m=\u001B[0m\u001B[0;32mFalse\u001B[0m\u001B[0;34m)\u001B[0m\u001B[0;34m\u001B[0m\u001B[0;34m\u001B[0m\u001B[0m\n\u001B[0m\u001B[1;32m   1054\u001B[0m         return self.obj._reindex_with_indexers(\n\u001B[1;32m   1055\u001B[0m             \u001B[0;34m{\u001B[0m\u001B[0maxis\u001B[0m\u001B[0;34m:\u001B[0m \u001B[0;34m[\u001B[0m\u001B[0mkeyarr\u001B[0m\u001B[0;34m,\u001B[0m \u001B[0mindexer\u001B[0m\u001B[0;34m]\u001B[0m\u001B[0;34m}\u001B[0m\u001B[0;34m,\u001B[0m \u001B[0mcopy\u001B[0m\u001B[0;34m=\u001B[0m\u001B[0;32mTrue\u001B[0m\u001B[0;34m,\u001B[0m \u001B[0mallow_dups\u001B[0m\u001B[0;34m=\u001B[0m\u001B[0;32mTrue\u001B[0m\u001B[0;34m\u001B[0m\u001B[0;34m\u001B[0m\u001B[0m\n",
      "\u001B[0;32m~/miniforge3/envs/Drill_ML/lib/python3.8/site-packages/pandas/core/indexing.py\u001B[0m in \u001B[0;36m_get_listlike_indexer\u001B[0;34m(self, key, axis, raise_missing)\u001B[0m\n\u001B[1;32m   1264\u001B[0m             \u001B[0mkeyarr\u001B[0m\u001B[0;34m,\u001B[0m \u001B[0mindexer\u001B[0m\u001B[0;34m,\u001B[0m \u001B[0mnew_indexer\u001B[0m \u001B[0;34m=\u001B[0m \u001B[0max\u001B[0m\u001B[0;34m.\u001B[0m\u001B[0m_reindex_non_unique\u001B[0m\u001B[0;34m(\u001B[0m\u001B[0mkeyarr\u001B[0m\u001B[0;34m)\u001B[0m\u001B[0;34m\u001B[0m\u001B[0;34m\u001B[0m\u001B[0m\n\u001B[1;32m   1265\u001B[0m \u001B[0;34m\u001B[0m\u001B[0m\n\u001B[0;32m-> 1266\u001B[0;31m         \u001B[0mself\u001B[0m\u001B[0;34m.\u001B[0m\u001B[0m_validate_read_indexer\u001B[0m\u001B[0;34m(\u001B[0m\u001B[0mkeyarr\u001B[0m\u001B[0;34m,\u001B[0m \u001B[0mindexer\u001B[0m\u001B[0;34m,\u001B[0m \u001B[0maxis\u001B[0m\u001B[0;34m,\u001B[0m \u001B[0mraise_missing\u001B[0m\u001B[0;34m=\u001B[0m\u001B[0mraise_missing\u001B[0m\u001B[0;34m)\u001B[0m\u001B[0;34m\u001B[0m\u001B[0;34m\u001B[0m\u001B[0m\n\u001B[0m\u001B[1;32m   1267\u001B[0m         \u001B[0;32mreturn\u001B[0m \u001B[0mkeyarr\u001B[0m\u001B[0;34m,\u001B[0m \u001B[0mindexer\u001B[0m\u001B[0;34m\u001B[0m\u001B[0;34m\u001B[0m\u001B[0m\n\u001B[1;32m   1268\u001B[0m \u001B[0;34m\u001B[0m\u001B[0m\n",
      "\u001B[0;32m~/miniforge3/envs/Drill_ML/lib/python3.8/site-packages/pandas/core/indexing.py\u001B[0m in \u001B[0;36m_validate_read_indexer\u001B[0;34m(self, key, indexer, axis, raise_missing)\u001B[0m\n\u001B[1;32m   1306\u001B[0m             \u001B[0;32mif\u001B[0m \u001B[0mmissing\u001B[0m \u001B[0;34m==\u001B[0m \u001B[0mlen\u001B[0m\u001B[0;34m(\u001B[0m\u001B[0mindexer\u001B[0m\u001B[0;34m)\u001B[0m\u001B[0;34m:\u001B[0m\u001B[0;34m\u001B[0m\u001B[0;34m\u001B[0m\u001B[0m\n\u001B[1;32m   1307\u001B[0m                 \u001B[0maxis_name\u001B[0m \u001B[0;34m=\u001B[0m \u001B[0mself\u001B[0m\u001B[0;34m.\u001B[0m\u001B[0mobj\u001B[0m\u001B[0;34m.\u001B[0m\u001B[0m_get_axis_name\u001B[0m\u001B[0;34m(\u001B[0m\u001B[0maxis\u001B[0m\u001B[0;34m)\u001B[0m\u001B[0;34m\u001B[0m\u001B[0;34m\u001B[0m\u001B[0m\n\u001B[0;32m-> 1308\u001B[0;31m                 \u001B[0;32mraise\u001B[0m \u001B[0mKeyError\u001B[0m\u001B[0;34m(\u001B[0m\u001B[0;34mf\"None of [{key}] are in the [{axis_name}]\"\u001B[0m\u001B[0;34m)\u001B[0m\u001B[0;34m\u001B[0m\u001B[0;34m\u001B[0m\u001B[0m\n\u001B[0m\u001B[1;32m   1309\u001B[0m \u001B[0;34m\u001B[0m\u001B[0m\n\u001B[1;32m   1310\u001B[0m             \u001B[0max\u001B[0m \u001B[0;34m=\u001B[0m \u001B[0mself\u001B[0m\u001B[0;34m.\u001B[0m\u001B[0mobj\u001B[0m\u001B[0;34m.\u001B[0m\u001B[0m_get_axis\u001B[0m\u001B[0;34m(\u001B[0m\u001B[0maxis\u001B[0m\u001B[0;34m)\u001B[0m\u001B[0;34m\u001B[0m\u001B[0;34m\u001B[0m\u001B[0m\n",
      "\u001B[0;31mKeyError\u001B[0m: \"None of [Index(['년월', '출발지(야간체류지) 시군코드', '도착지 시군코드', '40대남성 유입인구'], dtype='object')] are in the [columns]\""
     ]
    }
   ],
   "source": [
    "# DataFrame 핸들링\n",
    "data = fp_df.loc[:, ['년월','출발지(야간체류지) 시군코드','도착지 시군코드',check_column]][fp_df['년월'] == int(month)]\n",
    "data_simple = data[data['도착지 시군코드'] == int(destination)]\n",
    "data_simple = data_simple.drop(['년월','도착지 시군코드'], axis=1)\n",
    "data_simple['출발지'] = data_simple['출발지(야간체류지) 시군코드'] - (data_simple['출발지(야간체류지) 시군코드']%1000)\n",
    "data_simple['출발지'] = data_simple['출발지']/1000\n",
    "data_simple['출발지'] = data_simple['출발지'].astype(int)\n",
    "data_simple=data_simple.drop('출발지(야간체류지) 시군코드',axis=1)\n",
    "return_data = data_simple.groupby('출발지', as_index=False).sum()\n",
    "return_data"
   ],
   "metadata": {
    "collapsed": false,
    "pycharm": {
     "name": "#%%\n"
    }
   }
  },
  {
   "cell_type": "code",
   "execution_count": null,
   "outputs": [],
   "source": [
    "# 시군코드 - 도시명 연결\n",
    "condition_list = [\n",
    "    (return_data['출발지'] == 11),\n",
    "    (return_data['출발지'] == 26),\n",
    "    (return_data['출발지'] == 27),\n",
    "    (return_data['출발지'] == 28),\n",
    "    (return_data['출발지'] == 29),\n",
    "    (return_data['출발지'] == 30),\n",
    "    (return_data['출발지'] == 31),\n",
    "    (return_data['출발지'] == 36),\n",
    "    (return_data['출발지'] == 41),\n",
    "    (return_data['출발지'] == 42),\n",
    "    (return_data['출발지'] == 43),\n",
    "    (return_data['출발지'] == 44),\n",
    "    (return_data['출발지'] == 45),\n",
    "    (return_data['출발지'] == 46),\n",
    "    (return_data['출발지'] == 47),\n",
    "    (return_data['출발지'] == 48),\n",
    "    (return_data['출발지'] == 50)\n",
    "]\n",
    "city_list = ['서울특별시', '부산광역시', '대구광역시', '인천광역시',\n",
    "               '광주광역시', '대전광역시', '울산광역시', '세종특별자치시',\n",
    "               '경기도', '강원도', '충청북도', '충청남도', '전라북도',\n",
    "               '전라남도', '경상북도', '경상남도', '제주특별자치도']\n",
    "\n",
    "lat_list = [37.56, 35.16, 35.87, 37.46, 35.17, 36.37, 35.56, 36.25,\n",
    "            37.59, 37.86, 36.63, 36.53, 35.72, 34.69, 36.55, 35.18, 33.57]\n",
    "long_list = [126.90, 129.00, 128.53, 126.60, 126.80, 127.35, 129.28,\n",
    "             127.24, 126.53, 127.68, 127.68, 126.51, 126.64, 125.93,\n",
    "             129.28, 127.83, 126.29]\n",
    "\n",
    "return_data['ADDR'] = np.select(condition_list, city_list, default='Not Specified')\n",
    "return_data['lat'] = np.select(condition_list, lat_list, default='Not Specified')\n",
    "return_data['long'] = np.select(condition_list, long_list, default='Not Specified')\n",
    "\n",
    "return_data # 확인용 출력"
   ],
   "metadata": {
    "collapsed": false,
    "pycharm": {
     "name": "#%%\n"
    }
   }
  },
  {
   "cell_type": "code",
   "execution_count": null,
   "outputs": [],
   "source": [
    "# 가공된 DataFrame 정렬\n",
    "return_data_sorted = return_data.sort_values(by=[check_column], ascending=True)\n",
    "return_data_sorted = return_data_sorted.reset_index()\n",
    "return_data_sorted = return_data_sorted.drop('index', axis=1)\n",
    "return_data_sorted #확인용 출력"
   ],
   "metadata": {
    "collapsed": false,
    "pycharm": {
     "name": "#%%\n"
    }
   }
  },
  {
   "cell_type": "code",
   "execution_count": null,
   "outputs": [],
   "source": [
    "# folium을 이용하여 지도 핸들링\n",
    "map = folium.Map(location=[35.38, 127.51], zoom_start=6)"
   ],
   "metadata": {
    "collapsed": false,
    "pycharm": {
     "name": "#%%\n"
    }
   }
  },
  {
   "cell_type": "code",
   "execution_count": null,
   "outputs": [],
   "source": [
    "# Marker로 지도에 아이콘 표시\n",
    "#for lat, long, addr, fp in zip(lat_list, long_list, return_data['ADDR'], return_data[check_column]):\n",
    "#    folium.Marker(\n",
    "#        location=[lat, long],\n",
    "#        popup=(addr, fp),\n",
    "#        icon=folium.Icon(color='red', icon='star')\n",
    "#    ).add_to(map)\n",
    "#map"
   ],
   "metadata": {
    "collapsed": false,
    "pycharm": {
     "name": "#%%\n"
    }
   }
  },
  {
   "cell_type": "code",
   "execution_count": null,
   "outputs": [],
   "source": [
    "# Circle Marker로 지도에 아이콘 표시\n",
    "cnt=0\n",
    "\n",
    "for lat, long, addr, fp in zip(lat_list, long_list, return_data['ADDR'], return_data[check_column]):\n",
    "    cnt += 1\n",
    "    folium.CircleMarker(\n",
    "        location=[lat, long],\n",
    "        radius=5 + cnt,\n",
    "        fill=True,\n",
    "        fill_opacity=0.3,\n",
    "        popup=(addr, fp)\n",
    "    ).add_to(map)\n",
    "\n",
    "map"
   ],
   "metadata": {
    "collapsed": false,
    "pycharm": {
     "name": "#%%\n"
    }
   }
  },
  {
   "cell_type": "code",
   "execution_count": null,
   "outputs": [],
   "source": [
    "# Bar Plot 작성\n",
    "plt.bar(return_data['ADDR'], return_data[check_column])\n",
    "\n",
    "plt.xlabel('출발지')\n",
    "plt.xticks(rotation=45)\n",
    "plt.ylabel('유동인구')\n",
    "plt.ylim(0, 3000)\n",
    "\n",
    "plt.show()"
   ],
   "metadata": {
    "collapsed": false,
    "pycharm": {
     "name": "#%%\n"
    }
   }
  },
  {
   "cell_type": "code",
   "execution_count": null,
   "outputs": [],
   "source": [
    "# DataFrame --> csv 변환\n",
    "return_data.to_csv('C:/Users/ggh99/PycharmProjects/Advanced_AI_Course/1st_week/Dataset/address/address_generated.csv',\n",
    "                   sep=',',\n",
    "                   encoding='CP949')"
   ],
   "metadata": {
    "collapsed": false,
    "pycharm": {
     "name": "#%%\n"
    }
   }
  },
  {
   "cell_type": "code",
   "execution_count": null,
   "outputs": [],
   "source": [
    "coordinates = pd.read_csv('Dataset/address/address_transform.utf-8.csv')\n",
    "len(coordinates) # 확인용 출력"
   ],
   "metadata": {
    "collapsed": false,
    "pycharm": {
     "name": "#%%\n"
    }
   }
  },
  {
   "cell_type": "code",
   "execution_count": null,
   "outputs": [],
   "source": [
    "map_SK = folium.Map(location=[36.38, 127.51], zoom_start=6.5) # location: 남한 중심 좌표, zoom_start 수치가 클수록 확대\n",
    "# Marker로 지도에 아이콘 표시\n",
    "for lat, long, add in zip(coordinates['위도'], coordinates['경도'], coordinates['ADDR']):\n",
    "    folium.Marker(\n",
    "        location=[lat, long],\n",
    "        popup=add,\n",
    "        icon=folium.Icon(color='red', icon='city')\n",
    "\n",
    "    ).add_to(map_SK)\n",
    "map_SK"
   ],
   "metadata": {
    "collapsed": false,
    "pycharm": {
     "name": "#%%\n"
    }
   }
  },
  {
   "cell_type": "code",
   "execution_count": null,
   "outputs": [],
   "source": [
    "from folium.plugins import MarkerCluster # MarkerCluster를 이용하면 가까운 거리의 Marker들을 군집시켜서 해당 건수를 표현\n",
    "\n",
    "def draw_map(df):\n",
    "    # 지도 생성\n",
    "    map_fn = folium.Map(location=[36.38, 127.51], zoom_start=6.5)\n",
    "    # 리스트를 이용해 여러 행의 데이터를 위, 경도로 묶음\n",
    "    locations = list(zip(df['위도'], df['경도']))\n",
    "    locations_city = list(zip(coordinates['위도'], coordinates['경도']))\n",
    "    # 반복문을 이용해 locations로 정의한 변수에 해당하는 위치에 도시 아이콘 표시\n",
    "    icons = [folium.Icon(icon='city', color='red') for _ in range(len(locations_city))]\n",
    "    # 반복문을 이용해 아이콘을 클릭했을 때, popup 생성\n",
    "    for addr in df['ADDR']:\n",
    "        folium.Marker(popup=addr)\n",
    "\n",
    "    # cluster 생성\n",
    "    cluster = MarkerCluster(locations=locations, icons=icons)\n",
    "    # 지도에 cluster 추가\n",
    "    cluster.add_to(map_fn)\n",
    "    # 지도 출력\n",
    "    print(map_fn)\n",
    "    map_fn.save('./map_fn.html')\n",
    "\n",
    "# 함수 실행\n",
    "draw_map(coordinates)"
   ],
   "metadata": {
    "collapsed": false,
    "pycharm": {
     "name": "#%%\n"
    }
   }
  },
  {
   "cell_type": "code",
   "execution_count": null,
   "outputs": [],
   "source": [
    "# 지도 위에 울산대학교 표시\n",
    "UOU = folium.Map(location=[35.5450147, 129.2528426], min_zoom=5, max_zoom=8)\n",
    "folium.Marker(\n",
    "        location=[35.5450147, 129.2528426],\n",
    "        popup='University of Ulsan',\n",
    "        icon=folium.Icon(color='red', icon='star')).add_to(UOU)\n",
    "UOU"
   ],
   "metadata": {
    "collapsed": false,
    "pycharm": {
     "name": "#%%\n"
    }
   }
  }
 ],
 "metadata": {
  "kernelspec": {
   "name": "python3",
   "language": "python",
   "display_name": "Python 3"
  },
  "language_info": {
   "codemirror_mode": {
    "name": "ipython",
    "version": 2
   },
   "file_extension": ".py",
   "mimetype": "text/x-python",
   "name": "python",
   "nbconvert_exporter": "python",
   "pygments_lexer": "ipython2",
   "version": "2.7.6"
  }
 },
 "nbformat": 4,
 "nbformat_minor": 0
}