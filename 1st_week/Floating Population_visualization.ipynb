{
 "cells": [
  {
   "cell_type": "code",
   "execution_count": 1,
   "metadata": {
    "collapsed": true
   },
   "outputs": [],
   "source": [
    "import numpy as np\n",
    "import pandas as pd\n",
    "import matplotlib.pyplot as plt\n",
    "import seaborn as sns\n",
    "import folium\n",
    "import os"
   ]
  },
  {
   "cell_type": "code",
   "execution_count": 2,
   "outputs": [
    {
     "name": "stdout",
     "output_type": "stream",
     "text": [
      "data shape: (85104, 17)\n",
      "<class 'pandas.core.frame.DataFrame'>\n",
      "RangeIndex: 85104 entries, 0 to 85103\n",
      "Data columns (total 17 columns):\n",
      " #   Column           Non-Null Count  Dtype  \n",
      "---  ------           --------------  -----  \n",
      " 0   년월               85104 non-null  int64  \n",
      " 1   출발지(야간체류지) 시군코드  85104 non-null  int64  \n",
      " 2   도착지 시군코드         85104 non-null  int64  \n",
      " 3   10대남성 유입인구       85104 non-null  float64\n",
      " 4   20대남성 유입인구       85104 non-null  float64\n",
      " 5   30대남성 유입인구       85104 non-null  float64\n",
      " 6   40대남성 유입인구       85104 non-null  float64\n",
      " 7   50대남성 유입인구       85104 non-null  float64\n",
      " 8   60대남성 유입인구       85104 non-null  float64\n",
      " 9   70대남성 유입인구       85104 non-null  float64\n",
      " 10  10대여성 유입인구       85104 non-null  float64\n",
      " 11  20대여성 유입인구       85104 non-null  float64\n",
      " 12  30대여성 유입인구       85104 non-null  float64\n",
      " 13  40대여성 유입인구       85104 non-null  float64\n",
      " 14  50대여성 유입인구       85104 non-null  float64\n",
      " 15  60대여성 유입인구       85104 non-null  float64\n",
      " 16  70대여성 유입인구       85104 non-null  float64\n",
      "dtypes: float64(14), int64(3)\n",
      "memory usage: 11.0 MB\n"
     ]
    },
    {
     "data": {
      "text/plain": "                  년월  출발지(야간체류지) 시군코드      도착지 시군코드     10대남성 유입인구  \\\ncount   85104.000000     85104.000000  85104.000000   85104.000000   \nmean   202006.500024     37656.114848  41424.121075     215.452711   \nstd         3.452080     11667.943036    205.355521    3699.559404   \nmin    202001.000000     11110.000000  41110.000000       0.000000   \n25%    202004.000000     28710.000000  41250.000000       0.140000   \n50%    202006.000000     42730.000000  41410.000000       1.780000   \n75%    202010.000000     46730.000000  41590.000000      10.960000   \nmax    202012.000000     50130.000000  41830.000000  133773.250000   \n\n         20대남성 유입인구     30대남성 유입인구     40대남성 유입인구    50대남성 유입인구    60대남성 유입인구  \\\ncount  85104.000000   85104.000000   85104.000000  85104.000000  85104.000000   \nmean     165.141044     221.515915     250.583858    215.889585    103.618840   \nstd     2345.816823    2811.244828    3157.197889   2669.634409   1314.032403   \nmin        0.000000       0.000000       0.000000      0.000000      0.000000   \n25%        1.050000       1.110000       1.580000      1.930000      0.960000   \n50%        4.790000       4.690000       6.020000      6.740000      3.260000   \n75%       22.370000      29.730000      36.392500     34.720000     14.680000   \nmax    92398.990000  102973.350000  107392.460000  91768.770000  42795.410000   \n\n         70대남성 유입인구     10대여성 유입인구    20대여성 유입인구    30대여성 유입인구     40대여성 유입인구  \\\ncount  85104.000000   85104.000000  85104.000000  85104.000000   85104.000000   \nmean      58.476227     203.289620    139.888766    180.861623     204.166371   \nstd      886.498227    3482.195438   2119.335305   2676.983929    3128.439899   \nmin        0.000000       0.000000      0.000000      0.000000       0.000000   \n25%        0.220000       0.110000      0.380000      0.477500       0.500000   \n50%        1.070000       1.520000      2.400000      2.480000       2.300000   \n75%        4.650000       9.850000     14.170000     15.412500      13.990000   \nmax    29273.330000  124334.470000  83439.940000  97905.690000  109369.230000   \n\n         50대여성 유입인구    60대여성 유입인구    70대여성 유입인구  \ncount  85104.000000  85104.000000  85104.000000  \nmean     176.973420     93.359018     82.877010  \nstd     2596.732309   1381.142099   1337.824244  \nmin        0.000000      0.000000      0.000000  \n25%        0.810000      0.590000      0.340000  \n50%        3.020000      2.120000      1.660000  \n75%       14.662500      8.420000      5.750000  \nmax    88862.410000  45300.300000  45911.660000  ",
      "text/html": "<div>\n<style scoped>\n    .dataframe tbody tr th:only-of-type {\n        vertical-align: middle;\n    }\n\n    .dataframe tbody tr th {\n        vertical-align: top;\n    }\n\n    .dataframe thead th {\n        text-align: right;\n    }\n</style>\n<table border=\"1\" class=\"dataframe\">\n  <thead>\n    <tr style=\"text-align: right;\">\n      <th></th>\n      <th>년월</th>\n      <th>출발지(야간체류지) 시군코드</th>\n      <th>도착지 시군코드</th>\n      <th>10대남성 유입인구</th>\n      <th>20대남성 유입인구</th>\n      <th>30대남성 유입인구</th>\n      <th>40대남성 유입인구</th>\n      <th>50대남성 유입인구</th>\n      <th>60대남성 유입인구</th>\n      <th>70대남성 유입인구</th>\n      <th>10대여성 유입인구</th>\n      <th>20대여성 유입인구</th>\n      <th>30대여성 유입인구</th>\n      <th>40대여성 유입인구</th>\n      <th>50대여성 유입인구</th>\n      <th>60대여성 유입인구</th>\n      <th>70대여성 유입인구</th>\n    </tr>\n  </thead>\n  <tbody>\n    <tr>\n      <th>count</th>\n      <td>85104.000000</td>\n      <td>85104.000000</td>\n      <td>85104.000000</td>\n      <td>85104.000000</td>\n      <td>85104.000000</td>\n      <td>85104.000000</td>\n      <td>85104.000000</td>\n      <td>85104.000000</td>\n      <td>85104.000000</td>\n      <td>85104.000000</td>\n      <td>85104.000000</td>\n      <td>85104.000000</td>\n      <td>85104.000000</td>\n      <td>85104.000000</td>\n      <td>85104.000000</td>\n      <td>85104.000000</td>\n      <td>85104.000000</td>\n    </tr>\n    <tr>\n      <th>mean</th>\n      <td>202006.500024</td>\n      <td>37656.114848</td>\n      <td>41424.121075</td>\n      <td>215.452711</td>\n      <td>165.141044</td>\n      <td>221.515915</td>\n      <td>250.583858</td>\n      <td>215.889585</td>\n      <td>103.618840</td>\n      <td>58.476227</td>\n      <td>203.289620</td>\n      <td>139.888766</td>\n      <td>180.861623</td>\n      <td>204.166371</td>\n      <td>176.973420</td>\n      <td>93.359018</td>\n      <td>82.877010</td>\n    </tr>\n    <tr>\n      <th>std</th>\n      <td>3.452080</td>\n      <td>11667.943036</td>\n      <td>205.355521</td>\n      <td>3699.559404</td>\n      <td>2345.816823</td>\n      <td>2811.244828</td>\n      <td>3157.197889</td>\n      <td>2669.634409</td>\n      <td>1314.032403</td>\n      <td>886.498227</td>\n      <td>3482.195438</td>\n      <td>2119.335305</td>\n      <td>2676.983929</td>\n      <td>3128.439899</td>\n      <td>2596.732309</td>\n      <td>1381.142099</td>\n      <td>1337.824244</td>\n    </tr>\n    <tr>\n      <th>min</th>\n      <td>202001.000000</td>\n      <td>11110.000000</td>\n      <td>41110.000000</td>\n      <td>0.000000</td>\n      <td>0.000000</td>\n      <td>0.000000</td>\n      <td>0.000000</td>\n      <td>0.000000</td>\n      <td>0.000000</td>\n      <td>0.000000</td>\n      <td>0.000000</td>\n      <td>0.000000</td>\n      <td>0.000000</td>\n      <td>0.000000</td>\n      <td>0.000000</td>\n      <td>0.000000</td>\n      <td>0.000000</td>\n    </tr>\n    <tr>\n      <th>25%</th>\n      <td>202004.000000</td>\n      <td>28710.000000</td>\n      <td>41250.000000</td>\n      <td>0.140000</td>\n      <td>1.050000</td>\n      <td>1.110000</td>\n      <td>1.580000</td>\n      <td>1.930000</td>\n      <td>0.960000</td>\n      <td>0.220000</td>\n      <td>0.110000</td>\n      <td>0.380000</td>\n      <td>0.477500</td>\n      <td>0.500000</td>\n      <td>0.810000</td>\n      <td>0.590000</td>\n      <td>0.340000</td>\n    </tr>\n    <tr>\n      <th>50%</th>\n      <td>202006.000000</td>\n      <td>42730.000000</td>\n      <td>41410.000000</td>\n      <td>1.780000</td>\n      <td>4.790000</td>\n      <td>4.690000</td>\n      <td>6.020000</td>\n      <td>6.740000</td>\n      <td>3.260000</td>\n      <td>1.070000</td>\n      <td>1.520000</td>\n      <td>2.400000</td>\n      <td>2.480000</td>\n      <td>2.300000</td>\n      <td>3.020000</td>\n      <td>2.120000</td>\n      <td>1.660000</td>\n    </tr>\n    <tr>\n      <th>75%</th>\n      <td>202010.000000</td>\n      <td>46730.000000</td>\n      <td>41590.000000</td>\n      <td>10.960000</td>\n      <td>22.370000</td>\n      <td>29.730000</td>\n      <td>36.392500</td>\n      <td>34.720000</td>\n      <td>14.680000</td>\n      <td>4.650000</td>\n      <td>9.850000</td>\n      <td>14.170000</td>\n      <td>15.412500</td>\n      <td>13.990000</td>\n      <td>14.662500</td>\n      <td>8.420000</td>\n      <td>5.750000</td>\n    </tr>\n    <tr>\n      <th>max</th>\n      <td>202012.000000</td>\n      <td>50130.000000</td>\n      <td>41830.000000</td>\n      <td>133773.250000</td>\n      <td>92398.990000</td>\n      <td>102973.350000</td>\n      <td>107392.460000</td>\n      <td>91768.770000</td>\n      <td>42795.410000</td>\n      <td>29273.330000</td>\n      <td>124334.470000</td>\n      <td>83439.940000</td>\n      <td>97905.690000</td>\n      <td>109369.230000</td>\n      <td>88862.410000</td>\n      <td>45300.300000</td>\n      <td>45911.660000</td>\n    </tr>\n  </tbody>\n</table>\n</div>"
     },
     "execution_count": 2,
     "metadata": {},
     "output_type": "execute_result"
    }
   ],
   "source": [
    "# 데이터 불러오기\n",
    "Floating_Population_df = pd.read_csv(\"Dataset/시군별유동인구데이터.csv\")\n",
    "\n",
    "print(\"data shape:\", Floating_Population_df.shape)\n",
    "Floating_Population_df.info()\n",
    "Floating_Population_df.describe()"
   ],
   "metadata": {
    "collapsed": false,
    "pycharm": {
     "name": "#%%\n"
    }
   }
  },
  {
   "cell_type": "code",
   "execution_count": 3,
   "outputs": [
    {
     "name": "stdout",
     "output_type": "stream",
     "text": [
      "[11170 11200 11215 11230 11350 11380 11410 11440 11260 11290 11305 11320\n",
      " 11110 11140 11530 11545 11560 11590 11620 11650 11680 11710 11740 26110\n",
      " 26140 26170 26200 26230 26260 26290 26320 26350 26380 26410 11470 11500\n",
      " 26440 26470 26500 28200 28237 28245 26530 26710 27110 27140 27170 27200\n",
      " 27230 27260 27290 27710 28110 28140 28177 28185 41110 41130 41150 41170\n",
      " 28260 28710 28720 29110 29140 29155 29170 29200 30110 30140 30170 30200\n",
      " 30230 31110 31140 31170 31200 31710 36110 41190 41210 41480 41500 41550\n",
      " 41220 41250 41270 41280 41290 41310 41360 41370 41390 41410 41430 41450\n",
      " 41460 42760 42770 42780 42790 41570 41590 41610 41630 41650 41670 41800\n",
      " 41820 41830 42110 42130 42150 42170 42190 42210 42230 42720 42730 42750\n",
      " 42800 42810 42820 44150 44180 44200 44210 42830 43110 43130 43150 43720\n",
      " 43730 43740 43745 43750 43760 43770 43800 44130 45740 45750 45770 45790\n",
      " 45800 44230 44250 44270 44710 44760 44770 44790 44800 44810 44825 45110\n",
      " 45130 45140 45180 45190 45210 45710 45720 45730 46110 46130 46870 46880\n",
      " 46890 46900 46150 46170 46230 46710 46720 46730 46770 46780 46790 46800\n",
      " 46810 46820 46830 46840 46860 47920 47930 47940 48120 46910 47110 47130\n",
      " 47150 47170 47190 47210 47230 47250 47280 47290 47720 47730 47750 47760\n",
      " 47770 47820 47830 47840 47850 47900 48170 48220 48240 50110 50130 48250\n",
      " 48270 48310 48330 48720 48730 48740 48820 48840 48850 48860 48870 48880\n",
      " 48890]\n",
      "[41590 41610 41630 41650 41670 41800 41820 41830 41110 41130 41150 41170\n",
      " 41190 41210 41220 41250 41270 41280 41290 41310 41360 41370 41390 41410\n",
      " 41430 41450 41460 41480 41500 41550 41570]\n"
     ]
    }
   ],
   "source": [
    "# 데이터 전처리\n",
    "Depart = Floating_Population_df['출발지(야간체류지) 시군코드']\n",
    "Arrival = Floating_Population_df['도착지 시군코드']\n",
    "Depart_unique = Depart.unique()\n",
    "Arrival_unique = Arrival.unique()\n",
    "\n",
    "print(Depart_unique)\n",
    "print(Arrival_unique)\n"
   ],
   "metadata": {
    "collapsed": false,
    "pycharm": {
     "name": "#%%\n"
    }
   }
  },
  {
   "cell_type": "code",
   "execution_count": 4,
   "outputs": [
    {
     "name": "stderr",
     "output_type": "stream",
     "text": [
      "/Users/escortkwon/miniforge3/envs/Drill_ML/lib/python3.8/site-packages/seaborn/_decorators.py:36: FutureWarning: Pass the following variables as keyword args: x, y. From version 0.12, the only valid positional argument will be `data`, and passing other arguments without an explicit keyword will result in an error or misinterpretation.\n",
      "  warnings.warn(\n",
      "findfont: Font family ['Malgun Gothic'] not found. Falling back to DejaVu Sans.\n",
      "/Users/escortkwon/miniforge3/envs/Drill_ML/lib/python3.8/site-packages/matplotlib/backends/backend_agg.py:238: RuntimeWarning: Glyph 52636 missing from current font.\n",
      "  font.set_text(s, 0.0, flags=flags)\n",
      "/Users/escortkwon/miniforge3/envs/Drill_ML/lib/python3.8/site-packages/matplotlib/backends/backend_agg.py:238: RuntimeWarning: Glyph 48156 missing from current font.\n",
      "  font.set_text(s, 0.0, flags=flags)\n",
      "/Users/escortkwon/miniforge3/envs/Drill_ML/lib/python3.8/site-packages/matplotlib/backends/backend_agg.py:238: RuntimeWarning: Glyph 51648 missing from current font.\n",
      "  font.set_text(s, 0.0, flags=flags)\n",
      "/Users/escortkwon/miniforge3/envs/Drill_ML/lib/python3.8/site-packages/matplotlib/backends/backend_agg.py:238: RuntimeWarning: Glyph 50556 missing from current font.\n",
      "  font.set_text(s, 0.0, flags=flags)\n",
      "/Users/escortkwon/miniforge3/envs/Drill_ML/lib/python3.8/site-packages/matplotlib/backends/backend_agg.py:238: RuntimeWarning: Glyph 44036 missing from current font.\n",
      "  font.set_text(s, 0.0, flags=flags)\n",
      "/Users/escortkwon/miniforge3/envs/Drill_ML/lib/python3.8/site-packages/matplotlib/backends/backend_agg.py:238: RuntimeWarning: Glyph 52404 missing from current font.\n",
      "  font.set_text(s, 0.0, flags=flags)\n",
      "/Users/escortkwon/miniforge3/envs/Drill_ML/lib/python3.8/site-packages/matplotlib/backends/backend_agg.py:238: RuntimeWarning: Glyph 47448 missing from current font.\n",
      "  font.set_text(s, 0.0, flags=flags)\n",
      "/Users/escortkwon/miniforge3/envs/Drill_ML/lib/python3.8/site-packages/matplotlib/backends/backend_agg.py:238: RuntimeWarning: Glyph 49884 missing from current font.\n",
      "  font.set_text(s, 0.0, flags=flags)\n",
      "/Users/escortkwon/miniforge3/envs/Drill_ML/lib/python3.8/site-packages/matplotlib/backends/backend_agg.py:238: RuntimeWarning: Glyph 44400 missing from current font.\n",
      "  font.set_text(s, 0.0, flags=flags)\n",
      "/Users/escortkwon/miniforge3/envs/Drill_ML/lib/python3.8/site-packages/matplotlib/backends/backend_agg.py:238: RuntimeWarning: Glyph 53076 missing from current font.\n",
      "  font.set_text(s, 0.0, flags=flags)\n",
      "/Users/escortkwon/miniforge3/envs/Drill_ML/lib/python3.8/site-packages/matplotlib/backends/backend_agg.py:238: RuntimeWarning: Glyph 46300 missing from current font.\n",
      "  font.set_text(s, 0.0, flags=flags)\n",
      "/Users/escortkwon/miniforge3/envs/Drill_ML/lib/python3.8/site-packages/matplotlib/backends/backend_agg.py:238: RuntimeWarning: Glyph 46020 missing from current font.\n",
      "  font.set_text(s, 0.0, flags=flags)\n",
      "/Users/escortkwon/miniforge3/envs/Drill_ML/lib/python3.8/site-packages/matplotlib/backends/backend_agg.py:238: RuntimeWarning: Glyph 52265 missing from current font.\n",
      "  font.set_text(s, 0.0, flags=flags)\n",
      "/Users/escortkwon/miniforge3/envs/Drill_ML/lib/python3.8/site-packages/matplotlib/backends/backend_agg.py:201: RuntimeWarning: Glyph 52636 missing from current font.\n",
      "  font.set_text(s, 0, flags=flags)\n",
      "/Users/escortkwon/miniforge3/envs/Drill_ML/lib/python3.8/site-packages/matplotlib/backends/backend_agg.py:201: RuntimeWarning: Glyph 48156 missing from current font.\n",
      "  font.set_text(s, 0, flags=flags)\n",
      "/Users/escortkwon/miniforge3/envs/Drill_ML/lib/python3.8/site-packages/matplotlib/backends/backend_agg.py:201: RuntimeWarning: Glyph 51648 missing from current font.\n",
      "  font.set_text(s, 0, flags=flags)\n",
      "/Users/escortkwon/miniforge3/envs/Drill_ML/lib/python3.8/site-packages/matplotlib/backends/backend_agg.py:201: RuntimeWarning: Glyph 50556 missing from current font.\n",
      "  font.set_text(s, 0, flags=flags)\n",
      "/Users/escortkwon/miniforge3/envs/Drill_ML/lib/python3.8/site-packages/matplotlib/backends/backend_agg.py:201: RuntimeWarning: Glyph 44036 missing from current font.\n",
      "  font.set_text(s, 0, flags=flags)\n",
      "/Users/escortkwon/miniforge3/envs/Drill_ML/lib/python3.8/site-packages/matplotlib/backends/backend_agg.py:201: RuntimeWarning: Glyph 52404 missing from current font.\n",
      "  font.set_text(s, 0, flags=flags)\n",
      "/Users/escortkwon/miniforge3/envs/Drill_ML/lib/python3.8/site-packages/matplotlib/backends/backend_agg.py:201: RuntimeWarning: Glyph 47448 missing from current font.\n",
      "  font.set_text(s, 0, flags=flags)\n",
      "/Users/escortkwon/miniforge3/envs/Drill_ML/lib/python3.8/site-packages/matplotlib/backends/backend_agg.py:201: RuntimeWarning: Glyph 49884 missing from current font.\n",
      "  font.set_text(s, 0, flags=flags)\n",
      "/Users/escortkwon/miniforge3/envs/Drill_ML/lib/python3.8/site-packages/matplotlib/backends/backend_agg.py:201: RuntimeWarning: Glyph 44400 missing from current font.\n",
      "  font.set_text(s, 0, flags=flags)\n",
      "/Users/escortkwon/miniforge3/envs/Drill_ML/lib/python3.8/site-packages/matplotlib/backends/backend_agg.py:201: RuntimeWarning: Glyph 53076 missing from current font.\n",
      "  font.set_text(s, 0, flags=flags)\n",
      "/Users/escortkwon/miniforge3/envs/Drill_ML/lib/python3.8/site-packages/matplotlib/backends/backend_agg.py:201: RuntimeWarning: Glyph 46300 missing from current font.\n",
      "  font.set_text(s, 0, flags=flags)\n",
      "/Users/escortkwon/miniforge3/envs/Drill_ML/lib/python3.8/site-packages/matplotlib/backends/backend_agg.py:201: RuntimeWarning: Glyph 46020 missing from current font.\n",
      "  font.set_text(s, 0, flags=flags)\n",
      "/Users/escortkwon/miniforge3/envs/Drill_ML/lib/python3.8/site-packages/matplotlib/backends/backend_agg.py:201: RuntimeWarning: Glyph 52265 missing from current font.\n",
      "  font.set_text(s, 0, flags=flags)\n"
     ]
    },
    {
     "data": {
      "text/plain": "<Figure size 432x288 with 1 Axes>",
      "image/png": "[encoded data removed]"
     },
     "metadata": {
      "needs_background": "light"
     },
     "output_type": "display_data"
    }
   ],
   "source": [
    "# plt.rcParams['font.family'] = 'AppleGothic' # Mac에서 실행할 경우, 주석 헤제\n",
    "plt.rcParams['font.family'] = 'Malgun Gothic' # Windows에서 실행할 경우, 주석 해제\n",
    "sns.scatterplot(Depart, Arrival)\n",
    "plt.show()"
   ],
   "metadata": {
    "collapsed": false,
    "pycharm": {
     "name": "#%%\n"
    }
   }
  },
  {
   "cell_type": "code",
   "execution_count": 5,
   "outputs": [
    {
     "data": {
      "text/plain": "8"
     },
     "execution_count": 5,
     "metadata": {},
     "output_type": "execute_result"
    }
   ],
   "source": [
    "coordinates = pd.read_csv('Dataset/address/address_transform.utf-8.csv')\n",
    "len(coordinates) # 확인용 출력"
   ],
   "metadata": {
    "collapsed": false,
    "pycharm": {
     "name": "#%%\n"
    }
   }
  },
  {
   "cell_type": "code",
   "execution_count": 6,
   "outputs": [],
   "source": [
    "# folium을 이용하여 지도 핸들링\n",
    "map_SK = folium.Map(location=[36.38, 127.51], zoom_start=6.5) # location: 남한 중심 좌표, zoom_start 수치가 클수록 확대"
   ],
   "metadata": {
    "collapsed": false,
    "pycharm": {
     "name": "#%%\n"
    }
   }
  },
  {
   "cell_type": "code",
   "execution_count": 7,
   "outputs": [
    {
     "data": {
      "text/plain": "<folium.folium.Map at 0x13e2d1100>",
      "text/html": "<div style=\"width:100%;\"><div style=\"position:relative;width:100%;height:0;padding-bottom:60%;\"><span style=\"color:#565656\">Make this Notebook Trusted to load map: File -> Trust Notebook</span><iframe src=\"about:blank\" style=\"position:absolute;width:100%;height:100%;left:0;top:0;border:none !important;\" data-html=%3C%21DOCTYPE%20html%3E%0A%3Chead%3E%20%20%20%20%0A%20%20%20%20%3Cmeta%20http-equiv%3D%22content-type%22%20content%3D%22text/html%3B%20charset%3DUTF-8%22%20/%3E%0A%20%20%20%20%0A%20%20%20%20%20%20%20%20%3Cscript%3E%0A%20%20%20%20%20%20%20%20%20%20%20%20L_NO_TOUCH%20%3D%20false%3B%0A%20%20%20%20%20%20%20%20%20%20%20%20L_DISABLE_3D%20%3D%20false%3B%0A%20%20%20%20%20%20%20%20%3C/script%3E%0A%20%20%20%20%0A%20%20%20%20%3Cstyle%3Ehtml%2C%20body%20%7Bwidth%3A%20100%25%3Bheight%3A%20100%25%3Bmargin%3A%200%3Bpadding%3A%200%3B%7D%3C/style%3E%0A%20%20%20%20%3Cstyle%3E%23map%20%7Bposition%3Aabsolute%3Btop%3A0%3Bbottom%3A0%3Bright%3A0%3Bleft%3A0%3B%7D%3C/style%3E%0A%20%20%20%20%3Cscript%20src%3D%22https%3A//cdn.jsdelivr.net/npm/leaflet%401.6.0/dist/leaflet.js%22%3E%3C/script%3E%0A%20%20%20%20%3Cscript%20src%3D%22https%3A//code.jquery.com/jquery-1.12.4.min.js%22%3E%3C/script%3E%0A%20%20%20%20%3Cscript%20src%3D%22https%3A//maxcdn.bootstrapcdn.com/bootstrap/3.2.0/js/bootstrap.min.js%22%3E%3C/script%3E%0A%20%20%20%20%3Cscript%20src%3D%22https%3A//cdnjs.cloudflare.com/ajax/libs/Leaflet.awesome-markers/2.0.2/leaflet.awesome-markers.js%22%3E%3C/script%3E%0A%20%20%20%20%3Clink%20rel%3D%22stylesheet%22%20href%3D%22https%3A//cdn.jsdelivr.net/npm/leaflet%401.6.0/dist/leaflet.css%22/%3E%0A%20%20%20%20%3Clink%20rel%3D%22stylesheet%22%20href%3D%22https%3A//maxcdn.bootstrapcdn.com/bootstrap/3.2.0/css/bootstrap.min.css%22/%3E%0A%20%20%20%20%3Clink%20rel%3D%22stylesheet%22%20href%3D%22https%3A//maxcdn.bootstrapcdn.com/bootstrap/3.2.0/css/bootstrap-theme.min.css%22/%3E%0A%20%20%20%20%3Clink%20rel%3D%22stylesheet%22%20href%3D%22https%3A//maxcdn.bootstrapcdn.com/font-awesome/4.6.3/css/font-awesome.min.css%22/%3E%0A%20%20%20%20%3Clink%20rel%3D%22stylesheet%22%20href%3D%22https%3A//cdnjs.cloudflare.com/ajax/libs/Leaflet.awesome-markers/2.0.2/leaflet.awesome-markers.css%22/%3E%0A%20%20%20%20%3Clink%20rel%3D%22stylesheet%22%20href%3D%22https%3A//cdn.jsdelivr.net/gh/python-visualization/folium/folium/templates/leaflet.awesome.rotate.min.css%22/%3E%0A%20%20%20%20%0A%20%20%20%20%20%20%20%20%20%20%20%20%3Cmeta%20name%3D%22viewport%22%20content%3D%22width%3Ddevice-width%2C%0A%20%20%20%20%20%20%20%20%20%20%20%20%20%20%20%20initial-scale%3D1.0%2C%20maximum-scale%3D1.0%2C%20user-scalable%3Dno%22%20/%3E%0A%20%20%20%20%20%20%20%20%20%20%20%20%3Cstyle%3E%0A%20%20%20%20%20%20%20%20%20%20%20%20%20%20%20%20%23map_62d14cf8ad7c451a843a21434ae6a79f%20%7B%0A%20%20%20%20%20%20%20%20%20%20%20%20%20%20%20%20%20%20%20%20position%3A%20relative%3B%0A%20%20%20%20%20%20%20%20%20%20%20%20%20%20%20%20%20%20%20%20width%3A%20100.0%25%3B%0A%20%20%20%20%20%20%20%20%20%20%20%20%20%20%20%20%20%20%20%20height%3A%20100.0%25%3B%0A%20%20%20%20%20%20%20%20%20%20%20%20%20%20%20%20%20%20%20%20left%3A%200.0%25%3B%0A%20%20%20%20%20%20%20%20%20%20%20%20%20%20%20%20%20%20%20%20top%3A%200.0%25%3B%0A%20%20%20%20%20%20%20%20%20%20%20%20%20%20%20%20%7D%0A%20%20%20%20%20%20%20%20%20%20%20%20%3C/style%3E%0A%20%20%20%20%20%20%20%20%0A%3C/head%3E%0A%3Cbody%3E%20%20%20%20%0A%20%20%20%20%0A%20%20%20%20%20%20%20%20%20%20%20%20%3Cdiv%20class%3D%22folium-map%22%20id%3D%22map_62d14cf8ad7c451a843a21434ae6a79f%22%20%3E%3C/div%3E%0A%20%20%20%20%20%20%20%20%0A%3C/body%3E%0A%3Cscript%3E%20%20%20%20%0A%20%20%20%20%0A%20%20%20%20%20%20%20%20%20%20%20%20var%20map_62d14cf8ad7c451a843a21434ae6a79f%20%3D%20L.map%28%0A%20%20%20%20%20%20%20%20%20%20%20%20%20%20%20%20%22map_62d14cf8ad7c451a843a21434ae6a79f%22%2C%0A%20%20%20%20%20%20%20%20%20%20%20%20%20%20%20%20%7B%0A%20%20%20%20%20%20%20%20%20%20%20%20%20%20%20%20%20%20%20%20center%3A%20%5B36.38%2C%20127.51%5D%2C%0A%20%20%20%20%20%20%20%20%20%20%20%20%20%20%20%20%20%20%20%20crs%3A%20L.CRS.EPSG3857%2C%0A%20%20%20%20%20%20%20%20%20%20%20%20%20%20%20%20%20%20%20%20zoom%3A%206.5%2C%0A%20%20%20%20%20%20%20%20%20%20%20%20%20%20%20%20%20%20%20%20zoomControl%3A%20true%2C%0A%20%20%20%20%20%20%20%20%20%20%20%20%20%20%20%20%20%20%20%20preferCanvas%3A%20false%2C%0A%20%20%20%20%20%20%20%20%20%20%20%20%20%20%20%20%7D%0A%20%20%20%20%20%20%20%20%20%20%20%20%29%3B%0A%0A%20%20%20%20%20%20%20%20%20%20%20%20%0A%0A%20%20%20%20%20%20%20%20%0A%20%20%20%20%0A%20%20%20%20%20%20%20%20%20%20%20%20var%20tile_layer_2016db85bb1f4c7c9423f6a44223da51%20%3D%20L.tileLayer%28%0A%20%20%20%20%20%20%20%20%20%20%20%20%20%20%20%20%22https%3A//%7Bs%7D.tile.openstreetmap.org/%7Bz%7D/%7Bx%7D/%7By%7D.png%22%2C%0A%20%20%20%20%20%20%20%20%20%20%20%20%20%20%20%20%7B%22attribution%22%3A%20%22Data%20by%20%5Cu0026copy%3B%20%5Cu003ca%20href%3D%5C%22http%3A//openstreetmap.org%5C%22%5Cu003eOpenStreetMap%5Cu003c/a%5Cu003e%2C%20under%20%5Cu003ca%20href%3D%5C%22http%3A//www.openstreetmap.org/copyright%5C%22%5Cu003eODbL%5Cu003c/a%5Cu003e.%22%2C%20%22detectRetina%22%3A%20false%2C%20%22maxNativeZoom%22%3A%2018%2C%20%22maxZoom%22%3A%2018%2C%20%22minZoom%22%3A%200%2C%20%22noWrap%22%3A%20false%2C%20%22opacity%22%3A%201%2C%20%22subdomains%22%3A%20%22abc%22%2C%20%22tms%22%3A%20false%7D%0A%20%20%20%20%20%20%20%20%20%20%20%20%29.addTo%28map_62d14cf8ad7c451a843a21434ae6a79f%29%3B%0A%20%20%20%20%20%20%20%20%0A%20%20%20%20%0A%20%20%20%20%20%20%20%20%20%20%20%20var%20marker_66ab9d257c894652b497c0bf27bdf86f%20%3D%20L.marker%28%0A%20%20%20%20%20%20%20%20%20%20%20%20%20%20%20%20%5B37.56448109%2C%20126.9396083%5D%2C%0A%20%20%20%20%20%20%20%20%20%20%20%20%20%20%20%20%7B%7D%0A%20%20%20%20%20%20%20%20%20%20%20%20%29.addTo%28map_62d14cf8ad7c451a843a21434ae6a79f%29%3B%0A%20%20%20%20%20%20%20%20%0A%20%20%20%20%0A%20%20%20%20%20%20%20%20%20%20%20%20var%20icon_798453fa3d544d989a9c4a9653258ba0%20%3D%20L.AwesomeMarkers.icon%28%0A%20%20%20%20%20%20%20%20%20%20%20%20%20%20%20%20%7B%22extraClasses%22%3A%20%22fa-rotate-0%22%2C%20%22icon%22%3A%20%22star%22%2C%20%22iconColor%22%3A%20%22white%22%2C%20%22markerColor%22%3A%20%22red%22%2C%20%22prefix%22%3A%20%22glyphicon%22%7D%0A%20%20%20%20%20%20%20%20%20%20%20%20%29%3B%0A%20%20%20%20%20%20%20%20%20%20%20%20marker_66ab9d257c894652b497c0bf27bdf86f.setIcon%28icon_798453fa3d544d989a9c4a9653258ba0%29%3B%0A%20%20%20%20%20%20%20%20%0A%20%20%20%20%0A%20%20%20%20%20%20%20%20var%20popup_9d4e826527944cc9ba60ef4c7d79f930%20%3D%20L.popup%28%7B%22maxWidth%22%3A%20%22100%25%22%7D%29%3B%0A%0A%20%20%20%20%20%20%20%20%0A%20%20%20%20%20%20%20%20%20%20%20%20var%20html_39c6e922417a4688bc9b41ebaabf18b1%20%3D%20%24%28%60%3Cdiv%20id%3D%22html_39c6e922417a4688bc9b41ebaabf18b1%22%20style%3D%22width%3A%20100.0%25%3B%20height%3A%20100.0%25%3B%22%3E%EC%84%9C%EC%9A%B8%ED%8A%B9%EB%B3%84%EC%8B%9C%3C/div%3E%60%29%5B0%5D%3B%0A%20%20%20%20%20%20%20%20%20%20%20%20popup_9d4e826527944cc9ba60ef4c7d79f930.setContent%28html_39c6e922417a4688bc9b41ebaabf18b1%29%3B%0A%20%20%20%20%20%20%20%20%0A%0A%20%20%20%20%20%20%20%20marker_66ab9d257c894652b497c0bf27bdf86f.bindPopup%28popup_9d4e826527944cc9ba60ef4c7d79f930%29%0A%20%20%20%20%20%20%20%20%3B%0A%0A%20%20%20%20%20%20%20%20%0A%20%20%20%20%0A%20%20%20%20%0A%20%20%20%20%20%20%20%20%20%20%20%20var%20marker_9286313bf21e41e28a8f939c246fbd1d%20%3D%20L.marker%28%0A%20%20%20%20%20%20%20%20%20%20%20%20%20%20%20%20%5B35.2115306%2C%20129.0606704%5D%2C%0A%20%20%20%20%20%20%20%20%20%20%20%20%20%20%20%20%7B%7D%0A%20%20%20%20%20%20%20%20%20%20%20%20%29.addTo%28map_62d14cf8ad7c451a843a21434ae6a79f%29%3B%0A%20%20%20%20%20%20%20%20%0A%20%20%20%20%0A%20%20%20%20%20%20%20%20%20%20%20%20var%20icon_42d60abda1ce4987b8c4dfe82eab201e%20%3D%20L.AwesomeMarkers.icon%28%0A%20%20%20%20%20%20%20%20%20%20%20%20%20%20%20%20%7B%22extraClasses%22%3A%20%22fa-rotate-0%22%2C%20%22icon%22%3A%20%22star%22%2C%20%22iconColor%22%3A%20%22white%22%2C%20%22markerColor%22%3A%20%22red%22%2C%20%22prefix%22%3A%20%22glyphicon%22%7D%0A%20%20%20%20%20%20%20%20%20%20%20%20%29%3B%0A%20%20%20%20%20%20%20%20%20%20%20%20marker_9286313bf21e41e28a8f939c246fbd1d.setIcon%28icon_42d60abda1ce4987b8c4dfe82eab201e%29%3B%0A%20%20%20%20%20%20%20%20%0A%20%20%20%20%0A%20%20%20%20%20%20%20%20var%20popup_0897f7542052440d8ba537cf374db912%20%3D%20L.popup%28%7B%22maxWidth%22%3A%20%22100%25%22%7D%29%3B%0A%0A%20%20%20%20%20%20%20%20%0A%20%20%20%20%20%20%20%20%20%20%20%20var%20html_8b0e6ecfc93f4b34be5938bd640ff8e9%20%3D%20%24%28%60%3Cdiv%20id%3D%22html_8b0e6ecfc93f4b34be5938bd640ff8e9%22%20style%3D%22width%3A%20100.0%25%3B%20height%3A%20100.0%25%3B%22%3E%EB%B6%80%EC%82%B0%EA%B4%91%EC%97%AD%EC%8B%9C%3C/div%3E%60%29%5B0%5D%3B%0A%20%20%20%20%20%20%20%20%20%20%20%20popup_0897f7542052440d8ba537cf374db912.setContent%28html_8b0e6ecfc93f4b34be5938bd640ff8e9%29%3B%0A%20%20%20%20%20%20%20%20%0A%0A%20%20%20%20%20%20%20%20marker_9286313bf21e41e28a8f939c246fbd1d.bindPopup%28popup_0897f7542052440d8ba537cf374db912%29%0A%20%20%20%20%20%20%20%20%3B%0A%0A%20%20%20%20%20%20%20%20%0A%20%20%20%20%0A%20%20%20%20%0A%20%20%20%20%20%20%20%20%20%20%20%20var%20marker_92efb8207282449c8540c92292064f58%20%3D%20L.marker%28%0A%20%20%20%20%20%20%20%20%20%20%20%20%20%20%20%20%5B37.47521816%2C%20126.4586328%5D%2C%0A%20%20%20%20%20%20%20%20%20%20%20%20%20%20%20%20%7B%7D%0A%20%20%20%20%20%20%20%20%20%20%20%20%29.addTo%28map_62d14cf8ad7c451a843a21434ae6a79f%29%3B%0A%20%20%20%20%20%20%20%20%0A%20%20%20%20%0A%20%20%20%20%20%20%20%20%20%20%20%20var%20icon_5593b68c25594587ae95594d4b029262%20%3D%20L.AwesomeMarkers.icon%28%0A%20%20%20%20%20%20%20%20%20%20%20%20%20%20%20%20%7B%22extraClasses%22%3A%20%22fa-rotate-0%22%2C%20%22icon%22%3A%20%22star%22%2C%20%22iconColor%22%3A%20%22white%22%2C%20%22markerColor%22%3A%20%22red%22%2C%20%22prefix%22%3A%20%22glyphicon%22%7D%0A%20%20%20%20%20%20%20%20%20%20%20%20%29%3B%0A%20%20%20%20%20%20%20%20%20%20%20%20marker_92efb8207282449c8540c92292064f58.setIcon%28icon_5593b68c25594587ae95594d4b029262%29%3B%0A%20%20%20%20%20%20%20%20%0A%20%20%20%20%0A%20%20%20%20%20%20%20%20var%20popup_572701c4a5c2456ba27200e9c3552f7c%20%3D%20L.popup%28%7B%22maxWidth%22%3A%20%22100%25%22%7D%29%3B%0A%0A%20%20%20%20%20%20%20%20%0A%20%20%20%20%20%20%20%20%20%20%20%20var%20html_50fae20a423e473888637671de45f7d7%20%3D%20%24%28%60%3Cdiv%20id%3D%22html_50fae20a423e473888637671de45f7d7%22%20style%3D%22width%3A%20100.0%25%3B%20height%3A%20100.0%25%3B%22%3E%EC%9D%B8%EC%B2%9C%EA%B4%91%EC%97%AD%EC%8B%9C%3C/div%3E%60%29%5B0%5D%3B%0A%20%20%20%20%20%20%20%20%20%20%20%20popup_572701c4a5c2456ba27200e9c3552f7c.setContent%28html_50fae20a423e473888637671de45f7d7%29%3B%0A%20%20%20%20%20%20%20%20%0A%0A%20%20%20%20%20%20%20%20marker_92efb8207282449c8540c92292064f58.bindPopup%28popup_572701c4a5c2456ba27200e9c3552f7c%29%0A%20%20%20%20%20%20%20%20%3B%0A%0A%20%20%20%20%20%20%20%20%0A%20%20%20%20%0A%20%20%20%20%0A%20%20%20%20%20%20%20%20%20%20%20%20var%20marker_ffbd9a72899644908296291fe9ba1884%20%3D%20L.marker%28%0A%20%20%20%20%20%20%20%20%20%20%20%20%20%20%20%20%5B36.34167577%2C%20127.3874751%5D%2C%0A%20%20%20%20%20%20%20%20%20%20%20%20%20%20%20%20%7B%7D%0A%20%20%20%20%20%20%20%20%20%20%20%20%29.addTo%28map_62d14cf8ad7c451a843a21434ae6a79f%29%3B%0A%20%20%20%20%20%20%20%20%0A%20%20%20%20%0A%20%20%20%20%20%20%20%20%20%20%20%20var%20icon_b538ce311d674b068083a3be38d48ef7%20%3D%20L.AwesomeMarkers.icon%28%0A%20%20%20%20%20%20%20%20%20%20%20%20%20%20%20%20%7B%22extraClasses%22%3A%20%22fa-rotate-0%22%2C%20%22icon%22%3A%20%22star%22%2C%20%22iconColor%22%3A%20%22white%22%2C%20%22markerColor%22%3A%20%22red%22%2C%20%22prefix%22%3A%20%22glyphicon%22%7D%0A%20%20%20%20%20%20%20%20%20%20%20%20%29%3B%0A%20%20%20%20%20%20%20%20%20%20%20%20marker_ffbd9a72899644908296291fe9ba1884.setIcon%28icon_b538ce311d674b068083a3be38d48ef7%29%3B%0A%20%20%20%20%20%20%20%20%0A%20%20%20%20%0A%20%20%20%20%20%20%20%20var%20popup_5a66098214c54dffb2ec0d46de8ffe5d%20%3D%20L.popup%28%7B%22maxWidth%22%3A%20%22100%25%22%7D%29%3B%0A%0A%20%20%20%20%20%20%20%20%0A%20%20%20%20%20%20%20%20%20%20%20%20var%20html_ce73c6de2eea4d79af75e35099429854%20%3D%20%24%28%60%3Cdiv%20id%3D%22html_ce73c6de2eea4d79af75e35099429854%22%20style%3D%22width%3A%20100.0%25%3B%20height%3A%20100.0%25%3B%22%3E%EB%8C%80%EC%A0%84%EA%B4%91%EC%97%AD%EC%8B%9C%3C/div%3E%60%29%5B0%5D%3B%0A%20%20%20%20%20%20%20%20%20%20%20%20popup_5a66098214c54dffb2ec0d46de8ffe5d.setContent%28html_ce73c6de2eea4d79af75e35099429854%29%3B%0A%20%20%20%20%20%20%20%20%0A%0A%20%20%20%20%20%20%20%20marker_ffbd9a72899644908296291fe9ba1884.bindPopup%28popup_5a66098214c54dffb2ec0d46de8ffe5d%29%0A%20%20%20%20%20%20%20%20%3B%0A%0A%20%20%20%20%20%20%20%20%0A%20%20%20%20%0A%20%20%20%20%0A%20%20%20%20%20%20%20%20%20%20%20%20var%20marker_3f1e28488243459dafd559a5f414533c%20%3D%20L.marker%28%0A%20%20%20%20%20%20%20%20%20%20%20%20%20%20%20%20%5B35.81099271%2C%20128.596571%5D%2C%0A%20%20%20%20%20%20%20%20%20%20%20%20%20%20%20%20%7B%7D%0A%20%20%20%20%20%20%20%20%20%20%20%20%29.addTo%28map_62d14cf8ad7c451a843a21434ae6a79f%29%3B%0A%20%20%20%20%20%20%20%20%0A%20%20%20%20%0A%20%20%20%20%20%20%20%20%20%20%20%20var%20icon_05d1cd72412e4e3c882627059d883744%20%3D%20L.AwesomeMarkers.icon%28%0A%20%20%20%20%20%20%20%20%20%20%20%20%20%20%20%20%7B%22extraClasses%22%3A%20%22fa-rotate-0%22%2C%20%22icon%22%3A%20%22star%22%2C%20%22iconColor%22%3A%20%22white%22%2C%20%22markerColor%22%3A%20%22red%22%2C%20%22prefix%22%3A%20%22glyphicon%22%7D%0A%20%20%20%20%20%20%20%20%20%20%20%20%29%3B%0A%20%20%20%20%20%20%20%20%20%20%20%20marker_3f1e28488243459dafd559a5f414533c.setIcon%28icon_05d1cd72412e4e3c882627059d883744%29%3B%0A%20%20%20%20%20%20%20%20%0A%20%20%20%20%0A%20%20%20%20%20%20%20%20var%20popup_e7e27b15debd4e20b15bd15b79e2e89b%20%3D%20L.popup%28%7B%22maxWidth%22%3A%20%22100%25%22%7D%29%3B%0A%0A%20%20%20%20%20%20%20%20%0A%20%20%20%20%20%20%20%20%20%20%20%20var%20html_c305e9fa40a945728f96f891506bcafe%20%3D%20%24%28%60%3Cdiv%20id%3D%22html_c305e9fa40a945728f96f891506bcafe%22%20style%3D%22width%3A%20100.0%25%3B%20height%3A%20100.0%25%3B%22%3E%EB%8C%80%EA%B5%AC%EA%B4%91%EC%97%AD%EC%8B%9C%3C/div%3E%60%29%5B0%5D%3B%0A%20%20%20%20%20%20%20%20%20%20%20%20popup_e7e27b15debd4e20b15bd15b79e2e89b.setContent%28html_c305e9fa40a945728f96f891506bcafe%29%3B%0A%20%20%20%20%20%20%20%20%0A%0A%20%20%20%20%20%20%20%20marker_3f1e28488243459dafd559a5f414533c.bindPopup%28popup_e7e27b15debd4e20b15bd15b79e2e89b%29%0A%20%20%20%20%20%20%20%20%3B%0A%0A%20%20%20%20%20%20%20%20%0A%20%20%20%20%0A%20%20%20%20%0A%20%20%20%20%20%20%20%20%20%20%20%20var%20marker_16ea618b90134daa8608b354d4f1df85%20%3D%20L.marker%28%0A%20%20%20%20%20%20%20%20%20%20%20%20%20%20%20%20%5B37.4004581%2C%20127.2917767%5D%2C%0A%20%20%20%20%20%20%20%20%20%20%20%20%20%20%20%20%7B%7D%0A%20%20%20%20%20%20%20%20%20%20%20%20%29.addTo%28map_62d14cf8ad7c451a843a21434ae6a79f%29%3B%0A%20%20%20%20%20%20%20%20%0A%20%20%20%20%0A%20%20%20%20%20%20%20%20%20%20%20%20var%20icon_725ec38b5f9a4a8997d370a1fbce3c44%20%3D%20L.AwesomeMarkers.icon%28%0A%20%20%20%20%20%20%20%20%20%20%20%20%20%20%20%20%7B%22extraClasses%22%3A%20%22fa-rotate-0%22%2C%20%22icon%22%3A%20%22star%22%2C%20%22iconColor%22%3A%20%22white%22%2C%20%22markerColor%22%3A%20%22red%22%2C%20%22prefix%22%3A%20%22glyphicon%22%7D%0A%20%20%20%20%20%20%20%20%20%20%20%20%29%3B%0A%20%20%20%20%20%20%20%20%20%20%20%20marker_16ea618b90134daa8608b354d4f1df85.setIcon%28icon_725ec38b5f9a4a8997d370a1fbce3c44%29%3B%0A%20%20%20%20%20%20%20%20%0A%20%20%20%20%0A%20%20%20%20%20%20%20%20var%20popup_e15b76373b4d4e0594acf4c5a52d3f92%20%3D%20L.popup%28%7B%22maxWidth%22%3A%20%22100%25%22%7D%29%3B%0A%0A%20%20%20%20%20%20%20%20%0A%20%20%20%20%20%20%20%20%20%20%20%20var%20html_cfdeb57ad8a14a3b8811b264fba10ebc%20%3D%20%24%28%60%3Cdiv%20id%3D%22html_cfdeb57ad8a14a3b8811b264fba10ebc%22%20style%3D%22width%3A%20100.0%25%3B%20height%3A%20100.0%25%3B%22%3E%EA%B4%91%EC%A3%BC%EA%B4%91%EC%97%AD%EC%8B%9C%3C/div%3E%60%29%5B0%5D%3B%0A%20%20%20%20%20%20%20%20%20%20%20%20popup_e15b76373b4d4e0594acf4c5a52d3f92.setContent%28html_cfdeb57ad8a14a3b8811b264fba10ebc%29%3B%0A%20%20%20%20%20%20%20%20%0A%0A%20%20%20%20%20%20%20%20marker_16ea618b90134daa8608b354d4f1df85.bindPopup%28popup_e15b76373b4d4e0594acf4c5a52d3f92%29%0A%20%20%20%20%20%20%20%20%3B%0A%0A%20%20%20%20%20%20%20%20%0A%20%20%20%20%0A%20%20%20%20%0A%20%20%20%20%20%20%20%20%20%20%20%20var%20marker_1efbb56e9e484f38919cde257eae4c63%20%3D%20L.marker%28%0A%20%20%20%20%20%20%20%20%20%20%20%20%20%20%20%20%5B35.52744322%2C%20129.2127123%5D%2C%0A%20%20%20%20%20%20%20%20%20%20%20%20%20%20%20%20%7B%7D%0A%20%20%20%20%20%20%20%20%20%20%20%20%29.addTo%28map_62d14cf8ad7c451a843a21434ae6a79f%29%3B%0A%20%20%20%20%20%20%20%20%0A%20%20%20%20%0A%20%20%20%20%20%20%20%20%20%20%20%20var%20icon_36fa306fc7e64f54a678816b38617e46%20%3D%20L.AwesomeMarkers.icon%28%0A%20%20%20%20%20%20%20%20%20%20%20%20%20%20%20%20%7B%22extraClasses%22%3A%20%22fa-rotate-0%22%2C%20%22icon%22%3A%20%22star%22%2C%20%22iconColor%22%3A%20%22white%22%2C%20%22markerColor%22%3A%20%22red%22%2C%20%22prefix%22%3A%20%22glyphicon%22%7D%0A%20%20%20%20%20%20%20%20%20%20%20%20%29%3B%0A%20%20%20%20%20%20%20%20%20%20%20%20marker_1efbb56e9e484f38919cde257eae4c63.setIcon%28icon_36fa306fc7e64f54a678816b38617e46%29%3B%0A%20%20%20%20%20%20%20%20%0A%20%20%20%20%0A%20%20%20%20%20%20%20%20var%20popup_3f1c755ee92240b4819298913b61053a%20%3D%20L.popup%28%7B%22maxWidth%22%3A%20%22100%25%22%7D%29%3B%0A%0A%20%20%20%20%20%20%20%20%0A%20%20%20%20%20%20%20%20%20%20%20%20var%20html_c3d3e891c10c4df2b98fbbd696901351%20%3D%20%24%28%60%3Cdiv%20id%3D%22html_c3d3e891c10c4df2b98fbbd696901351%22%20style%3D%22width%3A%20100.0%25%3B%20height%3A%20100.0%25%3B%22%3E%EC%9A%B8%EC%82%B0%EA%B4%91%EC%97%AD%EC%8B%9C%3C/div%3E%60%29%5B0%5D%3B%0A%20%20%20%20%20%20%20%20%20%20%20%20popup_3f1c755ee92240b4819298913b61053a.setContent%28html_c3d3e891c10c4df2b98fbbd696901351%29%3B%0A%20%20%20%20%20%20%20%20%0A%0A%20%20%20%20%20%20%20%20marker_1efbb56e9e484f38919cde257eae4c63.bindPopup%28popup_3f1c755ee92240b4819298913b61053a%29%0A%20%20%20%20%20%20%20%20%3B%0A%0A%20%20%20%20%20%20%20%20%0A%20%20%20%20%0A%20%20%20%20%0A%20%20%20%20%20%20%20%20%20%20%20%20var%20marker_492285619ca24df4b4e14d7a084f5b96%20%3D%20L.marker%28%0A%20%20%20%20%20%20%20%20%20%20%20%20%20%20%20%20%5B33.41943224%2C%20126.4840053%5D%2C%0A%20%20%20%20%20%20%20%20%20%20%20%20%20%20%20%20%7B%7D%0A%20%20%20%20%20%20%20%20%20%20%20%20%29.addTo%28map_62d14cf8ad7c451a843a21434ae6a79f%29%3B%0A%20%20%20%20%20%20%20%20%0A%20%20%20%20%0A%20%20%20%20%20%20%20%20%20%20%20%20var%20icon_2331e3a6155a458c9888bd97ffe086d0%20%3D%20L.AwesomeMarkers.icon%28%0A%20%20%20%20%20%20%20%20%20%20%20%20%20%20%20%20%7B%22extraClasses%22%3A%20%22fa-rotate-0%22%2C%20%22icon%22%3A%20%22star%22%2C%20%22iconColor%22%3A%20%22white%22%2C%20%22markerColor%22%3A%20%22red%22%2C%20%22prefix%22%3A%20%22glyphicon%22%7D%0A%20%20%20%20%20%20%20%20%20%20%20%20%29%3B%0A%20%20%20%20%20%20%20%20%20%20%20%20marker_492285619ca24df4b4e14d7a084f5b96.setIcon%28icon_2331e3a6155a458c9888bd97ffe086d0%29%3B%0A%20%20%20%20%20%20%20%20%0A%20%20%20%20%0A%20%20%20%20%20%20%20%20var%20popup_aa2e1e0cd32a4e53b3bd4df27f760151%20%3D%20L.popup%28%7B%22maxWidth%22%3A%20%22100%25%22%7D%29%3B%0A%0A%20%20%20%20%20%20%20%20%0A%20%20%20%20%20%20%20%20%20%20%20%20var%20html_c844fc5941cc4d788c53cd4e87a8c297%20%3D%20%24%28%60%3Cdiv%20id%3D%22html_c844fc5941cc4d788c53cd4e87a8c297%22%20style%3D%22width%3A%20100.0%25%3B%20height%3A%20100.0%25%3B%22%3E%EC%A0%9C%EC%A3%BC%ED%8A%B9%EB%B3%84%EC%9E%90%EC%B9%98%EB%8F%84%3C/div%3E%60%29%5B0%5D%3B%0A%20%20%20%20%20%20%20%20%20%20%20%20popup_aa2e1e0cd32a4e53b3bd4df27f760151.setContent%28html_c844fc5941cc4d788c53cd4e87a8c297%29%3B%0A%20%20%20%20%20%20%20%20%0A%0A%20%20%20%20%20%20%20%20marker_492285619ca24df4b4e14d7a084f5b96.bindPopup%28popup_aa2e1e0cd32a4e53b3bd4df27f760151%29%0A%20%20%20%20%20%20%20%20%3B%0A%0A%20%20%20%20%20%20%20%20%0A%20%20%20%20%0A%3C/script%3E onload=\"this.contentDocument.open();this.contentDocument.write(    decodeURIComponent(this.getAttribute('data-html')));this.contentDocument.close();\" allowfullscreen webkitallowfullscreen mozallowfullscreen></iframe></div></div>"
     },
     "execution_count": 7,
     "metadata": {},
     "output_type": "execute_result"
    }
   ],
   "source": [
    "for lat, long, add in zip(coordinates['위도'], coordinates['경도'], coordinates['ADDR']):\n",
    "    folium.Marker(\n",
    "        location=[lat, long],\n",
    "        popup=add,\n",
    "        icon=folium.Icon(color='red', icon='star')\n",
    "    ).add_to(map_SK)\n",
    "\n",
    "map_SK\n",
    "# 경기도 광주시 --> 광주광역시 수정"
   ],
   "metadata": {
    "collapsed": false,
    "pycharm": {
     "name": "#%%\n"
    }
   }
  },
  {
   "cell_type": "code",
   "execution_count": null,
   "outputs": [],
   "source": [
    "# figure size 지정\n",
    "plt.figure(figsize=(20, 10))\n",
    "\n",
    "# scatter chart 적용\n",
    "plt.scatter(lat, long, count, alpha=0.5)\n",
    "\n",
    "# Title, Label 지정\n",
    "plt.title()\n",
    "plt.xlabel('Latitude')\n",
    "plt.ylabel('Longitude')\n",
    "\n",
    "# 위치별 Count 값 넣기\n",
    "for i, txt in enumerate():"
   ],
   "metadata": {
    "collapsed": false,
    "pycharm": {
     "name": "#%%\n"
    }
   }
  },
  {
   "cell_type": "code",
   "execution_count": null,
   "outputs": [],
   "source": [
    "# Heatmap을 map에 표시\n",
    "\n",
    "from folium.plugins import HeatMap\n",
    "HeatMap(count, radius=25).add_to(map_SK)"
   ],
   "metadata": {
    "collapsed": false,
    "pycharm": {
     "name": "#%%\n"
    }
   }
  },
  {
   "cell_type": "code",
   "execution_count": null,
   "outputs": [],
   "source": [
    "from folium.plugins import marker_cluster # MarkerCluster를 이용하면 가까운 거리의 Marker들을 군집시켜서 해당 건수를 표현"
   ],
   "metadata": {
    "collapsed": false,
    "pycharm": {
     "name": "#%%\n"
    }
   }
  }
 ],
 "metadata": {
  "kernelspec": {
   "name": "python3",
   "language": "python",
   "display_name": "Python 3"
  },
  "language_info": {
   "codemirror_mode": {
    "name": "ipython",
    "version": 2
   },
   "file_extension": ".py",
   "mimetype": "text/x-python",
   "name": "python",
   "nbconvert_exporter": "python",
   "pygments_lexer": "ipython2",
   "version": "2.7.6"
  }
 },
 "nbformat": 4,
 "nbformat_minor": 0
}