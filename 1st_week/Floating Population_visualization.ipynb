{
 "cells": [
  {
   "cell_type": "code",
   "execution_count": 1,
   "metadata": {
    "collapsed": true
   },
   "outputs": [],
   "source": [
    "import numpy as np\n",
    "import pandas as pd\n",
    "import folium"
   ]
  },
  {
   "cell_type": "code",
   "execution_count": 2,
   "outputs": [
    {
     "name": "stdout",
     "output_type": "stream",
     "text": [
      "data shape: (85104, 17)\n",
      "<class 'pandas.core.frame.DataFrame'>\n",
      "RangeIndex: 85104 entries, 0 to 85103\n",
      "Data columns (total 17 columns):\n",
      " #   Column           Non-Null Count  Dtype  \n",
      "---  ------           --------------  -----  \n",
      " 0   년월               85104 non-null  int64  \n",
      " 1   출발지(야간체류지) 시군코드  85104 non-null  int64  \n",
      " 2   도착지 시군코드         85104 non-null  int64  \n",
      " 3   10대남성 유입인구       85104 non-null  float64\n",
      " 4   20대남성 유입인구       85104 non-null  float64\n",
      " 5   30대남성 유입인구       85104 non-null  float64\n",
      " 6   40대남성 유입인구       85104 non-null  float64\n",
      " 7   50대남성 유입인구       85104 non-null  float64\n",
      " 8   60대남성 유입인구       85104 non-null  float64\n",
      " 9   70대남성 유입인구       85104 non-null  float64\n",
      " 10  10대여성 유입인구       85104 non-null  float64\n",
      " 11  20대여성 유입인구       85104 non-null  float64\n",
      " 12  30대여성 유입인구       85104 non-null  float64\n",
      " 13  40대여성 유입인구       85104 non-null  float64\n",
      " 14  50대여성 유입인구       85104 non-null  float64\n",
      " 15  60대여성 유입인구       85104 non-null  float64\n",
      " 16  70대여성 유입인구       85104 non-null  float64\n",
      "dtypes: float64(14), int64(3)\n",
      "memory usage: 11.0 MB\n"
     ]
    },
    {
     "data": {
      "text/plain": "       년월  출발지(야간체류지) 시군코드  도착지 시군코드  10대남성 유입인구  20대남성 유입인구  30대남성 유입인구  \\\n0  202001            11170     41590       19.15       64.28      116.56   \n1  202001            11170     41610       39.55       39.38       48.18   \n2  202001            11170     41630       30.51       21.78       29.73   \n3  202001            11170     41650       29.74       17.65       26.94   \n4  202001            11170     41670        9.37        8.90       21.12   \n\n   40대남성 유입인구  50대남성 유입인구  60대남성 유입인구  70대남성 유입인구  10대여성 유입인구  20대여성 유입인구  \\\n0      136.39      118.72       45.84       13.68       23.83       52.79   \n1       63.35       59.68       29.78       11.60       29.66       30.79   \n2       38.39       37.38       21.49        7.53       21.10       12.57   \n3       35.66       32.29       21.60       12.11       31.00       20.25   \n4       17.89       22.00       10.84        2.60       14.36       16.70   \n\n   30대여성 유입인구  40대여성 유입인구  50대여성 유입인구  60대여성 유입인구  70대여성 유입인구  \n0       67.96       51.08       33.53       26.28       16.03  \n1       44.08       36.09       25.58       16.77        9.27  \n2       21.77       24.48       25.13       17.43       11.46  \n3       19.12       27.59       23.03       15.15        7.43  \n4       21.71       15.95       11.51        8.15        4.50  ",
      "text/html": "<div>\n<style scoped>\n    .dataframe tbody tr th:only-of-type {\n        vertical-align: middle;\n    }\n\n    .dataframe tbody tr th {\n        vertical-align: top;\n    }\n\n    .dataframe thead th {\n        text-align: right;\n    }\n</style>\n<table border=\"1\" class=\"dataframe\">\n  <thead>\n    <tr style=\"text-align: right;\">\n      <th></th>\n      <th>년월</th>\n      <th>출발지(야간체류지) 시군코드</th>\n      <th>도착지 시군코드</th>\n      <th>10대남성 유입인구</th>\n      <th>20대남성 유입인구</th>\n      <th>30대남성 유입인구</th>\n      <th>40대남성 유입인구</th>\n      <th>50대남성 유입인구</th>\n      <th>60대남성 유입인구</th>\n      <th>70대남성 유입인구</th>\n      <th>10대여성 유입인구</th>\n      <th>20대여성 유입인구</th>\n      <th>30대여성 유입인구</th>\n      <th>40대여성 유입인구</th>\n      <th>50대여성 유입인구</th>\n      <th>60대여성 유입인구</th>\n      <th>70대여성 유입인구</th>\n    </tr>\n  </thead>\n  <tbody>\n    <tr>\n      <th>0</th>\n      <td>202001</td>\n      <td>11170</td>\n      <td>41590</td>\n      <td>19.15</td>\n      <td>64.28</td>\n      <td>116.56</td>\n      <td>136.39</td>\n      <td>118.72</td>\n      <td>45.84</td>\n      <td>13.68</td>\n      <td>23.83</td>\n      <td>52.79</td>\n      <td>67.96</td>\n      <td>51.08</td>\n      <td>33.53</td>\n      <td>26.28</td>\n      <td>16.03</td>\n    </tr>\n    <tr>\n      <th>1</th>\n      <td>202001</td>\n      <td>11170</td>\n      <td>41610</td>\n      <td>39.55</td>\n      <td>39.38</td>\n      <td>48.18</td>\n      <td>63.35</td>\n      <td>59.68</td>\n      <td>29.78</td>\n      <td>11.60</td>\n      <td>29.66</td>\n      <td>30.79</td>\n      <td>44.08</td>\n      <td>36.09</td>\n      <td>25.58</td>\n      <td>16.77</td>\n      <td>9.27</td>\n    </tr>\n    <tr>\n      <th>2</th>\n      <td>202001</td>\n      <td>11170</td>\n      <td>41630</td>\n      <td>30.51</td>\n      <td>21.78</td>\n      <td>29.73</td>\n      <td>38.39</td>\n      <td>37.38</td>\n      <td>21.49</td>\n      <td>7.53</td>\n      <td>21.10</td>\n      <td>12.57</td>\n      <td>21.77</td>\n      <td>24.48</td>\n      <td>25.13</td>\n      <td>17.43</td>\n      <td>11.46</td>\n    </tr>\n    <tr>\n      <th>3</th>\n      <td>202001</td>\n      <td>11170</td>\n      <td>41650</td>\n      <td>29.74</td>\n      <td>17.65</td>\n      <td>26.94</td>\n      <td>35.66</td>\n      <td>32.29</td>\n      <td>21.60</td>\n      <td>12.11</td>\n      <td>31.00</td>\n      <td>20.25</td>\n      <td>19.12</td>\n      <td>27.59</td>\n      <td>23.03</td>\n      <td>15.15</td>\n      <td>7.43</td>\n    </tr>\n    <tr>\n      <th>4</th>\n      <td>202001</td>\n      <td>11170</td>\n      <td>41670</td>\n      <td>9.37</td>\n      <td>8.90</td>\n      <td>21.12</td>\n      <td>17.89</td>\n      <td>22.00</td>\n      <td>10.84</td>\n      <td>2.60</td>\n      <td>14.36</td>\n      <td>16.70</td>\n      <td>21.71</td>\n      <td>15.95</td>\n      <td>11.51</td>\n      <td>8.15</td>\n      <td>4.50</td>\n    </tr>\n  </tbody>\n</table>\n</div>"
     },
     "execution_count": 2,
     "metadata": {},
     "output_type": "execute_result"
    }
   ],
   "source": [
    "# 데이터 불러오기\n",
    "fp_df = pd.read_csv(\"Dataset/시군별유동인구데이터.csv\")\n",
    "\n",
    "print(\"data shape:\", fp_df.shape)\n",
    "fp_df.info()\n",
    "fp_df.head()"
   ],
   "metadata": {
    "collapsed": false,
    "pycharm": {
     "name": "#%%\n"
    }
   }
  },
  {
   "cell_type": "code",
   "execution_count": 3,
   "outputs": [
    {
     "name": "stdout",
     "output_type": "stream",
     "text": [
      "\n",
      "08월 41550지역의 40대 남성들의 유동인구를 확인합니다\n"
     ]
    }
   ],
   "source": [
    "# 데이터 전처리\n",
    "\n",
    "destination = input(\">>> 확인할 지역 입력: \")\n",
    "gender = input(\">>> 성별 입력 (남성 / 여성): \")\n",
    "age = input(\">>> 확인할 나이대 입력(숫자만 입력): \")\n",
    "month = input(\">>> 확인할 달 입력(예 : 2월 --> 02): \")\n",
    "\n",
    "print(\"\\n\" + month+ \"월 \" + destination + \"지역의 \" + age + \"대 \" + gender + \"들의 유동인구를 확인합니다\")\n",
    "check_column = age + '대' + gender + ' ' + '유입인구'\n",
    "month= '2020' + month"
   ],
   "metadata": {
    "collapsed": false,
    "pycharm": {
     "name": "#%%\n"
    }
   }
  },
  {
   "cell_type": "code",
   "execution_count": 4,
   "outputs": [
    {
     "data": {
      "text/plain": "    출발지  40대남성 유입인구\n0    11     1338.59\n1    26       88.14\n2    27       81.27\n3    28      402.61\n4    29       51.29\n5    30      164.13\n6    31       25.94\n7    36       46.19\n8    41    22778.07\n9    42       95.58\n10   43      558.85\n11   44     1176.97\n12   45      112.82\n13   46       51.92\n14   47      103.79\n15   48      113.55\n16   50       24.78",
      "text/html": "<div>\n<style scoped>\n    .dataframe tbody tr th:only-of-type {\n        vertical-align: middle;\n    }\n\n    .dataframe tbody tr th {\n        vertical-align: top;\n    }\n\n    .dataframe thead th {\n        text-align: right;\n    }\n</style>\n<table border=\"1\" class=\"dataframe\">\n  <thead>\n    <tr style=\"text-align: right;\">\n      <th></th>\n      <th>출발지</th>\n      <th>40대남성 유입인구</th>\n    </tr>\n  </thead>\n  <tbody>\n    <tr>\n      <th>0</th>\n      <td>11</td>\n      <td>1338.59</td>\n    </tr>\n    <tr>\n      <th>1</th>\n      <td>26</td>\n      <td>88.14</td>\n    </tr>\n    <tr>\n      <th>2</th>\n      <td>27</td>\n      <td>81.27</td>\n    </tr>\n    <tr>\n      <th>3</th>\n      <td>28</td>\n      <td>402.61</td>\n    </tr>\n    <tr>\n      <th>4</th>\n      <td>29</td>\n      <td>51.29</td>\n    </tr>\n    <tr>\n      <th>5</th>\n      <td>30</td>\n      <td>164.13</td>\n    </tr>\n    <tr>\n      <th>6</th>\n      <td>31</td>\n      <td>25.94</td>\n    </tr>\n    <tr>\n      <th>7</th>\n      <td>36</td>\n      <td>46.19</td>\n    </tr>\n    <tr>\n      <th>8</th>\n      <td>41</td>\n      <td>22778.07</td>\n    </tr>\n    <tr>\n      <th>9</th>\n      <td>42</td>\n      <td>95.58</td>\n    </tr>\n    <tr>\n      <th>10</th>\n      <td>43</td>\n      <td>558.85</td>\n    </tr>\n    <tr>\n      <th>11</th>\n      <td>44</td>\n      <td>1176.97</td>\n    </tr>\n    <tr>\n      <th>12</th>\n      <td>45</td>\n      <td>112.82</td>\n    </tr>\n    <tr>\n      <th>13</th>\n      <td>46</td>\n      <td>51.92</td>\n    </tr>\n    <tr>\n      <th>14</th>\n      <td>47</td>\n      <td>103.79</td>\n    </tr>\n    <tr>\n      <th>15</th>\n      <td>48</td>\n      <td>113.55</td>\n    </tr>\n    <tr>\n      <th>16</th>\n      <td>50</td>\n      <td>24.78</td>\n    </tr>\n  </tbody>\n</table>\n</div>"
     },
     "execution_count": 4,
     "metadata": {},
     "output_type": "execute_result"
    }
   ],
   "source": [
    "# DataFrame 핸들링\n",
    "data = fp_df.loc[:, ['년월','출발지(야간체류지) 시군코드','도착지 시군코드',check_column]][fp_df['년월'] == int(month)]\n",
    "data_simple = data[data['도착지 시군코드'] == int(destination)]\n",
    "data_simple = data_simple.drop(['년월','도착지 시군코드'], axis=1)\n",
    "data_simple['출발지'] = data_simple['출발지(야간체류지) 시군코드'] - (data_simple['출발지(야간체류지) 시군코드']%1000)\n",
    "data_simple['출발지'] = data_simple['출발지']/1000\n",
    "data_simple['출발지'] = data_simple['출발지'].astype(int)\n",
    "data_simple=data_simple.drop('출발지(야간체류지) 시군코드',axis=1)\n",
    "return_data = data_simple.groupby('출발지', as_index=False).sum()\n",
    "return_data"
   ],
   "metadata": {
    "collapsed": false,
    "pycharm": {
     "name": "#%%\n"
    }
   }
  },
  {
   "cell_type": "code",
   "execution_count": 7,
   "outputs": [
    {
     "data": {
      "text/plain": "    출발지  40대남성 유입인구     ADDR    lat    long\n0    11     1338.59    서울특별시  37.56   126.9\n1    26       88.14    부산광역시  35.16   129.0\n2    27       81.27    대구광역시  35.87  128.53\n3    28      402.61    인천광역시  37.46   126.6\n4    29       51.29    광주광역시  35.17   126.8\n5    30      164.13    대전광역시  36.37  127.35\n6    31       25.94    울산광역시  35.56  129.28\n7    36       46.19  세종특별자치시  36.25  127.24\n8    41    22778.07      경기도  37.59  126.53\n9    42       95.58      강원도  37.86  127.68\n10   43      558.85     충청북도  36.63  127.68\n11   44     1176.97     충청남도  36.53  126.51\n12   45      112.82     전라북도  35.72  126.64\n13   46       51.92     전라남도  34.69  125.93\n14   47      103.79     경상북도  36.55  129.28\n15   48      113.55     경상남도  35.18  127.83\n16   50       24.78  제주특별자치도  33.57  126.29",
      "text/html": "<div>\n<style scoped>\n    .dataframe tbody tr th:only-of-type {\n        vertical-align: middle;\n    }\n\n    .dataframe tbody tr th {\n        vertical-align: top;\n    }\n\n    .dataframe thead th {\n        text-align: right;\n    }\n</style>\n<table border=\"1\" class=\"dataframe\">\n  <thead>\n    <tr style=\"text-align: right;\">\n      <th></th>\n      <th>출발지</th>\n      <th>40대남성 유입인구</th>\n      <th>ADDR</th>\n      <th>lat</th>\n      <th>long</th>\n    </tr>\n  </thead>\n  <tbody>\n    <tr>\n      <th>0</th>\n      <td>11</td>\n      <td>1338.59</td>\n      <td>서울특별시</td>\n      <td>37.56</td>\n      <td>126.9</td>\n    </tr>\n    <tr>\n      <th>1</th>\n      <td>26</td>\n      <td>88.14</td>\n      <td>부산광역시</td>\n      <td>35.16</td>\n      <td>129.0</td>\n    </tr>\n    <tr>\n      <th>2</th>\n      <td>27</td>\n      <td>81.27</td>\n      <td>대구광역시</td>\n      <td>35.87</td>\n      <td>128.53</td>\n    </tr>\n    <tr>\n      <th>3</th>\n      <td>28</td>\n      <td>402.61</td>\n      <td>인천광역시</td>\n      <td>37.46</td>\n      <td>126.6</td>\n    </tr>\n    <tr>\n      <th>4</th>\n      <td>29</td>\n      <td>51.29</td>\n      <td>광주광역시</td>\n      <td>35.17</td>\n      <td>126.8</td>\n    </tr>\n    <tr>\n      <th>5</th>\n      <td>30</td>\n      <td>164.13</td>\n      <td>대전광역시</td>\n      <td>36.37</td>\n      <td>127.35</td>\n    </tr>\n    <tr>\n      <th>6</th>\n      <td>31</td>\n      <td>25.94</td>\n      <td>울산광역시</td>\n      <td>35.56</td>\n      <td>129.28</td>\n    </tr>\n    <tr>\n      <th>7</th>\n      <td>36</td>\n      <td>46.19</td>\n      <td>세종특별자치시</td>\n      <td>36.25</td>\n      <td>127.24</td>\n    </tr>\n    <tr>\n      <th>8</th>\n      <td>41</td>\n      <td>22778.07</td>\n      <td>경기도</td>\n      <td>37.59</td>\n      <td>126.53</td>\n    </tr>\n    <tr>\n      <th>9</th>\n      <td>42</td>\n      <td>95.58</td>\n      <td>강원도</td>\n      <td>37.86</td>\n      <td>127.68</td>\n    </tr>\n    <tr>\n      <th>10</th>\n      <td>43</td>\n      <td>558.85</td>\n      <td>충청북도</td>\n      <td>36.63</td>\n      <td>127.68</td>\n    </tr>\n    <tr>\n      <th>11</th>\n      <td>44</td>\n      <td>1176.97</td>\n      <td>충청남도</td>\n      <td>36.53</td>\n      <td>126.51</td>\n    </tr>\n    <tr>\n      <th>12</th>\n      <td>45</td>\n      <td>112.82</td>\n      <td>전라북도</td>\n      <td>35.72</td>\n      <td>126.64</td>\n    </tr>\n    <tr>\n      <th>13</th>\n      <td>46</td>\n      <td>51.92</td>\n      <td>전라남도</td>\n      <td>34.69</td>\n      <td>125.93</td>\n    </tr>\n    <tr>\n      <th>14</th>\n      <td>47</td>\n      <td>103.79</td>\n      <td>경상북도</td>\n      <td>36.55</td>\n      <td>129.28</td>\n    </tr>\n    <tr>\n      <th>15</th>\n      <td>48</td>\n      <td>113.55</td>\n      <td>경상남도</td>\n      <td>35.18</td>\n      <td>127.83</td>\n    </tr>\n    <tr>\n      <th>16</th>\n      <td>50</td>\n      <td>24.78</td>\n      <td>제주특별자치도</td>\n      <td>33.57</td>\n      <td>126.29</td>\n    </tr>\n  </tbody>\n</table>\n</div>"
     },
     "execution_count": 7,
     "metadata": {},
     "output_type": "execute_result"
    }
   ],
   "source": [
    "# 시군코드 - 도시명 연결\n",
    "condition_list = [\n",
    "    (return_data['출발지'] == 11),\n",
    "    (return_data['출발지'] == 26),\n",
    "    (return_data['출발지'] == 27),\n",
    "    (return_data['출발지'] == 28),\n",
    "    (return_data['출발지'] == 29),\n",
    "    (return_data['출발지'] == 30),\n",
    "    (return_data['출발지'] == 31),\n",
    "    (return_data['출발지'] == 36),\n",
    "    (return_data['출발지'] == 41),\n",
    "    (return_data['출발지'] == 42),\n",
    "    (return_data['출발지'] == 43),\n",
    "    (return_data['출발지'] == 44),\n",
    "    (return_data['출발지'] == 45),\n",
    "    (return_data['출발지'] == 46),\n",
    "    (return_data['출발지'] == 47),\n",
    "    (return_data['출발지'] == 48),\n",
    "    (return_data['출발지'] == 50)\n",
    "]\n",
    "city_list = ['서울특별시', '부산광역시', '대구광역시', '인천광역시',\n",
    "               '광주광역시', '대전광역시', '울산광역시', '세종특별자치시',\n",
    "               '경기도', '강원도', '충청북도', '충청남도', '전라북도',\n",
    "               '전라남도', '경상북도', '경상남도', '제주특별자치도']\n",
    "\n",
    "lat_list = [37.56, 35.16, 35.87, 37.46, 35.17, 36.37, 35.56, 36.25,\n",
    "            37.59, 37.86, 36.63, 36.53, 35.72, 34.69, 36.55, 35.18, 33.57]\n",
    "long_list = [126.90, 129.00, 128.53, 126.60, 126.80, 127.35, 129.28,\n",
    "             127.24, 126.53, 127.68, 127.68, 126.51, 126.64, 125.93,\n",
    "             129.28, 127.83, 126.29]\n",
    "\n",
    "return_data['ADDR'] = np.select(condition_list, city_list, default='Not Specified')\n",
    "return_data['lat'] = np.select(condition_list, lat_list, default='Not Specified')\n",
    "return_data['long'] = np.select(condition_list, long_list, default='Not Specified')\n",
    "\n",
    "return_data # 확인용 출력"
   ],
   "metadata": {
    "collapsed": false,
    "pycharm": {
     "name": "#%%\n"
    }
   }
  },
  {
   "cell_type": "code",
   "execution_count": null,
   "outputs": [],
   "source": [
    "# DataFrame --> csv 변환\n",
    "data_simple.to_csv('C:/Users/ggh99/PycharmProjects/Advanced_AI_Course/1st_week/Dataset/address/address_generated.csv',\n",
    "                   sep=',',\n",
    "                   encoding='CP949')"
   ],
   "metadata": {
    "collapsed": false,
    "pycharm": {
     "name": "#%%\n"
    }
   }
  },
  {
   "cell_type": "code",
   "execution_count": null,
   "outputs": [],
   "source": [
    "coordinates = pd.read_csv('Dataset/address/address_transform.utf-8.csv')\n",
    "len(coordinates) # 확인용 출력"
   ],
   "metadata": {
    "collapsed": false,
    "pycharm": {
     "name": "#%%\n"
    }
   }
  },
  {
   "cell_type": "code",
   "execution_count": null,
   "outputs": [],
   "source": [
    "# folium을 이용하여 지도 핸들링\n",
    "map_SK = folium.Map(location=[36.38, 127.51], zoom_start=6.5) # location: 남한 중심 좌표, zoom_start 수치가 클수록 확대"
   ],
   "metadata": {
    "collapsed": false,
    "pycharm": {
     "name": "#%%\n"
    }
   }
  },
  {
   "cell_type": "code",
   "execution_count": null,
   "outputs": [],
   "source": [
    "# Marker로 지도에 아이콘 표시\n",
    "for lat, long, add in zip(coordinates['위도'], coordinates['경도'], coordinates['ADDR']):\n",
    "    folium.Marker(\n",
    "        location=[lat, long],\n",
    "        popup=add,\n",
    "        icon=folium.Icon(color='red', icon='city')\n",
    "\n",
    "    ).add_to(map_SK)\n",
    "map_SK"
   ],
   "metadata": {
    "collapsed": false,
    "pycharm": {
     "name": "#%%\n"
    }
   }
  },
  {
   "cell_type": "code",
   "execution_count": null,
   "outputs": [],
   "source": [
    "from folium.plugins import MarkerCluster # MarkerCluster를 이용하면 가까운 거리의 Marker들을 군집시켜서 해당 건수를 표현\n",
    "\n",
    "def draw_map(df):\n",
    "    # 지도 생성\n",
    "    map_fn = folium.Map(location=[36.38, 127.51], zoom_start=6.5)\n",
    "    # 리스트를 이용해 여러 행의 데이터를 위, 경도로 묶음\n",
    "    locations = list(zip(df['위도'], df['경도']))\n",
    "    locations_city = list(zip(coordinates['위도'], coordinates['경도']))\n",
    "    # 반복문을 이용해 locations로 정의한 변수에 해당하는 위치에 도시 아이콘 표시\n",
    "    icons = [folium.Icon(icon='city', color='red') for _ in range(len(locations_city))]\n",
    "    # 반복문을 이용해 아이콘을 클릭했을 때, popup 생성\n",
    "    for addr in df['ADDR']:\n",
    "        folium.Marker(popup=addr)\n",
    "\n",
    "    # cluster 생성\n",
    "    cluster = MarkerCluster(locations=locations, icons=icons)\n",
    "    # 지도에 cluster 추가\n",
    "    cluster.add_to(map_fn)\n",
    "    # 지도 출력\n",
    "    print(map_fn)\n",
    "    map_fn.save('./map_fn.html')\n",
    "\n",
    "# 함수 실행\n",
    "draw_map(coordinates)"
   ],
   "metadata": {
    "collapsed": false,
    "pycharm": {
     "name": "#%%\n"
    }
   }
  },
  {
   "cell_type": "code",
   "execution_count": null,
   "outputs": [],
   "source": [
    "# 지도 위에 울산대학교 표시\n",
    "UOU = folium.Map(location=[35.5450147, 129.2528426], min_zoom=5, max_zoom=8)\n",
    "folium.Marker(\n",
    "        location=[35.5450147, 129.2528426],\n",
    "        popup='University of Ulsan',\n",
    "        icon=folium.Icon(color='red', icon='star')).add_to(UOU)\n",
    "UOU"
   ],
   "metadata": {
    "collapsed": false,
    "pycharm": {
     "name": "#%%\n"
    }
   }
  }
 ],
 "metadata": {
  "kernelspec": {
   "name": "lab_kernel",
   "language": "python",
   "display_name": "lab_kernel"
  },
  "language_info": {
   "codemirror_mode": {
    "name": "ipython",
    "version": 2
   },
   "file_extension": ".py",
   "mimetype": "text/x-python",
   "name": "python",
   "nbconvert_exporter": "python",
   "pygments_lexer": "ipython2",
   "version": "2.7.6"
  }
 },
 "nbformat": 4,
 "nbformat_minor": 0
}