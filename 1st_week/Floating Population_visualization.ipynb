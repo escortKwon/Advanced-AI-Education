{
 "cells": [
  {
   "cell_type": "code",
   "execution_count": 1,
   "metadata": {
    "collapsed": true
   },
   "outputs": [],
   "source": [
    "import numpy as np\n",
    "import pandas as pd\n",
    "import matplotlib.pyplot as plt\n",
    "import folium"
   ]
  },
  {
   "cell_type": "code",
   "execution_count": 2,
   "outputs": [
    {
     "name": "stdout",
     "output_type": "stream",
     "text": [
      "data shape: (85104, 17)\n",
      "<class 'pandas.core.frame.DataFrame'>\n",
      "RangeIndex: 85104 entries, 0 to 85103\n",
      "Data columns (total 17 columns):\n",
      " #   Column           Non-Null Count  Dtype  \n",
      "---  ------           --------------  -----  \n",
      " 0   년월               85104 non-null  int64  \n",
      " 1   출발지(야간체류지) 시군코드  85104 non-null  int64  \n",
      " 2   도착지 시군코드         85104 non-null  int64  \n",
      " 3   10대남성 유입인구       85104 non-null  float64\n",
      " 4   20대남성 유입인구       85104 non-null  float64\n",
      " 5   30대남성 유입인구       85104 non-null  float64\n",
      " 6   40대남성 유입인구       85104 non-null  float64\n",
      " 7   50대남성 유입인구       85104 non-null  float64\n",
      " 8   60대남성 유입인구       85104 non-null  float64\n",
      " 9   70대남성 유입인구       85104 non-null  float64\n",
      " 10  10대여성 유입인구       85104 non-null  float64\n",
      " 11  20대여성 유입인구       85104 non-null  float64\n",
      " 12  30대여성 유입인구       85104 non-null  float64\n",
      " 13  40대여성 유입인구       85104 non-null  float64\n",
      " 14  50대여성 유입인구       85104 non-null  float64\n",
      " 15  60대여성 유입인구       85104 non-null  float64\n",
      " 16  70대여성 유입인구       85104 non-null  float64\n",
      "dtypes: float64(14), int64(3)\n",
      "memory usage: 11.0 MB\n"
     ]
    },
    {
     "data": {
      "text/plain": "       년월  출발지(야간체류지) 시군코드  도착지 시군코드  10대남성 유입인구  20대남성 유입인구  30대남성 유입인구  \\\n0  202001            11170     41590       19.15       64.28      116.56   \n1  202001            11170     41610       39.55       39.38       48.18   \n2  202001            11170     41630       30.51       21.78       29.73   \n3  202001            11170     41650       29.74       17.65       26.94   \n4  202001            11170     41670        9.37        8.90       21.12   \n\n   40대남성 유입인구  50대남성 유입인구  60대남성 유입인구  70대남성 유입인구  10대여성 유입인구  20대여성 유입인구  \\\n0      136.39      118.72       45.84       13.68       23.83       52.79   \n1       63.35       59.68       29.78       11.60       29.66       30.79   \n2       38.39       37.38       21.49        7.53       21.10       12.57   \n3       35.66       32.29       21.60       12.11       31.00       20.25   \n4       17.89       22.00       10.84        2.60       14.36       16.70   \n\n   30대여성 유입인구  40대여성 유입인구  50대여성 유입인구  60대여성 유입인구  70대여성 유입인구  \n0       67.96       51.08       33.53       26.28       16.03  \n1       44.08       36.09       25.58       16.77        9.27  \n2       21.77       24.48       25.13       17.43       11.46  \n3       19.12       27.59       23.03       15.15        7.43  \n4       21.71       15.95       11.51        8.15        4.50  ",
      "text/html": "<div>\n<style scoped>\n    .dataframe tbody tr th:only-of-type {\n        vertical-align: middle;\n    }\n\n    .dataframe tbody tr th {\n        vertical-align: top;\n    }\n\n    .dataframe thead th {\n        text-align: right;\n    }\n</style>\n<table border=\"1\" class=\"dataframe\">\n  <thead>\n    <tr style=\"text-align: right;\">\n      <th></th>\n      <th>년월</th>\n      <th>출발지(야간체류지) 시군코드</th>\n      <th>도착지 시군코드</th>\n      <th>10대남성 유입인구</th>\n      <th>20대남성 유입인구</th>\n      <th>30대남성 유입인구</th>\n      <th>40대남성 유입인구</th>\n      <th>50대남성 유입인구</th>\n      <th>60대남성 유입인구</th>\n      <th>70대남성 유입인구</th>\n      <th>10대여성 유입인구</th>\n      <th>20대여성 유입인구</th>\n      <th>30대여성 유입인구</th>\n      <th>40대여성 유입인구</th>\n      <th>50대여성 유입인구</th>\n      <th>60대여성 유입인구</th>\n      <th>70대여성 유입인구</th>\n    </tr>\n  </thead>\n  <tbody>\n    <tr>\n      <th>0</th>\n      <td>202001</td>\n      <td>11170</td>\n      <td>41590</td>\n      <td>19.15</td>\n      <td>64.28</td>\n      <td>116.56</td>\n      <td>136.39</td>\n      <td>118.72</td>\n      <td>45.84</td>\n      <td>13.68</td>\n      <td>23.83</td>\n      <td>52.79</td>\n      <td>67.96</td>\n      <td>51.08</td>\n      <td>33.53</td>\n      <td>26.28</td>\n      <td>16.03</td>\n    </tr>\n    <tr>\n      <th>1</th>\n      <td>202001</td>\n      <td>11170</td>\n      <td>41610</td>\n      <td>39.55</td>\n      <td>39.38</td>\n      <td>48.18</td>\n      <td>63.35</td>\n      <td>59.68</td>\n      <td>29.78</td>\n      <td>11.60</td>\n      <td>29.66</td>\n      <td>30.79</td>\n      <td>44.08</td>\n      <td>36.09</td>\n      <td>25.58</td>\n      <td>16.77</td>\n      <td>9.27</td>\n    </tr>\n    <tr>\n      <th>2</th>\n      <td>202001</td>\n      <td>11170</td>\n      <td>41630</td>\n      <td>30.51</td>\n      <td>21.78</td>\n      <td>29.73</td>\n      <td>38.39</td>\n      <td>37.38</td>\n      <td>21.49</td>\n      <td>7.53</td>\n      <td>21.10</td>\n      <td>12.57</td>\n      <td>21.77</td>\n      <td>24.48</td>\n      <td>25.13</td>\n      <td>17.43</td>\n      <td>11.46</td>\n    </tr>\n    <tr>\n      <th>3</th>\n      <td>202001</td>\n      <td>11170</td>\n      <td>41650</td>\n      <td>29.74</td>\n      <td>17.65</td>\n      <td>26.94</td>\n      <td>35.66</td>\n      <td>32.29</td>\n      <td>21.60</td>\n      <td>12.11</td>\n      <td>31.00</td>\n      <td>20.25</td>\n      <td>19.12</td>\n      <td>27.59</td>\n      <td>23.03</td>\n      <td>15.15</td>\n      <td>7.43</td>\n    </tr>\n    <tr>\n      <th>4</th>\n      <td>202001</td>\n      <td>11170</td>\n      <td>41670</td>\n      <td>9.37</td>\n      <td>8.90</td>\n      <td>21.12</td>\n      <td>17.89</td>\n      <td>22.00</td>\n      <td>10.84</td>\n      <td>2.60</td>\n      <td>14.36</td>\n      <td>16.70</td>\n      <td>21.71</td>\n      <td>15.95</td>\n      <td>11.51</td>\n      <td>8.15</td>\n      <td>4.50</td>\n    </tr>\n  </tbody>\n</table>\n</div>"
     },
     "execution_count": 2,
     "metadata": {},
     "output_type": "execute_result"
    }
   ],
   "source": [
    "# 데이터 불러오기\n",
    "fp_df = pd.read_csv(\"Dataset/시군별유동인구데이터.csv\")\n",
    "\n",
    "print(\"data shape:\", fp_df.shape)\n",
    "fp_df.info()\n",
    "fp_df.head()"
   ],
   "metadata": {
    "collapsed": false,
    "pycharm": {
     "name": "#%%\n"
    }
   }
  },
  {
   "cell_type": "code",
   "execution_count": 3,
   "outputs": [
    {
     "name": "stdout",
     "output_type": "stream",
     "text": [
      "\n",
      "08월 41550지역의 40대 남성들의 유동인구를 확인합니다\n"
     ]
    }
   ],
   "source": [
    "# 데이터 전처리\n",
    "\n",
    "destination = input(\">>> 확인할 지역 입력: \")\n",
    "gender = input(\">>> 성별 입력 (남성 / 여성): \")\n",
    "age = input(\">>> 확인할 나이대 입력(숫자만 입력): \")\n",
    "month = input(\">>> 확인할 달 입력(예 : 2월 --> 02): \")\n",
    "\n",
    "print(\"\\n\" + month+ \"월 \" + destination + \"지역의 \" + age + \"대 \" + gender + \"들의 유동인구를 확인합니다\")\n",
    "check_column = age + '대' + gender + ' ' + '유입인구'\n",
    "month= '2020' + month"
   ],
   "metadata": {
    "collapsed": false,
    "pycharm": {
     "name": "#%%\n"
    }
   }
  },
  {
   "cell_type": "code",
   "execution_count": 4,
   "outputs": [
    {
     "data": {
      "text/plain": "    출발지  40대남성 유입인구\n0    11     1338.59\n1    26       88.14\n2    27       81.27\n3    28      402.61\n4    29       51.29\n5    30      164.13\n6    31       25.94\n7    36       46.19\n8    41    22778.07\n9    42       95.58\n10   43      558.85\n11   44     1176.97\n12   45      112.82\n13   46       51.92\n14   47      103.79\n15   48      113.55\n16   50       24.78",
      "text/html": "<div>\n<style scoped>\n    .dataframe tbody tr th:only-of-type {\n        vertical-align: middle;\n    }\n\n    .dataframe tbody tr th {\n        vertical-align: top;\n    }\n\n    .dataframe thead th {\n        text-align: right;\n    }\n</style>\n<table border=\"1\" class=\"dataframe\">\n  <thead>\n    <tr style=\"text-align: right;\">\n      <th></th>\n      <th>출발지</th>\n      <th>40대남성 유입인구</th>\n    </tr>\n  </thead>\n  <tbody>\n    <tr>\n      <th>0</th>\n      <td>11</td>\n      <td>1338.59</td>\n    </tr>\n    <tr>\n      <th>1</th>\n      <td>26</td>\n      <td>88.14</td>\n    </tr>\n    <tr>\n      <th>2</th>\n      <td>27</td>\n      <td>81.27</td>\n    </tr>\n    <tr>\n      <th>3</th>\n      <td>28</td>\n      <td>402.61</td>\n    </tr>\n    <tr>\n      <th>4</th>\n      <td>29</td>\n      <td>51.29</td>\n    </tr>\n    <tr>\n      <th>5</th>\n      <td>30</td>\n      <td>164.13</td>\n    </tr>\n    <tr>\n      <th>6</th>\n      <td>31</td>\n      <td>25.94</td>\n    </tr>\n    <tr>\n      <th>7</th>\n      <td>36</td>\n      <td>46.19</td>\n    </tr>\n    <tr>\n      <th>8</th>\n      <td>41</td>\n      <td>22778.07</td>\n    </tr>\n    <tr>\n      <th>9</th>\n      <td>42</td>\n      <td>95.58</td>\n    </tr>\n    <tr>\n      <th>10</th>\n      <td>43</td>\n      <td>558.85</td>\n    </tr>\n    <tr>\n      <th>11</th>\n      <td>44</td>\n      <td>1176.97</td>\n    </tr>\n    <tr>\n      <th>12</th>\n      <td>45</td>\n      <td>112.82</td>\n    </tr>\n    <tr>\n      <th>13</th>\n      <td>46</td>\n      <td>51.92</td>\n    </tr>\n    <tr>\n      <th>14</th>\n      <td>47</td>\n      <td>103.79</td>\n    </tr>\n    <tr>\n      <th>15</th>\n      <td>48</td>\n      <td>113.55</td>\n    </tr>\n    <tr>\n      <th>16</th>\n      <td>50</td>\n      <td>24.78</td>\n    </tr>\n  </tbody>\n</table>\n</div>"
     },
     "execution_count": 4,
     "metadata": {},
     "output_type": "execute_result"
    }
   ],
   "source": [
    "# DataFrame 핸들링\n",
    "data = fp_df.loc[:, ['년월','출발지(야간체류지) 시군코드','도착지 시군코드',check_column]][fp_df['년월'] == int(month)]\n",
    "data_simple = data[data['도착지 시군코드'] == int(destination)]\n",
    "data_simple = data_simple.drop(['년월','도착지 시군코드'], axis=1)\n",
    "data_simple['출발지'] = data_simple['출발지(야간체류지) 시군코드'] - (data_simple['출발지(야간체류지) 시군코드']%1000)\n",
    "data_simple['출발지'] = data_simple['출발지']/1000\n",
    "data_simple['출발지'] = data_simple['출발지'].astype(int)\n",
    "data_simple=data_simple.drop('출발지(야간체류지) 시군코드',axis=1)\n",
    "return_data = data_simple.groupby('출발지', as_index=False).sum()\n",
    "return_data"
   ],
   "metadata": {
    "collapsed": false,
    "pycharm": {
     "name": "#%%\n"
    }
   }
  },
  {
   "cell_type": "code",
   "execution_count": 5,
   "outputs": [
    {
     "data": {
      "text/plain": "    출발지  40대남성 유입인구     ADDR    lat    long\n0    11     1338.59    서울특별시  37.56   126.9\n1    26       88.14    부산광역시  35.16   129.0\n2    27       81.27    대구광역시  35.87  128.53\n3    28      402.61    인천광역시  37.46   126.6\n4    29       51.29    광주광역시  35.17   126.8\n5    30      164.13    대전광역시  36.37  127.35\n6    31       25.94    울산광역시  35.56  129.28\n7    36       46.19  세종특별자치시  36.25  127.24\n8    41    22778.07      경기도  37.59  126.53\n9    42       95.58      강원도  37.86  127.68\n10   43      558.85     충청북도  36.63  127.68\n11   44     1176.97     충청남도  36.53  126.51\n12   45      112.82     전라북도  35.72  126.64\n13   46       51.92     전라남도  34.69  125.93\n14   47      103.79     경상북도  36.55  129.28\n15   48      113.55     경상남도  35.18  127.83\n16   50       24.78  제주특별자치도  33.57  126.29",
      "text/html": "<div>\n<style scoped>\n    .dataframe tbody tr th:only-of-type {\n        vertical-align: middle;\n    }\n\n    .dataframe tbody tr th {\n        vertical-align: top;\n    }\n\n    .dataframe thead th {\n        text-align: right;\n    }\n</style>\n<table border=\"1\" class=\"dataframe\">\n  <thead>\n    <tr style=\"text-align: right;\">\n      <th></th>\n      <th>출발지</th>\n      <th>40대남성 유입인구</th>\n      <th>ADDR</th>\n      <th>lat</th>\n      <th>long</th>\n    </tr>\n  </thead>\n  <tbody>\n    <tr>\n      <th>0</th>\n      <td>11</td>\n      <td>1338.59</td>\n      <td>서울특별시</td>\n      <td>37.56</td>\n      <td>126.9</td>\n    </tr>\n    <tr>\n      <th>1</th>\n      <td>26</td>\n      <td>88.14</td>\n      <td>부산광역시</td>\n      <td>35.16</td>\n      <td>129.0</td>\n    </tr>\n    <tr>\n      <th>2</th>\n      <td>27</td>\n      <td>81.27</td>\n      <td>대구광역시</td>\n      <td>35.87</td>\n      <td>128.53</td>\n    </tr>\n    <tr>\n      <th>3</th>\n      <td>28</td>\n      <td>402.61</td>\n      <td>인천광역시</td>\n      <td>37.46</td>\n      <td>126.6</td>\n    </tr>\n    <tr>\n      <th>4</th>\n      <td>29</td>\n      <td>51.29</td>\n      <td>광주광역시</td>\n      <td>35.17</td>\n      <td>126.8</td>\n    </tr>\n    <tr>\n      <th>5</th>\n      <td>30</td>\n      <td>164.13</td>\n      <td>대전광역시</td>\n      <td>36.37</td>\n      <td>127.35</td>\n    </tr>\n    <tr>\n      <th>6</th>\n      <td>31</td>\n      <td>25.94</td>\n      <td>울산광역시</td>\n      <td>35.56</td>\n      <td>129.28</td>\n    </tr>\n    <tr>\n      <th>7</th>\n      <td>36</td>\n      <td>46.19</td>\n      <td>세종특별자치시</td>\n      <td>36.25</td>\n      <td>127.24</td>\n    </tr>\n    <tr>\n      <th>8</th>\n      <td>41</td>\n      <td>22778.07</td>\n      <td>경기도</td>\n      <td>37.59</td>\n      <td>126.53</td>\n    </tr>\n    <tr>\n      <th>9</th>\n      <td>42</td>\n      <td>95.58</td>\n      <td>강원도</td>\n      <td>37.86</td>\n      <td>127.68</td>\n    </tr>\n    <tr>\n      <th>10</th>\n      <td>43</td>\n      <td>558.85</td>\n      <td>충청북도</td>\n      <td>36.63</td>\n      <td>127.68</td>\n    </tr>\n    <tr>\n      <th>11</th>\n      <td>44</td>\n      <td>1176.97</td>\n      <td>충청남도</td>\n      <td>36.53</td>\n      <td>126.51</td>\n    </tr>\n    <tr>\n      <th>12</th>\n      <td>45</td>\n      <td>112.82</td>\n      <td>전라북도</td>\n      <td>35.72</td>\n      <td>126.64</td>\n    </tr>\n    <tr>\n      <th>13</th>\n      <td>46</td>\n      <td>51.92</td>\n      <td>전라남도</td>\n      <td>34.69</td>\n      <td>125.93</td>\n    </tr>\n    <tr>\n      <th>14</th>\n      <td>47</td>\n      <td>103.79</td>\n      <td>경상북도</td>\n      <td>36.55</td>\n      <td>129.28</td>\n    </tr>\n    <tr>\n      <th>15</th>\n      <td>48</td>\n      <td>113.55</td>\n      <td>경상남도</td>\n      <td>35.18</td>\n      <td>127.83</td>\n    </tr>\n    <tr>\n      <th>16</th>\n      <td>50</td>\n      <td>24.78</td>\n      <td>제주특별자치도</td>\n      <td>33.57</td>\n      <td>126.29</td>\n    </tr>\n  </tbody>\n</table>\n</div>"
     },
     "execution_count": 5,
     "metadata": {},
     "output_type": "execute_result"
    }
   ],
   "source": [
    "# 시군코드 - 도시명 연결\n",
    "condition_list = [\n",
    "    (return_data['출발지'] == 11),\n",
    "    (return_data['출발지'] == 26),\n",
    "    (return_data['출발지'] == 27),\n",
    "    (return_data['출발지'] == 28),\n",
    "    (return_data['출발지'] == 29),\n",
    "    (return_data['출발지'] == 30),\n",
    "    (return_data['출발지'] == 31),\n",
    "    (return_data['출발지'] == 36),\n",
    "    (return_data['출발지'] == 41),\n",
    "    (return_data['출발지'] == 42),\n",
    "    (return_data['출발지'] == 43),\n",
    "    (return_data['출발지'] == 44),\n",
    "    (return_data['출발지'] == 45),\n",
    "    (return_data['출발지'] == 46),\n",
    "    (return_data['출발지'] == 47),\n",
    "    (return_data['출발지'] == 48),\n",
    "    (return_data['출발지'] == 50)\n",
    "]\n",
    "city_list = ['서울특별시', '부산광역시', '대구광역시', '인천광역시',\n",
    "               '광주광역시', '대전광역시', '울산광역시', '세종특별자치시',\n",
    "               '경기도', '강원도', '충청북도', '충청남도', '전라북도',\n",
    "               '전라남도', '경상북도', '경상남도', '제주특별자치도']\n",
    "\n",
    "lat_list = [37.56, 35.16, 35.87, 37.46, 35.17, 36.37, 35.56, 36.25,\n",
    "            37.59, 37.86, 36.63, 36.53, 35.72, 34.69, 36.55, 35.18, 33.57]\n",
    "long_list = [126.90, 129.00, 128.53, 126.60, 126.80, 127.35, 129.28,\n",
    "             127.24, 126.53, 127.68, 127.68, 126.51, 126.64, 125.93,\n",
    "             129.28, 127.83, 126.29]\n",
    "\n",
    "return_data['ADDR'] = np.select(condition_list, city_list, default='Not Specified')\n",
    "return_data['lat'] = np.select(condition_list, lat_list, default='Not Specified')\n",
    "return_data['long'] = np.select(condition_list, long_list, default='Not Specified')\n",
    "\n",
    "return_data # 확인용 출력"
   ],
   "metadata": {
    "collapsed": false,
    "pycharm": {
     "name": "#%%\n"
    }
   }
  },
  {
   "cell_type": "code",
   "execution_count": 6,
   "outputs": [
    {
     "data": {
      "text/plain": "    출발지  40대남성 유입인구     ADDR    lat    long\n0    50       24.78  제주특별자치도  33.57  126.29\n1    31       25.94    울산광역시  35.56  129.28\n2    36       46.19  세종특별자치시  36.25  127.24\n3    29       51.29    광주광역시  35.17   126.8\n4    46       51.92     전라남도  34.69  125.93\n5    27       81.27    대구광역시  35.87  128.53\n6    26       88.14    부산광역시  35.16   129.0\n7    42       95.58      강원도  37.86  127.68\n8    47      103.79     경상북도  36.55  129.28\n9    45      112.82     전라북도  35.72  126.64\n10   48      113.55     경상남도  35.18  127.83\n11   30      164.13    대전광역시  36.37  127.35\n12   28      402.61    인천광역시  37.46   126.6\n13   43      558.85     충청북도  36.63  127.68\n14   44     1176.97     충청남도  36.53  126.51\n15   11     1338.59    서울특별시  37.56   126.9\n16   41    22778.07      경기도  37.59  126.53",
      "text/html": "<div>\n<style scoped>\n    .dataframe tbody tr th:only-of-type {\n        vertical-align: middle;\n    }\n\n    .dataframe tbody tr th {\n        vertical-align: top;\n    }\n\n    .dataframe thead th {\n        text-align: right;\n    }\n</style>\n<table border=\"1\" class=\"dataframe\">\n  <thead>\n    <tr style=\"text-align: right;\">\n      <th></th>\n      <th>출발지</th>\n      <th>40대남성 유입인구</th>\n      <th>ADDR</th>\n      <th>lat</th>\n      <th>long</th>\n    </tr>\n  </thead>\n  <tbody>\n    <tr>\n      <th>0</th>\n      <td>50</td>\n      <td>24.78</td>\n      <td>제주특별자치도</td>\n      <td>33.57</td>\n      <td>126.29</td>\n    </tr>\n    <tr>\n      <th>1</th>\n      <td>31</td>\n      <td>25.94</td>\n      <td>울산광역시</td>\n      <td>35.56</td>\n      <td>129.28</td>\n    </tr>\n    <tr>\n      <th>2</th>\n      <td>36</td>\n      <td>46.19</td>\n      <td>세종특별자치시</td>\n      <td>36.25</td>\n      <td>127.24</td>\n    </tr>\n    <tr>\n      <th>3</th>\n      <td>29</td>\n      <td>51.29</td>\n      <td>광주광역시</td>\n      <td>35.17</td>\n      <td>126.8</td>\n    </tr>\n    <tr>\n      <th>4</th>\n      <td>46</td>\n      <td>51.92</td>\n      <td>전라남도</td>\n      <td>34.69</td>\n      <td>125.93</td>\n    </tr>\n    <tr>\n      <th>5</th>\n      <td>27</td>\n      <td>81.27</td>\n      <td>대구광역시</td>\n      <td>35.87</td>\n      <td>128.53</td>\n    </tr>\n    <tr>\n      <th>6</th>\n      <td>26</td>\n      <td>88.14</td>\n      <td>부산광역시</td>\n      <td>35.16</td>\n      <td>129.0</td>\n    </tr>\n    <tr>\n      <th>7</th>\n      <td>42</td>\n      <td>95.58</td>\n      <td>강원도</td>\n      <td>37.86</td>\n      <td>127.68</td>\n    </tr>\n    <tr>\n      <th>8</th>\n      <td>47</td>\n      <td>103.79</td>\n      <td>경상북도</td>\n      <td>36.55</td>\n      <td>129.28</td>\n    </tr>\n    <tr>\n      <th>9</th>\n      <td>45</td>\n      <td>112.82</td>\n      <td>전라북도</td>\n      <td>35.72</td>\n      <td>126.64</td>\n    </tr>\n    <tr>\n      <th>10</th>\n      <td>48</td>\n      <td>113.55</td>\n      <td>경상남도</td>\n      <td>35.18</td>\n      <td>127.83</td>\n    </tr>\n    <tr>\n      <th>11</th>\n      <td>30</td>\n      <td>164.13</td>\n      <td>대전광역시</td>\n      <td>36.37</td>\n      <td>127.35</td>\n    </tr>\n    <tr>\n      <th>12</th>\n      <td>28</td>\n      <td>402.61</td>\n      <td>인천광역시</td>\n      <td>37.46</td>\n      <td>126.6</td>\n    </tr>\n    <tr>\n      <th>13</th>\n      <td>43</td>\n      <td>558.85</td>\n      <td>충청북도</td>\n      <td>36.63</td>\n      <td>127.68</td>\n    </tr>\n    <tr>\n      <th>14</th>\n      <td>44</td>\n      <td>1176.97</td>\n      <td>충청남도</td>\n      <td>36.53</td>\n      <td>126.51</td>\n    </tr>\n    <tr>\n      <th>15</th>\n      <td>11</td>\n      <td>1338.59</td>\n      <td>서울특별시</td>\n      <td>37.56</td>\n      <td>126.9</td>\n    </tr>\n    <tr>\n      <th>16</th>\n      <td>41</td>\n      <td>22778.07</td>\n      <td>경기도</td>\n      <td>37.59</td>\n      <td>126.53</td>\n    </tr>\n  </tbody>\n</table>\n</div>"
     },
     "execution_count": 6,
     "metadata": {},
     "output_type": "execute_result"
    }
   ],
   "source": [
    "# 가공된 DataFrame 정렬\n",
    "return_data_sorted = return_data.sort_values(by=[check_column], ascending=True)\n",
    "return_data_sorted = return_data_sorted.reset_index()\n",
    "return_data_sorted = return_data_sorted.drop('index', axis=1)\n",
    "return_data_sorted #확인용 출력"
   ],
   "metadata": {
    "collapsed": false,
    "pycharm": {
     "name": "#%%\n"
    }
   }
  },
  {
   "cell_type": "code",
   "execution_count": 7,
   "outputs": [],
   "source": [
    "# folium을 이용하여 지도 핸들링\n",
    "map = folium.Map(location=[35.38, 127.51], zoom_start=6)"
   ],
   "metadata": {
    "collapsed": false,
    "pycharm": {
     "name": "#%%\n"
    }
   }
  },
  {
   "cell_type": "code",
   "execution_count": 8,
   "outputs": [],
   "source": [
    "# Marker로 지도에 아이콘 표시\n",
    "#for lat, long, addr, fp in zip(lat_list, long_list, return_data['ADDR'], return_data[check_column]):\n",
    "#    folium.Marker(\n",
    "#        location=[lat, long],\n",
    "#        popup=(addr, fp),\n",
    "#        icon=folium.Icon(color='red', icon='star')\n",
    "#    ).add_to(map)\n",
    "#map"
   ],
   "metadata": {
    "collapsed": false,
    "pycharm": {
     "name": "#%%\n"
    }
   }
  },
  {
   "cell_type": "code",
   "execution_count": 9,
   "outputs": [
    {
     "data": {
      "text/plain": "<folium.folium.Map at 0x29ea9eff0d0>",
      "text/html": "<div style=\"width:100%;\"><div style=\"position:relative;width:100%;height:0;padding-bottom:60%;\"><span style=\"color:#565656\">Make this Notebook Trusted to load map: File -> Trust Notebook</span><iframe src=\"about:blank\" style=\"position:absolute;width:100%;height:100%;left:0;top:0;border:none !important;\" data-html=%3C%21DOCTYPE%20html%3E%0A%3Chead%3E%20%20%20%20%0A%20%20%20%20%3Cmeta%20http-equiv%3D%22content-type%22%20content%3D%22text/html%3B%20charset%3DUTF-8%22%20/%3E%0A%20%20%20%20%0A%20%20%20%20%20%20%20%20%3Cscript%3E%0A%20%20%20%20%20%20%20%20%20%20%20%20L_NO_TOUCH%20%3D%20false%3B%0A%20%20%20%20%20%20%20%20%20%20%20%20L_DISABLE_3D%20%3D%20false%3B%0A%20%20%20%20%20%20%20%20%3C/script%3E%0A%20%20%20%20%0A%20%20%20%20%3Cstyle%3Ehtml%2C%20body%20%7Bwidth%3A%20100%25%3Bheight%3A%20100%25%3Bmargin%3A%200%3Bpadding%3A%200%3B%7D%3C/style%3E%0A%20%20%20%20%3Cstyle%3E%23map%20%7Bposition%3Aabsolute%3Btop%3A0%3Bbottom%3A0%3Bright%3A0%3Bleft%3A0%3B%7D%3C/style%3E%0A%20%20%20%20%3Cscript%20src%3D%22https%3A//cdn.jsdelivr.net/npm/leaflet%401.6.0/dist/leaflet.js%22%3E%3C/script%3E%0A%20%20%20%20%3Cscript%20src%3D%22https%3A//code.jquery.com/jquery-1.12.4.min.js%22%3E%3C/script%3E%0A%20%20%20%20%3Cscript%20src%3D%22https%3A//maxcdn.bootstrapcdn.com/bootstrap/3.2.0/js/bootstrap.min.js%22%3E%3C/script%3E%0A%20%20%20%20%3Cscript%20src%3D%22https%3A//cdnjs.cloudflare.com/ajax/libs/Leaflet.awesome-markers/2.0.2/leaflet.awesome-markers.js%22%3E%3C/script%3E%0A%20%20%20%20%3Clink%20rel%3D%22stylesheet%22%20href%3D%22https%3A//cdn.jsdelivr.net/npm/leaflet%401.6.0/dist/leaflet.css%22/%3E%0A%20%20%20%20%3Clink%20rel%3D%22stylesheet%22%20href%3D%22https%3A//maxcdn.bootstrapcdn.com/bootstrap/3.2.0/css/bootstrap.min.css%22/%3E%0A%20%20%20%20%3Clink%20rel%3D%22stylesheet%22%20href%3D%22https%3A//maxcdn.bootstrapcdn.com/bootstrap/3.2.0/css/bootstrap-theme.min.css%22/%3E%0A%20%20%20%20%3Clink%20rel%3D%22stylesheet%22%20href%3D%22https%3A//maxcdn.bootstrapcdn.com/font-awesome/4.6.3/css/font-awesome.min.css%22/%3E%0A%20%20%20%20%3Clink%20rel%3D%22stylesheet%22%20href%3D%22https%3A//cdnjs.cloudflare.com/ajax/libs/Leaflet.awesome-markers/2.0.2/leaflet.awesome-markers.css%22/%3E%0A%20%20%20%20%3Clink%20rel%3D%22stylesheet%22%20href%3D%22https%3A//cdn.jsdelivr.net/gh/python-visualization/folium/folium/templates/leaflet.awesome.rotate.min.css%22/%3E%0A%20%20%20%20%0A%20%20%20%20%20%20%20%20%20%20%20%20%3Cmeta%20name%3D%22viewport%22%20content%3D%22width%3Ddevice-width%2C%0A%20%20%20%20%20%20%20%20%20%20%20%20%20%20%20%20initial-scale%3D1.0%2C%20maximum-scale%3D1.0%2C%20user-scalable%3Dno%22%20/%3E%0A%20%20%20%20%20%20%20%20%20%20%20%20%3Cstyle%3E%0A%20%20%20%20%20%20%20%20%20%20%20%20%20%20%20%20%23map_1290c90e273d4048bef492fb44716e01%20%7B%0A%20%20%20%20%20%20%20%20%20%20%20%20%20%20%20%20%20%20%20%20position%3A%20relative%3B%0A%20%20%20%20%20%20%20%20%20%20%20%20%20%20%20%20%20%20%20%20width%3A%20100.0%25%3B%0A%20%20%20%20%20%20%20%20%20%20%20%20%20%20%20%20%20%20%20%20height%3A%20100.0%25%3B%0A%20%20%20%20%20%20%20%20%20%20%20%20%20%20%20%20%20%20%20%20left%3A%200.0%25%3B%0A%20%20%20%20%20%20%20%20%20%20%20%20%20%20%20%20%20%20%20%20top%3A%200.0%25%3B%0A%20%20%20%20%20%20%20%20%20%20%20%20%20%20%20%20%7D%0A%20%20%20%20%20%20%20%20%20%20%20%20%3C/style%3E%0A%20%20%20%20%20%20%20%20%0A%3C/head%3E%0A%3Cbody%3E%20%20%20%20%0A%20%20%20%20%0A%20%20%20%20%20%20%20%20%20%20%20%20%3Cdiv%20class%3D%22folium-map%22%20id%3D%22map_1290c90e273d4048bef492fb44716e01%22%20%3E%3C/div%3E%0A%20%20%20%20%20%20%20%20%0A%3C/body%3E%0A%3Cscript%3E%20%20%20%20%0A%20%20%20%20%0A%20%20%20%20%20%20%20%20%20%20%20%20var%20map_1290c90e273d4048bef492fb44716e01%20%3D%20L.map%28%0A%20%20%20%20%20%20%20%20%20%20%20%20%20%20%20%20%22map_1290c90e273d4048bef492fb44716e01%22%2C%0A%20%20%20%20%20%20%20%20%20%20%20%20%20%20%20%20%7B%0A%20%20%20%20%20%20%20%20%20%20%20%20%20%20%20%20%20%20%20%20center%3A%20%5B35.38%2C%20127.51%5D%2C%0A%20%20%20%20%20%20%20%20%20%20%20%20%20%20%20%20%20%20%20%20crs%3A%20L.CRS.EPSG3857%2C%0A%20%20%20%20%20%20%20%20%20%20%20%20%20%20%20%20%20%20%20%20zoom%3A%206%2C%0A%20%20%20%20%20%20%20%20%20%20%20%20%20%20%20%20%20%20%20%20zoomControl%3A%20true%2C%0A%20%20%20%20%20%20%20%20%20%20%20%20%20%20%20%20%20%20%20%20preferCanvas%3A%20false%2C%0A%20%20%20%20%20%20%20%20%20%20%20%20%20%20%20%20%7D%0A%20%20%20%20%20%20%20%20%20%20%20%20%29%3B%0A%0A%20%20%20%20%20%20%20%20%20%20%20%20%0A%0A%20%20%20%20%20%20%20%20%0A%20%20%20%20%0A%20%20%20%20%20%20%20%20%20%20%20%20var%20tile_layer_044db9ad5d3f473292ea6541c0dc8124%20%3D%20L.tileLayer%28%0A%20%20%20%20%20%20%20%20%20%20%20%20%20%20%20%20%22https%3A//%7Bs%7D.tile.openstreetmap.org/%7Bz%7D/%7Bx%7D/%7By%7D.png%22%2C%0A%20%20%20%20%20%20%20%20%20%20%20%20%20%20%20%20%7B%22attribution%22%3A%20%22Data%20by%20%5Cu0026copy%3B%20%5Cu003ca%20href%3D%5C%22http%3A//openstreetmap.org%5C%22%5Cu003eOpenStreetMap%5Cu003c/a%5Cu003e%2C%20under%20%5Cu003ca%20href%3D%5C%22http%3A//www.openstreetmap.org/copyright%5C%22%5Cu003eODbL%5Cu003c/a%5Cu003e.%22%2C%20%22detectRetina%22%3A%20false%2C%20%22maxNativeZoom%22%3A%2018%2C%20%22maxZoom%22%3A%2018%2C%20%22minZoom%22%3A%200%2C%20%22noWrap%22%3A%20false%2C%20%22opacity%22%3A%201%2C%20%22subdomains%22%3A%20%22abc%22%2C%20%22tms%22%3A%20false%7D%0A%20%20%20%20%20%20%20%20%20%20%20%20%29.addTo%28map_1290c90e273d4048bef492fb44716e01%29%3B%0A%20%20%20%20%20%20%20%20%0A%20%20%20%20%0A%20%20%20%20%20%20%20%20%20%20%20%20var%20circle_marker_2ead09f851bf4057ac7e3425d868aaef%20%3D%20L.circleMarker%28%0A%20%20%20%20%20%20%20%20%20%20%20%20%20%20%20%20%5B37.56%2C%20126.9%5D%2C%0A%20%20%20%20%20%20%20%20%20%20%20%20%20%20%20%20%7B%22bubblingMouseEvents%22%3A%20true%2C%20%22color%22%3A%20%22%233388ff%22%2C%20%22dashArray%22%3A%20null%2C%20%22dashOffset%22%3A%20null%2C%20%22fill%22%3A%20true%2C%20%22fillColor%22%3A%20%22%233388ff%22%2C%20%22fillOpacity%22%3A%200.3%2C%20%22fillRule%22%3A%20%22evenodd%22%2C%20%22lineCap%22%3A%20%22round%22%2C%20%22lineJoin%22%3A%20%22round%22%2C%20%22opacity%22%3A%201.0%2C%20%22radius%22%3A%206%2C%20%22stroke%22%3A%20true%2C%20%22weight%22%3A%203%7D%0A%20%20%20%20%20%20%20%20%20%20%20%20%29.addTo%28map_1290c90e273d4048bef492fb44716e01%29%3B%0A%20%20%20%20%20%20%20%20%0A%20%20%20%20%0A%20%20%20%20%20%20%20%20var%20popup_0c97c520253a45c784ffe2d29c73b89c%20%3D%20L.popup%28%7B%22maxWidth%22%3A%20%22100%25%22%7D%29%3B%0A%0A%20%20%20%20%20%20%20%20%0A%20%20%20%20%20%20%20%20%20%20%20%20var%20html_53d7244518244097805a776ec95aae48%20%3D%20%24%28%60%3Cdiv%20id%3D%22html_53d7244518244097805a776ec95aae48%22%20style%3D%22width%3A%20100.0%25%3B%20height%3A%20100.0%25%3B%22%3E%28%27%EC%84%9C%EC%9A%B8%ED%8A%B9%EB%B3%84%EC%8B%9C%27%2C%201338.5899999999997%29%3C/div%3E%60%29%5B0%5D%3B%0A%20%20%20%20%20%20%20%20%20%20%20%20popup_0c97c520253a45c784ffe2d29c73b89c.setContent%28html_53d7244518244097805a776ec95aae48%29%3B%0A%20%20%20%20%20%20%20%20%0A%0A%20%20%20%20%20%20%20%20circle_marker_2ead09f851bf4057ac7e3425d868aaef.bindPopup%28popup_0c97c520253a45c784ffe2d29c73b89c%29%0A%20%20%20%20%20%20%20%20%3B%0A%0A%20%20%20%20%20%20%20%20%0A%20%20%20%20%0A%20%20%20%20%0A%20%20%20%20%20%20%20%20%20%20%20%20var%20circle_marker_8bec783a79df4e80bf853ae1a7c121b6%20%3D%20L.circleMarker%28%0A%20%20%20%20%20%20%20%20%20%20%20%20%20%20%20%20%5B35.16%2C%20129.0%5D%2C%0A%20%20%20%20%20%20%20%20%20%20%20%20%20%20%20%20%7B%22bubblingMouseEvents%22%3A%20true%2C%20%22color%22%3A%20%22%233388ff%22%2C%20%22dashArray%22%3A%20null%2C%20%22dashOffset%22%3A%20null%2C%20%22fill%22%3A%20true%2C%20%22fillColor%22%3A%20%22%233388ff%22%2C%20%22fillOpacity%22%3A%200.3%2C%20%22fillRule%22%3A%20%22evenodd%22%2C%20%22lineCap%22%3A%20%22round%22%2C%20%22lineJoin%22%3A%20%22round%22%2C%20%22opacity%22%3A%201.0%2C%20%22radius%22%3A%207%2C%20%22stroke%22%3A%20true%2C%20%22weight%22%3A%203%7D%0A%20%20%20%20%20%20%20%20%20%20%20%20%29.addTo%28map_1290c90e273d4048bef492fb44716e01%29%3B%0A%20%20%20%20%20%20%20%20%0A%20%20%20%20%0A%20%20%20%20%20%20%20%20var%20popup_cc35a7bff7bb441ea0e73fa7580d0097%20%3D%20L.popup%28%7B%22maxWidth%22%3A%20%22100%25%22%7D%29%3B%0A%0A%20%20%20%20%20%20%20%20%0A%20%20%20%20%20%20%20%20%20%20%20%20var%20html_a392aea800844b2685eb6d965a2a1d46%20%3D%20%24%28%60%3Cdiv%20id%3D%22html_a392aea800844b2685eb6d965a2a1d46%22%20style%3D%22width%3A%20100.0%25%3B%20height%3A%20100.0%25%3B%22%3E%28%27%EB%B6%80%EC%82%B0%EA%B4%91%EC%97%AD%EC%8B%9C%27%2C%2088.14%29%3C/div%3E%60%29%5B0%5D%3B%0A%20%20%20%20%20%20%20%20%20%20%20%20popup_cc35a7bff7bb441ea0e73fa7580d0097.setContent%28html_a392aea800844b2685eb6d965a2a1d46%29%3B%0A%20%20%20%20%20%20%20%20%0A%0A%20%20%20%20%20%20%20%20circle_marker_8bec783a79df4e80bf853ae1a7c121b6.bindPopup%28popup_cc35a7bff7bb441ea0e73fa7580d0097%29%0A%20%20%20%20%20%20%20%20%3B%0A%0A%20%20%20%20%20%20%20%20%0A%20%20%20%20%0A%20%20%20%20%0A%20%20%20%20%20%20%20%20%20%20%20%20var%20circle_marker_ae5f39128ded4192bc2af2df052bc348%20%3D%20L.circleMarker%28%0A%20%20%20%20%20%20%20%20%20%20%20%20%20%20%20%20%5B35.87%2C%20128.53%5D%2C%0A%20%20%20%20%20%20%20%20%20%20%20%20%20%20%20%20%7B%22bubblingMouseEvents%22%3A%20true%2C%20%22color%22%3A%20%22%233388ff%22%2C%20%22dashArray%22%3A%20null%2C%20%22dashOffset%22%3A%20null%2C%20%22fill%22%3A%20true%2C%20%22fillColor%22%3A%20%22%233388ff%22%2C%20%22fillOpacity%22%3A%200.3%2C%20%22fillRule%22%3A%20%22evenodd%22%2C%20%22lineCap%22%3A%20%22round%22%2C%20%22lineJoin%22%3A%20%22round%22%2C%20%22opacity%22%3A%201.0%2C%20%22radius%22%3A%208%2C%20%22stroke%22%3A%20true%2C%20%22weight%22%3A%203%7D%0A%20%20%20%20%20%20%20%20%20%20%20%20%29.addTo%28map_1290c90e273d4048bef492fb44716e01%29%3B%0A%20%20%20%20%20%20%20%20%0A%20%20%20%20%0A%20%20%20%20%20%20%20%20var%20popup_3288d72940a64411b747fd1345fb389a%20%3D%20L.popup%28%7B%22maxWidth%22%3A%20%22100%25%22%7D%29%3B%0A%0A%20%20%20%20%20%20%20%20%0A%20%20%20%20%20%20%20%20%20%20%20%20var%20html_38c31e616bcf4609a0846a428547ed12%20%3D%20%24%28%60%3Cdiv%20id%3D%22html_38c31e616bcf4609a0846a428547ed12%22%20style%3D%22width%3A%20100.0%25%3B%20height%3A%20100.0%25%3B%22%3E%28%27%EB%8C%80%EA%B5%AC%EA%B4%91%EC%97%AD%EC%8B%9C%27%2C%2081.27000000000001%29%3C/div%3E%60%29%5B0%5D%3B%0A%20%20%20%20%20%20%20%20%20%20%20%20popup_3288d72940a64411b747fd1345fb389a.setContent%28html_38c31e616bcf4609a0846a428547ed12%29%3B%0A%20%20%20%20%20%20%20%20%0A%0A%20%20%20%20%20%20%20%20circle_marker_ae5f39128ded4192bc2af2df052bc348.bindPopup%28popup_3288d72940a64411b747fd1345fb389a%29%0A%20%20%20%20%20%20%20%20%3B%0A%0A%20%20%20%20%20%20%20%20%0A%20%20%20%20%0A%20%20%20%20%0A%20%20%20%20%20%20%20%20%20%20%20%20var%20circle_marker_3f3d95ed988f4105b5131b8ba4eba0c0%20%3D%20L.circleMarker%28%0A%20%20%20%20%20%20%20%20%20%20%20%20%20%20%20%20%5B37.46%2C%20126.6%5D%2C%0A%20%20%20%20%20%20%20%20%20%20%20%20%20%20%20%20%7B%22bubblingMouseEvents%22%3A%20true%2C%20%22color%22%3A%20%22%233388ff%22%2C%20%22dashArray%22%3A%20null%2C%20%22dashOffset%22%3A%20null%2C%20%22fill%22%3A%20true%2C%20%22fillColor%22%3A%20%22%233388ff%22%2C%20%22fillOpacity%22%3A%200.3%2C%20%22fillRule%22%3A%20%22evenodd%22%2C%20%22lineCap%22%3A%20%22round%22%2C%20%22lineJoin%22%3A%20%22round%22%2C%20%22opacity%22%3A%201.0%2C%20%22radius%22%3A%209%2C%20%22stroke%22%3A%20true%2C%20%22weight%22%3A%203%7D%0A%20%20%20%20%20%20%20%20%20%20%20%20%29.addTo%28map_1290c90e273d4048bef492fb44716e01%29%3B%0A%20%20%20%20%20%20%20%20%0A%20%20%20%20%0A%20%20%20%20%20%20%20%20var%20popup_ec4f8a503c0b462688ba2c9bde4aa642%20%3D%20L.popup%28%7B%22maxWidth%22%3A%20%22100%25%22%7D%29%3B%0A%0A%20%20%20%20%20%20%20%20%0A%20%20%20%20%20%20%20%20%20%20%20%20var%20html_903c1285cf3f44529e3a5dabd4c62c2b%20%3D%20%24%28%60%3Cdiv%20id%3D%22html_903c1285cf3f44529e3a5dabd4c62c2b%22%20style%3D%22width%3A%20100.0%25%3B%20height%3A%20100.0%25%3B%22%3E%28%27%EC%9D%B8%EC%B2%9C%EA%B4%91%EC%97%AD%EC%8B%9C%27%2C%20402.61000000000007%29%3C/div%3E%60%29%5B0%5D%3B%0A%20%20%20%20%20%20%20%20%20%20%20%20popup_ec4f8a503c0b462688ba2c9bde4aa642.setContent%28html_903c1285cf3f44529e3a5dabd4c62c2b%29%3B%0A%20%20%20%20%20%20%20%20%0A%0A%20%20%20%20%20%20%20%20circle_marker_3f3d95ed988f4105b5131b8ba4eba0c0.bindPopup%28popup_ec4f8a503c0b462688ba2c9bde4aa642%29%0A%20%20%20%20%20%20%20%20%3B%0A%0A%20%20%20%20%20%20%20%20%0A%20%20%20%20%0A%20%20%20%20%0A%20%20%20%20%20%20%20%20%20%20%20%20var%20circle_marker_99f75f0d6faf476f851902d1aca72791%20%3D%20L.circleMarker%28%0A%20%20%20%20%20%20%20%20%20%20%20%20%20%20%20%20%5B35.17%2C%20126.8%5D%2C%0A%20%20%20%20%20%20%20%20%20%20%20%20%20%20%20%20%7B%22bubblingMouseEvents%22%3A%20true%2C%20%22color%22%3A%20%22%233388ff%22%2C%20%22dashArray%22%3A%20null%2C%20%22dashOffset%22%3A%20null%2C%20%22fill%22%3A%20true%2C%20%22fillColor%22%3A%20%22%233388ff%22%2C%20%22fillOpacity%22%3A%200.3%2C%20%22fillRule%22%3A%20%22evenodd%22%2C%20%22lineCap%22%3A%20%22round%22%2C%20%22lineJoin%22%3A%20%22round%22%2C%20%22opacity%22%3A%201.0%2C%20%22radius%22%3A%2010%2C%20%22stroke%22%3A%20true%2C%20%22weight%22%3A%203%7D%0A%20%20%20%20%20%20%20%20%20%20%20%20%29.addTo%28map_1290c90e273d4048bef492fb44716e01%29%3B%0A%20%20%20%20%20%20%20%20%0A%20%20%20%20%0A%20%20%20%20%20%20%20%20var%20popup_b84c6bb5bc734bb99224a5c70bf834af%20%3D%20L.popup%28%7B%22maxWidth%22%3A%20%22100%25%22%7D%29%3B%0A%0A%20%20%20%20%20%20%20%20%0A%20%20%20%20%20%20%20%20%20%20%20%20var%20html_8a965110df024327acd0050efbe5af03%20%3D%20%24%28%60%3Cdiv%20id%3D%22html_8a965110df024327acd0050efbe5af03%22%20style%3D%22width%3A%20100.0%25%3B%20height%3A%20100.0%25%3B%22%3E%28%27%EA%B4%91%EC%A3%BC%EA%B4%91%EC%97%AD%EC%8B%9C%27%2C%2051.29%29%3C/div%3E%60%29%5B0%5D%3B%0A%20%20%20%20%20%20%20%20%20%20%20%20popup_b84c6bb5bc734bb99224a5c70bf834af.setContent%28html_8a965110df024327acd0050efbe5af03%29%3B%0A%20%20%20%20%20%20%20%20%0A%0A%20%20%20%20%20%20%20%20circle_marker_99f75f0d6faf476f851902d1aca72791.bindPopup%28popup_b84c6bb5bc734bb99224a5c70bf834af%29%0A%20%20%20%20%20%20%20%20%3B%0A%0A%20%20%20%20%20%20%20%20%0A%20%20%20%20%0A%20%20%20%20%0A%20%20%20%20%20%20%20%20%20%20%20%20var%20circle_marker_102ce781f38347be88324530a4964493%20%3D%20L.circleMarker%28%0A%20%20%20%20%20%20%20%20%20%20%20%20%20%20%20%20%5B36.37%2C%20127.35%5D%2C%0A%20%20%20%20%20%20%20%20%20%20%20%20%20%20%20%20%7B%22bubblingMouseEvents%22%3A%20true%2C%20%22color%22%3A%20%22%233388ff%22%2C%20%22dashArray%22%3A%20null%2C%20%22dashOffset%22%3A%20null%2C%20%22fill%22%3A%20true%2C%20%22fillColor%22%3A%20%22%233388ff%22%2C%20%22fillOpacity%22%3A%200.3%2C%20%22fillRule%22%3A%20%22evenodd%22%2C%20%22lineCap%22%3A%20%22round%22%2C%20%22lineJoin%22%3A%20%22round%22%2C%20%22opacity%22%3A%201.0%2C%20%22radius%22%3A%2011%2C%20%22stroke%22%3A%20true%2C%20%22weight%22%3A%203%7D%0A%20%20%20%20%20%20%20%20%20%20%20%20%29.addTo%28map_1290c90e273d4048bef492fb44716e01%29%3B%0A%20%20%20%20%20%20%20%20%0A%20%20%20%20%0A%20%20%20%20%20%20%20%20var%20popup_0af6341e1582400e98c3033a8da91917%20%3D%20L.popup%28%7B%22maxWidth%22%3A%20%22100%25%22%7D%29%3B%0A%0A%20%20%20%20%20%20%20%20%0A%20%20%20%20%20%20%20%20%20%20%20%20var%20html_170f0fc27a7f4687940945f3c03d2927%20%3D%20%24%28%60%3Cdiv%20id%3D%22html_170f0fc27a7f4687940945f3c03d2927%22%20style%3D%22width%3A%20100.0%25%3B%20height%3A%20100.0%25%3B%22%3E%28%27%EB%8C%80%EC%A0%84%EA%B4%91%EC%97%AD%EC%8B%9C%27%2C%20164.13%29%3C/div%3E%60%29%5B0%5D%3B%0A%20%20%20%20%20%20%20%20%20%20%20%20popup_0af6341e1582400e98c3033a8da91917.setContent%28html_170f0fc27a7f4687940945f3c03d2927%29%3B%0A%20%20%20%20%20%20%20%20%0A%0A%20%20%20%20%20%20%20%20circle_marker_102ce781f38347be88324530a4964493.bindPopup%28popup_0af6341e1582400e98c3033a8da91917%29%0A%20%20%20%20%20%20%20%20%3B%0A%0A%20%20%20%20%20%20%20%20%0A%20%20%20%20%0A%20%20%20%20%0A%20%20%20%20%20%20%20%20%20%20%20%20var%20circle_marker_36f5aff63f574b2fae5ce09b08b93132%20%3D%20L.circleMarker%28%0A%20%20%20%20%20%20%20%20%20%20%20%20%20%20%20%20%5B35.56%2C%20129.28%5D%2C%0A%20%20%20%20%20%20%20%20%20%20%20%20%20%20%20%20%7B%22bubblingMouseEvents%22%3A%20true%2C%20%22color%22%3A%20%22%233388ff%22%2C%20%22dashArray%22%3A%20null%2C%20%22dashOffset%22%3A%20null%2C%20%22fill%22%3A%20true%2C%20%22fillColor%22%3A%20%22%233388ff%22%2C%20%22fillOpacity%22%3A%200.3%2C%20%22fillRule%22%3A%20%22evenodd%22%2C%20%22lineCap%22%3A%20%22round%22%2C%20%22lineJoin%22%3A%20%22round%22%2C%20%22opacity%22%3A%201.0%2C%20%22radius%22%3A%2012%2C%20%22stroke%22%3A%20true%2C%20%22weight%22%3A%203%7D%0A%20%20%20%20%20%20%20%20%20%20%20%20%29.addTo%28map_1290c90e273d4048bef492fb44716e01%29%3B%0A%20%20%20%20%20%20%20%20%0A%20%20%20%20%0A%20%20%20%20%20%20%20%20var%20popup_64d2a0c087044b27aa18d8bc190fb796%20%3D%20L.popup%28%7B%22maxWidth%22%3A%20%22100%25%22%7D%29%3B%0A%0A%20%20%20%20%20%20%20%20%0A%20%20%20%20%20%20%20%20%20%20%20%20var%20html_59af71be124a47aebf05c17849be2ed4%20%3D%20%24%28%60%3Cdiv%20id%3D%22html_59af71be124a47aebf05c17849be2ed4%22%20style%3D%22width%3A%20100.0%25%3B%20height%3A%20100.0%25%3B%22%3E%28%27%EC%9A%B8%EC%82%B0%EA%B4%91%EC%97%AD%EC%8B%9C%27%2C%2025.94%29%3C/div%3E%60%29%5B0%5D%3B%0A%20%20%20%20%20%20%20%20%20%20%20%20popup_64d2a0c087044b27aa18d8bc190fb796.setContent%28html_59af71be124a47aebf05c17849be2ed4%29%3B%0A%20%20%20%20%20%20%20%20%0A%0A%20%20%20%20%20%20%20%20circle_marker_36f5aff63f574b2fae5ce09b08b93132.bindPopup%28popup_64d2a0c087044b27aa18d8bc190fb796%29%0A%20%20%20%20%20%20%20%20%3B%0A%0A%20%20%20%20%20%20%20%20%0A%20%20%20%20%0A%20%20%20%20%0A%20%20%20%20%20%20%20%20%20%20%20%20var%20circle_marker_c31c0795a9c844069dc5805e77561f72%20%3D%20L.circleMarker%28%0A%20%20%20%20%20%20%20%20%20%20%20%20%20%20%20%20%5B36.25%2C%20127.24%5D%2C%0A%20%20%20%20%20%20%20%20%20%20%20%20%20%20%20%20%7B%22bubblingMouseEvents%22%3A%20true%2C%20%22color%22%3A%20%22%233388ff%22%2C%20%22dashArray%22%3A%20null%2C%20%22dashOffset%22%3A%20null%2C%20%22fill%22%3A%20true%2C%20%22fillColor%22%3A%20%22%233388ff%22%2C%20%22fillOpacity%22%3A%200.3%2C%20%22fillRule%22%3A%20%22evenodd%22%2C%20%22lineCap%22%3A%20%22round%22%2C%20%22lineJoin%22%3A%20%22round%22%2C%20%22opacity%22%3A%201.0%2C%20%22radius%22%3A%2013%2C%20%22stroke%22%3A%20true%2C%20%22weight%22%3A%203%7D%0A%20%20%20%20%20%20%20%20%20%20%20%20%29.addTo%28map_1290c90e273d4048bef492fb44716e01%29%3B%0A%20%20%20%20%20%20%20%20%0A%20%20%20%20%0A%20%20%20%20%20%20%20%20var%20popup_f6dac3bafdac46a8937b21a58525e3f6%20%3D%20L.popup%28%7B%22maxWidth%22%3A%20%22100%25%22%7D%29%3B%0A%0A%20%20%20%20%20%20%20%20%0A%20%20%20%20%20%20%20%20%20%20%20%20var%20html_d1d88ab10832410499b5a14d56dc063c%20%3D%20%24%28%60%3Cdiv%20id%3D%22html_d1d88ab10832410499b5a14d56dc063c%22%20style%3D%22width%3A%20100.0%25%3B%20height%3A%20100.0%25%3B%22%3E%28%27%EC%84%B8%EC%A2%85%ED%8A%B9%EB%B3%84%EC%9E%90%EC%B9%98%EC%8B%9C%27%2C%2046.19%29%3C/div%3E%60%29%5B0%5D%3B%0A%20%20%20%20%20%20%20%20%20%20%20%20popup_f6dac3bafdac46a8937b21a58525e3f6.setContent%28html_d1d88ab10832410499b5a14d56dc063c%29%3B%0A%20%20%20%20%20%20%20%20%0A%0A%20%20%20%20%20%20%20%20circle_marker_c31c0795a9c844069dc5805e77561f72.bindPopup%28popup_f6dac3bafdac46a8937b21a58525e3f6%29%0A%20%20%20%20%20%20%20%20%3B%0A%0A%20%20%20%20%20%20%20%20%0A%20%20%20%20%0A%20%20%20%20%0A%20%20%20%20%20%20%20%20%20%20%20%20var%20circle_marker_0c15d04d2c5345379c0f40cebede35e6%20%3D%20L.circleMarker%28%0A%20%20%20%20%20%20%20%20%20%20%20%20%20%20%20%20%5B37.59%2C%20126.53%5D%2C%0A%20%20%20%20%20%20%20%20%20%20%20%20%20%20%20%20%7B%22bubblingMouseEvents%22%3A%20true%2C%20%22color%22%3A%20%22%233388ff%22%2C%20%22dashArray%22%3A%20null%2C%20%22dashOffset%22%3A%20null%2C%20%22fill%22%3A%20true%2C%20%22fillColor%22%3A%20%22%233388ff%22%2C%20%22fillOpacity%22%3A%200.3%2C%20%22fillRule%22%3A%20%22evenodd%22%2C%20%22lineCap%22%3A%20%22round%22%2C%20%22lineJoin%22%3A%20%22round%22%2C%20%22opacity%22%3A%201.0%2C%20%22radius%22%3A%2014%2C%20%22stroke%22%3A%20true%2C%20%22weight%22%3A%203%7D%0A%20%20%20%20%20%20%20%20%20%20%20%20%29.addTo%28map_1290c90e273d4048bef492fb44716e01%29%3B%0A%20%20%20%20%20%20%20%20%0A%20%20%20%20%0A%20%20%20%20%20%20%20%20var%20popup_fa2e6460aee843d3ad90f4e9ec49d245%20%3D%20L.popup%28%7B%22maxWidth%22%3A%20%22100%25%22%7D%29%3B%0A%0A%20%20%20%20%20%20%20%20%0A%20%20%20%20%20%20%20%20%20%20%20%20var%20html_0c9b2e270a7a4a968f41b3fc1a9ae675%20%3D%20%24%28%60%3Cdiv%20id%3D%22html_0c9b2e270a7a4a968f41b3fc1a9ae675%22%20style%3D%22width%3A%20100.0%25%3B%20height%3A%20100.0%25%3B%22%3E%28%27%EA%B2%BD%EA%B8%B0%EB%8F%84%27%2C%2022778.07%29%3C/div%3E%60%29%5B0%5D%3B%0A%20%20%20%20%20%20%20%20%20%20%20%20popup_fa2e6460aee843d3ad90f4e9ec49d245.setContent%28html_0c9b2e270a7a4a968f41b3fc1a9ae675%29%3B%0A%20%20%20%20%20%20%20%20%0A%0A%20%20%20%20%20%20%20%20circle_marker_0c15d04d2c5345379c0f40cebede35e6.bindPopup%28popup_fa2e6460aee843d3ad90f4e9ec49d245%29%0A%20%20%20%20%20%20%20%20%3B%0A%0A%20%20%20%20%20%20%20%20%0A%20%20%20%20%0A%20%20%20%20%0A%20%20%20%20%20%20%20%20%20%20%20%20var%20circle_marker_d149f0a8867d41a59c8b38f910eb3387%20%3D%20L.circleMarker%28%0A%20%20%20%20%20%20%20%20%20%20%20%20%20%20%20%20%5B37.86%2C%20127.68%5D%2C%0A%20%20%20%20%20%20%20%20%20%20%20%20%20%20%20%20%7B%22bubblingMouseEvents%22%3A%20true%2C%20%22color%22%3A%20%22%233388ff%22%2C%20%22dashArray%22%3A%20null%2C%20%22dashOffset%22%3A%20null%2C%20%22fill%22%3A%20true%2C%20%22fillColor%22%3A%20%22%233388ff%22%2C%20%22fillOpacity%22%3A%200.3%2C%20%22fillRule%22%3A%20%22evenodd%22%2C%20%22lineCap%22%3A%20%22round%22%2C%20%22lineJoin%22%3A%20%22round%22%2C%20%22opacity%22%3A%201.0%2C%20%22radius%22%3A%2015%2C%20%22stroke%22%3A%20true%2C%20%22weight%22%3A%203%7D%0A%20%20%20%20%20%20%20%20%20%20%20%20%29.addTo%28map_1290c90e273d4048bef492fb44716e01%29%3B%0A%20%20%20%20%20%20%20%20%0A%20%20%20%20%0A%20%20%20%20%20%20%20%20var%20popup_a88b7f45c260461f87b4e2d4d0ef4de3%20%3D%20L.popup%28%7B%22maxWidth%22%3A%20%22100%25%22%7D%29%3B%0A%0A%20%20%20%20%20%20%20%20%0A%20%20%20%20%20%20%20%20%20%20%20%20var%20html_f29ef999e77f4246af17a404a0bc8293%20%3D%20%24%28%60%3Cdiv%20id%3D%22html_f29ef999e77f4246af17a404a0bc8293%22%20style%3D%22width%3A%20100.0%25%3B%20height%3A%20100.0%25%3B%22%3E%28%27%EA%B0%95%EC%9B%90%EB%8F%84%27%2C%2095.58000000000001%29%3C/div%3E%60%29%5B0%5D%3B%0A%20%20%20%20%20%20%20%20%20%20%20%20popup_a88b7f45c260461f87b4e2d4d0ef4de3.setContent%28html_f29ef999e77f4246af17a404a0bc8293%29%3B%0A%20%20%20%20%20%20%20%20%0A%0A%20%20%20%20%20%20%20%20circle_marker_d149f0a8867d41a59c8b38f910eb3387.bindPopup%28popup_a88b7f45c260461f87b4e2d4d0ef4de3%29%0A%20%20%20%20%20%20%20%20%3B%0A%0A%20%20%20%20%20%20%20%20%0A%20%20%20%20%0A%20%20%20%20%0A%20%20%20%20%20%20%20%20%20%20%20%20var%20circle_marker_89039f741e124ca1b838da41f500b6bc%20%3D%20L.circleMarker%28%0A%20%20%20%20%20%20%20%20%20%20%20%20%20%20%20%20%5B36.63%2C%20127.68%5D%2C%0A%20%20%20%20%20%20%20%20%20%20%20%20%20%20%20%20%7B%22bubblingMouseEvents%22%3A%20true%2C%20%22color%22%3A%20%22%233388ff%22%2C%20%22dashArray%22%3A%20null%2C%20%22dashOffset%22%3A%20null%2C%20%22fill%22%3A%20true%2C%20%22fillColor%22%3A%20%22%233388ff%22%2C%20%22fillOpacity%22%3A%200.3%2C%20%22fillRule%22%3A%20%22evenodd%22%2C%20%22lineCap%22%3A%20%22round%22%2C%20%22lineJoin%22%3A%20%22round%22%2C%20%22opacity%22%3A%201.0%2C%20%22radius%22%3A%2016%2C%20%22stroke%22%3A%20true%2C%20%22weight%22%3A%203%7D%0A%20%20%20%20%20%20%20%20%20%20%20%20%29.addTo%28map_1290c90e273d4048bef492fb44716e01%29%3B%0A%20%20%20%20%20%20%20%20%0A%20%20%20%20%0A%20%20%20%20%20%20%20%20var%20popup_98bf9b4cc35a4efbae39db7b73934a89%20%3D%20L.popup%28%7B%22maxWidth%22%3A%20%22100%25%22%7D%29%3B%0A%0A%20%20%20%20%20%20%20%20%0A%20%20%20%20%20%20%20%20%20%20%20%20var%20html_e411427ebc7a49d6aecba97c3c677ae8%20%3D%20%24%28%60%3Cdiv%20id%3D%22html_e411427ebc7a49d6aecba97c3c677ae8%22%20style%3D%22width%3A%20100.0%25%3B%20height%3A%20100.0%25%3B%22%3E%28%27%EC%B6%A9%EC%B2%AD%EB%B6%81%EB%8F%84%27%2C%20558.85%29%3C/div%3E%60%29%5B0%5D%3B%0A%20%20%20%20%20%20%20%20%20%20%20%20popup_98bf9b4cc35a4efbae39db7b73934a89.setContent%28html_e411427ebc7a49d6aecba97c3c677ae8%29%3B%0A%20%20%20%20%20%20%20%20%0A%0A%20%20%20%20%20%20%20%20circle_marker_89039f741e124ca1b838da41f500b6bc.bindPopup%28popup_98bf9b4cc35a4efbae39db7b73934a89%29%0A%20%20%20%20%20%20%20%20%3B%0A%0A%20%20%20%20%20%20%20%20%0A%20%20%20%20%0A%20%20%20%20%0A%20%20%20%20%20%20%20%20%20%20%20%20var%20circle_marker_c37a883050bb4677beec34ad9dced9a6%20%3D%20L.circleMarker%28%0A%20%20%20%20%20%20%20%20%20%20%20%20%20%20%20%20%5B36.53%2C%20126.51%5D%2C%0A%20%20%20%20%20%20%20%20%20%20%20%20%20%20%20%20%7B%22bubblingMouseEvents%22%3A%20true%2C%20%22color%22%3A%20%22%233388ff%22%2C%20%22dashArray%22%3A%20null%2C%20%22dashOffset%22%3A%20null%2C%20%22fill%22%3A%20true%2C%20%22fillColor%22%3A%20%22%233388ff%22%2C%20%22fillOpacity%22%3A%200.3%2C%20%22fillRule%22%3A%20%22evenodd%22%2C%20%22lineCap%22%3A%20%22round%22%2C%20%22lineJoin%22%3A%20%22round%22%2C%20%22opacity%22%3A%201.0%2C%20%22radius%22%3A%2017%2C%20%22stroke%22%3A%20true%2C%20%22weight%22%3A%203%7D%0A%20%20%20%20%20%20%20%20%20%20%20%20%29.addTo%28map_1290c90e273d4048bef492fb44716e01%29%3B%0A%20%20%20%20%20%20%20%20%0A%20%20%20%20%0A%20%20%20%20%20%20%20%20var%20popup_e92be297f0a642a6a6ecf587cc3f88cf%20%3D%20L.popup%28%7B%22maxWidth%22%3A%20%22100%25%22%7D%29%3B%0A%0A%20%20%20%20%20%20%20%20%0A%20%20%20%20%20%20%20%20%20%20%20%20var%20html_625efeb97e354ded86fb7bad92a83eec%20%3D%20%24%28%60%3Cdiv%20id%3D%22html_625efeb97e354ded86fb7bad92a83eec%22%20style%3D%22width%3A%20100.0%25%3B%20height%3A%20100.0%25%3B%22%3E%28%27%EC%B6%A9%EC%B2%AD%EB%82%A8%EB%8F%84%27%2C%201176.97%29%3C/div%3E%60%29%5B0%5D%3B%0A%20%20%20%20%20%20%20%20%20%20%20%20popup_e92be297f0a642a6a6ecf587cc3f88cf.setContent%28html_625efeb97e354ded86fb7bad92a83eec%29%3B%0A%20%20%20%20%20%20%20%20%0A%0A%20%20%20%20%20%20%20%20circle_marker_c37a883050bb4677beec34ad9dced9a6.bindPopup%28popup_e92be297f0a642a6a6ecf587cc3f88cf%29%0A%20%20%20%20%20%20%20%20%3B%0A%0A%20%20%20%20%20%20%20%20%0A%20%20%20%20%0A%20%20%20%20%0A%20%20%20%20%20%20%20%20%20%20%20%20var%20circle_marker_175fd0b48b9e42e2b6f3ce2f8355ab9b%20%3D%20L.circleMarker%28%0A%20%20%20%20%20%20%20%20%20%20%20%20%20%20%20%20%5B35.72%2C%20126.64%5D%2C%0A%20%20%20%20%20%20%20%20%20%20%20%20%20%20%20%20%7B%22bubblingMouseEvents%22%3A%20true%2C%20%22color%22%3A%20%22%233388ff%22%2C%20%22dashArray%22%3A%20null%2C%20%22dashOffset%22%3A%20null%2C%20%22fill%22%3A%20true%2C%20%22fillColor%22%3A%20%22%233388ff%22%2C%20%22fillOpacity%22%3A%200.3%2C%20%22fillRule%22%3A%20%22evenodd%22%2C%20%22lineCap%22%3A%20%22round%22%2C%20%22lineJoin%22%3A%20%22round%22%2C%20%22opacity%22%3A%201.0%2C%20%22radius%22%3A%2018%2C%20%22stroke%22%3A%20true%2C%20%22weight%22%3A%203%7D%0A%20%20%20%20%20%20%20%20%20%20%20%20%29.addTo%28map_1290c90e273d4048bef492fb44716e01%29%3B%0A%20%20%20%20%20%20%20%20%0A%20%20%20%20%0A%20%20%20%20%20%20%20%20var%20popup_7c36d21918124cd1bdfff26f492fceaf%20%3D%20L.popup%28%7B%22maxWidth%22%3A%20%22100%25%22%7D%29%3B%0A%0A%20%20%20%20%20%20%20%20%0A%20%20%20%20%20%20%20%20%20%20%20%20var%20html_3a0fa29ac9734e1c9e46649bbdc3a804%20%3D%20%24%28%60%3Cdiv%20id%3D%22html_3a0fa29ac9734e1c9e46649bbdc3a804%22%20style%3D%22width%3A%20100.0%25%3B%20height%3A%20100.0%25%3B%22%3E%28%27%EC%A0%84%EB%9D%BC%EB%B6%81%EB%8F%84%27%2C%20112.82000000000001%29%3C/div%3E%60%29%5B0%5D%3B%0A%20%20%20%20%20%20%20%20%20%20%20%20popup_7c36d21918124cd1bdfff26f492fceaf.setContent%28html_3a0fa29ac9734e1c9e46649bbdc3a804%29%3B%0A%20%20%20%20%20%20%20%20%0A%0A%20%20%20%20%20%20%20%20circle_marker_175fd0b48b9e42e2b6f3ce2f8355ab9b.bindPopup%28popup_7c36d21918124cd1bdfff26f492fceaf%29%0A%20%20%20%20%20%20%20%20%3B%0A%0A%20%20%20%20%20%20%20%20%0A%20%20%20%20%0A%20%20%20%20%0A%20%20%20%20%20%20%20%20%20%20%20%20var%20circle_marker_b5ca9c631c30479a83720ec74bbffba6%20%3D%20L.circleMarker%28%0A%20%20%20%20%20%20%20%20%20%20%20%20%20%20%20%20%5B34.69%2C%20125.93%5D%2C%0A%20%20%20%20%20%20%20%20%20%20%20%20%20%20%20%20%7B%22bubblingMouseEvents%22%3A%20true%2C%20%22color%22%3A%20%22%233388ff%22%2C%20%22dashArray%22%3A%20null%2C%20%22dashOffset%22%3A%20null%2C%20%22fill%22%3A%20true%2C%20%22fillColor%22%3A%20%22%233388ff%22%2C%20%22fillOpacity%22%3A%200.3%2C%20%22fillRule%22%3A%20%22evenodd%22%2C%20%22lineCap%22%3A%20%22round%22%2C%20%22lineJoin%22%3A%20%22round%22%2C%20%22opacity%22%3A%201.0%2C%20%22radius%22%3A%2019%2C%20%22stroke%22%3A%20true%2C%20%22weight%22%3A%203%7D%0A%20%20%20%20%20%20%20%20%20%20%20%20%29.addTo%28map_1290c90e273d4048bef492fb44716e01%29%3B%0A%20%20%20%20%20%20%20%20%0A%20%20%20%20%0A%20%20%20%20%20%20%20%20var%20popup_41645af4b78a4b49951017277a580d7e%20%3D%20L.popup%28%7B%22maxWidth%22%3A%20%22100%25%22%7D%29%3B%0A%0A%20%20%20%20%20%20%20%20%0A%20%20%20%20%20%20%20%20%20%20%20%20var%20html_7869279b598841daa963441ae3b15e4d%20%3D%20%24%28%60%3Cdiv%20id%3D%22html_7869279b598841daa963441ae3b15e4d%22%20style%3D%22width%3A%20100.0%25%3B%20height%3A%20100.0%25%3B%22%3E%28%27%EC%A0%84%EB%9D%BC%EB%82%A8%EB%8F%84%27%2C%2051.92000000000001%29%3C/div%3E%60%29%5B0%5D%3B%0A%20%20%20%20%20%20%20%20%20%20%20%20popup_41645af4b78a4b49951017277a580d7e.setContent%28html_7869279b598841daa963441ae3b15e4d%29%3B%0A%20%20%20%20%20%20%20%20%0A%0A%20%20%20%20%20%20%20%20circle_marker_b5ca9c631c30479a83720ec74bbffba6.bindPopup%28popup_41645af4b78a4b49951017277a580d7e%29%0A%20%20%20%20%20%20%20%20%3B%0A%0A%20%20%20%20%20%20%20%20%0A%20%20%20%20%0A%20%20%20%20%0A%20%20%20%20%20%20%20%20%20%20%20%20var%20circle_marker_e42ad238f8ea4682a3b879965808ebb1%20%3D%20L.circleMarker%28%0A%20%20%20%20%20%20%20%20%20%20%20%20%20%20%20%20%5B36.55%2C%20129.28%5D%2C%0A%20%20%20%20%20%20%20%20%20%20%20%20%20%20%20%20%7B%22bubblingMouseEvents%22%3A%20true%2C%20%22color%22%3A%20%22%233388ff%22%2C%20%22dashArray%22%3A%20null%2C%20%22dashOffset%22%3A%20null%2C%20%22fill%22%3A%20true%2C%20%22fillColor%22%3A%20%22%233388ff%22%2C%20%22fillOpacity%22%3A%200.3%2C%20%22fillRule%22%3A%20%22evenodd%22%2C%20%22lineCap%22%3A%20%22round%22%2C%20%22lineJoin%22%3A%20%22round%22%2C%20%22opacity%22%3A%201.0%2C%20%22radius%22%3A%2020%2C%20%22stroke%22%3A%20true%2C%20%22weight%22%3A%203%7D%0A%20%20%20%20%20%20%20%20%20%20%20%20%29.addTo%28map_1290c90e273d4048bef492fb44716e01%29%3B%0A%20%20%20%20%20%20%20%20%0A%20%20%20%20%0A%20%20%20%20%20%20%20%20var%20popup_66d7d8187e1048328cc1326ea8544e4e%20%3D%20L.popup%28%7B%22maxWidth%22%3A%20%22100%25%22%7D%29%3B%0A%0A%20%20%20%20%20%20%20%20%0A%20%20%20%20%20%20%20%20%20%20%20%20var%20html_fa619850d5694a1ebb3e0383c311a022%20%3D%20%24%28%60%3Cdiv%20id%3D%22html_fa619850d5694a1ebb3e0383c311a022%22%20style%3D%22width%3A%20100.0%25%3B%20height%3A%20100.0%25%3B%22%3E%28%27%EA%B2%BD%EC%83%81%EB%B6%81%EB%8F%84%27%2C%20103.79%29%3C/div%3E%60%29%5B0%5D%3B%0A%20%20%20%20%20%20%20%20%20%20%20%20popup_66d7d8187e1048328cc1326ea8544e4e.setContent%28html_fa619850d5694a1ebb3e0383c311a022%29%3B%0A%20%20%20%20%20%20%20%20%0A%0A%20%20%20%20%20%20%20%20circle_marker_e42ad238f8ea4682a3b879965808ebb1.bindPopup%28popup_66d7d8187e1048328cc1326ea8544e4e%29%0A%20%20%20%20%20%20%20%20%3B%0A%0A%20%20%20%20%20%20%20%20%0A%20%20%20%20%0A%20%20%20%20%0A%20%20%20%20%20%20%20%20%20%20%20%20var%20circle_marker_d91d4b4ea1c44b3db2dea252983768a8%20%3D%20L.circleMarker%28%0A%20%20%20%20%20%20%20%20%20%20%20%20%20%20%20%20%5B35.18%2C%20127.83%5D%2C%0A%20%20%20%20%20%20%20%20%20%20%20%20%20%20%20%20%7B%22bubblingMouseEvents%22%3A%20true%2C%20%22color%22%3A%20%22%233388ff%22%2C%20%22dashArray%22%3A%20null%2C%20%22dashOffset%22%3A%20null%2C%20%22fill%22%3A%20true%2C%20%22fillColor%22%3A%20%22%233388ff%22%2C%20%22fillOpacity%22%3A%200.3%2C%20%22fillRule%22%3A%20%22evenodd%22%2C%20%22lineCap%22%3A%20%22round%22%2C%20%22lineJoin%22%3A%20%22round%22%2C%20%22opacity%22%3A%201.0%2C%20%22radius%22%3A%2021%2C%20%22stroke%22%3A%20true%2C%20%22weight%22%3A%203%7D%0A%20%20%20%20%20%20%20%20%20%20%20%20%29.addTo%28map_1290c90e273d4048bef492fb44716e01%29%3B%0A%20%20%20%20%20%20%20%20%0A%20%20%20%20%0A%20%20%20%20%20%20%20%20var%20popup_5e0a62a331ce4922a72ec42aed6117ad%20%3D%20L.popup%28%7B%22maxWidth%22%3A%20%22100%25%22%7D%29%3B%0A%0A%20%20%20%20%20%20%20%20%0A%20%20%20%20%20%20%20%20%20%20%20%20var%20html_111725b5f5164aa7a863da2352a90890%20%3D%20%24%28%60%3Cdiv%20id%3D%22html_111725b5f5164aa7a863da2352a90890%22%20style%3D%22width%3A%20100.0%25%3B%20height%3A%20100.0%25%3B%22%3E%28%27%EA%B2%BD%EC%83%81%EB%82%A8%EB%8F%84%27%2C%20113.55000000000003%29%3C/div%3E%60%29%5B0%5D%3B%0A%20%20%20%20%20%20%20%20%20%20%20%20popup_5e0a62a331ce4922a72ec42aed6117ad.setContent%28html_111725b5f5164aa7a863da2352a90890%29%3B%0A%20%20%20%20%20%20%20%20%0A%0A%20%20%20%20%20%20%20%20circle_marker_d91d4b4ea1c44b3db2dea252983768a8.bindPopup%28popup_5e0a62a331ce4922a72ec42aed6117ad%29%0A%20%20%20%20%20%20%20%20%3B%0A%0A%20%20%20%20%20%20%20%20%0A%20%20%20%20%0A%20%20%20%20%0A%20%20%20%20%20%20%20%20%20%20%20%20var%20circle_marker_b3fa3dca956749cc81ef00b5733abf30%20%3D%20L.circleMarker%28%0A%20%20%20%20%20%20%20%20%20%20%20%20%20%20%20%20%5B33.57%2C%20126.29%5D%2C%0A%20%20%20%20%20%20%20%20%20%20%20%20%20%20%20%20%7B%22bubblingMouseEvents%22%3A%20true%2C%20%22color%22%3A%20%22%233388ff%22%2C%20%22dashArray%22%3A%20null%2C%20%22dashOffset%22%3A%20null%2C%20%22fill%22%3A%20true%2C%20%22fillColor%22%3A%20%22%233388ff%22%2C%20%22fillOpacity%22%3A%200.3%2C%20%22fillRule%22%3A%20%22evenodd%22%2C%20%22lineCap%22%3A%20%22round%22%2C%20%22lineJoin%22%3A%20%22round%22%2C%20%22opacity%22%3A%201.0%2C%20%22radius%22%3A%2022%2C%20%22stroke%22%3A%20true%2C%20%22weight%22%3A%203%7D%0A%20%20%20%20%20%20%20%20%20%20%20%20%29.addTo%28map_1290c90e273d4048bef492fb44716e01%29%3B%0A%20%20%20%20%20%20%20%20%0A%20%20%20%20%0A%20%20%20%20%20%20%20%20var%20popup_c3a451e5dfe144728bb43c6868965a48%20%3D%20L.popup%28%7B%22maxWidth%22%3A%20%22100%25%22%7D%29%3B%0A%0A%20%20%20%20%20%20%20%20%0A%20%20%20%20%20%20%20%20%20%20%20%20var%20html_fee66a00869b49938228f02366b40793%20%3D%20%24%28%60%3Cdiv%20id%3D%22html_fee66a00869b49938228f02366b40793%22%20style%3D%22width%3A%20100.0%25%3B%20height%3A%20100.0%25%3B%22%3E%28%27%EC%A0%9C%EC%A3%BC%ED%8A%B9%EB%B3%84%EC%9E%90%EC%B9%98%EB%8F%84%27%2C%2024.78%29%3C/div%3E%60%29%5B0%5D%3B%0A%20%20%20%20%20%20%20%20%20%20%20%20popup_c3a451e5dfe144728bb43c6868965a48.setContent%28html_fee66a00869b49938228f02366b40793%29%3B%0A%20%20%20%20%20%20%20%20%0A%0A%20%20%20%20%20%20%20%20circle_marker_b3fa3dca956749cc81ef00b5733abf30.bindPopup%28popup_c3a451e5dfe144728bb43c6868965a48%29%0A%20%20%20%20%20%20%20%20%3B%0A%0A%20%20%20%20%20%20%20%20%0A%20%20%20%20%0A%3C/script%3E onload=\"this.contentDocument.open();this.contentDocument.write(    decodeURIComponent(this.getAttribute('data-html')));this.contentDocument.close();\" allowfullscreen webkitallowfullscreen mozallowfullscreen></iframe></div></div>"
     },
     "execution_count": 9,
     "metadata": {},
     "output_type": "execute_result"
    }
   ],
   "source": [
    "# Circle Marker로 지도에 아이콘 표시\n",
    "cnt=0\n",
    "\n",
    "for lat, long, addr, fp in zip(lat_list, long_list, return_data['ADDR'], return_data[check_column]):\n",
    "    cnt += 1\n",
    "    folium.CircleMarker(\n",
    "        location=[lat, long],\n",
    "        radius=5 + cnt,\n",
    "        fill=True,\n",
    "        fill_opacity=0.3,\n",
    "        popup=(addr, fp)\n",
    "    ).add_to(map)\n",
    "\n",
    "map"
   ],
   "metadata": {
    "collapsed": false,
    "pycharm": {
     "name": "#%%\n"
    }
   }
  },
  {
   "cell_type": "code",
   "execution_count": 23,
   "outputs": [
    {
     "data": {
      "text/plain": "<Figure size 432x288 with 1 Axes>",
      "image/png": "[encoded data removed]"
     },
     "metadata": {
      "needs_background": "light"
     },
     "output_type": "display_data"
    }
   ],
   "source": [
    "# Bar Plot 작성\n",
    "plt.bar(return_data['ADDR'], return_data[check_column])\n",
    "\n",
    "plt.xlabel('출발지')\n",
    "plt.xticks(rotation=45)\n",
    "plt.ylabel('유동인구')\n",
    "plt.ylim(0, 3000)\n",
    "\n",
    "plt.show()"
   ],
   "metadata": {
    "collapsed": false,
    "pycharm": {
     "name": "#%%\n"
    }
   }
  },
  {
   "cell_type": "code",
   "execution_count": null,
   "outputs": [],
   "source": [
    "# DataFrame --> csv 변환\n",
    "return_data.to_csv('C:/Users/ggh99/PycharmProjects/Advanced_AI_Course/1st_week/Dataset/address/address_generated.csv',\n",
    "                   sep=',',\n",
    "                   encoding='CP949')"
   ],
   "metadata": {
    "collapsed": false,
    "pycharm": {
     "name": "#%%\n"
    }
   }
  },
  {
   "cell_type": "code",
   "execution_count": null,
   "outputs": [],
   "source": [
    "coordinates = pd.read_csv('Dataset/address/address_transform.utf-8.csv')\n",
    "len(coordinates) # 확인용 출력"
   ],
   "metadata": {
    "collapsed": false,
    "pycharm": {
     "name": "#%%\n"
    }
   }
  },
  {
   "cell_type": "code",
   "execution_count": null,
   "outputs": [],
   "source": [
    "map_SK = folium.Map(location=[36.38, 127.51], zoom_start=6.5) # location: 남한 중심 좌표, zoom_start 수치가 클수록 확대\n",
    "# Marker로 지도에 아이콘 표시\n",
    "for lat, long, add in zip(coordinates['위도'], coordinates['경도'], coordinates['ADDR']):\n",
    "    folium.Marker(\n",
    "        location=[lat, long],\n",
    "        popup=add,\n",
    "        icon=folium.Icon(color='red', icon='city')\n",
    "\n",
    "    ).add_to(map_SK)\n",
    "map_SK"
   ],
   "metadata": {
    "collapsed": false,
    "pycharm": {
     "name": "#%%\n"
    }
   }
  },
  {
   "cell_type": "code",
   "execution_count": null,
   "outputs": [],
   "source": [
    "from folium.plugins import MarkerCluster # MarkerCluster를 이용하면 가까운 거리의 Marker들을 군집시켜서 해당 건수를 표현\n",
    "\n",
    "def draw_map(df):\n",
    "    # 지도 생성\n",
    "    map_fn = folium.Map(location=[36.38, 127.51], zoom_start=6.5)\n",
    "    # 리스트를 이용해 여러 행의 데이터를 위, 경도로 묶음\n",
    "    locations = list(zip(df['위도'], df['경도']))\n",
    "    locations_city = list(zip(coordinates['위도'], coordinates['경도']))\n",
    "    # 반복문을 이용해 locations로 정의한 변수에 해당하는 위치에 도시 아이콘 표시\n",
    "    icons = [folium.Icon(icon='city', color='red') for _ in range(len(locations_city))]\n",
    "    # 반복문을 이용해 아이콘을 클릭했을 때, popup 생성\n",
    "    for addr in df['ADDR']:\n",
    "        folium.Marker(popup=addr)\n",
    "\n",
    "    # cluster 생성\n",
    "    cluster = MarkerCluster(locations=locations, icons=icons)\n",
    "    # 지도에 cluster 추가\n",
    "    cluster.add_to(map_fn)\n",
    "    # 지도 출력\n",
    "    print(map_fn)\n",
    "    map_fn.save('./map_fn.html')\n",
    "\n",
    "# 함수 실행\n",
    "draw_map(coordinates)"
   ],
   "metadata": {
    "collapsed": false,
    "pycharm": {
     "name": "#%%\n"
    }
   }
  },
  {
   "cell_type": "code",
   "execution_count": null,
   "outputs": [],
   "source": [
    "# 지도 위에 울산대학교 표시\n",
    "UOU = folium.Map(location=[35.5450147, 129.2528426], min_zoom=5, max_zoom=8)\n",
    "folium.Marker(\n",
    "        location=[35.5450147, 129.2528426],\n",
    "        popup='University of Ulsan',\n",
    "        icon=folium.Icon(color='red', icon='star')).add_to(UOU)\n",
    "UOU"
   ],
   "metadata": {
    "collapsed": false,
    "pycharm": {
     "name": "#%%\n"
    }
   }
  }
 ],
 "metadata": {
  "kernelspec": {
   "name": "lab_kernel",
   "language": "python",
   "display_name": "lab_kernel"
  },
  "language_info": {
   "codemirror_mode": {
    "name": "ipython",
    "version": 2
   },
   "file_extension": ".py",
   "mimetype": "text/x-python",
   "name": "python",
   "nbconvert_exporter": "python",
   "pygments_lexer": "ipython2",
   "version": "2.7.6"
  }
 },
 "nbformat": 4,
 "nbformat_minor": 0
}