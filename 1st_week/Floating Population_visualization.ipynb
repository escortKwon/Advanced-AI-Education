{
 "cells": [
  {
   "cell_type": "code",
   "execution_count": 1,
   "metadata": {
    "collapsed": true
   },
   "outputs": [],
   "source": [
    "import numpy as np\n",
    "import pandas as pd\n",
    "import matplotlib as plt\n",
    "import seaborn as sns"
   ]
  },
  {
   "cell_type": "code",
   "execution_count": 2,
   "outputs": [
    {
     "name": "stdout",
     "output_type": "stream",
     "text": [
      "data shape: (85104, 17)\n",
      "<class 'pandas.core.frame.DataFrame'>\n",
      "RangeIndex: 85104 entries, 0 to 85103\n",
      "Data columns (total 17 columns):\n",
      " #   Column                  Non-Null Count  Dtype  \n",
      "---  ------                  --------------  -----  \n",
      " 0   ���                     85104 non-null  int64  \n",
      " 1   �����(�߰�ü����) �ñ��ڵ�  85104 non-null  int64  \n",
      " 2   ������ �ñ��ڵ�           85104 non-null  int64  \n",
      " 3   10�볲�� �����α�          85104 non-null  float64\n",
      " 4   20�볲�� �����α�          85104 non-null  float64\n",
      " 5   30�볲�� �����α�          85104 non-null  float64\n",
      " 6   40�볲�� �����α�          85104 non-null  float64\n",
      " 7   50�볲�� �����α�          85104 non-null  float64\n",
      " 8   60�볲�� �����α�          85104 non-null  float64\n",
      " 9   70�볲�� �����α�          85104 non-null  float64\n",
      " 10  10�뿩�� �����α�          85104 non-null  float64\n",
      " 11  20�뿩�� �����α�          85104 non-null  float64\n",
      " 12  30�뿩�� �����α�          85104 non-null  float64\n",
      " 13  40�뿩�� �����α�          85104 non-null  float64\n",
      " 14  50�뿩�� �����α�          85104 non-null  float64\n",
      " 15  60�뿩�� �����α�          85104 non-null  float64\n",
      " 16  70�뿩�� �����α�          85104 non-null  float64\n",
      "dtypes: float64(14), int64(3)\n",
      "memory usage: 11.0 MB\n"
     ]
    },
    {
     "data": {
      "text/plain": "                 ���  �����(�߰�ü����) �ñ��ڵ�  ������ �ñ��ڵ�  10�볲�� �����α�  \\\ncount   85104.000000            85104.000000   85104.000000    85104.000000   \nmean   202006.500024            37656.114848   41424.121075      215.452711   \nstd         3.452080            11667.943036     205.355521     3699.559404   \nmin    202001.000000            11110.000000   41110.000000        0.000000   \n25%    202004.000000            28710.000000   41250.000000        0.140000   \n50%    202006.000000            42730.000000   41410.000000        1.780000   \n75%    202010.000000            46730.000000   41590.000000       10.960000   \nmax    202012.000000            50130.000000   41830.000000   133773.250000   \n\n       20�볲�� �����α�  30�볲�� �����α�  40�볲�� �����α�  50�볲�� �����α�  \\\ncount    85104.000000    85104.000000    85104.000000    85104.000000   \nmean       165.141044      221.515915      250.583858      215.889585   \nstd       2345.816823     2811.244828     3157.197889     2669.634409   \nmin          0.000000        0.000000        0.000000        0.000000   \n25%          1.050000        1.110000        1.580000        1.930000   \n50%          4.790000        4.690000        6.020000        6.740000   \n75%         22.370000       29.730000       36.392500       34.720000   \nmax      92398.990000   102973.350000   107392.460000    91768.770000   \n\n       60�볲�� �����α�  70�볲�� �����α�  10�뿩�� �����α�  20�뿩�� �����α�  \\\ncount    85104.000000    85104.000000    85104.000000    85104.000000   \nmean       103.618840       58.476227      203.289620      139.888766   \nstd       1314.032403      886.498227     3482.195438     2119.335305   \nmin          0.000000        0.000000        0.000000        0.000000   \n25%          0.960000        0.220000        0.110000        0.380000   \n50%          3.260000        1.070000        1.520000        2.400000   \n75%         14.680000        4.650000        9.850000       14.170000   \nmax      42795.410000    29273.330000   124334.470000    83439.940000   \n\n       30�뿩�� �����α�  40�뿩�� �����α�  50�뿩�� �����α�  60�뿩�� �����α�  \\\ncount    85104.000000    85104.000000    85104.000000    85104.000000   \nmean       180.861623      204.166371      176.973420       93.359018   \nstd       2676.983929     3128.439899     2596.732309     1381.142099   \nmin          0.000000        0.000000        0.000000        0.000000   \n25%          0.477500        0.500000        0.810000        0.590000   \n50%          2.480000        2.300000        3.020000        2.120000   \n75%         15.412500       13.990000       14.662500        8.420000   \nmax      97905.690000   109369.230000    88862.410000    45300.300000   \n\n       70�뿩�� �����α�  \ncount    85104.000000  \nmean        82.877010  \nstd       1337.824244  \nmin          0.000000  \n25%          0.340000  \n50%          1.660000  \n75%          5.750000  \nmax      45911.660000  ",
      "text/html": "<div>\n<style scoped>\n    .dataframe tbody tr th:only-of-type {\n        vertical-align: middle;\n    }\n\n    .dataframe tbody tr th {\n        vertical-align: top;\n    }\n\n    .dataframe thead th {\n        text-align: right;\n    }\n</style>\n<table border=\"1\" class=\"dataframe\">\n  <thead>\n    <tr style=\"text-align: right;\">\n      <th></th>\n      <th>���</th>\n      <th>�����(�߰�ü����) �ñ��ڵ�</th>\n      <th>������ �ñ��ڵ�</th>\n      <th>10�볲�� �����α�</th>\n      <th>20�볲�� �����α�</th>\n      <th>30�볲�� �����α�</th>\n      <th>40�볲�� �����α�</th>\n      <th>50�볲�� �����α�</th>\n      <th>60�볲�� �����α�</th>\n      <th>70�볲�� �����α�</th>\n      <th>10�뿩�� �����α�</th>\n      <th>20�뿩�� �����α�</th>\n      <th>30�뿩�� �����α�</th>\n      <th>40�뿩�� �����α�</th>\n      <th>50�뿩�� �����α�</th>\n      <th>60�뿩�� �����α�</th>\n      <th>70�뿩�� �����α�</th>\n    </tr>\n  </thead>\n  <tbody>\n    <tr>\n      <th>count</th>\n      <td>85104.000000</td>\n      <td>85104.000000</td>\n      <td>85104.000000</td>\n      <td>85104.000000</td>\n      <td>85104.000000</td>\n      <td>85104.000000</td>\n      <td>85104.000000</td>\n      <td>85104.000000</td>\n      <td>85104.000000</td>\n      <td>85104.000000</td>\n      <td>85104.000000</td>\n      <td>85104.000000</td>\n      <td>85104.000000</td>\n      <td>85104.000000</td>\n      <td>85104.000000</td>\n      <td>85104.000000</td>\n      <td>85104.000000</td>\n    </tr>\n    <tr>\n      <th>mean</th>\n      <td>202006.500024</td>\n      <td>37656.114848</td>\n      <td>41424.121075</td>\n      <td>215.452711</td>\n      <td>165.141044</td>\n      <td>221.515915</td>\n      <td>250.583858</td>\n      <td>215.889585</td>\n      <td>103.618840</td>\n      <td>58.476227</td>\n      <td>203.289620</td>\n      <td>139.888766</td>\n      <td>180.861623</td>\n      <td>204.166371</td>\n      <td>176.973420</td>\n      <td>93.359018</td>\n      <td>82.877010</td>\n    </tr>\n    <tr>\n      <th>std</th>\n      <td>3.452080</td>\n      <td>11667.943036</td>\n      <td>205.355521</td>\n      <td>3699.559404</td>\n      <td>2345.816823</td>\n      <td>2811.244828</td>\n      <td>3157.197889</td>\n      <td>2669.634409</td>\n      <td>1314.032403</td>\n      <td>886.498227</td>\n      <td>3482.195438</td>\n      <td>2119.335305</td>\n      <td>2676.983929</td>\n      <td>3128.439899</td>\n      <td>2596.732309</td>\n      <td>1381.142099</td>\n      <td>1337.824244</td>\n    </tr>\n    <tr>\n      <th>min</th>\n      <td>202001.000000</td>\n      <td>11110.000000</td>\n      <td>41110.000000</td>\n      <td>0.000000</td>\n      <td>0.000000</td>\n      <td>0.000000</td>\n      <td>0.000000</td>\n      <td>0.000000</td>\n      <td>0.000000</td>\n      <td>0.000000</td>\n      <td>0.000000</td>\n      <td>0.000000</td>\n      <td>0.000000</td>\n      <td>0.000000</td>\n      <td>0.000000</td>\n      <td>0.000000</td>\n      <td>0.000000</td>\n    </tr>\n    <tr>\n      <th>25%</th>\n      <td>202004.000000</td>\n      <td>28710.000000</td>\n      <td>41250.000000</td>\n      <td>0.140000</td>\n      <td>1.050000</td>\n      <td>1.110000</td>\n      <td>1.580000</td>\n      <td>1.930000</td>\n      <td>0.960000</td>\n      <td>0.220000</td>\n      <td>0.110000</td>\n      <td>0.380000</td>\n      <td>0.477500</td>\n      <td>0.500000</td>\n      <td>0.810000</td>\n      <td>0.590000</td>\n      <td>0.340000</td>\n    </tr>\n    <tr>\n      <th>50%</th>\n      <td>202006.000000</td>\n      <td>42730.000000</td>\n      <td>41410.000000</td>\n      <td>1.780000</td>\n      <td>4.790000</td>\n      <td>4.690000</td>\n      <td>6.020000</td>\n      <td>6.740000</td>\n      <td>3.260000</td>\n      <td>1.070000</td>\n      <td>1.520000</td>\n      <td>2.400000</td>\n      <td>2.480000</td>\n      <td>2.300000</td>\n      <td>3.020000</td>\n      <td>2.120000</td>\n      <td>1.660000</td>\n    </tr>\n    <tr>\n      <th>75%</th>\n      <td>202010.000000</td>\n      <td>46730.000000</td>\n      <td>41590.000000</td>\n      <td>10.960000</td>\n      <td>22.370000</td>\n      <td>29.730000</td>\n      <td>36.392500</td>\n      <td>34.720000</td>\n      <td>14.680000</td>\n      <td>4.650000</td>\n      <td>9.850000</td>\n      <td>14.170000</td>\n      <td>15.412500</td>\n      <td>13.990000</td>\n      <td>14.662500</td>\n      <td>8.420000</td>\n      <td>5.750000</td>\n    </tr>\n    <tr>\n      <th>max</th>\n      <td>202012.000000</td>\n      <td>50130.000000</td>\n      <td>41830.000000</td>\n      <td>133773.250000</td>\n      <td>92398.990000</td>\n      <td>102973.350000</td>\n      <td>107392.460000</td>\n      <td>91768.770000</td>\n      <td>42795.410000</td>\n      <td>29273.330000</td>\n      <td>124334.470000</td>\n      <td>83439.940000</td>\n      <td>97905.690000</td>\n      <td>109369.230000</td>\n      <td>88862.410000</td>\n      <td>45300.300000</td>\n      <td>45911.660000</td>\n    </tr>\n  </tbody>\n</table>\n</div>"
     },
     "execution_count": 2,
     "metadata": {},
     "output_type": "execute_result"
    }
   ],
   "source": [
    "Floating_Population_df = pd.read_csv(\"Dataset/시군별유동인구데이터.csv\")\n",
    "\n",
    "print(\"data shape:\", Floating_Population_df.shape)\n",
    "Floating_Population_df.info()\n",
    "Floating_Population_df.describe()"
   ],
   "metadata": {
    "collapsed": false,
    "pycharm": {
     "name": "#%%\n"
    }
   }
  },
  {
   "cell_type": "code",
   "execution_count": 9,
   "outputs": [
    {
     "ename": "KeyError",
     "evalue": "'출발지(야간체류지) 시군코드'",
     "output_type": "error",
     "traceback": [
      "\u001B[1;31m---------------------------------------------------------------------------\u001B[0m",
      "\u001B[1;31mKeyError\u001B[0m                                  Traceback (most recent call last)",
      "\u001B[1;32m<ipython-input-9-bb37a9df0418>\u001B[0m in \u001B[0;36m<module>\u001B[1;34m\u001B[0m\n\u001B[0;32m      1\u001B[0m \u001B[1;31m# 데이터 전처리\u001B[0m\u001B[1;33m\u001B[0m\u001B[1;33m\u001B[0m\u001B[1;33m\u001B[0m\u001B[0m\n\u001B[1;32m----> 2\u001B[1;33m \u001B[0mDepart\u001B[0m \u001B[1;33m=\u001B[0m \u001B[0mFloating_Population_df\u001B[0m\u001B[1;33m.\u001B[0m\u001B[0mloc\u001B[0m\u001B[1;33m[\u001B[0m\u001B[1;34m'출발지(야간체류지) 시군코드'\u001B[0m\u001B[1;33m]\u001B[0m\u001B[1;33m\u001B[0m\u001B[1;33m\u001B[0m\u001B[0m\n\u001B[0m\u001B[0;32m      3\u001B[0m \u001B[0mArrival\u001B[0m \u001B[1;33m=\u001B[0m \u001B[0mFloating_Population_df\u001B[0m\u001B[1;33m.\u001B[0m\u001B[0mloc\u001B[0m\u001B[1;33m[\u001B[0m\u001B[1;34m'도착지 시군코드'\u001B[0m\u001B[1;33m]\u001B[0m\u001B[1;33m\u001B[0m\u001B[1;33m\u001B[0m\u001B[0m\n\u001B[0;32m      4\u001B[0m \u001B[0mDepart_unique\u001B[0m \u001B[1;33m=\u001B[0m \u001B[0mDepart\u001B[0m\u001B[1;33m.\u001B[0m\u001B[0munique\u001B[0m\u001B[1;33m(\u001B[0m\u001B[1;33m)\u001B[0m\u001B[1;33m\u001B[0m\u001B[1;33m\u001B[0m\u001B[0m\n\u001B[0;32m      5\u001B[0m \u001B[0mArrival_unique\u001B[0m \u001B[1;33m=\u001B[0m \u001B[0mArrival\u001B[0m\u001B[1;33m.\u001B[0m\u001B[0munique\u001B[0m\u001B[1;33m(\u001B[0m\u001B[1;33m)\u001B[0m\u001B[1;33m\u001B[0m\u001B[1;33m\u001B[0m\u001B[0m\n",
      "\u001B[1;32m~\\anaconda3\\envs\\Practice_ML\\lib\\site-packages\\pandas\\core\\indexing.py\u001B[0m in \u001B[0;36m__getitem__\u001B[1;34m(self, key)\u001B[0m\n\u001B[0;32m    893\u001B[0m \u001B[1;33m\u001B[0m\u001B[0m\n\u001B[0;32m    894\u001B[0m             \u001B[0mmaybe_callable\u001B[0m \u001B[1;33m=\u001B[0m \u001B[0mcom\u001B[0m\u001B[1;33m.\u001B[0m\u001B[0mapply_if_callable\u001B[0m\u001B[1;33m(\u001B[0m\u001B[0mkey\u001B[0m\u001B[1;33m,\u001B[0m \u001B[0mself\u001B[0m\u001B[1;33m.\u001B[0m\u001B[0mobj\u001B[0m\u001B[1;33m)\u001B[0m\u001B[1;33m\u001B[0m\u001B[1;33m\u001B[0m\u001B[0m\n\u001B[1;32m--> 895\u001B[1;33m             \u001B[1;32mreturn\u001B[0m \u001B[0mself\u001B[0m\u001B[1;33m.\u001B[0m\u001B[0m_getitem_axis\u001B[0m\u001B[1;33m(\u001B[0m\u001B[0mmaybe_callable\u001B[0m\u001B[1;33m,\u001B[0m \u001B[0maxis\u001B[0m\u001B[1;33m=\u001B[0m\u001B[0maxis\u001B[0m\u001B[1;33m)\u001B[0m\u001B[1;33m\u001B[0m\u001B[1;33m\u001B[0m\u001B[0m\n\u001B[0m\u001B[0;32m    896\u001B[0m \u001B[1;33m\u001B[0m\u001B[0m\n\u001B[0;32m    897\u001B[0m     \u001B[1;32mdef\u001B[0m \u001B[0m_is_scalar_access\u001B[0m\u001B[1;33m(\u001B[0m\u001B[0mself\u001B[0m\u001B[1;33m,\u001B[0m \u001B[0mkey\u001B[0m\u001B[1;33m:\u001B[0m \u001B[0mTuple\u001B[0m\u001B[1;33m)\u001B[0m\u001B[1;33m:\u001B[0m\u001B[1;33m\u001B[0m\u001B[1;33m\u001B[0m\u001B[0m\n",
      "\u001B[1;32m~\\anaconda3\\envs\\Practice_ML\\lib\\site-packages\\pandas\\core\\indexing.py\u001B[0m in \u001B[0;36m_getitem_axis\u001B[1;34m(self, key, axis)\u001B[0m\n\u001B[0;32m   1122\u001B[0m         \u001B[1;31m# fall thru to straight lookup\u001B[0m\u001B[1;33m\u001B[0m\u001B[1;33m\u001B[0m\u001B[1;33m\u001B[0m\u001B[0m\n\u001B[0;32m   1123\u001B[0m         \u001B[0mself\u001B[0m\u001B[1;33m.\u001B[0m\u001B[0m_validate_key\u001B[0m\u001B[1;33m(\u001B[0m\u001B[0mkey\u001B[0m\u001B[1;33m,\u001B[0m \u001B[0maxis\u001B[0m\u001B[1;33m)\u001B[0m\u001B[1;33m\u001B[0m\u001B[1;33m\u001B[0m\u001B[0m\n\u001B[1;32m-> 1124\u001B[1;33m         \u001B[1;32mreturn\u001B[0m \u001B[0mself\u001B[0m\u001B[1;33m.\u001B[0m\u001B[0m_get_label\u001B[0m\u001B[1;33m(\u001B[0m\u001B[0mkey\u001B[0m\u001B[1;33m,\u001B[0m \u001B[0maxis\u001B[0m\u001B[1;33m=\u001B[0m\u001B[0maxis\u001B[0m\u001B[1;33m)\u001B[0m\u001B[1;33m\u001B[0m\u001B[1;33m\u001B[0m\u001B[0m\n\u001B[0m\u001B[0;32m   1125\u001B[0m \u001B[1;33m\u001B[0m\u001B[0m\n\u001B[0;32m   1126\u001B[0m     \u001B[1;32mdef\u001B[0m \u001B[0m_get_slice_axis\u001B[0m\u001B[1;33m(\u001B[0m\u001B[0mself\u001B[0m\u001B[1;33m,\u001B[0m \u001B[0mslice_obj\u001B[0m\u001B[1;33m:\u001B[0m \u001B[0mslice\u001B[0m\u001B[1;33m,\u001B[0m \u001B[0maxis\u001B[0m\u001B[1;33m:\u001B[0m \u001B[0mint\u001B[0m\u001B[1;33m)\u001B[0m\u001B[1;33m:\u001B[0m\u001B[1;33m\u001B[0m\u001B[1;33m\u001B[0m\u001B[0m\n",
      "\u001B[1;32m~\\anaconda3\\envs\\Practice_ML\\lib\\site-packages\\pandas\\core\\indexing.py\u001B[0m in \u001B[0;36m_get_label\u001B[1;34m(self, label, axis)\u001B[0m\n\u001B[0;32m   1071\u001B[0m     \u001B[1;32mdef\u001B[0m \u001B[0m_get_label\u001B[0m\u001B[1;33m(\u001B[0m\u001B[0mself\u001B[0m\u001B[1;33m,\u001B[0m \u001B[0mlabel\u001B[0m\u001B[1;33m,\u001B[0m \u001B[0maxis\u001B[0m\u001B[1;33m:\u001B[0m \u001B[0mint\u001B[0m\u001B[1;33m)\u001B[0m\u001B[1;33m:\u001B[0m\u001B[1;33m\u001B[0m\u001B[1;33m\u001B[0m\u001B[0m\n\u001B[0;32m   1072\u001B[0m         \u001B[1;31m# GH#5667 this will fail if the label is not present in the axis.\u001B[0m\u001B[1;33m\u001B[0m\u001B[1;33m\u001B[0m\u001B[1;33m\u001B[0m\u001B[0m\n\u001B[1;32m-> 1073\u001B[1;33m         \u001B[1;32mreturn\u001B[0m \u001B[0mself\u001B[0m\u001B[1;33m.\u001B[0m\u001B[0mobj\u001B[0m\u001B[1;33m.\u001B[0m\u001B[0mxs\u001B[0m\u001B[1;33m(\u001B[0m\u001B[0mlabel\u001B[0m\u001B[1;33m,\u001B[0m \u001B[0maxis\u001B[0m\u001B[1;33m=\u001B[0m\u001B[0maxis\u001B[0m\u001B[1;33m)\u001B[0m\u001B[1;33m\u001B[0m\u001B[1;33m\u001B[0m\u001B[0m\n\u001B[0m\u001B[0;32m   1074\u001B[0m \u001B[1;33m\u001B[0m\u001B[0m\n\u001B[0;32m   1075\u001B[0m     \u001B[1;32mdef\u001B[0m \u001B[0m_handle_lowerdim_multi_index_axis0\u001B[0m\u001B[1;33m(\u001B[0m\u001B[0mself\u001B[0m\u001B[1;33m,\u001B[0m \u001B[0mtup\u001B[0m\u001B[1;33m:\u001B[0m \u001B[0mTuple\u001B[0m\u001B[1;33m)\u001B[0m\u001B[1;33m:\u001B[0m\u001B[1;33m\u001B[0m\u001B[1;33m\u001B[0m\u001B[0m\n",
      "\u001B[1;32m~\\anaconda3\\envs\\Practice_ML\\lib\\site-packages\\pandas\\core\\generic.py\u001B[0m in \u001B[0;36mxs\u001B[1;34m(self, key, axis, level, drop_level)\u001B[0m\n\u001B[0;32m   3737\u001B[0m                 \u001B[1;32mraise\u001B[0m \u001B[0mTypeError\u001B[0m\u001B[1;33m(\u001B[0m\u001B[1;34mf\"Expected label or tuple of labels, got {key}\"\u001B[0m\u001B[1;33m)\u001B[0m \u001B[1;32mfrom\u001B[0m \u001B[0me\u001B[0m\u001B[1;33m\u001B[0m\u001B[1;33m\u001B[0m\u001B[0m\n\u001B[0;32m   3738\u001B[0m         \u001B[1;32melse\u001B[0m\u001B[1;33m:\u001B[0m\u001B[1;33m\u001B[0m\u001B[1;33m\u001B[0m\u001B[0m\n\u001B[1;32m-> 3739\u001B[1;33m             \u001B[0mloc\u001B[0m \u001B[1;33m=\u001B[0m \u001B[0mindex\u001B[0m\u001B[1;33m.\u001B[0m\u001B[0mget_loc\u001B[0m\u001B[1;33m(\u001B[0m\u001B[0mkey\u001B[0m\u001B[1;33m)\u001B[0m\u001B[1;33m\u001B[0m\u001B[1;33m\u001B[0m\u001B[0m\n\u001B[0m\u001B[0;32m   3740\u001B[0m \u001B[1;33m\u001B[0m\u001B[0m\n\u001B[0;32m   3741\u001B[0m             \u001B[1;32mif\u001B[0m \u001B[0misinstance\u001B[0m\u001B[1;33m(\u001B[0m\u001B[0mloc\u001B[0m\u001B[1;33m,\u001B[0m \u001B[0mnp\u001B[0m\u001B[1;33m.\u001B[0m\u001B[0mndarray\u001B[0m\u001B[1;33m)\u001B[0m\u001B[1;33m:\u001B[0m\u001B[1;33m\u001B[0m\u001B[1;33m\u001B[0m\u001B[0m\n",
      "\u001B[1;32m~\\anaconda3\\envs\\Practice_ML\\lib\\site-packages\\pandas\\core\\indexes\\range.py\u001B[0m in \u001B[0;36mget_loc\u001B[1;34m(self, key, method, tolerance)\u001B[0m\n\u001B[0;32m    352\u001B[0m                 \u001B[1;32mexcept\u001B[0m \u001B[0mValueError\u001B[0m \u001B[1;32mas\u001B[0m \u001B[0merr\u001B[0m\u001B[1;33m:\u001B[0m\u001B[1;33m\u001B[0m\u001B[1;33m\u001B[0m\u001B[0m\n\u001B[0;32m    353\u001B[0m                     \u001B[1;32mraise\u001B[0m \u001B[0mKeyError\u001B[0m\u001B[1;33m(\u001B[0m\u001B[0mkey\u001B[0m\u001B[1;33m)\u001B[0m \u001B[1;32mfrom\u001B[0m \u001B[0merr\u001B[0m\u001B[1;33m\u001B[0m\u001B[1;33m\u001B[0m\u001B[0m\n\u001B[1;32m--> 354\u001B[1;33m             \u001B[1;32mraise\u001B[0m \u001B[0mKeyError\u001B[0m\u001B[1;33m(\u001B[0m\u001B[0mkey\u001B[0m\u001B[1;33m)\u001B[0m\u001B[1;33m\u001B[0m\u001B[1;33m\u001B[0m\u001B[0m\n\u001B[0m\u001B[0;32m    355\u001B[0m         \u001B[1;32mreturn\u001B[0m \u001B[0msuper\u001B[0m\u001B[1;33m(\u001B[0m\u001B[1;33m)\u001B[0m\u001B[1;33m.\u001B[0m\u001B[0mget_loc\u001B[0m\u001B[1;33m(\u001B[0m\u001B[0mkey\u001B[0m\u001B[1;33m,\u001B[0m \u001B[0mmethod\u001B[0m\u001B[1;33m=\u001B[0m\u001B[0mmethod\u001B[0m\u001B[1;33m,\u001B[0m \u001B[0mtolerance\u001B[0m\u001B[1;33m=\u001B[0m\u001B[0mtolerance\u001B[0m\u001B[1;33m)\u001B[0m\u001B[1;33m\u001B[0m\u001B[1;33m\u001B[0m\u001B[0m\n\u001B[0;32m    356\u001B[0m \u001B[1;33m\u001B[0m\u001B[0m\n",
      "\u001B[1;31mKeyError\u001B[0m: '출발지(야간체류지) 시군코드'"
     ]
    }
   ],
   "source": [
    "# 데이터 전처리\n",
    "Depart = Floating_Population_df.loc['출발지(야간체류지) 시군코드']\n",
    "Arrival = Floating_Population_df.loc['도착지 시군코드']\n",
    "Depart_unique = Depart.unique()\n",
    "Arrival_unique = Arrival.unique()"
   ],
   "metadata": {
    "collapsed": false,
    "pycharm": {
     "name": "#%%\n"
    }
   }
  }
 ],
 "metadata": {
  "kernelspec": {
   "display_name": "Python 3",
   "language": "python",
   "name": "python3"
  },
  "language_info": {
   "codemirror_mode": {
    "name": "ipython",
    "version": 2
   },
   "file_extension": ".py",
   "mimetype": "text/x-python",
   "name": "python",
   "nbconvert_exporter": "python",
   "pygments_lexer": "ipython2",
   "version": "2.7.6"
  }
 },
 "nbformat": 4,
 "nbformat_minor": 0
}