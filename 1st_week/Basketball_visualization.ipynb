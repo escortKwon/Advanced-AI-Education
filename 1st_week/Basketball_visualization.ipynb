{
 "cells": [
  {
   "cell_type": "code",
   "execution_count": 1,
   "metadata": {
    "collapsed": true
   },
   "outputs": [],
   "source": [
    "import numpy as np\n",
    "import pandas as pd\n",
    "import matplotlib.pyplot as plt\n",
    "import seaborn as sns"
   ]
  },
  {
   "cell_type": "code",
   "execution_count": 2,
   "outputs": [
    {
     "name": "stdout",
     "output_type": "stream",
     "text": [
      "data shape: (100, 8)\n",
      "<class 'pandas.core.frame.DataFrame'>\n",
      "RangeIndex: 100 entries, 0 to 99\n",
      "Data columns (total 8 columns):\n",
      " #   Column  Non-Null Count  Dtype  \n",
      "---  ------  --------------  -----  \n",
      " 0   Player  100 non-null    object \n",
      " 1   Pos     100 non-null    object \n",
      " 2   3P      100 non-null    float64\n",
      " 3   2P      100 non-null    float64\n",
      " 4   TRB     100 non-null    float64\n",
      " 5   AST     100 non-null    float64\n",
      " 6   STL     100 non-null    float64\n",
      " 7   BLK     100 non-null    float64\n",
      "dtypes: float64(6), object(2)\n",
      "memory usage: 6.4+ KB\n"
     ]
    },
    {
     "data": {
      "text/plain": "              3P          2P         TRB         AST         STL        BLK\ncount  100.00000  100.000000  100.000000  100.000000  100.000000  100.00000\nmean     1.08200    3.265000    5.030000    1.892000    0.725000    0.69600\nstd      0.91424    1.843053    3.098599    1.257357    0.343004    0.59661\nmin      0.00000    0.500000    1.300000    0.200000    0.000000    0.10000\n25%      0.00000    1.900000    2.875000    0.975000    0.500000    0.20000\n50%      1.30000    2.900000    3.900000    1.500000    0.700000    0.55000\n75%      1.80000    4.450000    6.325000    2.600000    0.925000    1.00000\nmax      3.40000    9.700000   14.100000    5.900000    1.600000    3.00000",
      "text/html": "<div>\n<style scoped>\n    .dataframe tbody tr th:only-of-type {\n        vertical-align: middle;\n    }\n\n    .dataframe tbody tr th {\n        vertical-align: top;\n    }\n\n    .dataframe thead th {\n        text-align: right;\n    }\n</style>\n<table border=\"1\" class=\"dataframe\">\n  <thead>\n    <tr style=\"text-align: right;\">\n      <th></th>\n      <th>3P</th>\n      <th>2P</th>\n      <th>TRB</th>\n      <th>AST</th>\n      <th>STL</th>\n      <th>BLK</th>\n    </tr>\n  </thead>\n  <tbody>\n    <tr>\n      <th>count</th>\n      <td>100.00000</td>\n      <td>100.000000</td>\n      <td>100.000000</td>\n      <td>100.000000</td>\n      <td>100.000000</td>\n      <td>100.00000</td>\n    </tr>\n    <tr>\n      <th>mean</th>\n      <td>1.08200</td>\n      <td>3.265000</td>\n      <td>5.030000</td>\n      <td>1.892000</td>\n      <td>0.725000</td>\n      <td>0.69600</td>\n    </tr>\n    <tr>\n      <th>std</th>\n      <td>0.91424</td>\n      <td>1.843053</td>\n      <td>3.098599</td>\n      <td>1.257357</td>\n      <td>0.343004</td>\n      <td>0.59661</td>\n    </tr>\n    <tr>\n      <th>min</th>\n      <td>0.00000</td>\n      <td>0.500000</td>\n      <td>1.300000</td>\n      <td>0.200000</td>\n      <td>0.000000</td>\n      <td>0.10000</td>\n    </tr>\n    <tr>\n      <th>25%</th>\n      <td>0.00000</td>\n      <td>1.900000</td>\n      <td>2.875000</td>\n      <td>0.975000</td>\n      <td>0.500000</td>\n      <td>0.20000</td>\n    </tr>\n    <tr>\n      <th>50%</th>\n      <td>1.30000</td>\n      <td>2.900000</td>\n      <td>3.900000</td>\n      <td>1.500000</td>\n      <td>0.700000</td>\n      <td>0.55000</td>\n    </tr>\n    <tr>\n      <th>75%</th>\n      <td>1.80000</td>\n      <td>4.450000</td>\n      <td>6.325000</td>\n      <td>2.600000</td>\n      <td>0.925000</td>\n      <td>1.00000</td>\n    </tr>\n    <tr>\n      <th>max</th>\n      <td>3.40000</td>\n      <td>9.700000</td>\n      <td>14.100000</td>\n      <td>5.900000</td>\n      <td>1.600000</td>\n      <td>3.00000</td>\n    </tr>\n  </tbody>\n</table>\n</div>"
     },
     "execution_count": 2,
     "metadata": {},
     "output_type": "execute_result"
    }
   ],
   "source": [
    "# 데이터 불러오기 및 개요 파악하기\n",
    "basketball_df = pd.read_csv(\"Dataset/basketball_stat.csv\")\n",
    "\n",
    "print(\"data shape:\", basketball_df.shape)\n",
    "basketball_df.info()\n",
    "basketball_df.describe()"
   ],
   "metadata": {
    "collapsed": false,
    "pycharm": {
     "name": "#%%\n"
    }
   }
  },
  {
   "cell_type": "code",
   "execution_count": 15,
   "outputs": [
    {
     "data": {
      "text/plain": "           Player Pos   3P   2P   TRB  AST  STL  BLK  Pos_new  2P_new\n0    Alex Abrines  SG  1.4  0.6   1.3  0.6  0.5  0.1        1    -0.6\n70  E'Twaun Moore  SG  1.1  2.8   2.1  2.2  0.7  0.4        1    -2.8\n39   Tim Hardaway  SG  1.9  3.4   2.8  2.3  0.7  0.2        1    -3.4\n41    Gary Harris  SG  1.9  3.7   3.1  2.9  1.2  0.1        1    -3.7\n42     Joe Harris  SG  1.6  1.3   2.8  1.0  0.6  0.2        1    -1.3\n..            ...  ..  ...  ...   ...  ...  ...  ...      ...     ...\n62    Robin Lopez   C  0.0  4.7   6.4  1.0  0.2  1.4        0    -4.7\n63    Ian Mahinmi   C  0.0  2.1   4.8  0.6  1.1  0.8        0    -2.1\n66   JaVale McGee   C  0.0  2.7   3.2  0.2  0.2  0.9        0    -2.7\n35  Marcin Gortat   C  0.0  4.8  10.4  1.5  0.5  0.7        0    -4.8\n50     Al Horford   C  1.3  4.3   6.8  5.0  0.8  1.3        0    -4.3\n\n[100 rows x 10 columns]",
      "text/html": "<div>\n<style scoped>\n    .dataframe tbody tr th:only-of-type {\n        vertical-align: middle;\n    }\n\n    .dataframe tbody tr th {\n        vertical-align: top;\n    }\n\n    .dataframe thead th {\n        text-align: right;\n    }\n</style>\n<table border=\"1\" class=\"dataframe\">\n  <thead>\n    <tr style=\"text-align: right;\">\n      <th></th>\n      <th>Player</th>\n      <th>Pos</th>\n      <th>3P</th>\n      <th>2P</th>\n      <th>TRB</th>\n      <th>AST</th>\n      <th>STL</th>\n      <th>BLK</th>\n      <th>Pos_new</th>\n      <th>2P_new</th>\n    </tr>\n  </thead>\n  <tbody>\n    <tr>\n      <th>0</th>\n      <td>Alex Abrines</td>\n      <td>SG</td>\n      <td>1.4</td>\n      <td>0.6</td>\n      <td>1.3</td>\n      <td>0.6</td>\n      <td>0.5</td>\n      <td>0.1</td>\n      <td>1</td>\n      <td>-0.6</td>\n    </tr>\n    <tr>\n      <th>70</th>\n      <td>E'Twaun Moore</td>\n      <td>SG</td>\n      <td>1.1</td>\n      <td>2.8</td>\n      <td>2.1</td>\n      <td>2.2</td>\n      <td>0.7</td>\n      <td>0.4</td>\n      <td>1</td>\n      <td>-2.8</td>\n    </tr>\n    <tr>\n      <th>39</th>\n      <td>Tim Hardaway</td>\n      <td>SG</td>\n      <td>1.9</td>\n      <td>3.4</td>\n      <td>2.8</td>\n      <td>2.3</td>\n      <td>0.7</td>\n      <td>0.2</td>\n      <td>1</td>\n      <td>-3.4</td>\n    </tr>\n    <tr>\n      <th>41</th>\n      <td>Gary Harris</td>\n      <td>SG</td>\n      <td>1.9</td>\n      <td>3.7</td>\n      <td>3.1</td>\n      <td>2.9</td>\n      <td>1.2</td>\n      <td>0.1</td>\n      <td>1</td>\n      <td>-3.7</td>\n    </tr>\n    <tr>\n      <th>42</th>\n      <td>Joe Harris</td>\n      <td>SG</td>\n      <td>1.6</td>\n      <td>1.3</td>\n      <td>2.8</td>\n      <td>1.0</td>\n      <td>0.6</td>\n      <td>0.2</td>\n      <td>1</td>\n      <td>-1.3</td>\n    </tr>\n    <tr>\n      <th>...</th>\n      <td>...</td>\n      <td>...</td>\n      <td>...</td>\n      <td>...</td>\n      <td>...</td>\n      <td>...</td>\n      <td>...</td>\n      <td>...</td>\n      <td>...</td>\n      <td>...</td>\n    </tr>\n    <tr>\n      <th>62</th>\n      <td>Robin Lopez</td>\n      <td>C</td>\n      <td>0.0</td>\n      <td>4.7</td>\n      <td>6.4</td>\n      <td>1.0</td>\n      <td>0.2</td>\n      <td>1.4</td>\n      <td>0</td>\n      <td>-4.7</td>\n    </tr>\n    <tr>\n      <th>63</th>\n      <td>Ian Mahinmi</td>\n      <td>C</td>\n      <td>0.0</td>\n      <td>2.1</td>\n      <td>4.8</td>\n      <td>0.6</td>\n      <td>1.1</td>\n      <td>0.8</td>\n      <td>0</td>\n      <td>-2.1</td>\n    </tr>\n    <tr>\n      <th>66</th>\n      <td>JaVale McGee</td>\n      <td>C</td>\n      <td>0.0</td>\n      <td>2.7</td>\n      <td>3.2</td>\n      <td>0.2</td>\n      <td>0.2</td>\n      <td>0.9</td>\n      <td>0</td>\n      <td>-2.7</td>\n    </tr>\n    <tr>\n      <th>35</th>\n      <td>Marcin Gortat</td>\n      <td>C</td>\n      <td>0.0</td>\n      <td>4.8</td>\n      <td>10.4</td>\n      <td>1.5</td>\n      <td>0.5</td>\n      <td>0.7</td>\n      <td>0</td>\n      <td>-4.8</td>\n    </tr>\n    <tr>\n      <th>50</th>\n      <td>Al Horford</td>\n      <td>C</td>\n      <td>1.3</td>\n      <td>4.3</td>\n      <td>6.8</td>\n      <td>5.0</td>\n      <td>0.8</td>\n      <td>1.3</td>\n      <td>0</td>\n      <td>-4.3</td>\n    </tr>\n  </tbody>\n</table>\n<p>100 rows × 10 columns</p>\n</div>"
     },
     "execution_count": 15,
     "metadata": {},
     "output_type": "execute_result"
    }
   ],
   "source": [
    "# 데이터 전처리\n",
    "basketball_sorted = basketball_df.sort_values(by=['Pos'], ascending=False) # 'Pos' 기준으로 내림차순으로 정렬\n",
    "\n",
    "basketball_2P_new = basketball_sorted['2P'] * (-1)\n",
    "basketball_2P_new.name = '2P_new'\n",
    "\n",
    "basketball_sorted['Pos_new'] = np.where(basketball_sorted['Pos'] != 'SG', 0, 1)\n",
    "\n",
    "basketball_sorted = pd.concat([basketball_sorted, basketball_2P_new],axis=1)\n",
    "basketball_sorted"
   ],
   "metadata": {
    "collapsed": false,
    "pycharm": {
     "name": "#%%\n"
    }
   }
  },
  {
   "cell_type": "code",
   "execution_count": null,
   "outputs": [],
   "source": [
    "# Position별 Boolean 인덱싱으로 numpy array 생성\n",
    "SG = np.array(basketball_sorted[basketball_sorted[\"Pos\"] == 'SG']) # Shooting Guard 인덱싱\n",
    "C = np.array(basketball_sorted[basketball_sorted[\"Pos\"] == 'C']) # Center 인덱싱"
   ],
   "metadata": {
    "collapsed": false,
    "pycharm": {
     "name": "#%%\n"
    }
   }
  },
  {
   "cell_type": "code",
   "execution_count": null,
   "outputs": [],
   "source": [
    "# Position별 3점, 2점 분포\n",
    "sns.scatterplot(x='Pos', y='3P', data=basketball_sorted)\n",
    "sns.scatterplot(x='Pos', y='2P', data=basketball_sorted)\n",
    "plt.legend(['2P', '3P']) # 범례 표시\n",
    "plt.ylim((0, 3)) # y축 구간을 0 ~ 3으로 scaling\n",
    "plt.title(\"Pos - 3P & 2P\")\n",
    "plt.show()"
   ],
   "metadata": {
    "collapsed": false,
    "pycharm": {
     "name": "#%%\n"
    }
   }
  },
  {
   "cell_type": "code",
   "execution_count": null,
   "outputs": [],
   "source": [
    "# Position별 3점, 2점 분포 / 3점 - y축(+), 2점 - y축(-)\n",
    "sns.scatterplot(x='Pos', y='3P', data=basketball_sorted)\n",
    "sns.scatterplot(x='Pos', y='2P_new', data=basketball_sorted)\n",
    "plt.legend(['2P', '3P']) # 범례 표시\n",
    "plt.ylim((-2, 3)) # y축 구간을 0 ~ 3으로 scaling\n",
    "plt.title(\"Pos - 3P & 2P\")\n",
    "plt.show()"
   ],
   "metadata": {
    "collapsed": false,
    "pycharm": {
     "name": "#%%\n"
    }
   }
  },
  {
   "cell_type": "code",
   "execution_count": 35,
   "outputs": [
    {
     "data": {
      "text/plain": "<Figure size 432x288 with 1 Axes>",
      "image/png": "[encoded data removed]"
     },
     "metadata": {
      "needs_background": "light"
     },
     "output_type": "display_data"
    }
   ],
   "source": [
    "# BLK - STL Plot by SG - C\n",
    "sns.scatterplot(x='BLK', y='STL', data=basketball_sorted, hue=\"Pos_new\")\n",
    "plt.xlabel('BLK')\n",
    "plt.ylabel('STL')\n",
    "plt.legend(['SG', 'C'])\n",
    "plt.axvline(x=0.5, color='r', linestyle='--')\n",
    "plt.axhline(y=1.05, xmin=0.5/3.0, xmax=3.0, color='g', linestyle='--')\n",
    "plt.axhline(y=0.45, xmin=0, xmax=0.5/3.0, color='g', linestyle='--')\n",
    "plt.title('BLK - STL')\n",
    "plt.show()\n"
   ],
   "metadata": {
    "collapsed": false,
    "pycharm": {
     "name": "#%%\n"
    }
   }
  }
 ],
 "metadata": {
  "kernelspec": {
   "name": "lab_kernel",
   "language": "python",
   "display_name": "lab_kernel"
  },
  "language_info": {
   "codemirror_mode": {
    "name": "ipython",
    "version": 2
   },
   "file_extension": ".py",
   "mimetype": "text/x-python",
   "name": "python",
   "nbconvert_exporter": "python",
   "pygments_lexer": "ipython2",
   "version": "2.7.6"
  }
 },
 "nbformat": 4,
 "nbformat_minor": 0
}