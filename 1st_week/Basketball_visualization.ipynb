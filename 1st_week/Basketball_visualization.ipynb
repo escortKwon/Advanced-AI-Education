{
 "cells": [
  {
   "cell_type": "code",
   "execution_count": 1,
   "metadata": {
    "collapsed": true
   },
   "outputs": [],
   "source": [
    "import numpy as np\n",
    "import pandas as pd\n",
    "from matplotlib import pyplot as plt"
   ]
  },
  {
   "cell_type": "code",
   "execution_count": 6,
   "outputs": [
    {
     "name": "stdout",
     "output_type": "stream",
     "text": [
      "data shape: (100, 8)\n"
     ]
    }
   ],
   "source": [
    "data = pd.read_csv(\"dataset/basketball_stat.csv\")\n",
    "print(\"data shape:\", data.shape)"
   ],
   "metadata": {
    "collapsed": false,
    "pycharm": {
     "name": "#%%\n"
    }
   }
  },
  {
   "cell_type": "code",
   "execution_count": 9,
   "outputs": [
    {
     "name": "stdout",
     "output_type": "stream",
     "text": [
      "<class 'pandas.core.frame.DataFrame'>\n",
      "RangeIndex: 100 entries, 0 to 99\n",
      "Data columns (total 8 columns):\n",
      " #   Column  Non-Null Count  Dtype  \n",
      "---  ------  --------------  -----  \n",
      " 0   Player  100 non-null    object \n",
      " 1   Pos     100 non-null    object \n",
      " 2   3P      100 non-null    float64\n",
      " 3   2P      100 non-null    float64\n",
      " 4   TRB     100 non-null    float64\n",
      " 5   AST     100 non-null    float64\n",
      " 6   STL     100 non-null    float64\n",
      " 7   BLK     100 non-null    float64\n",
      "dtypes: float64(6), object(2)\n",
      "memory usage: 6.4+ KB\n"
     ]
    },
    {
     "data": {
      "text/plain": "              3P          2P         TRB         AST         STL        BLK\ncount  100.00000  100.000000  100.000000  100.000000  100.000000  100.00000\nmean     1.08200    3.265000    5.030000    1.892000    0.725000    0.69600\nstd      0.91424    1.843053    3.098599    1.257357    0.343004    0.59661\nmin      0.00000    0.500000    1.300000    0.200000    0.000000    0.10000\n25%      0.00000    1.900000    2.875000    0.975000    0.500000    0.20000\n50%      1.30000    2.900000    3.900000    1.500000    0.700000    0.55000\n75%      1.80000    4.450000    6.325000    2.600000    0.925000    1.00000\nmax      3.40000    9.700000   14.100000    5.900000    1.600000    3.00000",
      "text/html": "<div>\n<style scoped>\n    .dataframe tbody tr th:only-of-type {\n        vertical-align: middle;\n    }\n\n    .dataframe tbody tr th {\n        vertical-align: top;\n    }\n\n    .dataframe thead th {\n        text-align: right;\n    }\n</style>\n<table border=\"1\" class=\"dataframe\">\n  <thead>\n    <tr style=\"text-align: right;\">\n      <th></th>\n      <th>3P</th>\n      <th>2P</th>\n      <th>TRB</th>\n      <th>AST</th>\n      <th>STL</th>\n      <th>BLK</th>\n    </tr>\n  </thead>\n  <tbody>\n    <tr>\n      <th>count</th>\n      <td>100.00000</td>\n      <td>100.000000</td>\n      <td>100.000000</td>\n      <td>100.000000</td>\n      <td>100.000000</td>\n      <td>100.00000</td>\n    </tr>\n    <tr>\n      <th>mean</th>\n      <td>1.08200</td>\n      <td>3.265000</td>\n      <td>5.030000</td>\n      <td>1.892000</td>\n      <td>0.725000</td>\n      <td>0.69600</td>\n    </tr>\n    <tr>\n      <th>std</th>\n      <td>0.91424</td>\n      <td>1.843053</td>\n      <td>3.098599</td>\n      <td>1.257357</td>\n      <td>0.343004</td>\n      <td>0.59661</td>\n    </tr>\n    <tr>\n      <th>min</th>\n      <td>0.00000</td>\n      <td>0.500000</td>\n      <td>1.300000</td>\n      <td>0.200000</td>\n      <td>0.000000</td>\n      <td>0.10000</td>\n    </tr>\n    <tr>\n      <th>25%</th>\n      <td>0.00000</td>\n      <td>1.900000</td>\n      <td>2.875000</td>\n      <td>0.975000</td>\n      <td>0.500000</td>\n      <td>0.20000</td>\n    </tr>\n    <tr>\n      <th>50%</th>\n      <td>1.30000</td>\n      <td>2.900000</td>\n      <td>3.900000</td>\n      <td>1.500000</td>\n      <td>0.700000</td>\n      <td>0.55000</td>\n    </tr>\n    <tr>\n      <th>75%</th>\n      <td>1.80000</td>\n      <td>4.450000</td>\n      <td>6.325000</td>\n      <td>2.600000</td>\n      <td>0.925000</td>\n      <td>1.00000</td>\n    </tr>\n    <tr>\n      <th>max</th>\n      <td>3.40000</td>\n      <td>9.700000</td>\n      <td>14.100000</td>\n      <td>5.900000</td>\n      <td>1.600000</td>\n      <td>3.00000</td>\n    </tr>\n  </tbody>\n</table>\n</div>"
     },
     "execution_count": 9,
     "metadata": {},
     "output_type": "execute_result"
    }
   ],
   "source": [
    "data.info()\n",
    "data.describe()\n"
   ],
   "metadata": {
    "collapsed": false,
    "pycharm": {
     "name": "#%%\n"
    }
   }
  }
 ],
 "metadata": {
  "kernelspec": {
   "name": "pycharm-71ac3210",
   "language": "python",
   "display_name": "PyCharm (Advanced_AI_Education)"
  },
  "language_info": {
   "codemirror_mode": {
    "name": "ipython",
    "version": 2
   },
   "file_extension": ".py",
   "mimetype": "text/x-python",
   "name": "python",
   "nbconvert_exporter": "python",
   "pygments_lexer": "ipython2",
   "version": "2.7.6"
  }
 },
 "nbformat": 4,
 "nbformat_minor": 0
}