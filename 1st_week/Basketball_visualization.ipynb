{
 "cells": [
  {
   "cell_type": "code",
   "execution_count": 8,
   "metadata": {
    "collapsed": true
   },
   "outputs": [],
   "source": [
    "import numpy as np\n",
    "import pandas as pd\n",
    "import matplotlib.pyplot as plt\n",
    "import seaborn as sns"
   ]
  },
  {
   "cell_type": "code",
   "execution_count": 9,
   "outputs": [
    {
     "name": "stdout",
     "output_type": "stream",
     "text": [
      "data shape: (100, 8)\n",
      "<class 'pandas.core.frame.DataFrame'>\n",
      "RangeIndex: 100 entries, 0 to 99\n",
      "Data columns (total 8 columns):\n",
      " #   Column  Non-Null Count  Dtype  \n",
      "---  ------  --------------  -----  \n",
      " 0   Player  100 non-null    object \n",
      " 1   Pos     100 non-null    object \n",
      " 2   3P      100 non-null    float64\n",
      " 3   2P      100 non-null    float64\n",
      " 4   TRB     100 non-null    float64\n",
      " 5   AST     100 non-null    float64\n",
      " 6   STL     100 non-null    float64\n",
      " 7   BLK     100 non-null    float64\n",
      "dtypes: float64(6), object(2)\n",
      "memory usage: 6.4+ KB\n"
     ]
    },
    {
     "data": {
      "text/plain": "              3P          2P         TRB         AST         STL        BLK\ncount  100.00000  100.000000  100.000000  100.000000  100.000000  100.00000\nmean     1.08200    3.265000    5.030000    1.892000    0.725000    0.69600\nstd      0.91424    1.843053    3.098599    1.257357    0.343004    0.59661\nmin      0.00000    0.500000    1.300000    0.200000    0.000000    0.10000\n25%      0.00000    1.900000    2.875000    0.975000    0.500000    0.20000\n50%      1.30000    2.900000    3.900000    1.500000    0.700000    0.55000\n75%      1.80000    4.450000    6.325000    2.600000    0.925000    1.00000\nmax      3.40000    9.700000   14.100000    5.900000    1.600000    3.00000",
      "text/html": "<div>\n<style scoped>\n    .dataframe tbody tr th:only-of-type {\n        vertical-align: middle;\n    }\n\n    .dataframe tbody tr th {\n        vertical-align: top;\n    }\n\n    .dataframe thead th {\n        text-align: right;\n    }\n</style>\n<table border=\"1\" class=\"dataframe\">\n  <thead>\n    <tr style=\"text-align: right;\">\n      <th></th>\n      <th>3P</th>\n      <th>2P</th>\n      <th>TRB</th>\n      <th>AST</th>\n      <th>STL</th>\n      <th>BLK</th>\n    </tr>\n  </thead>\n  <tbody>\n    <tr>\n      <th>count</th>\n      <td>100.00000</td>\n      <td>100.000000</td>\n      <td>100.000000</td>\n      <td>100.000000</td>\n      <td>100.000000</td>\n      <td>100.00000</td>\n    </tr>\n    <tr>\n      <th>mean</th>\n      <td>1.08200</td>\n      <td>3.265000</td>\n      <td>5.030000</td>\n      <td>1.892000</td>\n      <td>0.725000</td>\n      <td>0.69600</td>\n    </tr>\n    <tr>\n      <th>std</th>\n      <td>0.91424</td>\n      <td>1.843053</td>\n      <td>3.098599</td>\n      <td>1.257357</td>\n      <td>0.343004</td>\n      <td>0.59661</td>\n    </tr>\n    <tr>\n      <th>min</th>\n      <td>0.00000</td>\n      <td>0.500000</td>\n      <td>1.300000</td>\n      <td>0.200000</td>\n      <td>0.000000</td>\n      <td>0.10000</td>\n    </tr>\n    <tr>\n      <th>25%</th>\n      <td>0.00000</td>\n      <td>1.900000</td>\n      <td>2.875000</td>\n      <td>0.975000</td>\n      <td>0.500000</td>\n      <td>0.20000</td>\n    </tr>\n    <tr>\n      <th>50%</th>\n      <td>1.30000</td>\n      <td>2.900000</td>\n      <td>3.900000</td>\n      <td>1.500000</td>\n      <td>0.700000</td>\n      <td>0.55000</td>\n    </tr>\n    <tr>\n      <th>75%</th>\n      <td>1.80000</td>\n      <td>4.450000</td>\n      <td>6.325000</td>\n      <td>2.600000</td>\n      <td>0.925000</td>\n      <td>1.00000</td>\n    </tr>\n    <tr>\n      <th>max</th>\n      <td>3.40000</td>\n      <td>9.700000</td>\n      <td>14.100000</td>\n      <td>5.900000</td>\n      <td>1.600000</td>\n      <td>3.00000</td>\n    </tr>\n  </tbody>\n</table>\n</div>"
     },
     "execution_count": 9,
     "metadata": {},
     "output_type": "execute_result"
    }
   ],
   "source": [
    "# 데이터 불러오기 및 개요 파악하기\n",
    "basketball_df = pd.read_csv(\"Dataset/basketball_stat.csv\")\n",
    "\n",
    "print(\"data shape:\", basketball_df.shape)\n",
    "basketball_df.info()\n",
    "basketball_df.describe()"
   ],
   "metadata": {
    "collapsed": false,
    "pycharm": {
     "name": "#%%\n"
    }
   }
  },
  {
   "cell_type": "code",
   "execution_count": 12,
   "outputs": [
    {
     "ename": "TypeError",
     "evalue": "'numpy.ndarray' object is not callable",
     "output_type": "error",
     "traceback": [
      "\u001B[1;31m---------------------------------------------------------------------------\u001B[0m",
      "\u001B[1;31mTypeError\u001B[0m                                 Traceback (most recent call last)",
      "\u001B[1;32m<ipython-input-12-7287f2c680a2>\u001B[0m in \u001B[0;36m<module>\u001B[1;34m\u001B[0m\n\u001B[0;32m      4\u001B[0m \u001B[0mbasketball_sorted_2P_new\u001B[0m \u001B[1;33m=\u001B[0m \u001B[0mnp\u001B[0m\u001B[1;33m.\u001B[0m\u001B[0marray\u001B[0m\u001B[1;33m(\u001B[0m\u001B[1;33m[\u001B[0m\u001B[1;33m]\u001B[0m\u001B[1;33m)\u001B[0m\u001B[1;33m\u001B[0m\u001B[1;33m\u001B[0m\u001B[0m\n\u001B[0;32m      5\u001B[0m \u001B[1;32mfor\u001B[0m \u001B[0mi\u001B[0m \u001B[1;32min\u001B[0m \u001B[0mbasketball_2P\u001B[0m\u001B[1;33m:\u001B[0m\u001B[1;33m\u001B[0m\u001B[1;33m\u001B[0m\u001B[0m\n\u001B[1;32m----> 6\u001B[1;33m     \u001B[0mbasketball_sorted_2P_new\u001B[0m\u001B[1;33m(\u001B[0m\u001B[0mi\u001B[0m \u001B[1;33m*\u001B[0m \u001B[1;33m(\u001B[0m\u001B[1;33m-\u001B[0m\u001B[1;36m1\u001B[0m\u001B[1;33m)\u001B[0m\u001B[1;33m)\u001B[0m\u001B[1;33m\u001B[0m\u001B[1;33m\u001B[0m\u001B[0m\n\u001B[0m\u001B[0;32m      7\u001B[0m \u001B[0mprint\u001B[0m\u001B[1;33m(\u001B[0m\u001B[0mbasketball_sorted_2P_new\u001B[0m\u001B[1;33m)\u001B[0m\u001B[1;33m\u001B[0m\u001B[1;33m\u001B[0m\u001B[0m\n\u001B[0;32m      8\u001B[0m \u001B[1;33m\u001B[0m\u001B[0m\n",
      "\u001B[1;31mTypeError\u001B[0m: 'numpy.ndarray' object is not callable"
     ]
    }
   ],
   "source": [
    "# 데이터 전처리\n",
    "basketball_sorted = basketball_df.sort_values(by=['Pos'], ascending=False) # 'Pos' 기준으로 내림차순으로 정렬\n",
    "basketball_2P = np.array(basketball_sorted['2P'])\n",
    "for i in basketball_2P:\n",
    "    basketball_sorted_2P_new(i * (-1))\n",
    "print(basketball_sorted_2P_new)"
   ],
   "metadata": {
    "collapsed": false,
    "pycharm": {
     "name": "#%%\n"
    }
   }
  },
  {
   "cell_type": "code",
   "execution_count": null,
   "outputs": [],
   "source": [
    "# Position별 Boolean 인덱싱으로 numpy array 생성\n",
    "SG = np.array(basketball_sorted[basketball_sorted[\"Pos\"] == 'SG']) # Shooting Guard 인덱싱\n",
    "C = np.array(basketball_sorted[basketball_sorted[\"Pos\"] == 'C']) # Center 인덱싱"
   ],
   "metadata": {
    "collapsed": false,
    "pycharm": {
     "name": "#%%\n"
    }
   }
  },
  {
   "cell_type": "code",
   "execution_count": null,
   "outputs": [],
   "source": [
    "# 각 Column들에 대해 numpy로 array 생성\n",
    "Pos = np.array(basketball_df[\"Pos\"])\n",
    "Point_3 = np.array(basketball_df[\"3P\"])\n",
    "Point_2 = np.array(basketball_df[\"2P\"])"
   ],
   "metadata": {
    "collapsed": false,
    "pycharm": {
     "name": "#%%\n"
    }
   }
  },
  {
   "cell_type": "code",
   "execution_count": null,
   "outputs": [],
   "source": [
    "# Position별 3점, 2점 분포\n",
    "sns.scatterplot(x='Pos', y='3P', data=basketball_sorted)\n",
    "sns.scatterplot(x='Pos', y='2P', data=basketball_sorted)\n",
    "plt.legend(['2P', '3P']) # 범례 표시\n",
    "plt.ylim((0, 3)) # y축 구간을 0 ~ 3으로 scaling\n",
    "plt.title(\"Pos - 3P & 2P\")\n",
    "plt.show()"
   ],
   "metadata": {
    "collapsed": false,
    "pycharm": {
     "name": "#%%\n"
    }
   }
  },
  {
   "cell_type": "code",
   "execution_count": null,
   "outputs": [],
   "source": [
    "# Position별 3점, 2점 분포\n",
    "sns.scatterplot(x='Pos', y='', data=basketball_sorted)\n",
    "sns.scatterplot(x='Pos', y='', data=basketball_sorted)\n",
    "plt.legend(['2P', '3P']) # 범례 표시\n",
    "plt.ylim((0, 3)) # y축 구간을 0 ~ 3으로 scaling\n",
    "plt.title(\"Pos - 3P & 2P\")\n",
    "plt.show()"
   ],
   "metadata": {
    "collapsed": false,
    "pycharm": {
     "name": "#%%\n"
    }
   }
  },
  {
   "cell_type": "code",
   "execution_count": null,
   "outputs": [],
   "source": [
    "# Heatmap 작성하기\n",
    "fig, ax = plt.subplots(figsize=(10, 10))\n",
    "\n",
    "ax = sns.heatmap(basketball_df,\n",
    "                 cmap = \"Blues\",\n",
    "                 annot=True,\n",
    "                 fmt=\".2f\",\n",
    "                 linewidths=2)"
   ],
   "metadata": {
    "collapsed": false,
    "pycharm": {
     "name": "#%%\n"
    }
   }
  }
 ],
 "metadata": {
  "kernelspec": {
   "name": "python3",
   "language": "python",
   "display_name": "Python 3"
  },
  "language_info": {
   "codemirror_mode": {
    "name": "ipython",
    "version": 2
   },
   "file_extension": ".py",
   "mimetype": "text/x-python",
   "name": "python",
   "nbconvert_exporter": "python",
   "pygments_lexer": "ipython2",
   "version": "2.7.6"
  }
 },
 "nbformat": 4,
 "nbformat_minor": 0
}