{
 "cells": [
  {
   "cell_type": "code",
   "execution_count": 1,
   "metadata": {
    "collapsed": true
   },
   "outputs": [],
   "source": [
    "import numpy as np\n",
    "import pandas as pd\n",
    "import matplotlib.pyplot as plt\n",
    "import seaborn as sns"
   ]
  },
  {
   "cell_type": "code",
   "execution_count": 2,
   "outputs": [
    {
     "name": "stdout",
     "output_type": "stream",
     "text": [
      "data shape: (100, 8)\n",
      "<class 'pandas.core.frame.DataFrame'>\n",
      "RangeIndex: 100 entries, 0 to 99\n",
      "Data columns (total 8 columns):\n",
      " #   Column  Non-Null Count  Dtype  \n",
      "---  ------  --------------  -----  \n",
      " 0   Player  100 non-null    object \n",
      " 1   Pos     100 non-null    object \n",
      " 2   3P      100 non-null    float64\n",
      " 3   2P      100 non-null    float64\n",
      " 4   TRB     100 non-null    float64\n",
      " 5   AST     100 non-null    float64\n",
      " 6   STL     100 non-null    float64\n",
      " 7   BLK     100 non-null    float64\n",
      "dtypes: float64(6), object(2)\n",
      "memory usage: 6.4+ KB\n"
     ]
    },
    {
     "data": {
      "text/plain": "              3P          2P         TRB         AST         STL        BLK\ncount  100.00000  100.000000  100.000000  100.000000  100.000000  100.00000\nmean     1.08200    3.265000    5.030000    1.892000    0.725000    0.69600\nstd      0.91424    1.843053    3.098599    1.257357    0.343004    0.59661\nmin      0.00000    0.500000    1.300000    0.200000    0.000000    0.10000\n25%      0.00000    1.900000    2.875000    0.975000    0.500000    0.20000\n50%      1.30000    2.900000    3.900000    1.500000    0.700000    0.55000\n75%      1.80000    4.450000    6.325000    2.600000    0.925000    1.00000\nmax      3.40000    9.700000   14.100000    5.900000    1.600000    3.00000",
      "text/html": "<div>\n<style scoped>\n    .dataframe tbody tr th:only-of-type {\n        vertical-align: middle;\n    }\n\n    .dataframe tbody tr th {\n        vertical-align: top;\n    }\n\n    .dataframe thead th {\n        text-align: right;\n    }\n</style>\n<table border=\"1\" class=\"dataframe\">\n  <thead>\n    <tr style=\"text-align: right;\">\n      <th></th>\n      <th>3P</th>\n      <th>2P</th>\n      <th>TRB</th>\n      <th>AST</th>\n      <th>STL</th>\n      <th>BLK</th>\n    </tr>\n  </thead>\n  <tbody>\n    <tr>\n      <th>count</th>\n      <td>100.00000</td>\n      <td>100.000000</td>\n      <td>100.000000</td>\n      <td>100.000000</td>\n      <td>100.000000</td>\n      <td>100.00000</td>\n    </tr>\n    <tr>\n      <th>mean</th>\n      <td>1.08200</td>\n      <td>3.265000</td>\n      <td>5.030000</td>\n      <td>1.892000</td>\n      <td>0.725000</td>\n      <td>0.69600</td>\n    </tr>\n    <tr>\n      <th>std</th>\n      <td>0.91424</td>\n      <td>1.843053</td>\n      <td>3.098599</td>\n      <td>1.257357</td>\n      <td>0.343004</td>\n      <td>0.59661</td>\n    </tr>\n    <tr>\n      <th>min</th>\n      <td>0.00000</td>\n      <td>0.500000</td>\n      <td>1.300000</td>\n      <td>0.200000</td>\n      <td>0.000000</td>\n      <td>0.10000</td>\n    </tr>\n    <tr>\n      <th>25%</th>\n      <td>0.00000</td>\n      <td>1.900000</td>\n      <td>2.875000</td>\n      <td>0.975000</td>\n      <td>0.500000</td>\n      <td>0.20000</td>\n    </tr>\n    <tr>\n      <th>50%</th>\n      <td>1.30000</td>\n      <td>2.900000</td>\n      <td>3.900000</td>\n      <td>1.500000</td>\n      <td>0.700000</td>\n      <td>0.55000</td>\n    </tr>\n    <tr>\n      <th>75%</th>\n      <td>1.80000</td>\n      <td>4.450000</td>\n      <td>6.325000</td>\n      <td>2.600000</td>\n      <td>0.925000</td>\n      <td>1.00000</td>\n    </tr>\n    <tr>\n      <th>max</th>\n      <td>3.40000</td>\n      <td>9.700000</td>\n      <td>14.100000</td>\n      <td>5.900000</td>\n      <td>1.600000</td>\n      <td>3.00000</td>\n    </tr>\n  </tbody>\n</table>\n</div>"
     },
     "execution_count": 2,
     "metadata": {},
     "output_type": "execute_result"
    }
   ],
   "source": [
    "# 데이터 불러오기 및 개요 파악하기\n",
    "basketball_df = pd.read_csv(\"Dataset/basketball_stat.csv\")\n",
    "\n",
    "print(\"data shape:\", basketball_df.shape)\n",
    "basketball_df.info()\n",
    "basketball_df.describe()"
   ],
   "metadata": {
    "collapsed": false,
    "pycharm": {
     "name": "#%%\n"
    }
   }
  },
  {
   "cell_type": "code",
   "execution_count": 8,
   "outputs": [
    {
     "data": {
      "text/plain": "           Player  Pos   3P   2P   TRB  AST  STL  BLK    0    1  ...   90  \\\n0    Alex Abrines   SG  1.4  0.6   1.3  0.6  0.5  0.1  NaN  NaN  ...  NaN   \n70  E'Twaun Moore   SG  1.1  2.8   2.1  2.2  0.7  0.4  NaN  NaN  ...  NaN   \n39   Tim Hardaway   SG  1.9  3.4   2.8  2.3  0.7  0.2  NaN  NaN  ...  NaN   \n41    Gary Harris   SG  1.9  3.7   3.1  2.9  1.2  0.1  NaN  NaN  ...  NaN   \n42     Joe Harris   SG  1.6  1.3   2.8  1.0  0.6  0.2  NaN  NaN  ...  NaN   \n..            ...  ...  ...  ...   ...  ...  ...  ...  ...  ...  ...  ...   \n63    Ian Mahinmi    C  0.0  2.1   4.8  0.6  1.1  0.8  NaN  NaN  ...  NaN   \n66   JaVale McGee    C  0.0  2.7   3.2  0.2  0.2  0.9  NaN  NaN  ...  NaN   \n35  Marcin Gortat    C  0.0  4.8  10.4  1.5  0.5  0.7  NaN  NaN  ...  NaN   \n50     Al Horford    C  1.3  4.3   6.8  5.0  0.8  1.3  NaN  NaN  ...  NaN   \n2P            NaN  NaN  NaN  NaN   NaN  NaN  NaN  NaN -0.6 -4.7  ... -3.4   \n\n     91   92   93   94   95   96   97   98   99  \n0   NaN  NaN  NaN  NaN  NaN  NaN  NaN  NaN  NaN  \n70  NaN  NaN  NaN  NaN  NaN  NaN  NaN  NaN  NaN  \n39  NaN  NaN  NaN  NaN  NaN  NaN  NaN  NaN  NaN  \n41  NaN  NaN  NaN  NaN  NaN  NaN  NaN  NaN  NaN  \n42  NaN  NaN  NaN  NaN  NaN  NaN  NaN  NaN  NaN  \n..  ...  ...  ...  ...  ...  ...  ...  ...  ...  \n63  NaN  NaN  NaN  NaN  NaN  NaN  NaN  NaN  NaN  \n66  NaN  NaN  NaN  NaN  NaN  NaN  NaN  NaN  NaN  \n35  NaN  NaN  NaN  NaN  NaN  NaN  NaN  NaN  NaN  \n50  NaN  NaN  NaN  NaN  NaN  NaN  NaN  NaN  NaN  \n2P -8.5 -5.0 -4.9 -0.5 -6.1 -6.2 -4.3 -7.0 -3.3  \n\n[101 rows x 108 columns]",
      "text/html": "<div>\n<style scoped>\n    .dataframe tbody tr th:only-of-type {\n        vertical-align: middle;\n    }\n\n    .dataframe tbody tr th {\n        vertical-align: top;\n    }\n\n    .dataframe thead th {\n        text-align: right;\n    }\n</style>\n<table border=\"1\" class=\"dataframe\">\n  <thead>\n    <tr style=\"text-align: right;\">\n      <th></th>\n      <th>Player</th>\n      <th>Pos</th>\n      <th>3P</th>\n      <th>2P</th>\n      <th>TRB</th>\n      <th>AST</th>\n      <th>STL</th>\n      <th>BLK</th>\n      <th>0</th>\n      <th>1</th>\n      <th>...</th>\n      <th>90</th>\n      <th>91</th>\n      <th>92</th>\n      <th>93</th>\n      <th>94</th>\n      <th>95</th>\n      <th>96</th>\n      <th>97</th>\n      <th>98</th>\n      <th>99</th>\n    </tr>\n  </thead>\n  <tbody>\n    <tr>\n      <th>0</th>\n      <td>Alex Abrines</td>\n      <td>SG</td>\n      <td>1.4</td>\n      <td>0.6</td>\n      <td>1.3</td>\n      <td>0.6</td>\n      <td>0.5</td>\n      <td>0.1</td>\n      <td>NaN</td>\n      <td>NaN</td>\n      <td>...</td>\n      <td>NaN</td>\n      <td>NaN</td>\n      <td>NaN</td>\n      <td>NaN</td>\n      <td>NaN</td>\n      <td>NaN</td>\n      <td>NaN</td>\n      <td>NaN</td>\n      <td>NaN</td>\n      <td>NaN</td>\n    </tr>\n    <tr>\n      <th>70</th>\n      <td>E'Twaun Moore</td>\n      <td>SG</td>\n      <td>1.1</td>\n      <td>2.8</td>\n      <td>2.1</td>\n      <td>2.2</td>\n      <td>0.7</td>\n      <td>0.4</td>\n      <td>NaN</td>\n      <td>NaN</td>\n      <td>...</td>\n      <td>NaN</td>\n      <td>NaN</td>\n      <td>NaN</td>\n      <td>NaN</td>\n      <td>NaN</td>\n      <td>NaN</td>\n      <td>NaN</td>\n      <td>NaN</td>\n      <td>NaN</td>\n      <td>NaN</td>\n    </tr>\n    <tr>\n      <th>39</th>\n      <td>Tim Hardaway</td>\n      <td>SG</td>\n      <td>1.9</td>\n      <td>3.4</td>\n      <td>2.8</td>\n      <td>2.3</td>\n      <td>0.7</td>\n      <td>0.2</td>\n      <td>NaN</td>\n      <td>NaN</td>\n      <td>...</td>\n      <td>NaN</td>\n      <td>NaN</td>\n      <td>NaN</td>\n      <td>NaN</td>\n      <td>NaN</td>\n      <td>NaN</td>\n      <td>NaN</td>\n      <td>NaN</td>\n      <td>NaN</td>\n      <td>NaN</td>\n    </tr>\n    <tr>\n      <th>41</th>\n      <td>Gary Harris</td>\n      <td>SG</td>\n      <td>1.9</td>\n      <td>3.7</td>\n      <td>3.1</td>\n      <td>2.9</td>\n      <td>1.2</td>\n      <td>0.1</td>\n      <td>NaN</td>\n      <td>NaN</td>\n      <td>...</td>\n      <td>NaN</td>\n      <td>NaN</td>\n      <td>NaN</td>\n      <td>NaN</td>\n      <td>NaN</td>\n      <td>NaN</td>\n      <td>NaN</td>\n      <td>NaN</td>\n      <td>NaN</td>\n      <td>NaN</td>\n    </tr>\n    <tr>\n      <th>42</th>\n      <td>Joe Harris</td>\n      <td>SG</td>\n      <td>1.6</td>\n      <td>1.3</td>\n      <td>2.8</td>\n      <td>1.0</td>\n      <td>0.6</td>\n      <td>0.2</td>\n      <td>NaN</td>\n      <td>NaN</td>\n      <td>...</td>\n      <td>NaN</td>\n      <td>NaN</td>\n      <td>NaN</td>\n      <td>NaN</td>\n      <td>NaN</td>\n      <td>NaN</td>\n      <td>NaN</td>\n      <td>NaN</td>\n      <td>NaN</td>\n      <td>NaN</td>\n    </tr>\n    <tr>\n      <th>...</th>\n      <td>...</td>\n      <td>...</td>\n      <td>...</td>\n      <td>...</td>\n      <td>...</td>\n      <td>...</td>\n      <td>...</td>\n      <td>...</td>\n      <td>...</td>\n      <td>...</td>\n      <td>...</td>\n      <td>...</td>\n      <td>...</td>\n      <td>...</td>\n      <td>...</td>\n      <td>...</td>\n      <td>...</td>\n      <td>...</td>\n      <td>...</td>\n      <td>...</td>\n      <td>...</td>\n    </tr>\n    <tr>\n      <th>63</th>\n      <td>Ian Mahinmi</td>\n      <td>C</td>\n      <td>0.0</td>\n      <td>2.1</td>\n      <td>4.8</td>\n      <td>0.6</td>\n      <td>1.1</td>\n      <td>0.8</td>\n      <td>NaN</td>\n      <td>NaN</td>\n      <td>...</td>\n      <td>NaN</td>\n      <td>NaN</td>\n      <td>NaN</td>\n      <td>NaN</td>\n      <td>NaN</td>\n      <td>NaN</td>\n      <td>NaN</td>\n      <td>NaN</td>\n      <td>NaN</td>\n      <td>NaN</td>\n    </tr>\n    <tr>\n      <th>66</th>\n      <td>JaVale McGee</td>\n      <td>C</td>\n      <td>0.0</td>\n      <td>2.7</td>\n      <td>3.2</td>\n      <td>0.2</td>\n      <td>0.2</td>\n      <td>0.9</td>\n      <td>NaN</td>\n      <td>NaN</td>\n      <td>...</td>\n      <td>NaN</td>\n      <td>NaN</td>\n      <td>NaN</td>\n      <td>NaN</td>\n      <td>NaN</td>\n      <td>NaN</td>\n      <td>NaN</td>\n      <td>NaN</td>\n      <td>NaN</td>\n      <td>NaN</td>\n    </tr>\n    <tr>\n      <th>35</th>\n      <td>Marcin Gortat</td>\n      <td>C</td>\n      <td>0.0</td>\n      <td>4.8</td>\n      <td>10.4</td>\n      <td>1.5</td>\n      <td>0.5</td>\n      <td>0.7</td>\n      <td>NaN</td>\n      <td>NaN</td>\n      <td>...</td>\n      <td>NaN</td>\n      <td>NaN</td>\n      <td>NaN</td>\n      <td>NaN</td>\n      <td>NaN</td>\n      <td>NaN</td>\n      <td>NaN</td>\n      <td>NaN</td>\n      <td>NaN</td>\n      <td>NaN</td>\n    </tr>\n    <tr>\n      <th>50</th>\n      <td>Al Horford</td>\n      <td>C</td>\n      <td>1.3</td>\n      <td>4.3</td>\n      <td>6.8</td>\n      <td>5.0</td>\n      <td>0.8</td>\n      <td>1.3</td>\n      <td>NaN</td>\n      <td>NaN</td>\n      <td>...</td>\n      <td>NaN</td>\n      <td>NaN</td>\n      <td>NaN</td>\n      <td>NaN</td>\n      <td>NaN</td>\n      <td>NaN</td>\n      <td>NaN</td>\n      <td>NaN</td>\n      <td>NaN</td>\n      <td>NaN</td>\n    </tr>\n    <tr>\n      <th>2P</th>\n      <td>NaN</td>\n      <td>NaN</td>\n      <td>NaN</td>\n      <td>NaN</td>\n      <td>NaN</td>\n      <td>NaN</td>\n      <td>NaN</td>\n      <td>NaN</td>\n      <td>-0.6</td>\n      <td>-4.7</td>\n      <td>...</td>\n      <td>-3.4</td>\n      <td>-8.5</td>\n      <td>-5.0</td>\n      <td>-4.9</td>\n      <td>-0.5</td>\n      <td>-6.1</td>\n      <td>-6.2</td>\n      <td>-4.3</td>\n      <td>-7.0</td>\n      <td>-3.3</td>\n    </tr>\n  </tbody>\n</table>\n<p>101 rows × 108 columns</p>\n</div>"
     },
     "execution_count": 8,
     "metadata": {},
     "output_type": "execute_result"
    }
   ],
   "source": [
    "# 데이터 전처리\n",
    "basketball_sorted = basketball_df.sort_values(by=['Pos'], ascending=False) # 'Pos' 기준으로 내림차순으로 정렬\n",
    "basketball_2P_new = basketball_sorted['2P'] * (-1)\n",
    "basketball_sorted.append(basketball_2P_new)"
   ],
   "metadata": {
    "collapsed": false,
    "pycharm": {
     "name": "#%%\n"
    }
   }
  },
  {
   "cell_type": "code",
   "execution_count": 4,
   "outputs": [],
   "source": [
    "# Position별 Boolean 인덱싱으로 numpy array 생성\n",
    "SG = np.array(basketball_sorted[basketball_sorted[\"Pos\"] == 'SG']) # Shooting Guard 인덱싱\n",
    "C = np.array(basketball_sorted[basketball_sorted[\"Pos\"] == 'C']) # Center 인덱싱"
   ],
   "metadata": {
    "collapsed": false,
    "pycharm": {
     "name": "#%%\n"
    }
   }
  },
  {
   "cell_type": "code",
   "execution_count": 5,
   "outputs": [],
   "source": [
    "# 각 Column들에 대해 numpy로 array 생성\n",
    "Pos = np.array(basketball_df[\"Pos\"])\n",
    "Point_3 = np.array(basketball_df[\"3P\"])\n",
    "Point_2 = np.array(basketball_df[\"2P\"])"
   ],
   "metadata": {
    "collapsed": false,
    "pycharm": {
     "name": "#%%\n"
    }
   }
  },
  {
   "cell_type": "code",
   "execution_count": 6,
   "outputs": [
    {
     "data": {
      "text/plain": "<Figure size 432x288 with 1 Axes>",
      "image/png": "[encoded data removed]"
     },
     "metadata": {
      "needs_background": "light"
     },
     "output_type": "display_data"
    }
   ],
   "source": [
    "# Position별 3점, 2점 분포\n",
    "sns.scatterplot(x='Pos', y='3P', data=basketball_sorted)\n",
    "sns.scatterplot(x='Pos', y='2P', data=basketball_sorted)\n",
    "plt.legend(['2P', '3P']) # 범례 표시\n",
    "plt.ylim((0, 3)) # y축 구간을 0 ~ 3으로 scaling\n",
    "plt.title(\"Pos - 3P & 2P\")\n",
    "plt.show()"
   ],
   "metadata": {
    "collapsed": false,
    "pycharm": {
     "name": "#%%\n"
    }
   }
  },
  {
   "cell_type": "code",
   "execution_count": 7,
   "outputs": [
    {
     "ename": "ValueError",
     "evalue": "Could not interpret value `` for parameter `y`",
     "output_type": "error",
     "traceback": [
      "\u001B[1;31m---------------------------------------------------------------------------\u001B[0m",
      "\u001B[1;31mValueError\u001B[0m                                Traceback (most recent call last)",
      "\u001B[1;32m<ipython-input-7-7353a8885810>\u001B[0m in \u001B[0;36m<module>\u001B[1;34m\u001B[0m\n\u001B[0;32m      1\u001B[0m \u001B[1;31m# Position별 3점, 2점 분포\u001B[0m\u001B[1;33m\u001B[0m\u001B[1;33m\u001B[0m\u001B[1;33m\u001B[0m\u001B[0m\n\u001B[1;32m----> 2\u001B[1;33m \u001B[0msns\u001B[0m\u001B[1;33m.\u001B[0m\u001B[0mscatterplot\u001B[0m\u001B[1;33m(\u001B[0m\u001B[0mx\u001B[0m\u001B[1;33m=\u001B[0m\u001B[1;34m'Pos'\u001B[0m\u001B[1;33m,\u001B[0m \u001B[0my\u001B[0m\u001B[1;33m=\u001B[0m\u001B[1;34m''\u001B[0m\u001B[1;33m,\u001B[0m \u001B[0mdata\u001B[0m\u001B[1;33m=\u001B[0m\u001B[0mbasketball_sorted\u001B[0m\u001B[1;33m)\u001B[0m\u001B[1;33m\u001B[0m\u001B[1;33m\u001B[0m\u001B[0m\n\u001B[0m\u001B[0;32m      3\u001B[0m \u001B[0msns\u001B[0m\u001B[1;33m.\u001B[0m\u001B[0mscatterplot\u001B[0m\u001B[1;33m(\u001B[0m\u001B[0mx\u001B[0m\u001B[1;33m=\u001B[0m\u001B[1;34m'Pos'\u001B[0m\u001B[1;33m,\u001B[0m \u001B[0my\u001B[0m\u001B[1;33m=\u001B[0m\u001B[1;34m''\u001B[0m\u001B[1;33m,\u001B[0m \u001B[0mdata\u001B[0m\u001B[1;33m=\u001B[0m\u001B[0mbasketball_sorted\u001B[0m\u001B[1;33m)\u001B[0m\u001B[1;33m\u001B[0m\u001B[1;33m\u001B[0m\u001B[0m\n\u001B[0;32m      4\u001B[0m \u001B[0mplt\u001B[0m\u001B[1;33m.\u001B[0m\u001B[0mlegend\u001B[0m\u001B[1;33m(\u001B[0m\u001B[1;33m[\u001B[0m\u001B[1;34m'2P'\u001B[0m\u001B[1;33m,\u001B[0m \u001B[1;34m'3P'\u001B[0m\u001B[1;33m]\u001B[0m\u001B[1;33m)\u001B[0m \u001B[1;31m# 범례 표시\u001B[0m\u001B[1;33m\u001B[0m\u001B[1;33m\u001B[0m\u001B[0m\n\u001B[0;32m      5\u001B[0m \u001B[0mplt\u001B[0m\u001B[1;33m.\u001B[0m\u001B[0mylim\u001B[0m\u001B[1;33m(\u001B[0m\u001B[1;33m(\u001B[0m\u001B[1;36m0\u001B[0m\u001B[1;33m,\u001B[0m \u001B[1;36m3\u001B[0m\u001B[1;33m)\u001B[0m\u001B[1;33m)\u001B[0m \u001B[1;31m# y축 구간을 0 ~ 3으로 scaling\u001B[0m\u001B[1;33m\u001B[0m\u001B[1;33m\u001B[0m\u001B[0m\n",
      "\u001B[1;32m~\\anaconda3\\envs\\Practice_ML\\lib\\site-packages\\seaborn\\_decorators.py\u001B[0m in \u001B[0;36minner_f\u001B[1;34m(*args, **kwargs)\u001B[0m\n\u001B[0;32m     44\u001B[0m             )\n\u001B[0;32m     45\u001B[0m         \u001B[0mkwargs\u001B[0m\u001B[1;33m.\u001B[0m\u001B[0mupdate\u001B[0m\u001B[1;33m(\u001B[0m\u001B[1;33m{\u001B[0m\u001B[0mk\u001B[0m\u001B[1;33m:\u001B[0m \u001B[0marg\u001B[0m \u001B[1;32mfor\u001B[0m \u001B[0mk\u001B[0m\u001B[1;33m,\u001B[0m \u001B[0marg\u001B[0m \u001B[1;32min\u001B[0m \u001B[0mzip\u001B[0m\u001B[1;33m(\u001B[0m\u001B[0msig\u001B[0m\u001B[1;33m.\u001B[0m\u001B[0mparameters\u001B[0m\u001B[1;33m,\u001B[0m \u001B[0margs\u001B[0m\u001B[1;33m)\u001B[0m\u001B[1;33m}\u001B[0m\u001B[1;33m)\u001B[0m\u001B[1;33m\u001B[0m\u001B[1;33m\u001B[0m\u001B[0m\n\u001B[1;32m---> 46\u001B[1;33m         \u001B[1;32mreturn\u001B[0m \u001B[0mf\u001B[0m\u001B[1;33m(\u001B[0m\u001B[1;33m**\u001B[0m\u001B[0mkwargs\u001B[0m\u001B[1;33m)\u001B[0m\u001B[1;33m\u001B[0m\u001B[1;33m\u001B[0m\u001B[0m\n\u001B[0m\u001B[0;32m     47\u001B[0m     \u001B[1;32mreturn\u001B[0m \u001B[0minner_f\u001B[0m\u001B[1;33m\u001B[0m\u001B[1;33m\u001B[0m\u001B[0m\n\u001B[0;32m     48\u001B[0m \u001B[1;33m\u001B[0m\u001B[0m\n",
      "\u001B[1;32m~\\anaconda3\\envs\\Practice_ML\\lib\\site-packages\\seaborn\\relational.py\u001B[0m in \u001B[0;36mscatterplot\u001B[1;34m(x, y, hue, style, size, data, palette, hue_order, hue_norm, sizes, size_order, size_norm, markers, style_order, x_bins, y_bins, units, estimator, ci, n_boot, alpha, x_jitter, y_jitter, legend, ax, **kwargs)\u001B[0m\n\u001B[0;32m    799\u001B[0m \u001B[1;33m\u001B[0m\u001B[0m\n\u001B[0;32m    800\u001B[0m     \u001B[0mvariables\u001B[0m \u001B[1;33m=\u001B[0m \u001B[0m_ScatterPlotter\u001B[0m\u001B[1;33m.\u001B[0m\u001B[0mget_semantics\u001B[0m\u001B[1;33m(\u001B[0m\u001B[0mlocals\u001B[0m\u001B[1;33m(\u001B[0m\u001B[1;33m)\u001B[0m\u001B[1;33m)\u001B[0m\u001B[1;33m\u001B[0m\u001B[1;33m\u001B[0m\u001B[0m\n\u001B[1;32m--> 801\u001B[1;33m     p = _ScatterPlotter(\n\u001B[0m\u001B[0;32m    802\u001B[0m         \u001B[0mdata\u001B[0m\u001B[1;33m=\u001B[0m\u001B[0mdata\u001B[0m\u001B[1;33m,\u001B[0m \u001B[0mvariables\u001B[0m\u001B[1;33m=\u001B[0m\u001B[0mvariables\u001B[0m\u001B[1;33m,\u001B[0m\u001B[1;33m\u001B[0m\u001B[1;33m\u001B[0m\u001B[0m\n\u001B[0;32m    803\u001B[0m         \u001B[0mx_bins\u001B[0m\u001B[1;33m=\u001B[0m\u001B[0mx_bins\u001B[0m\u001B[1;33m,\u001B[0m \u001B[0my_bins\u001B[0m\u001B[1;33m=\u001B[0m\u001B[0my_bins\u001B[0m\u001B[1;33m,\u001B[0m\u001B[1;33m\u001B[0m\u001B[1;33m\u001B[0m\u001B[0m\n",
      "\u001B[1;32m~\\anaconda3\\envs\\Practice_ML\\lib\\site-packages\\seaborn\\relational.py\u001B[0m in \u001B[0;36m__init__\u001B[1;34m(self, data, variables, x_bins, y_bins, estimator, ci, n_boot, alpha, x_jitter, y_jitter, legend)\u001B[0m\n\u001B[0;32m    585\u001B[0m         )\n\u001B[0;32m    586\u001B[0m \u001B[1;33m\u001B[0m\u001B[0m\n\u001B[1;32m--> 587\u001B[1;33m         \u001B[0msuper\u001B[0m\u001B[1;33m(\u001B[0m\u001B[1;33m)\u001B[0m\u001B[1;33m.\u001B[0m\u001B[0m__init__\u001B[0m\u001B[1;33m(\u001B[0m\u001B[0mdata\u001B[0m\u001B[1;33m=\u001B[0m\u001B[0mdata\u001B[0m\u001B[1;33m,\u001B[0m \u001B[0mvariables\u001B[0m\u001B[1;33m=\u001B[0m\u001B[0mvariables\u001B[0m\u001B[1;33m)\u001B[0m\u001B[1;33m\u001B[0m\u001B[1;33m\u001B[0m\u001B[0m\n\u001B[0m\u001B[0;32m    588\u001B[0m \u001B[1;33m\u001B[0m\u001B[0m\n\u001B[0;32m    589\u001B[0m         \u001B[0mself\u001B[0m\u001B[1;33m.\u001B[0m\u001B[0malpha\u001B[0m \u001B[1;33m=\u001B[0m \u001B[0malpha\u001B[0m\u001B[1;33m\u001B[0m\u001B[1;33m\u001B[0m\u001B[0m\n",
      "\u001B[1;32m~\\anaconda3\\envs\\Practice_ML\\lib\\site-packages\\seaborn\\_core.py\u001B[0m in \u001B[0;36m__init__\u001B[1;34m(self, data, variables)\u001B[0m\n\u001B[0;32m    602\u001B[0m     \u001B[1;32mdef\u001B[0m \u001B[0m__init__\u001B[0m\u001B[1;33m(\u001B[0m\u001B[0mself\u001B[0m\u001B[1;33m,\u001B[0m \u001B[0mdata\u001B[0m\u001B[1;33m=\u001B[0m\u001B[1;32mNone\u001B[0m\u001B[1;33m,\u001B[0m \u001B[0mvariables\u001B[0m\u001B[1;33m=\u001B[0m\u001B[1;33m{\u001B[0m\u001B[1;33m}\u001B[0m\u001B[1;33m)\u001B[0m\u001B[1;33m:\u001B[0m\u001B[1;33m\u001B[0m\u001B[1;33m\u001B[0m\u001B[0m\n\u001B[0;32m    603\u001B[0m \u001B[1;33m\u001B[0m\u001B[0m\n\u001B[1;32m--> 604\u001B[1;33m         \u001B[0mself\u001B[0m\u001B[1;33m.\u001B[0m\u001B[0massign_variables\u001B[0m\u001B[1;33m(\u001B[0m\u001B[0mdata\u001B[0m\u001B[1;33m,\u001B[0m \u001B[0mvariables\u001B[0m\u001B[1;33m)\u001B[0m\u001B[1;33m\u001B[0m\u001B[1;33m\u001B[0m\u001B[0m\n\u001B[0m\u001B[0;32m    605\u001B[0m \u001B[1;33m\u001B[0m\u001B[0m\n\u001B[0;32m    606\u001B[0m         \u001B[1;32mfor\u001B[0m \u001B[0mvar\u001B[0m\u001B[1;33m,\u001B[0m \u001B[0mcls\u001B[0m \u001B[1;32min\u001B[0m \u001B[0mself\u001B[0m\u001B[1;33m.\u001B[0m\u001B[0m_semantic_mappings\u001B[0m\u001B[1;33m.\u001B[0m\u001B[0mitems\u001B[0m\u001B[1;33m(\u001B[0m\u001B[1;33m)\u001B[0m\u001B[1;33m:\u001B[0m\u001B[1;33m\u001B[0m\u001B[1;33m\u001B[0m\u001B[0m\n",
      "\u001B[1;32m~\\anaconda3\\envs\\Practice_ML\\lib\\site-packages\\seaborn\\_core.py\u001B[0m in \u001B[0;36massign_variables\u001B[1;34m(self, data, variables)\u001B[0m\n\u001B[0;32m    665\u001B[0m         \u001B[1;32melse\u001B[0m\u001B[1;33m:\u001B[0m\u001B[1;33m\u001B[0m\u001B[1;33m\u001B[0m\u001B[0m\n\u001B[0;32m    666\u001B[0m             \u001B[0mself\u001B[0m\u001B[1;33m.\u001B[0m\u001B[0minput_format\u001B[0m \u001B[1;33m=\u001B[0m \u001B[1;34m\"long\"\u001B[0m\u001B[1;33m\u001B[0m\u001B[1;33m\u001B[0m\u001B[0m\n\u001B[1;32m--> 667\u001B[1;33m             plot_data, variables = self._assign_variables_longform(\n\u001B[0m\u001B[0;32m    668\u001B[0m                 \u001B[0mdata\u001B[0m\u001B[1;33m,\u001B[0m \u001B[1;33m**\u001B[0m\u001B[0mvariables\u001B[0m\u001B[1;33m,\u001B[0m\u001B[1;33m\u001B[0m\u001B[1;33m\u001B[0m\u001B[0m\n\u001B[0;32m    669\u001B[0m             )\n",
      "\u001B[1;32m~\\anaconda3\\envs\\Practice_ML\\lib\\site-packages\\seaborn\\_core.py\u001B[0m in \u001B[0;36m_assign_variables_longform\u001B[1;34m(self, data, **kwargs)\u001B[0m\n\u001B[0;32m    900\u001B[0m \u001B[1;33m\u001B[0m\u001B[0m\n\u001B[0;32m    901\u001B[0m                 \u001B[0merr\u001B[0m \u001B[1;33m=\u001B[0m \u001B[1;34mf\"Could not interpret value `{val}` for parameter `{key}`\"\u001B[0m\u001B[1;33m\u001B[0m\u001B[1;33m\u001B[0m\u001B[0m\n\u001B[1;32m--> 902\u001B[1;33m                 \u001B[1;32mraise\u001B[0m \u001B[0mValueError\u001B[0m\u001B[1;33m(\u001B[0m\u001B[0merr\u001B[0m\u001B[1;33m)\u001B[0m\u001B[1;33m\u001B[0m\u001B[1;33m\u001B[0m\u001B[0m\n\u001B[0m\u001B[0;32m    903\u001B[0m \u001B[1;33m\u001B[0m\u001B[0m\n\u001B[0;32m    904\u001B[0m             \u001B[1;32melse\u001B[0m\u001B[1;33m:\u001B[0m\u001B[1;33m\u001B[0m\u001B[1;33m\u001B[0m\u001B[0m\n",
      "\u001B[1;31mValueError\u001B[0m: Could not interpret value `` for parameter `y`"
     ]
    }
   ],
   "source": [
    "# Position별 3점, 2점 분포\n",
    "sns.scatterplot(x='Pos', y='', data=basketball_sorted)\n",
    "sns.scatterplot(x='Pos', y='', data=basketball_sorted)\n",
    "plt.legend(['2P', '3P']) # 범례 표시\n",
    "plt.ylim((0, 3)) # y축 구간을 0 ~ 3으로 scaling\n",
    "plt.title(\"Pos - 3P & 2P\")\n",
    "plt.show()"
   ],
   "metadata": {
    "collapsed": false,
    "pycharm": {
     "name": "#%%\n"
    }
   }
  },
  {
   "cell_type": "code",
   "execution_count": null,
   "outputs": [],
   "source": [
    "# Heatmap 작성하기\n",
    "fig, ax = plt.subplots(figsize=(10, 10))\n",
    "\n",
    "ax = sns.heatmap(basketball_df,\n",
    "                 cmap = \"Blues\",\n",
    "                 annot=True,\n",
    "                 fmt=\".2f\",\n",
    "                 linewidths=2)"
   ],
   "metadata": {
    "collapsed": false,
    "pycharm": {
     "name": "#%%\n"
    }
   }
  }
 ],
 "metadata": {
  "kernelspec": {
   "name": "python3",
   "language": "python",
   "display_name": "Python 3"
  },
  "language_info": {
   "codemirror_mode": {
    "name": "ipython",
    "version": 2
   },
   "file_extension": ".py",
   "mimetype": "text/x-python",
   "name": "python",
   "nbconvert_exporter": "python",
   "pygments_lexer": "ipython2",
   "version": "2.7.6"
  }
 },
 "nbformat": 4,
 "nbformat_minor": 0
}