{
 "cells": [
  {
   "cell_type": "code",
   "execution_count": 21,
   "metadata": {
    "collapsed": true
   },
   "outputs": [],
   "source": [
    "import numpy as np\n",
    "import pandas as pd\n",
    "import matplotlib.pyplot as plt\n",
    "import folium"
   ]
  },
  {
   "cell_type": "code",
   "execution_count": 22,
   "outputs": [
    {
     "name": "stdout",
     "output_type": "stream",
     "text": [
      "data shape: (85104, 17)\n",
      "<class 'pandas.core.frame.DataFrame'>\n",
      "RangeIndex: 85104 entries, 0 to 85103\n",
      "Data columns (total 17 columns):\n",
      " #   Column           Non-Null Count  Dtype  \n",
      "---  ------           --------------  -----  \n",
      " 0   년월               85104 non-null  int64  \n",
      " 1   출발지(야간체류지) 시군코드  85104 non-null  int64  \n",
      " 2   도착지 시군코드         85104 non-null  int64  \n",
      " 3   10대남성 유입인구       85104 non-null  float64\n",
      " 4   20대남성 유입인구       85104 non-null  float64\n",
      " 5   30대남성 유입인구       85104 non-null  float64\n",
      " 6   40대남성 유입인구       85104 non-null  float64\n",
      " 7   50대남성 유입인구       85104 non-null  float64\n",
      " 8   60대남성 유입인구       85104 non-null  float64\n",
      " 9   70대남성 유입인구       85104 non-null  float64\n",
      " 10  10대여성 유입인구       85104 non-null  float64\n",
      " 11  20대여성 유입인구       85104 non-null  float64\n",
      " 12  30대여성 유입인구       85104 non-null  float64\n",
      " 13  40대여성 유입인구       85104 non-null  float64\n",
      " 14  50대여성 유입인구       85104 non-null  float64\n",
      " 15  60대여성 유입인구       85104 non-null  float64\n",
      " 16  70대여성 유입인구       85104 non-null  float64\n",
      "dtypes: float64(14), int64(3)\n",
      "memory usage: 11.0 MB\n"
     ]
    },
    {
     "data": {
      "text/plain": "       년월  출발지(야간체류지) 시군코드  도착지 시군코드  10대남성 유입인구  20대남성 유입인구  30대남성 유입인구  \\\n0  202001            11170     41590       19.15       64.28      116.56   \n1  202001            11170     41610       39.55       39.38       48.18   \n2  202001            11170     41630       30.51       21.78       29.73   \n3  202001            11170     41650       29.74       17.65       26.94   \n4  202001            11170     41670        9.37        8.90       21.12   \n\n   40대남성 유입인구  50대남성 유입인구  60대남성 유입인구  70대남성 유입인구  10대여성 유입인구  20대여성 유입인구  \\\n0      136.39      118.72       45.84       13.68       23.83       52.79   \n1       63.35       59.68       29.78       11.60       29.66       30.79   \n2       38.39       37.38       21.49        7.53       21.10       12.57   \n3       35.66       32.29       21.60       12.11       31.00       20.25   \n4       17.89       22.00       10.84        2.60       14.36       16.70   \n\n   30대여성 유입인구  40대여성 유입인구  50대여성 유입인구  60대여성 유입인구  70대여성 유입인구  \n0       67.96       51.08       33.53       26.28       16.03  \n1       44.08       36.09       25.58       16.77        9.27  \n2       21.77       24.48       25.13       17.43       11.46  \n3       19.12       27.59       23.03       15.15        7.43  \n4       21.71       15.95       11.51        8.15        4.50  ",
      "text/html": "<div>\n<style scoped>\n    .dataframe tbody tr th:only-of-type {\n        vertical-align: middle;\n    }\n\n    .dataframe tbody tr th {\n        vertical-align: top;\n    }\n\n    .dataframe thead th {\n        text-align: right;\n    }\n</style>\n<table border=\"1\" class=\"dataframe\">\n  <thead>\n    <tr style=\"text-align: right;\">\n      <th></th>\n      <th>년월</th>\n      <th>출발지(야간체류지) 시군코드</th>\n      <th>도착지 시군코드</th>\n      <th>10대남성 유입인구</th>\n      <th>20대남성 유입인구</th>\n      <th>30대남성 유입인구</th>\n      <th>40대남성 유입인구</th>\n      <th>50대남성 유입인구</th>\n      <th>60대남성 유입인구</th>\n      <th>70대남성 유입인구</th>\n      <th>10대여성 유입인구</th>\n      <th>20대여성 유입인구</th>\n      <th>30대여성 유입인구</th>\n      <th>40대여성 유입인구</th>\n      <th>50대여성 유입인구</th>\n      <th>60대여성 유입인구</th>\n      <th>70대여성 유입인구</th>\n    </tr>\n  </thead>\n  <tbody>\n    <tr>\n      <th>0</th>\n      <td>202001</td>\n      <td>11170</td>\n      <td>41590</td>\n      <td>19.15</td>\n      <td>64.28</td>\n      <td>116.56</td>\n      <td>136.39</td>\n      <td>118.72</td>\n      <td>45.84</td>\n      <td>13.68</td>\n      <td>23.83</td>\n      <td>52.79</td>\n      <td>67.96</td>\n      <td>51.08</td>\n      <td>33.53</td>\n      <td>26.28</td>\n      <td>16.03</td>\n    </tr>\n    <tr>\n      <th>1</th>\n      <td>202001</td>\n      <td>11170</td>\n      <td>41610</td>\n      <td>39.55</td>\n      <td>39.38</td>\n      <td>48.18</td>\n      <td>63.35</td>\n      <td>59.68</td>\n      <td>29.78</td>\n      <td>11.60</td>\n      <td>29.66</td>\n      <td>30.79</td>\n      <td>44.08</td>\n      <td>36.09</td>\n      <td>25.58</td>\n      <td>16.77</td>\n      <td>9.27</td>\n    </tr>\n    <tr>\n      <th>2</th>\n      <td>202001</td>\n      <td>11170</td>\n      <td>41630</td>\n      <td>30.51</td>\n      <td>21.78</td>\n      <td>29.73</td>\n      <td>38.39</td>\n      <td>37.38</td>\n      <td>21.49</td>\n      <td>7.53</td>\n      <td>21.10</td>\n      <td>12.57</td>\n      <td>21.77</td>\n      <td>24.48</td>\n      <td>25.13</td>\n      <td>17.43</td>\n      <td>11.46</td>\n    </tr>\n    <tr>\n      <th>3</th>\n      <td>202001</td>\n      <td>11170</td>\n      <td>41650</td>\n      <td>29.74</td>\n      <td>17.65</td>\n      <td>26.94</td>\n      <td>35.66</td>\n      <td>32.29</td>\n      <td>21.60</td>\n      <td>12.11</td>\n      <td>31.00</td>\n      <td>20.25</td>\n      <td>19.12</td>\n      <td>27.59</td>\n      <td>23.03</td>\n      <td>15.15</td>\n      <td>7.43</td>\n    </tr>\n    <tr>\n      <th>4</th>\n      <td>202001</td>\n      <td>11170</td>\n      <td>41670</td>\n      <td>9.37</td>\n      <td>8.90</td>\n      <td>21.12</td>\n      <td>17.89</td>\n      <td>22.00</td>\n      <td>10.84</td>\n      <td>2.60</td>\n      <td>14.36</td>\n      <td>16.70</td>\n      <td>21.71</td>\n      <td>15.95</td>\n      <td>11.51</td>\n      <td>8.15</td>\n      <td>4.50</td>\n    </tr>\n  </tbody>\n</table>\n</div>"
     },
     "execution_count": 22,
     "metadata": {},
     "output_type": "execute_result"
    }
   ],
   "source": [
    "# 데이터 불러오기\n",
    "fp_df = pd.read_csv(\"시군별유동인구데이터.csv\")\n",
    "\n",
    "print(\"data shape:\", fp_df.shape)\n",
    "fp_df.info()\n",
    "fp_df.head()"
   ],
   "metadata": {
    "collapsed": false,
    "pycharm": {
     "name": "#%%\n"
    }
   }
  },
  {
   "cell_type": "code",
   "execution_count": 23,
   "outputs": [
    {
     "name": "stdout",
     "output_type": "stream",
     "text": [
      "\n",
      "08월 41550지역의 40대 남성들의 유동인구를 확인합니다\n"
     ]
    }
   ],
   "source": [
    "# 데이터 전처리\n",
    "destination = input(\">>> 확인할 지역 입력: \")\n",
    "gender = input(\">>> 성별 입력 (남성 / 여성): \")\n",
    "age = input(\">>> 확인할 나이대 입력(숫자만 입력): \")\n",
    "month = input(\">>> 확인할 달 입력(예 : 2월 --> 02): \")\n",
    "\n",
    "print(\"\\n\" + month+ \"월 \" + destination + \"지역의 \" + age + \"대 \" + gender + \"들의 유동인구를 확인합니다\")\n",
    "check_column = age + '대' + gender + ' ' + '유입인구'\n",
    "month= '2020' + month"
   ],
   "metadata": {
    "collapsed": false,
    "pycharm": {
     "name": "#%%\n"
    }
   }
  },
  {
   "cell_type": "code",
   "execution_count": 24,
   "outputs": [
    {
     "data": {
      "text/plain": "    출발지  40대남성 유입인구\n0    11     1338.59\n1    26       88.14\n2    27       81.27\n3    28      402.61\n4    29       51.29\n5    30      164.13\n6    31       25.94\n7    36       46.19\n8    41    22778.07\n9    42       95.58\n10   43      558.85\n11   44     1176.97\n12   45      112.82\n13   46       51.92\n14   47      103.79\n15   48      113.55\n16   50       24.78",
      "text/html": "<div>\n<style scoped>\n    .dataframe tbody tr th:only-of-type {\n        vertical-align: middle;\n    }\n\n    .dataframe tbody tr th {\n        vertical-align: top;\n    }\n\n    .dataframe thead th {\n        text-align: right;\n    }\n</style>\n<table border=\"1\" class=\"dataframe\">\n  <thead>\n    <tr style=\"text-align: right;\">\n      <th></th>\n      <th>출발지</th>\n      <th>40대남성 유입인구</th>\n    </tr>\n  </thead>\n  <tbody>\n    <tr>\n      <th>0</th>\n      <td>11</td>\n      <td>1338.59</td>\n    </tr>\n    <tr>\n      <th>1</th>\n      <td>26</td>\n      <td>88.14</td>\n    </tr>\n    <tr>\n      <th>2</th>\n      <td>27</td>\n      <td>81.27</td>\n    </tr>\n    <tr>\n      <th>3</th>\n      <td>28</td>\n      <td>402.61</td>\n    </tr>\n    <tr>\n      <th>4</th>\n      <td>29</td>\n      <td>51.29</td>\n    </tr>\n    <tr>\n      <th>5</th>\n      <td>30</td>\n      <td>164.13</td>\n    </tr>\n    <tr>\n      <th>6</th>\n      <td>31</td>\n      <td>25.94</td>\n    </tr>\n    <tr>\n      <th>7</th>\n      <td>36</td>\n      <td>46.19</td>\n    </tr>\n    <tr>\n      <th>8</th>\n      <td>41</td>\n      <td>22778.07</td>\n    </tr>\n    <tr>\n      <th>9</th>\n      <td>42</td>\n      <td>95.58</td>\n    </tr>\n    <tr>\n      <th>10</th>\n      <td>43</td>\n      <td>558.85</td>\n    </tr>\n    <tr>\n      <th>11</th>\n      <td>44</td>\n      <td>1176.97</td>\n    </tr>\n    <tr>\n      <th>12</th>\n      <td>45</td>\n      <td>112.82</td>\n    </tr>\n    <tr>\n      <th>13</th>\n      <td>46</td>\n      <td>51.92</td>\n    </tr>\n    <tr>\n      <th>14</th>\n      <td>47</td>\n      <td>103.79</td>\n    </tr>\n    <tr>\n      <th>15</th>\n      <td>48</td>\n      <td>113.55</td>\n    </tr>\n    <tr>\n      <th>16</th>\n      <td>50</td>\n      <td>24.78</td>\n    </tr>\n  </tbody>\n</table>\n</div>"
     },
     "execution_count": 24,
     "metadata": {},
     "output_type": "execute_result"
    }
   ],
   "source": [
    "# DataFrame 핸들링\n",
    "data = fp_df.loc[:, ['년월','출발지(야간체류지) 시군코드','도착지 시군코드',check_column]][fp_df['년월'] == int(month)]\n",
    "data_simple = data[data['도착지 시군코드'] == int(destination)]\n",
    "data_simple = data_simple.drop(['년월','도착지 시군코드'], axis=1)\n",
    "data_simple['출발지'] = data_simple['출발지(야간체류지) 시군코드'] - (data_simple['출발지(야간체류지) 시군코드']%1000)\n",
    "data_simple['출발지'] = data_simple['출발지']/1000\n",
    "data_simple['출발지'] = data_simple['출발지'].astype(int)\n",
    "data_simple=data_simple.drop('출발지(야간체류지) 시군코드',axis=1)\n",
    "return_data = data_simple.groupby('출발지', as_index=False).sum()\n",
    "return_data"
   ],
   "metadata": {
    "collapsed": false,
    "pycharm": {
     "name": "#%%\n"
    }
   }
  },
  {
   "cell_type": "code",
   "execution_count": 25,
   "outputs": [
    {
     "data": {
      "text/plain": "    출발지  40대남성 유입인구     ADDR    lat    long\n0    11     1338.59    서울특별시  37.56   126.9\n1    26       88.14    부산광역시  35.16   129.0\n2    27       81.27    대구광역시  35.87  128.53\n3    28      402.61    인천광역시  37.46   126.6\n4    29       51.29    광주광역시  35.17   126.8\n5    30      164.13    대전광역시  36.37  127.35\n6    31       25.94    울산광역시  35.56  129.28\n7    36       46.19  세종특별자치시  36.25  127.24\n8    41    22778.07      경기도  37.59  126.53\n9    42       95.58      강원도  37.86  127.68\n10   43      558.85     충청북도  36.63  127.68\n11   44     1176.97     충청남도  36.53  126.51\n12   45      112.82     전라북도  35.72  126.64\n13   46       51.92     전라남도  34.69  125.93\n14   47      103.79     경상북도  36.55  129.28\n15   48      113.55     경상남도  35.18  127.83\n16   50       24.78  제주특별자치도  33.57  126.29",
      "text/html": "<div>\n<style scoped>\n    .dataframe tbody tr th:only-of-type {\n        vertical-align: middle;\n    }\n\n    .dataframe tbody tr th {\n        vertical-align: top;\n    }\n\n    .dataframe thead th {\n        text-align: right;\n    }\n</style>\n<table border=\"1\" class=\"dataframe\">\n  <thead>\n    <tr style=\"text-align: right;\">\n      <th></th>\n      <th>출발지</th>\n      <th>40대남성 유입인구</th>\n      <th>ADDR</th>\n      <th>lat</th>\n      <th>long</th>\n    </tr>\n  </thead>\n  <tbody>\n    <tr>\n      <th>0</th>\n      <td>11</td>\n      <td>1338.59</td>\n      <td>서울특별시</td>\n      <td>37.56</td>\n      <td>126.9</td>\n    </tr>\n    <tr>\n      <th>1</th>\n      <td>26</td>\n      <td>88.14</td>\n      <td>부산광역시</td>\n      <td>35.16</td>\n      <td>129.0</td>\n    </tr>\n    <tr>\n      <th>2</th>\n      <td>27</td>\n      <td>81.27</td>\n      <td>대구광역시</td>\n      <td>35.87</td>\n      <td>128.53</td>\n    </tr>\n    <tr>\n      <th>3</th>\n      <td>28</td>\n      <td>402.61</td>\n      <td>인천광역시</td>\n      <td>37.46</td>\n      <td>126.6</td>\n    </tr>\n    <tr>\n      <th>4</th>\n      <td>29</td>\n      <td>51.29</td>\n      <td>광주광역시</td>\n      <td>35.17</td>\n      <td>126.8</td>\n    </tr>\n    <tr>\n      <th>5</th>\n      <td>30</td>\n      <td>164.13</td>\n      <td>대전광역시</td>\n      <td>36.37</td>\n      <td>127.35</td>\n    </tr>\n    <tr>\n      <th>6</th>\n      <td>31</td>\n      <td>25.94</td>\n      <td>울산광역시</td>\n      <td>35.56</td>\n      <td>129.28</td>\n    </tr>\n    <tr>\n      <th>7</th>\n      <td>36</td>\n      <td>46.19</td>\n      <td>세종특별자치시</td>\n      <td>36.25</td>\n      <td>127.24</td>\n    </tr>\n    <tr>\n      <th>8</th>\n      <td>41</td>\n      <td>22778.07</td>\n      <td>경기도</td>\n      <td>37.59</td>\n      <td>126.53</td>\n    </tr>\n    <tr>\n      <th>9</th>\n      <td>42</td>\n      <td>95.58</td>\n      <td>강원도</td>\n      <td>37.86</td>\n      <td>127.68</td>\n    </tr>\n    <tr>\n      <th>10</th>\n      <td>43</td>\n      <td>558.85</td>\n      <td>충청북도</td>\n      <td>36.63</td>\n      <td>127.68</td>\n    </tr>\n    <tr>\n      <th>11</th>\n      <td>44</td>\n      <td>1176.97</td>\n      <td>충청남도</td>\n      <td>36.53</td>\n      <td>126.51</td>\n    </tr>\n    <tr>\n      <th>12</th>\n      <td>45</td>\n      <td>112.82</td>\n      <td>전라북도</td>\n      <td>35.72</td>\n      <td>126.64</td>\n    </tr>\n    <tr>\n      <th>13</th>\n      <td>46</td>\n      <td>51.92</td>\n      <td>전라남도</td>\n      <td>34.69</td>\n      <td>125.93</td>\n    </tr>\n    <tr>\n      <th>14</th>\n      <td>47</td>\n      <td>103.79</td>\n      <td>경상북도</td>\n      <td>36.55</td>\n      <td>129.28</td>\n    </tr>\n    <tr>\n      <th>15</th>\n      <td>48</td>\n      <td>113.55</td>\n      <td>경상남도</td>\n      <td>35.18</td>\n      <td>127.83</td>\n    </tr>\n    <tr>\n      <th>16</th>\n      <td>50</td>\n      <td>24.78</td>\n      <td>제주특별자치도</td>\n      <td>33.57</td>\n      <td>126.29</td>\n    </tr>\n  </tbody>\n</table>\n</div>"
     },
     "execution_count": 25,
     "metadata": {},
     "output_type": "execute_result"
    }
   ],
   "source": [
    "# 시군코드 - 도시명 연결\n",
    "condition_list = [\n",
    "    (return_data['출발지'] == 11),\n",
    "    (return_data['출발지'] == 26),\n",
    "    (return_data['출발지'] == 27),\n",
    "    (return_data['출발지'] == 28),\n",
    "    (return_data['출발지'] == 29),\n",
    "    (return_data['출발지'] == 30),\n",
    "    (return_data['출발지'] == 31),\n",
    "    (return_data['출발지'] == 36),\n",
    "    (return_data['출발지'] == 41),\n",
    "    (return_data['출발지'] == 42),\n",
    "    (return_data['출발지'] == 43),\n",
    "    (return_data['출발지'] == 44),\n",
    "    (return_data['출발지'] == 45),\n",
    "    (return_data['출발지'] == 46),\n",
    "    (return_data['출발지'] == 47),\n",
    "    (return_data['출발지'] == 48),\n",
    "    (return_data['출발지'] == 50)\n",
    "]\n",
    "city_list = ['서울특별시', '부산광역시', '대구광역시', '인천광역시',\n",
    "               '광주광역시', '대전광역시', '울산광역시', '세종특별자치시',\n",
    "               '경기도', '강원도', '충청북도', '충청남도', '전라북도',\n",
    "               '전라남도', '경상북도', '경상남도', '제주특별자치도']\n",
    "\n",
    "lat_list = [37.56, 35.16, 35.87, 37.46, 35.17, 36.37, 35.56, 36.25,\n",
    "            37.59, 37.86, 36.63, 36.53, 35.72, 34.69, 36.55, 35.18, 33.57]\n",
    "\n",
    "long_list = [126.90, 129.00, 128.53, 126.60, 126.80, 127.35, 129.28,\n",
    "             127.24, 126.53, 127.68, 127.68, 126.51, 126.64, 125.93,\n",
    "             129.28, 127.83, 126.29]\n",
    "\n",
    "return_data['ADDR'] = np.select(condition_list, city_list, default='Not Specified')\n",
    "return_data['lat'] = np.select(condition_list, lat_list, default='Not Specified')\n",
    "return_data['long'] = np.select(condition_list, long_list, default='Not Specified')\n",
    "\n",
    "return_data # 확인용 출력"
   ],
   "metadata": {
    "collapsed": false,
    "pycharm": {
     "name": "#%%\n"
    }
   }
  },
  {
   "cell_type": "code",
   "execution_count": 26,
   "outputs": [
    {
     "data": {
      "text/plain": "    출발지  40대남성 유입인구     ADDR    lat    long\n0    50       24.78  제주특별자치도  33.57  126.29\n1    31       25.94    울산광역시  35.56  129.28\n2    36       46.19  세종특별자치시  36.25  127.24\n3    29       51.29    광주광역시  35.17   126.8\n4    46       51.92     전라남도  34.69  125.93\n5    27       81.27    대구광역시  35.87  128.53\n6    26       88.14    부산광역시  35.16   129.0\n7    42       95.58      강원도  37.86  127.68\n8    47      103.79     경상북도  36.55  129.28\n9    45      112.82     전라북도  35.72  126.64\n10   48      113.55     경상남도  35.18  127.83\n11   30      164.13    대전광역시  36.37  127.35\n12   28      402.61    인천광역시  37.46   126.6\n13   43      558.85     충청북도  36.63  127.68\n14   44     1176.97     충청남도  36.53  126.51\n15   11     1338.59    서울특별시  37.56   126.9\n16   41    22778.07      경기도  37.59  126.53",
      "text/html": "<div>\n<style scoped>\n    .dataframe tbody tr th:only-of-type {\n        vertical-align: middle;\n    }\n\n    .dataframe tbody tr th {\n        vertical-align: top;\n    }\n\n    .dataframe thead th {\n        text-align: right;\n    }\n</style>\n<table border=\"1\" class=\"dataframe\">\n  <thead>\n    <tr style=\"text-align: right;\">\n      <th></th>\n      <th>출발지</th>\n      <th>40대남성 유입인구</th>\n      <th>ADDR</th>\n      <th>lat</th>\n      <th>long</th>\n    </tr>\n  </thead>\n  <tbody>\n    <tr>\n      <th>0</th>\n      <td>50</td>\n      <td>24.78</td>\n      <td>제주특별자치도</td>\n      <td>33.57</td>\n      <td>126.29</td>\n    </tr>\n    <tr>\n      <th>1</th>\n      <td>31</td>\n      <td>25.94</td>\n      <td>울산광역시</td>\n      <td>35.56</td>\n      <td>129.28</td>\n    </tr>\n    <tr>\n      <th>2</th>\n      <td>36</td>\n      <td>46.19</td>\n      <td>세종특별자치시</td>\n      <td>36.25</td>\n      <td>127.24</td>\n    </tr>\n    <tr>\n      <th>3</th>\n      <td>29</td>\n      <td>51.29</td>\n      <td>광주광역시</td>\n      <td>35.17</td>\n      <td>126.8</td>\n    </tr>\n    <tr>\n      <th>4</th>\n      <td>46</td>\n      <td>51.92</td>\n      <td>전라남도</td>\n      <td>34.69</td>\n      <td>125.93</td>\n    </tr>\n    <tr>\n      <th>5</th>\n      <td>27</td>\n      <td>81.27</td>\n      <td>대구광역시</td>\n      <td>35.87</td>\n      <td>128.53</td>\n    </tr>\n    <tr>\n      <th>6</th>\n      <td>26</td>\n      <td>88.14</td>\n      <td>부산광역시</td>\n      <td>35.16</td>\n      <td>129.0</td>\n    </tr>\n    <tr>\n      <th>7</th>\n      <td>42</td>\n      <td>95.58</td>\n      <td>강원도</td>\n      <td>37.86</td>\n      <td>127.68</td>\n    </tr>\n    <tr>\n      <th>8</th>\n      <td>47</td>\n      <td>103.79</td>\n      <td>경상북도</td>\n      <td>36.55</td>\n      <td>129.28</td>\n    </tr>\n    <tr>\n      <th>9</th>\n      <td>45</td>\n      <td>112.82</td>\n      <td>전라북도</td>\n      <td>35.72</td>\n      <td>126.64</td>\n    </tr>\n    <tr>\n      <th>10</th>\n      <td>48</td>\n      <td>113.55</td>\n      <td>경상남도</td>\n      <td>35.18</td>\n      <td>127.83</td>\n    </tr>\n    <tr>\n      <th>11</th>\n      <td>30</td>\n      <td>164.13</td>\n      <td>대전광역시</td>\n      <td>36.37</td>\n      <td>127.35</td>\n    </tr>\n    <tr>\n      <th>12</th>\n      <td>28</td>\n      <td>402.61</td>\n      <td>인천광역시</td>\n      <td>37.46</td>\n      <td>126.6</td>\n    </tr>\n    <tr>\n      <th>13</th>\n      <td>43</td>\n      <td>558.85</td>\n      <td>충청북도</td>\n      <td>36.63</td>\n      <td>127.68</td>\n    </tr>\n    <tr>\n      <th>14</th>\n      <td>44</td>\n      <td>1176.97</td>\n      <td>충청남도</td>\n      <td>36.53</td>\n      <td>126.51</td>\n    </tr>\n    <tr>\n      <th>15</th>\n      <td>11</td>\n      <td>1338.59</td>\n      <td>서울특별시</td>\n      <td>37.56</td>\n      <td>126.9</td>\n    </tr>\n    <tr>\n      <th>16</th>\n      <td>41</td>\n      <td>22778.07</td>\n      <td>경기도</td>\n      <td>37.59</td>\n      <td>126.53</td>\n    </tr>\n  </tbody>\n</table>\n</div>"
     },
     "execution_count": 26,
     "metadata": {},
     "output_type": "execute_result"
    }
   ],
   "source": [
    "# 가공된 DataFrame 정렬\n",
    "return_data_sorted = return_data.sort_values(by=[check_column], ascending=True)\n",
    "return_data_sorted = return_data_sorted.reset_index()\n",
    "return_data_sorted = return_data_sorted.drop('index', axis=1)\n",
    "return_data_sorted #확인용 출력"
   ],
   "metadata": {
    "collapsed": false,
    "pycharm": {
     "name": "#%%\n"
    }
   }
  },
  {
   "cell_type": "code",
   "execution_count": 27,
   "outputs": [],
   "source": [
    "# folium을 이용하여 지도 핸들링\n",
    "map = folium.Map(location=[35.38, 127.51], zoom_start=6)"
   ],
   "metadata": {
    "collapsed": false,
    "pycharm": {
     "name": "#%%\n"
    }
   }
  },
  {
   "cell_type": "code",
   "execution_count": 28,
   "outputs": [],
   "source": [
    "# Marker로 지도에 아이콘 표시\n",
    "#for lat, long, addr, fp in zip(lat_list, long_list, return_data['ADDR'], return_data[check_column]):\n",
    "#    folium.Marker(\n",
    "#        location=[lat, long],\n",
    "#        popup=(addr, fp),\n",
    "#        icon=folium.Icon(color='red', icon='star')\n",
    "#    ).add_to(map)\n",
    "#map"
   ],
   "metadata": {
    "collapsed": false,
    "pycharm": {
     "name": "#%%\n"
    }
   }
  },
  {
   "cell_type": "code",
   "execution_count": 29,
   "outputs": [
    {
     "data": {
      "text/plain": "<folium.folium.Map at 0x1193c4370>",
      "text/html": "<div style=\"width:100%;\"><div style=\"position:relative;width:100%;height:0;padding-bottom:60%;\"><span style=\"color:#565656\">Make this Notebook Trusted to load map: File -> Trust Notebook</span><iframe src=\"about:blank\" style=\"position:absolute;width:100%;height:100%;left:0;top:0;border:none !important;\" data-html=%3C%21DOCTYPE%20html%3E%0A%3Chead%3E%20%20%20%20%0A%20%20%20%20%3Cmeta%20http-equiv%3D%22content-type%22%20content%3D%22text/html%3B%20charset%3DUTF-8%22%20/%3E%0A%20%20%20%20%0A%20%20%20%20%20%20%20%20%3Cscript%3E%0A%20%20%20%20%20%20%20%20%20%20%20%20L_NO_TOUCH%20%3D%20false%3B%0A%20%20%20%20%20%20%20%20%20%20%20%20L_DISABLE_3D%20%3D%20false%3B%0A%20%20%20%20%20%20%20%20%3C/script%3E%0A%20%20%20%20%0A%20%20%20%20%3Cstyle%3Ehtml%2C%20body%20%7Bwidth%3A%20100%25%3Bheight%3A%20100%25%3Bmargin%3A%200%3Bpadding%3A%200%3B%7D%3C/style%3E%0A%20%20%20%20%3Cstyle%3E%23map%20%7Bposition%3Aabsolute%3Btop%3A0%3Bbottom%3A0%3Bright%3A0%3Bleft%3A0%3B%7D%3C/style%3E%0A%20%20%20%20%3Cscript%20src%3D%22https%3A//cdn.jsdelivr.net/npm/leaflet%401.6.0/dist/leaflet.js%22%3E%3C/script%3E%0A%20%20%20%20%3Cscript%20src%3D%22https%3A//code.jquery.com/jquery-1.12.4.min.js%22%3E%3C/script%3E%0A%20%20%20%20%3Cscript%20src%3D%22https%3A//maxcdn.bootstrapcdn.com/bootstrap/3.2.0/js/bootstrap.min.js%22%3E%3C/script%3E%0A%20%20%20%20%3Cscript%20src%3D%22https%3A//cdnjs.cloudflare.com/ajax/libs/Leaflet.awesome-markers/2.0.2/leaflet.awesome-markers.js%22%3E%3C/script%3E%0A%20%20%20%20%3Clink%20rel%3D%22stylesheet%22%20href%3D%22https%3A//cdn.jsdelivr.net/npm/leaflet%401.6.0/dist/leaflet.css%22/%3E%0A%20%20%20%20%3Clink%20rel%3D%22stylesheet%22%20href%3D%22https%3A//maxcdn.bootstrapcdn.com/bootstrap/3.2.0/css/bootstrap.min.css%22/%3E%0A%20%20%20%20%3Clink%20rel%3D%22stylesheet%22%20href%3D%22https%3A//maxcdn.bootstrapcdn.com/bootstrap/3.2.0/css/bootstrap-theme.min.css%22/%3E%0A%20%20%20%20%3Clink%20rel%3D%22stylesheet%22%20href%3D%22https%3A//maxcdn.bootstrapcdn.com/font-awesome/4.6.3/css/font-awesome.min.css%22/%3E%0A%20%20%20%20%3Clink%20rel%3D%22stylesheet%22%20href%3D%22https%3A//cdnjs.cloudflare.com/ajax/libs/Leaflet.awesome-markers/2.0.2/leaflet.awesome-markers.css%22/%3E%0A%20%20%20%20%3Clink%20rel%3D%22stylesheet%22%20href%3D%22https%3A//cdn.jsdelivr.net/gh/python-visualization/folium/folium/templates/leaflet.awesome.rotate.min.css%22/%3E%0A%20%20%20%20%0A%20%20%20%20%20%20%20%20%20%20%20%20%3Cmeta%20name%3D%22viewport%22%20content%3D%22width%3Ddevice-width%2C%0A%20%20%20%20%20%20%20%20%20%20%20%20%20%20%20%20initial-scale%3D1.0%2C%20maximum-scale%3D1.0%2C%20user-scalable%3Dno%22%20/%3E%0A%20%20%20%20%20%20%20%20%20%20%20%20%3Cstyle%3E%0A%20%20%20%20%20%20%20%20%20%20%20%20%20%20%20%20%23map_96d7d142860d45e4ae7e51a6220a47cf%20%7B%0A%20%20%20%20%20%20%20%20%20%20%20%20%20%20%20%20%20%20%20%20position%3A%20relative%3B%0A%20%20%20%20%20%20%20%20%20%20%20%20%20%20%20%20%20%20%20%20width%3A%20100.0%25%3B%0A%20%20%20%20%20%20%20%20%20%20%20%20%20%20%20%20%20%20%20%20height%3A%20100.0%25%3B%0A%20%20%20%20%20%20%20%20%20%20%20%20%20%20%20%20%20%20%20%20left%3A%200.0%25%3B%0A%20%20%20%20%20%20%20%20%20%20%20%20%20%20%20%20%20%20%20%20top%3A%200.0%25%3B%0A%20%20%20%20%20%20%20%20%20%20%20%20%20%20%20%20%7D%0A%20%20%20%20%20%20%20%20%20%20%20%20%3C/style%3E%0A%20%20%20%20%20%20%20%20%0A%3C/head%3E%0A%3Cbody%3E%20%20%20%20%0A%20%20%20%20%0A%20%20%20%20%20%20%20%20%20%20%20%20%3Cdiv%20class%3D%22folium-map%22%20id%3D%22map_96d7d142860d45e4ae7e51a6220a47cf%22%20%3E%3C/div%3E%0A%20%20%20%20%20%20%20%20%0A%3C/body%3E%0A%3Cscript%3E%20%20%20%20%0A%20%20%20%20%0A%20%20%20%20%20%20%20%20%20%20%20%20var%20map_96d7d142860d45e4ae7e51a6220a47cf%20%3D%20L.map%28%0A%20%20%20%20%20%20%20%20%20%20%20%20%20%20%20%20%22map_96d7d142860d45e4ae7e51a6220a47cf%22%2C%0A%20%20%20%20%20%20%20%20%20%20%20%20%20%20%20%20%7B%0A%20%20%20%20%20%20%20%20%20%20%20%20%20%20%20%20%20%20%20%20center%3A%20%5B35.38%2C%20127.51%5D%2C%0A%20%20%20%20%20%20%20%20%20%20%20%20%20%20%20%20%20%20%20%20crs%3A%20L.CRS.EPSG3857%2C%0A%20%20%20%20%20%20%20%20%20%20%20%20%20%20%20%20%20%20%20%20zoom%3A%206%2C%0A%20%20%20%20%20%20%20%20%20%20%20%20%20%20%20%20%20%20%20%20zoomControl%3A%20true%2C%0A%20%20%20%20%20%20%20%20%20%20%20%20%20%20%20%20%20%20%20%20preferCanvas%3A%20false%2C%0A%20%20%20%20%20%20%20%20%20%20%20%20%20%20%20%20%7D%0A%20%20%20%20%20%20%20%20%20%20%20%20%29%3B%0A%0A%20%20%20%20%20%20%20%20%20%20%20%20%0A%0A%20%20%20%20%20%20%20%20%0A%20%20%20%20%0A%20%20%20%20%20%20%20%20%20%20%20%20var%20tile_layer_24781726a89c4ea6ba9dabdbe3f0d87d%20%3D%20L.tileLayer%28%0A%20%20%20%20%20%20%20%20%20%20%20%20%20%20%20%20%22https%3A//%7Bs%7D.tile.openstreetmap.org/%7Bz%7D/%7Bx%7D/%7By%7D.png%22%2C%0A%20%20%20%20%20%20%20%20%20%20%20%20%20%20%20%20%7B%22attribution%22%3A%20%22Data%20by%20%5Cu0026copy%3B%20%5Cu003ca%20href%3D%5C%22http%3A//openstreetmap.org%5C%22%5Cu003eOpenStreetMap%5Cu003c/a%5Cu003e%2C%20under%20%5Cu003ca%20href%3D%5C%22http%3A//www.openstreetmap.org/copyright%5C%22%5Cu003eODbL%5Cu003c/a%5Cu003e.%22%2C%20%22detectRetina%22%3A%20false%2C%20%22maxNativeZoom%22%3A%2018%2C%20%22maxZoom%22%3A%2018%2C%20%22minZoom%22%3A%200%2C%20%22noWrap%22%3A%20false%2C%20%22opacity%22%3A%201%2C%20%22subdomains%22%3A%20%22abc%22%2C%20%22tms%22%3A%20false%7D%0A%20%20%20%20%20%20%20%20%20%20%20%20%29.addTo%28map_96d7d142860d45e4ae7e51a6220a47cf%29%3B%0A%20%20%20%20%20%20%20%20%0A%20%20%20%20%0A%20%20%20%20%20%20%20%20%20%20%20%20var%20circle_marker_3fe67f8a222b4633b841315ad35c365d%20%3D%20L.circleMarker%28%0A%20%20%20%20%20%20%20%20%20%20%20%20%20%20%20%20%5B37.56%2C%20126.9%5D%2C%0A%20%20%20%20%20%20%20%20%20%20%20%20%20%20%20%20%7B%22bubblingMouseEvents%22%3A%20true%2C%20%22color%22%3A%20%22%233388ff%22%2C%20%22dashArray%22%3A%20null%2C%20%22dashOffset%22%3A%20null%2C%20%22fill%22%3A%20true%2C%20%22fillColor%22%3A%20%22%233388ff%22%2C%20%22fillOpacity%22%3A%200.3%2C%20%22fillRule%22%3A%20%22evenodd%22%2C%20%22lineCap%22%3A%20%22round%22%2C%20%22lineJoin%22%3A%20%22round%22%2C%20%22opacity%22%3A%201.0%2C%20%22radius%22%3A%206%2C%20%22stroke%22%3A%20true%2C%20%22weight%22%3A%203%7D%0A%20%20%20%20%20%20%20%20%20%20%20%20%29.addTo%28map_96d7d142860d45e4ae7e51a6220a47cf%29%3B%0A%20%20%20%20%20%20%20%20%0A%20%20%20%20%0A%20%20%20%20%20%20%20%20var%20popup_8840c4fe788e41d592ef6f122d2a6e21%20%3D%20L.popup%28%7B%22maxWidth%22%3A%20%22100%25%22%7D%29%3B%0A%0A%20%20%20%20%20%20%20%20%0A%20%20%20%20%20%20%20%20%20%20%20%20var%20html_685ecdaf04b84ff980104c1aa086d325%20%3D%20%24%28%60%3Cdiv%20id%3D%22html_685ecdaf04b84ff980104c1aa086d325%22%20style%3D%22width%3A%20100.0%25%3B%20height%3A%20100.0%25%3B%22%3E%28%27%EC%84%9C%EC%9A%B8%ED%8A%B9%EB%B3%84%EC%8B%9C%27%2C%201338.5899999999997%29%3C/div%3E%60%29%5B0%5D%3B%0A%20%20%20%20%20%20%20%20%20%20%20%20popup_8840c4fe788e41d592ef6f122d2a6e21.setContent%28html_685ecdaf04b84ff980104c1aa086d325%29%3B%0A%20%20%20%20%20%20%20%20%0A%0A%20%20%20%20%20%20%20%20circle_marker_3fe67f8a222b4633b841315ad35c365d.bindPopup%28popup_8840c4fe788e41d592ef6f122d2a6e21%29%0A%20%20%20%20%20%20%20%20%3B%0A%0A%20%20%20%20%20%20%20%20%0A%20%20%20%20%0A%20%20%20%20%0A%20%20%20%20%20%20%20%20%20%20%20%20var%20circle_marker_866d0761ce2e4c4cb57ce69192ef7c30%20%3D%20L.circleMarker%28%0A%20%20%20%20%20%20%20%20%20%20%20%20%20%20%20%20%5B35.16%2C%20129.0%5D%2C%0A%20%20%20%20%20%20%20%20%20%20%20%20%20%20%20%20%7B%22bubblingMouseEvents%22%3A%20true%2C%20%22color%22%3A%20%22%233388ff%22%2C%20%22dashArray%22%3A%20null%2C%20%22dashOffset%22%3A%20null%2C%20%22fill%22%3A%20true%2C%20%22fillColor%22%3A%20%22%233388ff%22%2C%20%22fillOpacity%22%3A%200.3%2C%20%22fillRule%22%3A%20%22evenodd%22%2C%20%22lineCap%22%3A%20%22round%22%2C%20%22lineJoin%22%3A%20%22round%22%2C%20%22opacity%22%3A%201.0%2C%20%22radius%22%3A%207%2C%20%22stroke%22%3A%20true%2C%20%22weight%22%3A%203%7D%0A%20%20%20%20%20%20%20%20%20%20%20%20%29.addTo%28map_96d7d142860d45e4ae7e51a6220a47cf%29%3B%0A%20%20%20%20%20%20%20%20%0A%20%20%20%20%0A%20%20%20%20%20%20%20%20var%20popup_531cee678b2c421baf1ccee95724310d%20%3D%20L.popup%28%7B%22maxWidth%22%3A%20%22100%25%22%7D%29%3B%0A%0A%20%20%20%20%20%20%20%20%0A%20%20%20%20%20%20%20%20%20%20%20%20var%20html_fffe75b12ddb4c68ab10492a479ac5e5%20%3D%20%24%28%60%3Cdiv%20id%3D%22html_fffe75b12ddb4c68ab10492a479ac5e5%22%20style%3D%22width%3A%20100.0%25%3B%20height%3A%20100.0%25%3B%22%3E%28%27%EB%B6%80%EC%82%B0%EA%B4%91%EC%97%AD%EC%8B%9C%27%2C%2088.14%29%3C/div%3E%60%29%5B0%5D%3B%0A%20%20%20%20%20%20%20%20%20%20%20%20popup_531cee678b2c421baf1ccee95724310d.setContent%28html_fffe75b12ddb4c68ab10492a479ac5e5%29%3B%0A%20%20%20%20%20%20%20%20%0A%0A%20%20%20%20%20%20%20%20circle_marker_866d0761ce2e4c4cb57ce69192ef7c30.bindPopup%28popup_531cee678b2c421baf1ccee95724310d%29%0A%20%20%20%20%20%20%20%20%3B%0A%0A%20%20%20%20%20%20%20%20%0A%20%20%20%20%0A%20%20%20%20%0A%20%20%20%20%20%20%20%20%20%20%20%20var%20circle_marker_bf360e2679ca4d4d8547a315267b7d80%20%3D%20L.circleMarker%28%0A%20%20%20%20%20%20%20%20%20%20%20%20%20%20%20%20%5B35.87%2C%20128.53%5D%2C%0A%20%20%20%20%20%20%20%20%20%20%20%20%20%20%20%20%7B%22bubblingMouseEvents%22%3A%20true%2C%20%22color%22%3A%20%22%233388ff%22%2C%20%22dashArray%22%3A%20null%2C%20%22dashOffset%22%3A%20null%2C%20%22fill%22%3A%20true%2C%20%22fillColor%22%3A%20%22%233388ff%22%2C%20%22fillOpacity%22%3A%200.3%2C%20%22fillRule%22%3A%20%22evenodd%22%2C%20%22lineCap%22%3A%20%22round%22%2C%20%22lineJoin%22%3A%20%22round%22%2C%20%22opacity%22%3A%201.0%2C%20%22radius%22%3A%208%2C%20%22stroke%22%3A%20true%2C%20%22weight%22%3A%203%7D%0A%20%20%20%20%20%20%20%20%20%20%20%20%29.addTo%28map_96d7d142860d45e4ae7e51a6220a47cf%29%3B%0A%20%20%20%20%20%20%20%20%0A%20%20%20%20%0A%20%20%20%20%20%20%20%20var%20popup_0b1b507439bf48648a21a75f6e1cd76c%20%3D%20L.popup%28%7B%22maxWidth%22%3A%20%22100%25%22%7D%29%3B%0A%0A%20%20%20%20%20%20%20%20%0A%20%20%20%20%20%20%20%20%20%20%20%20var%20html_b12df36f2db9426ca347b9fad5a7b2d1%20%3D%20%24%28%60%3Cdiv%20id%3D%22html_b12df36f2db9426ca347b9fad5a7b2d1%22%20style%3D%22width%3A%20100.0%25%3B%20height%3A%20100.0%25%3B%22%3E%28%27%EB%8C%80%EA%B5%AC%EA%B4%91%EC%97%AD%EC%8B%9C%27%2C%2081.27000000000001%29%3C/div%3E%60%29%5B0%5D%3B%0A%20%20%20%20%20%20%20%20%20%20%20%20popup_0b1b507439bf48648a21a75f6e1cd76c.setContent%28html_b12df36f2db9426ca347b9fad5a7b2d1%29%3B%0A%20%20%20%20%20%20%20%20%0A%0A%20%20%20%20%20%20%20%20circle_marker_bf360e2679ca4d4d8547a315267b7d80.bindPopup%28popup_0b1b507439bf48648a21a75f6e1cd76c%29%0A%20%20%20%20%20%20%20%20%3B%0A%0A%20%20%20%20%20%20%20%20%0A%20%20%20%20%0A%20%20%20%20%0A%20%20%20%20%20%20%20%20%20%20%20%20var%20circle_marker_338dcdf68123493a99acf4e7b0768f19%20%3D%20L.circleMarker%28%0A%20%20%20%20%20%20%20%20%20%20%20%20%20%20%20%20%5B37.46%2C%20126.6%5D%2C%0A%20%20%20%20%20%20%20%20%20%20%20%20%20%20%20%20%7B%22bubblingMouseEvents%22%3A%20true%2C%20%22color%22%3A%20%22%233388ff%22%2C%20%22dashArray%22%3A%20null%2C%20%22dashOffset%22%3A%20null%2C%20%22fill%22%3A%20true%2C%20%22fillColor%22%3A%20%22%233388ff%22%2C%20%22fillOpacity%22%3A%200.3%2C%20%22fillRule%22%3A%20%22evenodd%22%2C%20%22lineCap%22%3A%20%22round%22%2C%20%22lineJoin%22%3A%20%22round%22%2C%20%22opacity%22%3A%201.0%2C%20%22radius%22%3A%209%2C%20%22stroke%22%3A%20true%2C%20%22weight%22%3A%203%7D%0A%20%20%20%20%20%20%20%20%20%20%20%20%29.addTo%28map_96d7d142860d45e4ae7e51a6220a47cf%29%3B%0A%20%20%20%20%20%20%20%20%0A%20%20%20%20%0A%20%20%20%20%20%20%20%20var%20popup_c09e288fbdb74b0ba14c28322a13379f%20%3D%20L.popup%28%7B%22maxWidth%22%3A%20%22100%25%22%7D%29%3B%0A%0A%20%20%20%20%20%20%20%20%0A%20%20%20%20%20%20%20%20%20%20%20%20var%20html_ec243d53bf4b4296820d34c3fd296da0%20%3D%20%24%28%60%3Cdiv%20id%3D%22html_ec243d53bf4b4296820d34c3fd296da0%22%20style%3D%22width%3A%20100.0%25%3B%20height%3A%20100.0%25%3B%22%3E%28%27%EC%9D%B8%EC%B2%9C%EA%B4%91%EC%97%AD%EC%8B%9C%27%2C%20402.61000000000007%29%3C/div%3E%60%29%5B0%5D%3B%0A%20%20%20%20%20%20%20%20%20%20%20%20popup_c09e288fbdb74b0ba14c28322a13379f.setContent%28html_ec243d53bf4b4296820d34c3fd296da0%29%3B%0A%20%20%20%20%20%20%20%20%0A%0A%20%20%20%20%20%20%20%20circle_marker_338dcdf68123493a99acf4e7b0768f19.bindPopup%28popup_c09e288fbdb74b0ba14c28322a13379f%29%0A%20%20%20%20%20%20%20%20%3B%0A%0A%20%20%20%20%20%20%20%20%0A%20%20%20%20%0A%20%20%20%20%0A%20%20%20%20%20%20%20%20%20%20%20%20var%20circle_marker_eeca6816974242d191e7517b87172e84%20%3D%20L.circleMarker%28%0A%20%20%20%20%20%20%20%20%20%20%20%20%20%20%20%20%5B35.17%2C%20126.8%5D%2C%0A%20%20%20%20%20%20%20%20%20%20%20%20%20%20%20%20%7B%22bubblingMouseEvents%22%3A%20true%2C%20%22color%22%3A%20%22%233388ff%22%2C%20%22dashArray%22%3A%20null%2C%20%22dashOffset%22%3A%20null%2C%20%22fill%22%3A%20true%2C%20%22fillColor%22%3A%20%22%233388ff%22%2C%20%22fillOpacity%22%3A%200.3%2C%20%22fillRule%22%3A%20%22evenodd%22%2C%20%22lineCap%22%3A%20%22round%22%2C%20%22lineJoin%22%3A%20%22round%22%2C%20%22opacity%22%3A%201.0%2C%20%22radius%22%3A%2010%2C%20%22stroke%22%3A%20true%2C%20%22weight%22%3A%203%7D%0A%20%20%20%20%20%20%20%20%20%20%20%20%29.addTo%28map_96d7d142860d45e4ae7e51a6220a47cf%29%3B%0A%20%20%20%20%20%20%20%20%0A%20%20%20%20%0A%20%20%20%20%20%20%20%20var%20popup_32360def97034311ba74381c7dfab908%20%3D%20L.popup%28%7B%22maxWidth%22%3A%20%22100%25%22%7D%29%3B%0A%0A%20%20%20%20%20%20%20%20%0A%20%20%20%20%20%20%20%20%20%20%20%20var%20html_a290ca8854eb499c9dc993c64e9c7f4e%20%3D%20%24%28%60%3Cdiv%20id%3D%22html_a290ca8854eb499c9dc993c64e9c7f4e%22%20style%3D%22width%3A%20100.0%25%3B%20height%3A%20100.0%25%3B%22%3E%28%27%EA%B4%91%EC%A3%BC%EA%B4%91%EC%97%AD%EC%8B%9C%27%2C%2051.29%29%3C/div%3E%60%29%5B0%5D%3B%0A%20%20%20%20%20%20%20%20%20%20%20%20popup_32360def97034311ba74381c7dfab908.setContent%28html_a290ca8854eb499c9dc993c64e9c7f4e%29%3B%0A%20%20%20%20%20%20%20%20%0A%0A%20%20%20%20%20%20%20%20circle_marker_eeca6816974242d191e7517b87172e84.bindPopup%28popup_32360def97034311ba74381c7dfab908%29%0A%20%20%20%20%20%20%20%20%3B%0A%0A%20%20%20%20%20%20%20%20%0A%20%20%20%20%0A%20%20%20%20%0A%20%20%20%20%20%20%20%20%20%20%20%20var%20circle_marker_8afefc09985d476986447e62c8586bd7%20%3D%20L.circleMarker%28%0A%20%20%20%20%20%20%20%20%20%20%20%20%20%20%20%20%5B36.37%2C%20127.35%5D%2C%0A%20%20%20%20%20%20%20%20%20%20%20%20%20%20%20%20%7B%22bubblingMouseEvents%22%3A%20true%2C%20%22color%22%3A%20%22%233388ff%22%2C%20%22dashArray%22%3A%20null%2C%20%22dashOffset%22%3A%20null%2C%20%22fill%22%3A%20true%2C%20%22fillColor%22%3A%20%22%233388ff%22%2C%20%22fillOpacity%22%3A%200.3%2C%20%22fillRule%22%3A%20%22evenodd%22%2C%20%22lineCap%22%3A%20%22round%22%2C%20%22lineJoin%22%3A%20%22round%22%2C%20%22opacity%22%3A%201.0%2C%20%22radius%22%3A%2011%2C%20%22stroke%22%3A%20true%2C%20%22weight%22%3A%203%7D%0A%20%20%20%20%20%20%20%20%20%20%20%20%29.addTo%28map_96d7d142860d45e4ae7e51a6220a47cf%29%3B%0A%20%20%20%20%20%20%20%20%0A%20%20%20%20%0A%20%20%20%20%20%20%20%20var%20popup_8ad797ae4ffb4bad87c667dee7bf0051%20%3D%20L.popup%28%7B%22maxWidth%22%3A%20%22100%25%22%7D%29%3B%0A%0A%20%20%20%20%20%20%20%20%0A%20%20%20%20%20%20%20%20%20%20%20%20var%20html_22f12da00c904e518a76fba93f3c198e%20%3D%20%24%28%60%3Cdiv%20id%3D%22html_22f12da00c904e518a76fba93f3c198e%22%20style%3D%22width%3A%20100.0%25%3B%20height%3A%20100.0%25%3B%22%3E%28%27%EB%8C%80%EC%A0%84%EA%B4%91%EC%97%AD%EC%8B%9C%27%2C%20164.13%29%3C/div%3E%60%29%5B0%5D%3B%0A%20%20%20%20%20%20%20%20%20%20%20%20popup_8ad797ae4ffb4bad87c667dee7bf0051.setContent%28html_22f12da00c904e518a76fba93f3c198e%29%3B%0A%20%20%20%20%20%20%20%20%0A%0A%20%20%20%20%20%20%20%20circle_marker_8afefc09985d476986447e62c8586bd7.bindPopup%28popup_8ad797ae4ffb4bad87c667dee7bf0051%29%0A%20%20%20%20%20%20%20%20%3B%0A%0A%20%20%20%20%20%20%20%20%0A%20%20%20%20%0A%20%20%20%20%0A%20%20%20%20%20%20%20%20%20%20%20%20var%20circle_marker_855daf9e6db548c4bd661980ed28f15e%20%3D%20L.circleMarker%28%0A%20%20%20%20%20%20%20%20%20%20%20%20%20%20%20%20%5B35.56%2C%20129.28%5D%2C%0A%20%20%20%20%20%20%20%20%20%20%20%20%20%20%20%20%7B%22bubblingMouseEvents%22%3A%20true%2C%20%22color%22%3A%20%22%233388ff%22%2C%20%22dashArray%22%3A%20null%2C%20%22dashOffset%22%3A%20null%2C%20%22fill%22%3A%20true%2C%20%22fillColor%22%3A%20%22%233388ff%22%2C%20%22fillOpacity%22%3A%200.3%2C%20%22fillRule%22%3A%20%22evenodd%22%2C%20%22lineCap%22%3A%20%22round%22%2C%20%22lineJoin%22%3A%20%22round%22%2C%20%22opacity%22%3A%201.0%2C%20%22radius%22%3A%2012%2C%20%22stroke%22%3A%20true%2C%20%22weight%22%3A%203%7D%0A%20%20%20%20%20%20%20%20%20%20%20%20%29.addTo%28map_96d7d142860d45e4ae7e51a6220a47cf%29%3B%0A%20%20%20%20%20%20%20%20%0A%20%20%20%20%0A%20%20%20%20%20%20%20%20var%20popup_8895bc3cc6734e98a6b53a1e36d82560%20%3D%20L.popup%28%7B%22maxWidth%22%3A%20%22100%25%22%7D%29%3B%0A%0A%20%20%20%20%20%20%20%20%0A%20%20%20%20%20%20%20%20%20%20%20%20var%20html_b39d090ba8f24184bd85de9050f5df0a%20%3D%20%24%28%60%3Cdiv%20id%3D%22html_b39d090ba8f24184bd85de9050f5df0a%22%20style%3D%22width%3A%20100.0%25%3B%20height%3A%20100.0%25%3B%22%3E%28%27%EC%9A%B8%EC%82%B0%EA%B4%91%EC%97%AD%EC%8B%9C%27%2C%2025.94%29%3C/div%3E%60%29%5B0%5D%3B%0A%20%20%20%20%20%20%20%20%20%20%20%20popup_8895bc3cc6734e98a6b53a1e36d82560.setContent%28html_b39d090ba8f24184bd85de9050f5df0a%29%3B%0A%20%20%20%20%20%20%20%20%0A%0A%20%20%20%20%20%20%20%20circle_marker_855daf9e6db548c4bd661980ed28f15e.bindPopup%28popup_8895bc3cc6734e98a6b53a1e36d82560%29%0A%20%20%20%20%20%20%20%20%3B%0A%0A%20%20%20%20%20%20%20%20%0A%20%20%20%20%0A%20%20%20%20%0A%20%20%20%20%20%20%20%20%20%20%20%20var%20circle_marker_f08ff695dc074865a75014bc60cea870%20%3D%20L.circleMarker%28%0A%20%20%20%20%20%20%20%20%20%20%20%20%20%20%20%20%5B36.25%2C%20127.24%5D%2C%0A%20%20%20%20%20%20%20%20%20%20%20%20%20%20%20%20%7B%22bubblingMouseEvents%22%3A%20true%2C%20%22color%22%3A%20%22%233388ff%22%2C%20%22dashArray%22%3A%20null%2C%20%22dashOffset%22%3A%20null%2C%20%22fill%22%3A%20true%2C%20%22fillColor%22%3A%20%22%233388ff%22%2C%20%22fillOpacity%22%3A%200.3%2C%20%22fillRule%22%3A%20%22evenodd%22%2C%20%22lineCap%22%3A%20%22round%22%2C%20%22lineJoin%22%3A%20%22round%22%2C%20%22opacity%22%3A%201.0%2C%20%22radius%22%3A%2013%2C%20%22stroke%22%3A%20true%2C%20%22weight%22%3A%203%7D%0A%20%20%20%20%20%20%20%20%20%20%20%20%29.addTo%28map_96d7d142860d45e4ae7e51a6220a47cf%29%3B%0A%20%20%20%20%20%20%20%20%0A%20%20%20%20%0A%20%20%20%20%20%20%20%20var%20popup_f15a0e1fc1004764a5083d7b112354ed%20%3D%20L.popup%28%7B%22maxWidth%22%3A%20%22100%25%22%7D%29%3B%0A%0A%20%20%20%20%20%20%20%20%0A%20%20%20%20%20%20%20%20%20%20%20%20var%20html_2a3ceb9bf986427289ea90a9893dd597%20%3D%20%24%28%60%3Cdiv%20id%3D%22html_2a3ceb9bf986427289ea90a9893dd597%22%20style%3D%22width%3A%20100.0%25%3B%20height%3A%20100.0%25%3B%22%3E%28%27%EC%84%B8%EC%A2%85%ED%8A%B9%EB%B3%84%EC%9E%90%EC%B9%98%EC%8B%9C%27%2C%2046.19%29%3C/div%3E%60%29%5B0%5D%3B%0A%20%20%20%20%20%20%20%20%20%20%20%20popup_f15a0e1fc1004764a5083d7b112354ed.setContent%28html_2a3ceb9bf986427289ea90a9893dd597%29%3B%0A%20%20%20%20%20%20%20%20%0A%0A%20%20%20%20%20%20%20%20circle_marker_f08ff695dc074865a75014bc60cea870.bindPopup%28popup_f15a0e1fc1004764a5083d7b112354ed%29%0A%20%20%20%20%20%20%20%20%3B%0A%0A%20%20%20%20%20%20%20%20%0A%20%20%20%20%0A%20%20%20%20%0A%20%20%20%20%20%20%20%20%20%20%20%20var%20circle_marker_2ffb1861d25c4747958326c0f9b186c2%20%3D%20L.circleMarker%28%0A%20%20%20%20%20%20%20%20%20%20%20%20%20%20%20%20%5B37.59%2C%20126.53%5D%2C%0A%20%20%20%20%20%20%20%20%20%20%20%20%20%20%20%20%7B%22bubblingMouseEvents%22%3A%20true%2C%20%22color%22%3A%20%22%233388ff%22%2C%20%22dashArray%22%3A%20null%2C%20%22dashOffset%22%3A%20null%2C%20%22fill%22%3A%20true%2C%20%22fillColor%22%3A%20%22%233388ff%22%2C%20%22fillOpacity%22%3A%200.3%2C%20%22fillRule%22%3A%20%22evenodd%22%2C%20%22lineCap%22%3A%20%22round%22%2C%20%22lineJoin%22%3A%20%22round%22%2C%20%22opacity%22%3A%201.0%2C%20%22radius%22%3A%2014%2C%20%22stroke%22%3A%20true%2C%20%22weight%22%3A%203%7D%0A%20%20%20%20%20%20%20%20%20%20%20%20%29.addTo%28map_96d7d142860d45e4ae7e51a6220a47cf%29%3B%0A%20%20%20%20%20%20%20%20%0A%20%20%20%20%0A%20%20%20%20%20%20%20%20var%20popup_d8167d532c1c49839b43afcf21339a27%20%3D%20L.popup%28%7B%22maxWidth%22%3A%20%22100%25%22%7D%29%3B%0A%0A%20%20%20%20%20%20%20%20%0A%20%20%20%20%20%20%20%20%20%20%20%20var%20html_e72fd5840b734d58b94695c201a7f85f%20%3D%20%24%28%60%3Cdiv%20id%3D%22html_e72fd5840b734d58b94695c201a7f85f%22%20style%3D%22width%3A%20100.0%25%3B%20height%3A%20100.0%25%3B%22%3E%28%27%EA%B2%BD%EA%B8%B0%EB%8F%84%27%2C%2022778.07%29%3C/div%3E%60%29%5B0%5D%3B%0A%20%20%20%20%20%20%20%20%20%20%20%20popup_d8167d532c1c49839b43afcf21339a27.setContent%28html_e72fd5840b734d58b94695c201a7f85f%29%3B%0A%20%20%20%20%20%20%20%20%0A%0A%20%20%20%20%20%20%20%20circle_marker_2ffb1861d25c4747958326c0f9b186c2.bindPopup%28popup_d8167d532c1c49839b43afcf21339a27%29%0A%20%20%20%20%20%20%20%20%3B%0A%0A%20%20%20%20%20%20%20%20%0A%20%20%20%20%0A%20%20%20%20%0A%20%20%20%20%20%20%20%20%20%20%20%20var%20circle_marker_2fec6f3b04b64bd792b777143dbfe0fd%20%3D%20L.circleMarker%28%0A%20%20%20%20%20%20%20%20%20%20%20%20%20%20%20%20%5B37.86%2C%20127.68%5D%2C%0A%20%20%20%20%20%20%20%20%20%20%20%20%20%20%20%20%7B%22bubblingMouseEvents%22%3A%20true%2C%20%22color%22%3A%20%22%233388ff%22%2C%20%22dashArray%22%3A%20null%2C%20%22dashOffset%22%3A%20null%2C%20%22fill%22%3A%20true%2C%20%22fillColor%22%3A%20%22%233388ff%22%2C%20%22fillOpacity%22%3A%200.3%2C%20%22fillRule%22%3A%20%22evenodd%22%2C%20%22lineCap%22%3A%20%22round%22%2C%20%22lineJoin%22%3A%20%22round%22%2C%20%22opacity%22%3A%201.0%2C%20%22radius%22%3A%2015%2C%20%22stroke%22%3A%20true%2C%20%22weight%22%3A%203%7D%0A%20%20%20%20%20%20%20%20%20%20%20%20%29.addTo%28map_96d7d142860d45e4ae7e51a6220a47cf%29%3B%0A%20%20%20%20%20%20%20%20%0A%20%20%20%20%0A%20%20%20%20%20%20%20%20var%20popup_56491bddef7344cdb870722aa1d8d53a%20%3D%20L.popup%28%7B%22maxWidth%22%3A%20%22100%25%22%7D%29%3B%0A%0A%20%20%20%20%20%20%20%20%0A%20%20%20%20%20%20%20%20%20%20%20%20var%20html_3a310d603e1e472b872eecbbbd55fbaf%20%3D%20%24%28%60%3Cdiv%20id%3D%22html_3a310d603e1e472b872eecbbbd55fbaf%22%20style%3D%22width%3A%20100.0%25%3B%20height%3A%20100.0%25%3B%22%3E%28%27%EA%B0%95%EC%9B%90%EB%8F%84%27%2C%2095.58000000000001%29%3C/div%3E%60%29%5B0%5D%3B%0A%20%20%20%20%20%20%20%20%20%20%20%20popup_56491bddef7344cdb870722aa1d8d53a.setContent%28html_3a310d603e1e472b872eecbbbd55fbaf%29%3B%0A%20%20%20%20%20%20%20%20%0A%0A%20%20%20%20%20%20%20%20circle_marker_2fec6f3b04b64bd792b777143dbfe0fd.bindPopup%28popup_56491bddef7344cdb870722aa1d8d53a%29%0A%20%20%20%20%20%20%20%20%3B%0A%0A%20%20%20%20%20%20%20%20%0A%20%20%20%20%0A%20%20%20%20%0A%20%20%20%20%20%20%20%20%20%20%20%20var%20circle_marker_d657af5bb6be4c36a3d4f10c6b2b96fa%20%3D%20L.circleMarker%28%0A%20%20%20%20%20%20%20%20%20%20%20%20%20%20%20%20%5B36.63%2C%20127.68%5D%2C%0A%20%20%20%20%20%20%20%20%20%20%20%20%20%20%20%20%7B%22bubblingMouseEvents%22%3A%20true%2C%20%22color%22%3A%20%22%233388ff%22%2C%20%22dashArray%22%3A%20null%2C%20%22dashOffset%22%3A%20null%2C%20%22fill%22%3A%20true%2C%20%22fillColor%22%3A%20%22%233388ff%22%2C%20%22fillOpacity%22%3A%200.3%2C%20%22fillRule%22%3A%20%22evenodd%22%2C%20%22lineCap%22%3A%20%22round%22%2C%20%22lineJoin%22%3A%20%22round%22%2C%20%22opacity%22%3A%201.0%2C%20%22radius%22%3A%2016%2C%20%22stroke%22%3A%20true%2C%20%22weight%22%3A%203%7D%0A%20%20%20%20%20%20%20%20%20%20%20%20%29.addTo%28map_96d7d142860d45e4ae7e51a6220a47cf%29%3B%0A%20%20%20%20%20%20%20%20%0A%20%20%20%20%0A%20%20%20%20%20%20%20%20var%20popup_155803cce0a548e480271b360aed9aff%20%3D%20L.popup%28%7B%22maxWidth%22%3A%20%22100%25%22%7D%29%3B%0A%0A%20%20%20%20%20%20%20%20%0A%20%20%20%20%20%20%20%20%20%20%20%20var%20html_ce4ef673b6f44ba6b76683aa882be610%20%3D%20%24%28%60%3Cdiv%20id%3D%22html_ce4ef673b6f44ba6b76683aa882be610%22%20style%3D%22width%3A%20100.0%25%3B%20height%3A%20100.0%25%3B%22%3E%28%27%EC%B6%A9%EC%B2%AD%EB%B6%81%EB%8F%84%27%2C%20558.85%29%3C/div%3E%60%29%5B0%5D%3B%0A%20%20%20%20%20%20%20%20%20%20%20%20popup_155803cce0a548e480271b360aed9aff.setContent%28html_ce4ef673b6f44ba6b76683aa882be610%29%3B%0A%20%20%20%20%20%20%20%20%0A%0A%20%20%20%20%20%20%20%20circle_marker_d657af5bb6be4c36a3d4f10c6b2b96fa.bindPopup%28popup_155803cce0a548e480271b360aed9aff%29%0A%20%20%20%20%20%20%20%20%3B%0A%0A%20%20%20%20%20%20%20%20%0A%20%20%20%20%0A%20%20%20%20%0A%20%20%20%20%20%20%20%20%20%20%20%20var%20circle_marker_120d4699be62468aa344ec7c4f9a4ef5%20%3D%20L.circleMarker%28%0A%20%20%20%20%20%20%20%20%20%20%20%20%20%20%20%20%5B36.53%2C%20126.51%5D%2C%0A%20%20%20%20%20%20%20%20%20%20%20%20%20%20%20%20%7B%22bubblingMouseEvents%22%3A%20true%2C%20%22color%22%3A%20%22%233388ff%22%2C%20%22dashArray%22%3A%20null%2C%20%22dashOffset%22%3A%20null%2C%20%22fill%22%3A%20true%2C%20%22fillColor%22%3A%20%22%233388ff%22%2C%20%22fillOpacity%22%3A%200.3%2C%20%22fillRule%22%3A%20%22evenodd%22%2C%20%22lineCap%22%3A%20%22round%22%2C%20%22lineJoin%22%3A%20%22round%22%2C%20%22opacity%22%3A%201.0%2C%20%22radius%22%3A%2017%2C%20%22stroke%22%3A%20true%2C%20%22weight%22%3A%203%7D%0A%20%20%20%20%20%20%20%20%20%20%20%20%29.addTo%28map_96d7d142860d45e4ae7e51a6220a47cf%29%3B%0A%20%20%20%20%20%20%20%20%0A%20%20%20%20%0A%20%20%20%20%20%20%20%20var%20popup_f9a356a78ca04b3db9836454f28848cf%20%3D%20L.popup%28%7B%22maxWidth%22%3A%20%22100%25%22%7D%29%3B%0A%0A%20%20%20%20%20%20%20%20%0A%20%20%20%20%20%20%20%20%20%20%20%20var%20html_70808e59b4974d74849d4aa132970eee%20%3D%20%24%28%60%3Cdiv%20id%3D%22html_70808e59b4974d74849d4aa132970eee%22%20style%3D%22width%3A%20100.0%25%3B%20height%3A%20100.0%25%3B%22%3E%28%27%EC%B6%A9%EC%B2%AD%EB%82%A8%EB%8F%84%27%2C%201176.97%29%3C/div%3E%60%29%5B0%5D%3B%0A%20%20%20%20%20%20%20%20%20%20%20%20popup_f9a356a78ca04b3db9836454f28848cf.setContent%28html_70808e59b4974d74849d4aa132970eee%29%3B%0A%20%20%20%20%20%20%20%20%0A%0A%20%20%20%20%20%20%20%20circle_marker_120d4699be62468aa344ec7c4f9a4ef5.bindPopup%28popup_f9a356a78ca04b3db9836454f28848cf%29%0A%20%20%20%20%20%20%20%20%3B%0A%0A%20%20%20%20%20%20%20%20%0A%20%20%20%20%0A%20%20%20%20%0A%20%20%20%20%20%20%20%20%20%20%20%20var%20circle_marker_101608fbcba54dc2b5458b06046cfdc1%20%3D%20L.circleMarker%28%0A%20%20%20%20%20%20%20%20%20%20%20%20%20%20%20%20%5B35.72%2C%20126.64%5D%2C%0A%20%20%20%20%20%20%20%20%20%20%20%20%20%20%20%20%7B%22bubblingMouseEvents%22%3A%20true%2C%20%22color%22%3A%20%22%233388ff%22%2C%20%22dashArray%22%3A%20null%2C%20%22dashOffset%22%3A%20null%2C%20%22fill%22%3A%20true%2C%20%22fillColor%22%3A%20%22%233388ff%22%2C%20%22fillOpacity%22%3A%200.3%2C%20%22fillRule%22%3A%20%22evenodd%22%2C%20%22lineCap%22%3A%20%22round%22%2C%20%22lineJoin%22%3A%20%22round%22%2C%20%22opacity%22%3A%201.0%2C%20%22radius%22%3A%2018%2C%20%22stroke%22%3A%20true%2C%20%22weight%22%3A%203%7D%0A%20%20%20%20%20%20%20%20%20%20%20%20%29.addTo%28map_96d7d142860d45e4ae7e51a6220a47cf%29%3B%0A%20%20%20%20%20%20%20%20%0A%20%20%20%20%0A%20%20%20%20%20%20%20%20var%20popup_22dcc124c1b6424e814a5a655cb74db4%20%3D%20L.popup%28%7B%22maxWidth%22%3A%20%22100%25%22%7D%29%3B%0A%0A%20%20%20%20%20%20%20%20%0A%20%20%20%20%20%20%20%20%20%20%20%20var%20html_1d2c78882aff49259d4b7cbde9767506%20%3D%20%24%28%60%3Cdiv%20id%3D%22html_1d2c78882aff49259d4b7cbde9767506%22%20style%3D%22width%3A%20100.0%25%3B%20height%3A%20100.0%25%3B%22%3E%28%27%EC%A0%84%EB%9D%BC%EB%B6%81%EB%8F%84%27%2C%20112.82000000000001%29%3C/div%3E%60%29%5B0%5D%3B%0A%20%20%20%20%20%20%20%20%20%20%20%20popup_22dcc124c1b6424e814a5a655cb74db4.setContent%28html_1d2c78882aff49259d4b7cbde9767506%29%3B%0A%20%20%20%20%20%20%20%20%0A%0A%20%20%20%20%20%20%20%20circle_marker_101608fbcba54dc2b5458b06046cfdc1.bindPopup%28popup_22dcc124c1b6424e814a5a655cb74db4%29%0A%20%20%20%20%20%20%20%20%3B%0A%0A%20%20%20%20%20%20%20%20%0A%20%20%20%20%0A%20%20%20%20%0A%20%20%20%20%20%20%20%20%20%20%20%20var%20circle_marker_d7f6808990a346c0b979ff5ba9ca1967%20%3D%20L.circleMarker%28%0A%20%20%20%20%20%20%20%20%20%20%20%20%20%20%20%20%5B34.69%2C%20125.93%5D%2C%0A%20%20%20%20%20%20%20%20%20%20%20%20%20%20%20%20%7B%22bubblingMouseEvents%22%3A%20true%2C%20%22color%22%3A%20%22%233388ff%22%2C%20%22dashArray%22%3A%20null%2C%20%22dashOffset%22%3A%20null%2C%20%22fill%22%3A%20true%2C%20%22fillColor%22%3A%20%22%233388ff%22%2C%20%22fillOpacity%22%3A%200.3%2C%20%22fillRule%22%3A%20%22evenodd%22%2C%20%22lineCap%22%3A%20%22round%22%2C%20%22lineJoin%22%3A%20%22round%22%2C%20%22opacity%22%3A%201.0%2C%20%22radius%22%3A%2019%2C%20%22stroke%22%3A%20true%2C%20%22weight%22%3A%203%7D%0A%20%20%20%20%20%20%20%20%20%20%20%20%29.addTo%28map_96d7d142860d45e4ae7e51a6220a47cf%29%3B%0A%20%20%20%20%20%20%20%20%0A%20%20%20%20%0A%20%20%20%20%20%20%20%20var%20popup_79dd66654fe44714b9587b1a1c81584d%20%3D%20L.popup%28%7B%22maxWidth%22%3A%20%22100%25%22%7D%29%3B%0A%0A%20%20%20%20%20%20%20%20%0A%20%20%20%20%20%20%20%20%20%20%20%20var%20html_0abd0cfc9f584b4ab28dadc3ed7237e8%20%3D%20%24%28%60%3Cdiv%20id%3D%22html_0abd0cfc9f584b4ab28dadc3ed7237e8%22%20style%3D%22width%3A%20100.0%25%3B%20height%3A%20100.0%25%3B%22%3E%28%27%EC%A0%84%EB%9D%BC%EB%82%A8%EB%8F%84%27%2C%2051.92000000000001%29%3C/div%3E%60%29%5B0%5D%3B%0A%20%20%20%20%20%20%20%20%20%20%20%20popup_79dd66654fe44714b9587b1a1c81584d.setContent%28html_0abd0cfc9f584b4ab28dadc3ed7237e8%29%3B%0A%20%20%20%20%20%20%20%20%0A%0A%20%20%20%20%20%20%20%20circle_marker_d7f6808990a346c0b979ff5ba9ca1967.bindPopup%28popup_79dd66654fe44714b9587b1a1c81584d%29%0A%20%20%20%20%20%20%20%20%3B%0A%0A%20%20%20%20%20%20%20%20%0A%20%20%20%20%0A%20%20%20%20%0A%20%20%20%20%20%20%20%20%20%20%20%20var%20circle_marker_c978bfa0e966495fb7717fc3960bf699%20%3D%20L.circleMarker%28%0A%20%20%20%20%20%20%20%20%20%20%20%20%20%20%20%20%5B36.55%2C%20129.28%5D%2C%0A%20%20%20%20%20%20%20%20%20%20%20%20%20%20%20%20%7B%22bubblingMouseEvents%22%3A%20true%2C%20%22color%22%3A%20%22%233388ff%22%2C%20%22dashArray%22%3A%20null%2C%20%22dashOffset%22%3A%20null%2C%20%22fill%22%3A%20true%2C%20%22fillColor%22%3A%20%22%233388ff%22%2C%20%22fillOpacity%22%3A%200.3%2C%20%22fillRule%22%3A%20%22evenodd%22%2C%20%22lineCap%22%3A%20%22round%22%2C%20%22lineJoin%22%3A%20%22round%22%2C%20%22opacity%22%3A%201.0%2C%20%22radius%22%3A%2020%2C%20%22stroke%22%3A%20true%2C%20%22weight%22%3A%203%7D%0A%20%20%20%20%20%20%20%20%20%20%20%20%29.addTo%28map_96d7d142860d45e4ae7e51a6220a47cf%29%3B%0A%20%20%20%20%20%20%20%20%0A%20%20%20%20%0A%20%20%20%20%20%20%20%20var%20popup_05c388eb23e1402b96f276f704e34da0%20%3D%20L.popup%28%7B%22maxWidth%22%3A%20%22100%25%22%7D%29%3B%0A%0A%20%20%20%20%20%20%20%20%0A%20%20%20%20%20%20%20%20%20%20%20%20var%20html_5da619e51c8441239a74e290c8801698%20%3D%20%24%28%60%3Cdiv%20id%3D%22html_5da619e51c8441239a74e290c8801698%22%20style%3D%22width%3A%20100.0%25%3B%20height%3A%20100.0%25%3B%22%3E%28%27%EA%B2%BD%EC%83%81%EB%B6%81%EB%8F%84%27%2C%20103.79%29%3C/div%3E%60%29%5B0%5D%3B%0A%20%20%20%20%20%20%20%20%20%20%20%20popup_05c388eb23e1402b96f276f704e34da0.setContent%28html_5da619e51c8441239a74e290c8801698%29%3B%0A%20%20%20%20%20%20%20%20%0A%0A%20%20%20%20%20%20%20%20circle_marker_c978bfa0e966495fb7717fc3960bf699.bindPopup%28popup_05c388eb23e1402b96f276f704e34da0%29%0A%20%20%20%20%20%20%20%20%3B%0A%0A%20%20%20%20%20%20%20%20%0A%20%20%20%20%0A%20%20%20%20%0A%20%20%20%20%20%20%20%20%20%20%20%20var%20circle_marker_d165a5c0aada41c585a86d30536f7bfc%20%3D%20L.circleMarker%28%0A%20%20%20%20%20%20%20%20%20%20%20%20%20%20%20%20%5B35.18%2C%20127.83%5D%2C%0A%20%20%20%20%20%20%20%20%20%20%20%20%20%20%20%20%7B%22bubblingMouseEvents%22%3A%20true%2C%20%22color%22%3A%20%22%233388ff%22%2C%20%22dashArray%22%3A%20null%2C%20%22dashOffset%22%3A%20null%2C%20%22fill%22%3A%20true%2C%20%22fillColor%22%3A%20%22%233388ff%22%2C%20%22fillOpacity%22%3A%200.3%2C%20%22fillRule%22%3A%20%22evenodd%22%2C%20%22lineCap%22%3A%20%22round%22%2C%20%22lineJoin%22%3A%20%22round%22%2C%20%22opacity%22%3A%201.0%2C%20%22radius%22%3A%2021%2C%20%22stroke%22%3A%20true%2C%20%22weight%22%3A%203%7D%0A%20%20%20%20%20%20%20%20%20%20%20%20%29.addTo%28map_96d7d142860d45e4ae7e51a6220a47cf%29%3B%0A%20%20%20%20%20%20%20%20%0A%20%20%20%20%0A%20%20%20%20%20%20%20%20var%20popup_7c6749781d1449ac8037a12f34f00bb9%20%3D%20L.popup%28%7B%22maxWidth%22%3A%20%22100%25%22%7D%29%3B%0A%0A%20%20%20%20%20%20%20%20%0A%20%20%20%20%20%20%20%20%20%20%20%20var%20html_c4cb0827cad64a91856672698a9e3e23%20%3D%20%24%28%60%3Cdiv%20id%3D%22html_c4cb0827cad64a91856672698a9e3e23%22%20style%3D%22width%3A%20100.0%25%3B%20height%3A%20100.0%25%3B%22%3E%28%27%EA%B2%BD%EC%83%81%EB%82%A8%EB%8F%84%27%2C%20113.55000000000003%29%3C/div%3E%60%29%5B0%5D%3B%0A%20%20%20%20%20%20%20%20%20%20%20%20popup_7c6749781d1449ac8037a12f34f00bb9.setContent%28html_c4cb0827cad64a91856672698a9e3e23%29%3B%0A%20%20%20%20%20%20%20%20%0A%0A%20%20%20%20%20%20%20%20circle_marker_d165a5c0aada41c585a86d30536f7bfc.bindPopup%28popup_7c6749781d1449ac8037a12f34f00bb9%29%0A%20%20%20%20%20%20%20%20%3B%0A%0A%20%20%20%20%20%20%20%20%0A%20%20%20%20%0A%20%20%20%20%0A%20%20%20%20%20%20%20%20%20%20%20%20var%20circle_marker_13b184433d0646df9c74825f6f502ed9%20%3D%20L.circleMarker%28%0A%20%20%20%20%20%20%20%20%20%20%20%20%20%20%20%20%5B33.57%2C%20126.29%5D%2C%0A%20%20%20%20%20%20%20%20%20%20%20%20%20%20%20%20%7B%22bubblingMouseEvents%22%3A%20true%2C%20%22color%22%3A%20%22%233388ff%22%2C%20%22dashArray%22%3A%20null%2C%20%22dashOffset%22%3A%20null%2C%20%22fill%22%3A%20true%2C%20%22fillColor%22%3A%20%22%233388ff%22%2C%20%22fillOpacity%22%3A%200.3%2C%20%22fillRule%22%3A%20%22evenodd%22%2C%20%22lineCap%22%3A%20%22round%22%2C%20%22lineJoin%22%3A%20%22round%22%2C%20%22opacity%22%3A%201.0%2C%20%22radius%22%3A%2022%2C%20%22stroke%22%3A%20true%2C%20%22weight%22%3A%203%7D%0A%20%20%20%20%20%20%20%20%20%20%20%20%29.addTo%28map_96d7d142860d45e4ae7e51a6220a47cf%29%3B%0A%20%20%20%20%20%20%20%20%0A%20%20%20%20%0A%20%20%20%20%20%20%20%20var%20popup_295e969fdf4945d5b592c32fd18238e0%20%3D%20L.popup%28%7B%22maxWidth%22%3A%20%22100%25%22%7D%29%3B%0A%0A%20%20%20%20%20%20%20%20%0A%20%20%20%20%20%20%20%20%20%20%20%20var%20html_4a162fb77f654be584212669abfd93cf%20%3D%20%24%28%60%3Cdiv%20id%3D%22html_4a162fb77f654be584212669abfd93cf%22%20style%3D%22width%3A%20100.0%25%3B%20height%3A%20100.0%25%3B%22%3E%28%27%EC%A0%9C%EC%A3%BC%ED%8A%B9%EB%B3%84%EC%9E%90%EC%B9%98%EB%8F%84%27%2C%2024.78%29%3C/div%3E%60%29%5B0%5D%3B%0A%20%20%20%20%20%20%20%20%20%20%20%20popup_295e969fdf4945d5b592c32fd18238e0.setContent%28html_4a162fb77f654be584212669abfd93cf%29%3B%0A%20%20%20%20%20%20%20%20%0A%0A%20%20%20%20%20%20%20%20circle_marker_13b184433d0646df9c74825f6f502ed9.bindPopup%28popup_295e969fdf4945d5b592c32fd18238e0%29%0A%20%20%20%20%20%20%20%20%3B%0A%0A%20%20%20%20%20%20%20%20%0A%20%20%20%20%0A%3C/script%3E onload=\"this.contentDocument.open();this.contentDocument.write(    decodeURIComponent(this.getAttribute('data-html')));this.contentDocument.close();\" allowfullscreen webkitallowfullscreen mozallowfullscreen></iframe></div></div>"
     },
     "execution_count": 29,
     "metadata": {},
     "output_type": "execute_result"
    }
   ],
   "source": [
    "# Circle Marker로 지도에 아이콘 표시\n",
    "cnt=0\n",
    "\n",
    "for lat, long, addr, fp in zip(lat_list, long_list, return_data['ADDR'], return_data[check_column]):\n",
    "    cnt += 1\n",
    "    folium.CircleMarker(\n",
    "        location=[lat, long],\n",
    "        radius=5 + cnt,\n",
    "        fill=True,\n",
    "        fill_opacity=0.3,\n",
    "        popup=(addr, fp)\n",
    "    ).add_to(map)\n",
    "\n",
    "map"
   ],
   "metadata": {
    "collapsed": false,
    "pycharm": {
     "name": "#%%\n"
    }
   }
  },
  {
   "cell_type": "code",
   "execution_count": 30,
   "outputs": [
    {
     "name": "stderr",
     "output_type": "stream",
     "text": [
      "/Users/escortkwon/miniforge3/envs/Drill_ML/lib/python3.8/site-packages/matplotlib/backends/backend_agg.py:238: RuntimeWarning: Glyph 49436 missing from current font.\n",
      "  font.set_text(s, 0.0, flags=flags)\n",
      "/Users/escortkwon/miniforge3/envs/Drill_ML/lib/python3.8/site-packages/matplotlib/backends/backend_agg.py:238: RuntimeWarning: Glyph 50872 missing from current font.\n",
      "  font.set_text(s, 0.0, flags=flags)\n",
      "/Users/escortkwon/miniforge3/envs/Drill_ML/lib/python3.8/site-packages/matplotlib/backends/backend_agg.py:238: RuntimeWarning: Glyph 53945 missing from current font.\n",
      "  font.set_text(s, 0.0, flags=flags)\n",
      "/Users/escortkwon/miniforge3/envs/Drill_ML/lib/python3.8/site-packages/matplotlib/backends/backend_agg.py:238: RuntimeWarning: Glyph 48324 missing from current font.\n",
      "  font.set_text(s, 0.0, flags=flags)\n",
      "/Users/escortkwon/miniforge3/envs/Drill_ML/lib/python3.8/site-packages/matplotlib/backends/backend_agg.py:238: RuntimeWarning: Glyph 49884 missing from current font.\n",
      "  font.set_text(s, 0.0, flags=flags)\n",
      "/Users/escortkwon/miniforge3/envs/Drill_ML/lib/python3.8/site-packages/matplotlib/backends/backend_agg.py:238: RuntimeWarning: Glyph 48512 missing from current font.\n",
      "  font.set_text(s, 0.0, flags=flags)\n",
      "/Users/escortkwon/miniforge3/envs/Drill_ML/lib/python3.8/site-packages/matplotlib/backends/backend_agg.py:238: RuntimeWarning: Glyph 49328 missing from current font.\n",
      "  font.set_text(s, 0.0, flags=flags)\n",
      "/Users/escortkwon/miniforge3/envs/Drill_ML/lib/python3.8/site-packages/matplotlib/backends/backend_agg.py:238: RuntimeWarning: Glyph 44305 missing from current font.\n",
      "  font.set_text(s, 0.0, flags=flags)\n",
      "/Users/escortkwon/miniforge3/envs/Drill_ML/lib/python3.8/site-packages/matplotlib/backends/backend_agg.py:238: RuntimeWarning: Glyph 50669 missing from current font.\n",
      "  font.set_text(s, 0.0, flags=flags)\n",
      "/Users/escortkwon/miniforge3/envs/Drill_ML/lib/python3.8/site-packages/matplotlib/backends/backend_agg.py:238: RuntimeWarning: Glyph 45824 missing from current font.\n",
      "  font.set_text(s, 0.0, flags=flags)\n",
      "/Users/escortkwon/miniforge3/envs/Drill_ML/lib/python3.8/site-packages/matplotlib/backends/backend_agg.py:238: RuntimeWarning: Glyph 44396 missing from current font.\n",
      "  font.set_text(s, 0.0, flags=flags)\n",
      "/Users/escortkwon/miniforge3/envs/Drill_ML/lib/python3.8/site-packages/matplotlib/backends/backend_agg.py:238: RuntimeWarning: Glyph 51064 missing from current font.\n",
      "  font.set_text(s, 0.0, flags=flags)\n",
      "/Users/escortkwon/miniforge3/envs/Drill_ML/lib/python3.8/site-packages/matplotlib/backends/backend_agg.py:238: RuntimeWarning: Glyph 52380 missing from current font.\n",
      "  font.set_text(s, 0.0, flags=flags)\n",
      "/Users/escortkwon/miniforge3/envs/Drill_ML/lib/python3.8/site-packages/matplotlib/backends/backend_agg.py:238: RuntimeWarning: Glyph 51452 missing from current font.\n",
      "  font.set_text(s, 0.0, flags=flags)\n",
      "/Users/escortkwon/miniforge3/envs/Drill_ML/lib/python3.8/site-packages/matplotlib/backends/backend_agg.py:238: RuntimeWarning: Glyph 51204 missing from current font.\n",
      "  font.set_text(s, 0.0, flags=flags)\n",
      "/Users/escortkwon/miniforge3/envs/Drill_ML/lib/python3.8/site-packages/matplotlib/backends/backend_agg.py:238: RuntimeWarning: Glyph 49464 missing from current font.\n",
      "  font.set_text(s, 0.0, flags=flags)\n",
      "/Users/escortkwon/miniforge3/envs/Drill_ML/lib/python3.8/site-packages/matplotlib/backends/backend_agg.py:238: RuntimeWarning: Glyph 51333 missing from current font.\n",
      "  font.set_text(s, 0.0, flags=flags)\n",
      "/Users/escortkwon/miniforge3/envs/Drill_ML/lib/python3.8/site-packages/matplotlib/backends/backend_agg.py:238: RuntimeWarning: Glyph 51088 missing from current font.\n",
      "  font.set_text(s, 0.0, flags=flags)\n",
      "/Users/escortkwon/miniforge3/envs/Drill_ML/lib/python3.8/site-packages/matplotlib/backends/backend_agg.py:238: RuntimeWarning: Glyph 52824 missing from current font.\n",
      "  font.set_text(s, 0.0, flags=flags)\n",
      "/Users/escortkwon/miniforge3/envs/Drill_ML/lib/python3.8/site-packages/matplotlib/backends/backend_agg.py:238: RuntimeWarning: Glyph 44221 missing from current font.\n",
      "  font.set_text(s, 0.0, flags=flags)\n",
      "/Users/escortkwon/miniforge3/envs/Drill_ML/lib/python3.8/site-packages/matplotlib/backends/backend_agg.py:238: RuntimeWarning: Glyph 44592 missing from current font.\n",
      "  font.set_text(s, 0.0, flags=flags)\n",
      "/Users/escortkwon/miniforge3/envs/Drill_ML/lib/python3.8/site-packages/matplotlib/backends/backend_agg.py:238: RuntimeWarning: Glyph 46020 missing from current font.\n",
      "  font.set_text(s, 0.0, flags=flags)\n",
      "/Users/escortkwon/miniforge3/envs/Drill_ML/lib/python3.8/site-packages/matplotlib/backends/backend_agg.py:238: RuntimeWarning: Glyph 44053 missing from current font.\n",
      "  font.set_text(s, 0.0, flags=flags)\n",
      "/Users/escortkwon/miniforge3/envs/Drill_ML/lib/python3.8/site-packages/matplotlib/backends/backend_agg.py:238: RuntimeWarning: Glyph 50896 missing from current font.\n",
      "  font.set_text(s, 0.0, flags=flags)\n",
      "/Users/escortkwon/miniforge3/envs/Drill_ML/lib/python3.8/site-packages/matplotlib/backends/backend_agg.py:238: RuntimeWarning: Glyph 52649 missing from current font.\n",
      "  font.set_text(s, 0.0, flags=flags)\n",
      "/Users/escortkwon/miniforge3/envs/Drill_ML/lib/python3.8/site-packages/matplotlib/backends/backend_agg.py:238: RuntimeWarning: Glyph 52397 missing from current font.\n",
      "  font.set_text(s, 0.0, flags=flags)\n",
      "/Users/escortkwon/miniforge3/envs/Drill_ML/lib/python3.8/site-packages/matplotlib/backends/backend_agg.py:238: RuntimeWarning: Glyph 48513 missing from current font.\n",
      "  font.set_text(s, 0.0, flags=flags)\n",
      "/Users/escortkwon/miniforge3/envs/Drill_ML/lib/python3.8/site-packages/matplotlib/backends/backend_agg.py:238: RuntimeWarning: Glyph 45224 missing from current font.\n",
      "  font.set_text(s, 0.0, flags=flags)\n",
      "/Users/escortkwon/miniforge3/envs/Drill_ML/lib/python3.8/site-packages/matplotlib/backends/backend_agg.py:238: RuntimeWarning: Glyph 46972 missing from current font.\n",
      "  font.set_text(s, 0.0, flags=flags)\n",
      "/Users/escortkwon/miniforge3/envs/Drill_ML/lib/python3.8/site-packages/matplotlib/backends/backend_agg.py:238: RuntimeWarning: Glyph 49345 missing from current font.\n",
      "  font.set_text(s, 0.0, flags=flags)\n",
      "/Users/escortkwon/miniforge3/envs/Drill_ML/lib/python3.8/site-packages/matplotlib/backends/backend_agg.py:238: RuntimeWarning: Glyph 51228 missing from current font.\n",
      "  font.set_text(s, 0.0, flags=flags)\n",
      "/Users/escortkwon/miniforge3/envs/Drill_ML/lib/python3.8/site-packages/matplotlib/backends/backend_agg.py:238: RuntimeWarning: Glyph 52636 missing from current font.\n",
      "  font.set_text(s, 0.0, flags=flags)\n",
      "/Users/escortkwon/miniforge3/envs/Drill_ML/lib/python3.8/site-packages/matplotlib/backends/backend_agg.py:238: RuntimeWarning: Glyph 48156 missing from current font.\n",
      "  font.set_text(s, 0.0, flags=flags)\n",
      "/Users/escortkwon/miniforge3/envs/Drill_ML/lib/python3.8/site-packages/matplotlib/backends/backend_agg.py:238: RuntimeWarning: Glyph 51648 missing from current font.\n",
      "  font.set_text(s, 0.0, flags=flags)\n",
      "/Users/escortkwon/miniforge3/envs/Drill_ML/lib/python3.8/site-packages/matplotlib/backends/backend_agg.py:238: RuntimeWarning: Glyph 50976 missing from current font.\n",
      "  font.set_text(s, 0.0, flags=flags)\n",
      "/Users/escortkwon/miniforge3/envs/Drill_ML/lib/python3.8/site-packages/matplotlib/backends/backend_agg.py:238: RuntimeWarning: Glyph 46041 missing from current font.\n",
      "  font.set_text(s, 0.0, flags=flags)\n",
      "/Users/escortkwon/miniforge3/envs/Drill_ML/lib/python3.8/site-packages/matplotlib/backends/backend_agg.py:201: RuntimeWarning: Glyph 49436 missing from current font.\n",
      "  font.set_text(s, 0, flags=flags)\n",
      "/Users/escortkwon/miniforge3/envs/Drill_ML/lib/python3.8/site-packages/matplotlib/backends/backend_agg.py:201: RuntimeWarning: Glyph 50872 missing from current font.\n",
      "  font.set_text(s, 0, flags=flags)\n",
      "/Users/escortkwon/miniforge3/envs/Drill_ML/lib/python3.8/site-packages/matplotlib/backends/backend_agg.py:201: RuntimeWarning: Glyph 53945 missing from current font.\n",
      "  font.set_text(s, 0, flags=flags)\n",
      "/Users/escortkwon/miniforge3/envs/Drill_ML/lib/python3.8/site-packages/matplotlib/backends/backend_agg.py:201: RuntimeWarning: Glyph 48324 missing from current font.\n",
      "  font.set_text(s, 0, flags=flags)\n",
      "/Users/escortkwon/miniforge3/envs/Drill_ML/lib/python3.8/site-packages/matplotlib/backends/backend_agg.py:201: RuntimeWarning: Glyph 49884 missing from current font.\n",
      "  font.set_text(s, 0, flags=flags)\n",
      "/Users/escortkwon/miniforge3/envs/Drill_ML/lib/python3.8/site-packages/matplotlib/backends/backend_agg.py:201: RuntimeWarning: Glyph 48512 missing from current font.\n",
      "  font.set_text(s, 0, flags=flags)\n",
      "/Users/escortkwon/miniforge3/envs/Drill_ML/lib/python3.8/site-packages/matplotlib/backends/backend_agg.py:201: RuntimeWarning: Glyph 49328 missing from current font.\n",
      "  font.set_text(s, 0, flags=flags)\n",
      "/Users/escortkwon/miniforge3/envs/Drill_ML/lib/python3.8/site-packages/matplotlib/backends/backend_agg.py:201: RuntimeWarning: Glyph 44305 missing from current font.\n",
      "  font.set_text(s, 0, flags=flags)\n",
      "/Users/escortkwon/miniforge3/envs/Drill_ML/lib/python3.8/site-packages/matplotlib/backends/backend_agg.py:201: RuntimeWarning: Glyph 50669 missing from current font.\n",
      "  font.set_text(s, 0, flags=flags)\n",
      "/Users/escortkwon/miniforge3/envs/Drill_ML/lib/python3.8/site-packages/matplotlib/backends/backend_agg.py:201: RuntimeWarning: Glyph 45824 missing from current font.\n",
      "  font.set_text(s, 0, flags=flags)\n",
      "/Users/escortkwon/miniforge3/envs/Drill_ML/lib/python3.8/site-packages/matplotlib/backends/backend_agg.py:201: RuntimeWarning: Glyph 44396 missing from current font.\n",
      "  font.set_text(s, 0, flags=flags)\n",
      "/Users/escortkwon/miniforge3/envs/Drill_ML/lib/python3.8/site-packages/matplotlib/backends/backend_agg.py:201: RuntimeWarning: Glyph 51064 missing from current font.\n",
      "  font.set_text(s, 0, flags=flags)\n",
      "/Users/escortkwon/miniforge3/envs/Drill_ML/lib/python3.8/site-packages/matplotlib/backends/backend_agg.py:201: RuntimeWarning: Glyph 52380 missing from current font.\n",
      "  font.set_text(s, 0, flags=flags)\n",
      "/Users/escortkwon/miniforge3/envs/Drill_ML/lib/python3.8/site-packages/matplotlib/backends/backend_agg.py:201: RuntimeWarning: Glyph 51452 missing from current font.\n",
      "  font.set_text(s, 0, flags=flags)\n",
      "/Users/escortkwon/miniforge3/envs/Drill_ML/lib/python3.8/site-packages/matplotlib/backends/backend_agg.py:201: RuntimeWarning: Glyph 51204 missing from current font.\n",
      "  font.set_text(s, 0, flags=flags)\n",
      "/Users/escortkwon/miniforge3/envs/Drill_ML/lib/python3.8/site-packages/matplotlib/backends/backend_agg.py:201: RuntimeWarning: Glyph 49464 missing from current font.\n",
      "  font.set_text(s, 0, flags=flags)\n",
      "/Users/escortkwon/miniforge3/envs/Drill_ML/lib/python3.8/site-packages/matplotlib/backends/backend_agg.py:201: RuntimeWarning: Glyph 51333 missing from current font.\n",
      "  font.set_text(s, 0, flags=flags)\n",
      "/Users/escortkwon/miniforge3/envs/Drill_ML/lib/python3.8/site-packages/matplotlib/backends/backend_agg.py:201: RuntimeWarning: Glyph 51088 missing from current font.\n",
      "  font.set_text(s, 0, flags=flags)\n",
      "/Users/escortkwon/miniforge3/envs/Drill_ML/lib/python3.8/site-packages/matplotlib/backends/backend_agg.py:201: RuntimeWarning: Glyph 52824 missing from current font.\n",
      "  font.set_text(s, 0, flags=flags)\n",
      "/Users/escortkwon/miniforge3/envs/Drill_ML/lib/python3.8/site-packages/matplotlib/backends/backend_agg.py:201: RuntimeWarning: Glyph 44221 missing from current font.\n",
      "  font.set_text(s, 0, flags=flags)\n",
      "/Users/escortkwon/miniforge3/envs/Drill_ML/lib/python3.8/site-packages/matplotlib/backends/backend_agg.py:201: RuntimeWarning: Glyph 44592 missing from current font.\n",
      "  font.set_text(s, 0, flags=flags)\n",
      "/Users/escortkwon/miniforge3/envs/Drill_ML/lib/python3.8/site-packages/matplotlib/backends/backend_agg.py:201: RuntimeWarning: Glyph 46020 missing from current font.\n",
      "  font.set_text(s, 0, flags=flags)\n",
      "/Users/escortkwon/miniforge3/envs/Drill_ML/lib/python3.8/site-packages/matplotlib/backends/backend_agg.py:201: RuntimeWarning: Glyph 44053 missing from current font.\n",
      "  font.set_text(s, 0, flags=flags)\n",
      "/Users/escortkwon/miniforge3/envs/Drill_ML/lib/python3.8/site-packages/matplotlib/backends/backend_agg.py:201: RuntimeWarning: Glyph 50896 missing from current font.\n",
      "  font.set_text(s, 0, flags=flags)\n",
      "/Users/escortkwon/miniforge3/envs/Drill_ML/lib/python3.8/site-packages/matplotlib/backends/backend_agg.py:201: RuntimeWarning: Glyph 52649 missing from current font.\n",
      "  font.set_text(s, 0, flags=flags)\n",
      "/Users/escortkwon/miniforge3/envs/Drill_ML/lib/python3.8/site-packages/matplotlib/backends/backend_agg.py:201: RuntimeWarning: Glyph 52397 missing from current font.\n",
      "  font.set_text(s, 0, flags=flags)\n",
      "/Users/escortkwon/miniforge3/envs/Drill_ML/lib/python3.8/site-packages/matplotlib/backends/backend_agg.py:201: RuntimeWarning: Glyph 48513 missing from current font.\n",
      "  font.set_text(s, 0, flags=flags)\n",
      "/Users/escortkwon/miniforge3/envs/Drill_ML/lib/python3.8/site-packages/matplotlib/backends/backend_agg.py:201: RuntimeWarning: Glyph 45224 missing from current font.\n",
      "  font.set_text(s, 0, flags=flags)\n",
      "/Users/escortkwon/miniforge3/envs/Drill_ML/lib/python3.8/site-packages/matplotlib/backends/backend_agg.py:201: RuntimeWarning: Glyph 46972 missing from current font.\n",
      "  font.set_text(s, 0, flags=flags)\n",
      "/Users/escortkwon/miniforge3/envs/Drill_ML/lib/python3.8/site-packages/matplotlib/backends/backend_agg.py:201: RuntimeWarning: Glyph 49345 missing from current font.\n",
      "  font.set_text(s, 0, flags=flags)\n",
      "/Users/escortkwon/miniforge3/envs/Drill_ML/lib/python3.8/site-packages/matplotlib/backends/backend_agg.py:201: RuntimeWarning: Glyph 51228 missing from current font.\n",
      "  font.set_text(s, 0, flags=flags)\n",
      "/Users/escortkwon/miniforge3/envs/Drill_ML/lib/python3.8/site-packages/matplotlib/backends/backend_agg.py:201: RuntimeWarning: Glyph 52636 missing from current font.\n",
      "  font.set_text(s, 0, flags=flags)\n",
      "/Users/escortkwon/miniforge3/envs/Drill_ML/lib/python3.8/site-packages/matplotlib/backends/backend_agg.py:201: RuntimeWarning: Glyph 48156 missing from current font.\n",
      "  font.set_text(s, 0, flags=flags)\n",
      "/Users/escortkwon/miniforge3/envs/Drill_ML/lib/python3.8/site-packages/matplotlib/backends/backend_agg.py:201: RuntimeWarning: Glyph 51648 missing from current font.\n",
      "  font.set_text(s, 0, flags=flags)\n",
      "/Users/escortkwon/miniforge3/envs/Drill_ML/lib/python3.8/site-packages/matplotlib/backends/backend_agg.py:201: RuntimeWarning: Glyph 50976 missing from current font.\n",
      "  font.set_text(s, 0, flags=flags)\n",
      "/Users/escortkwon/miniforge3/envs/Drill_ML/lib/python3.8/site-packages/matplotlib/backends/backend_agg.py:201: RuntimeWarning: Glyph 46041 missing from current font.\n",
      "  font.set_text(s, 0, flags=flags)\n"
     ]
    },
    {
     "data": {
      "text/plain": "<Figure size 432x288 with 1 Axes>",
      "image/png": "[encoded data removed]"
     },
     "metadata": {
      "needs_background": "light"
     },
     "output_type": "display_data"
    }
   ],
   "source": [
    "# Bar Plot 작성\n",
    "plt.bar(return_data['ADDR'], return_data[check_column])\n",
    "\n",
    "plt.xlabel('출발지')\n",
    "plt.xticks(rotation=45)\n",
    "plt.ylabel('유동인구')\n",
    "plt.ylim(0, 3000)\n",
    "\n",
    "plt.show()"
   ],
   "metadata": {
    "collapsed": false,
    "pycharm": {
     "name": "#%%\n"
    }
   }
  },
  {
   "cell_type": "code",
   "execution_count": 31,
   "outputs": [],
   "source": [
    "# DataFrame --> csv 변환\n",
    "# return_data.to_csv('C:/Users/ggh99/PycharmProjects/Advanced_AI_Course/1st_week/Dataset/address/address_generated.csv',\n",
    "#                  sep=',',\n",
    "#                  encoding='CP949')"
   ],
   "metadata": {
    "collapsed": false,
    "pycharm": {
     "name": "#%%\n"
    }
   }
  },
  {
   "cell_type": "code",
   "execution_count": 32,
   "outputs": [],
   "source": [
    "# coordinates = pd.read_csv('Dataset/address/address_transform.utf-8.csv')\n",
    "# len(coordinates) # 확인용 출력"
   ],
   "metadata": {
    "collapsed": false,
    "pycharm": {
     "name": "#%%\n"
    }
   }
  },
  {
   "cell_type": "code",
   "execution_count": 33,
   "outputs": [
    {
     "ename": "NameError",
     "evalue": "name 'coordinates' is not defined",
     "output_type": "error",
     "traceback": [
      "\u001B[0;31m---------------------------------------------------------------------------\u001B[0m",
      "\u001B[0;31mNameError\u001B[0m                                 Traceback (most recent call last)",
      "\u001B[0;32m<ipython-input-33-de92cf7b3be8>\u001B[0m in \u001B[0;36m<module>\u001B[0;34m\u001B[0m\n\u001B[1;32m      1\u001B[0m \u001B[0mmap_SK\u001B[0m \u001B[0;34m=\u001B[0m \u001B[0mfolium\u001B[0m\u001B[0;34m.\u001B[0m\u001B[0mMap\u001B[0m\u001B[0;34m(\u001B[0m\u001B[0mlocation\u001B[0m\u001B[0;34m=\u001B[0m\u001B[0;34m[\u001B[0m\u001B[0;36m36.38\u001B[0m\u001B[0;34m,\u001B[0m \u001B[0;36m127.51\u001B[0m\u001B[0;34m]\u001B[0m\u001B[0;34m,\u001B[0m \u001B[0mzoom_start\u001B[0m\u001B[0;34m=\u001B[0m\u001B[0;36m6.5\u001B[0m\u001B[0;34m)\u001B[0m \u001B[0;31m# location: 남한 중심 좌표, zoom_start 수치가 클수록 확대\u001B[0m\u001B[0;34m\u001B[0m\u001B[0;34m\u001B[0m\u001B[0m\n\u001B[1;32m      2\u001B[0m \u001B[0;31m# Marker로 지도에 아이콘 표시\u001B[0m\u001B[0;34m\u001B[0m\u001B[0;34m\u001B[0m\u001B[0;34m\u001B[0m\u001B[0m\n\u001B[0;32m----> 3\u001B[0;31m \u001B[0;32mfor\u001B[0m \u001B[0mlat\u001B[0m\u001B[0;34m,\u001B[0m \u001B[0mlong\u001B[0m\u001B[0;34m,\u001B[0m \u001B[0madd\u001B[0m \u001B[0;32min\u001B[0m \u001B[0mzip\u001B[0m\u001B[0;34m(\u001B[0m\u001B[0mcoordinates\u001B[0m\u001B[0;34m[\u001B[0m\u001B[0;34m'위도'\u001B[0m\u001B[0;34m]\u001B[0m\u001B[0;34m,\u001B[0m \u001B[0mcoordinates\u001B[0m\u001B[0;34m[\u001B[0m\u001B[0;34m'경도'\u001B[0m\u001B[0;34m]\u001B[0m\u001B[0;34m,\u001B[0m \u001B[0mcoordinates\u001B[0m\u001B[0;34m[\u001B[0m\u001B[0;34m'ADDR'\u001B[0m\u001B[0;34m]\u001B[0m\u001B[0;34m)\u001B[0m\u001B[0;34m:\u001B[0m\u001B[0;34m\u001B[0m\u001B[0;34m\u001B[0m\u001B[0m\n\u001B[0m\u001B[1;32m      4\u001B[0m     folium.Marker(\n\u001B[1;32m      5\u001B[0m         \u001B[0mlocation\u001B[0m\u001B[0;34m=\u001B[0m\u001B[0;34m[\u001B[0m\u001B[0mlat\u001B[0m\u001B[0;34m,\u001B[0m \u001B[0mlong\u001B[0m\u001B[0;34m]\u001B[0m\u001B[0;34m,\u001B[0m\u001B[0;34m\u001B[0m\u001B[0;34m\u001B[0m\u001B[0m\n",
      "\u001B[0;31mNameError\u001B[0m: name 'coordinates' is not defined"
     ]
    }
   ],
   "source": [
    "map_SK = folium.Map(location=[36.38, 127.51], zoom_start=6.5) # location: 남한 중심 좌표, zoom_start 수치가 클수록 확대\n",
    "# Marker로 지도에 아이콘 표시\n",
    "for lat, long, add in zip(coordinates['위도'], coordinates['경도'], coordinates['ADDR']):\n",
    "    folium.Marker(\n",
    "        location=[lat, long],\n",
    "        popup=add,\n",
    "        icon=folium.Icon(color='red', icon='city')\n",
    "\n",
    "    ).add_to(map_SK)\n",
    "map_SK"
   ],
   "metadata": {
    "collapsed": false,
    "pycharm": {
     "name": "#%%\n"
    }
   }
  },
  {
   "cell_type": "code",
   "execution_count": null,
   "outputs": [],
   "source": [
    "from folium.plugins import MarkerCluster # MarkerCluster를 이용하면 가까운 거리의 Marker들을 군집시켜서 해당 건수를 표현\n",
    "\n",
    "def draw_map(df):\n",
    "    # 지도 생성\n",
    "    map_fn = folium.Map(location=[36.38, 127.51], zoom_start=6.5)\n",
    "    # 리스트를 이용해 여러 행의 데이터를 위, 경도로 묶음\n",
    "    locations = list(zip(df['위도'], df['경도']))\n",
    "    locations_city = list(zip(coordinates['위도'], coordinates['경도']))\n",
    "    # 반복문을 이용해 locations로 정의한 변수에 해당하는 위치에 도시 아이콘 표시\n",
    "    icons = [folium.Icon(icon='city', color='red') for _ in range(len(locations_city))]\n",
    "    # 반복문을 이용해 아이콘을 클릭했을 때, popup 생성\n",
    "    for addr in df['ADDR']:\n",
    "        folium.Marker(popup=addr)\n",
    "\n",
    "    # cluster 생성\n",
    "    cluster = MarkerCluster(locations=locations, icons=icons)\n",
    "    # 지도에 cluster 추가\n",
    "    cluster.add_to(map_fn)\n",
    "    # 지도 출력\n",
    "    print(map_fn)\n",
    "    map_fn.save('./map_fn.html')\n",
    "\n",
    "# 함수 실행\n",
    "draw_map(coordinates)"
   ],
   "metadata": {
    "collapsed": false,
    "pycharm": {
     "name": "#%%\n"
    }
   }
  },
  {
   "cell_type": "code",
   "execution_count": null,
   "outputs": [],
   "source": [
    "# 지도 위에 울산대학교 표시\n",
    "UOU = folium.Map(location=[35.5450147, 129.2528426], min_zoom=5, max_zoom=8)\n",
    "folium.Marker(\n",
    "        location=[35.5450147, 129.2528426],\n",
    "        popup='University of Ulsan',\n",
    "        icon=folium.Icon(color='red', icon='star')).add_to(UOU)\n",
    "UOU"
   ],
   "metadata": {
    "collapsed": false,
    "pycharm": {
     "name": "#%%\n"
    }
   }
  }
 ],
 "metadata": {
  "kernelspec": {
   "name": "lab_kernel",
   "language": "python",
   "display_name": "lab_kernel"
  },
  "language_info": {
   "codemirror_mode": {
    "name": "ipython",
    "version": 2
   },
   "file_extension": ".py",
   "mimetype": "text/x-python",
   "name": "python",
   "nbconvert_exporter": "python",
   "pygments_lexer": "ipython2",
   "version": "2.7.6"
  }
 },
 "nbformat": 4,
 "nbformat_minor": 0
}