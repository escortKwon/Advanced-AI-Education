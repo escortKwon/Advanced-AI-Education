{
 "nbformat": 4,
 "nbformat_minor": 0,
 "metadata": {
  "colab": {
   "name": "project02.ipynb",
   "provenance": [],
   "collapsed_sections": [],
   "mount_file_id": "1ILVqE-QDgBIWUqprEiwQlORBIbBpSeUc",
   "authorship_tag": "ABX9TyO4CttvlI1wLApvbEHGmo9Y"
  },
  "kernelspec": {
   "name": "python3",
   "language": "python",
   "display_name": "Python 3"
  },
  "language_info": {
   "name": "python"
  }
 },
 "cells": [
  {
   "cell_type": "code",
   "metadata": {
    "id": "4LE1CAbTdKqd"
   },
   "source": [
    "import numpy as np\n",
    "import pandas as pd\n",
    "import matplotlib.pyplot as plt\n",
    "from sklearn.model_selection import train_test_split\n",
    "import folium\n",
    "from sklearn.tree import export_graphviz\n",
    "from IPython.display import display\n",
    "pd.set_option('display.max_row', 300)\n",
    "pd.set_option('display.max_columns', 100)"
   ],
   "execution_count": 1,
   "outputs": []
  },
  {
   "cell_type": "code",
   "metadata": {
    "colab": {
     "base_uri": "https://localhost:8080/",
     "height": 425
    },
    "id": "fY_taHq4ddZV",
    "executionInfo": {
     "status": "ok",
     "timestamp": 1625660289702,
     "user_tz": -540,
     "elapsed": 1783,
     "user": {
      "displayName": "Jg P",
      "photoUrl": "",
      "userId": "14743859658637873937"
     }
    },
    "outputId": "9deb3d8c-455d-4485-ed02-2295f5a2d485"
   },
   "source": [
    "# 데이터 불러오기\n",
    "df = pd.read_csv('시군별유동인구데이터.csv')\n",
    "df"
   ],
   "execution_count": 2,
   "outputs": [
    {
     "data": {
      "text/plain": "           년월  출발지(야간체류지) 시군코드  도착지 시군코드  10대남성 유입인구  20대남성 유입인구  30대남성 유입인구  \\\n0      202001            11170     41590       19.15       64.28      116.56   \n1      202001            11170     41610       39.55       39.38       48.18   \n2      202001            11170     41630       30.51       21.78       29.73   \n3      202001            11170     41650       29.74       17.65       26.94   \n4      202001            11170     41670        9.37        8.90       21.12   \n...       ...              ...       ...         ...         ...         ...   \n85099  202012            29155     41820        0.12        0.83        0.54   \n85100  202012            29155     41830        0.38        0.82        0.45   \n85101  202012            29170     41110        6.97       35.91       27.35   \n85102  202012            29170     41130       13.45       27.70       24.01   \n85103  202012            28140     41550        0.53        1.47        5.33   \n\n       40대남성 유입인구  50대남성 유입인구  60대남성 유입인구  70대남성 유입인구  10대여성 유입인구  20대여성 유입인구  \\\n0          136.39      118.72       45.84       13.68       23.83       52.79   \n1           63.35       59.68       29.78       11.60       29.66       30.79   \n2           38.39       37.38       21.49        7.53       21.10       12.57   \n3           35.66       32.29       21.60       12.11       31.00       20.25   \n4           17.89       22.00       10.84        2.60       14.36       16.70   \n...           ...         ...         ...         ...         ...         ...   \n85099        0.16        0.71        0.50        0.22        0.62        1.05   \n85100        0.66        0.25        0.92        0.07        0.00        1.18   \n85101       21.80       22.02        9.26        2.42       10.00       22.55   \n85102       24.48       28.95        8.63        4.57        8.87       21.94   \n85103        6.48        6.04        4.36        0.39        1.07        0.52   \n\n       30대여성 유입인구  40대여성 유입인구  50대여성 유입인구  60대여성 유입인구  70대여성 유입인구  \n0           67.96       51.08       33.53       26.28       16.03  \n1           44.08       36.09       25.58       16.77        9.27  \n2           21.77       24.48       25.13       17.43       11.46  \n3           19.12       27.59       23.03       15.15        7.43  \n4           21.71       15.95       11.51        8.15        4.50  \n...           ...         ...         ...         ...         ...  \n85099        0.90        0.69        0.18        0.32        0.21  \n85100        0.00        0.20        0.16        0.56        0.25  \n85101       14.96        7.48       15.39        9.21        5.09  \n85102       11.87       12.69       15.28        7.72        8.06  \n85103        0.39        0.76        3.43        0.96        0.07  \n\n[85104 rows x 17 columns]",
      "text/html": "<div>\n<style scoped>\n    .dataframe tbody tr th:only-of-type {\n        vertical-align: middle;\n    }\n\n    .dataframe tbody tr th {\n        vertical-align: top;\n    }\n\n    .dataframe thead th {\n        text-align: right;\n    }\n</style>\n<table border=\"1\" class=\"dataframe\">\n  <thead>\n    <tr style=\"text-align: right;\">\n      <th></th>\n      <th>년월</th>\n      <th>출발지(야간체류지) 시군코드</th>\n      <th>도착지 시군코드</th>\n      <th>10대남성 유입인구</th>\n      <th>20대남성 유입인구</th>\n      <th>30대남성 유입인구</th>\n      <th>40대남성 유입인구</th>\n      <th>50대남성 유입인구</th>\n      <th>60대남성 유입인구</th>\n      <th>70대남성 유입인구</th>\n      <th>10대여성 유입인구</th>\n      <th>20대여성 유입인구</th>\n      <th>30대여성 유입인구</th>\n      <th>40대여성 유입인구</th>\n      <th>50대여성 유입인구</th>\n      <th>60대여성 유입인구</th>\n      <th>70대여성 유입인구</th>\n    </tr>\n  </thead>\n  <tbody>\n    <tr>\n      <th>0</th>\n      <td>202001</td>\n      <td>11170</td>\n      <td>41590</td>\n      <td>19.15</td>\n      <td>64.28</td>\n      <td>116.56</td>\n      <td>136.39</td>\n      <td>118.72</td>\n      <td>45.84</td>\n      <td>13.68</td>\n      <td>23.83</td>\n      <td>52.79</td>\n      <td>67.96</td>\n      <td>51.08</td>\n      <td>33.53</td>\n      <td>26.28</td>\n      <td>16.03</td>\n    </tr>\n    <tr>\n      <th>1</th>\n      <td>202001</td>\n      <td>11170</td>\n      <td>41610</td>\n      <td>39.55</td>\n      <td>39.38</td>\n      <td>48.18</td>\n      <td>63.35</td>\n      <td>59.68</td>\n      <td>29.78</td>\n      <td>11.60</td>\n      <td>29.66</td>\n      <td>30.79</td>\n      <td>44.08</td>\n      <td>36.09</td>\n      <td>25.58</td>\n      <td>16.77</td>\n      <td>9.27</td>\n    </tr>\n    <tr>\n      <th>2</th>\n      <td>202001</td>\n      <td>11170</td>\n      <td>41630</td>\n      <td>30.51</td>\n      <td>21.78</td>\n      <td>29.73</td>\n      <td>38.39</td>\n      <td>37.38</td>\n      <td>21.49</td>\n      <td>7.53</td>\n      <td>21.10</td>\n      <td>12.57</td>\n      <td>21.77</td>\n      <td>24.48</td>\n      <td>25.13</td>\n      <td>17.43</td>\n      <td>11.46</td>\n    </tr>\n    <tr>\n      <th>3</th>\n      <td>202001</td>\n      <td>11170</td>\n      <td>41650</td>\n      <td>29.74</td>\n      <td>17.65</td>\n      <td>26.94</td>\n      <td>35.66</td>\n      <td>32.29</td>\n      <td>21.60</td>\n      <td>12.11</td>\n      <td>31.00</td>\n      <td>20.25</td>\n      <td>19.12</td>\n      <td>27.59</td>\n      <td>23.03</td>\n      <td>15.15</td>\n      <td>7.43</td>\n    </tr>\n    <tr>\n      <th>4</th>\n      <td>202001</td>\n      <td>11170</td>\n      <td>41670</td>\n      <td>9.37</td>\n      <td>8.90</td>\n      <td>21.12</td>\n      <td>17.89</td>\n      <td>22.00</td>\n      <td>10.84</td>\n      <td>2.60</td>\n      <td>14.36</td>\n      <td>16.70</td>\n      <td>21.71</td>\n      <td>15.95</td>\n      <td>11.51</td>\n      <td>8.15</td>\n      <td>4.50</td>\n    </tr>\n    <tr>\n      <th>...</th>\n      <td>...</td>\n      <td>...</td>\n      <td>...</td>\n      <td>...</td>\n      <td>...</td>\n      <td>...</td>\n      <td>...</td>\n      <td>...</td>\n      <td>...</td>\n      <td>...</td>\n      <td>...</td>\n      <td>...</td>\n      <td>...</td>\n      <td>...</td>\n      <td>...</td>\n      <td>...</td>\n      <td>...</td>\n    </tr>\n    <tr>\n      <th>85099</th>\n      <td>202012</td>\n      <td>29155</td>\n      <td>41820</td>\n      <td>0.12</td>\n      <td>0.83</td>\n      <td>0.54</td>\n      <td>0.16</td>\n      <td>0.71</td>\n      <td>0.50</td>\n      <td>0.22</td>\n      <td>0.62</td>\n      <td>1.05</td>\n      <td>0.90</td>\n      <td>0.69</td>\n      <td>0.18</td>\n      <td>0.32</td>\n      <td>0.21</td>\n    </tr>\n    <tr>\n      <th>85100</th>\n      <td>202012</td>\n      <td>29155</td>\n      <td>41830</td>\n      <td>0.38</td>\n      <td>0.82</td>\n      <td>0.45</td>\n      <td>0.66</td>\n      <td>0.25</td>\n      <td>0.92</td>\n      <td>0.07</td>\n      <td>0.00</td>\n      <td>1.18</td>\n      <td>0.00</td>\n      <td>0.20</td>\n      <td>0.16</td>\n      <td>0.56</td>\n      <td>0.25</td>\n    </tr>\n    <tr>\n      <th>85101</th>\n      <td>202012</td>\n      <td>29170</td>\n      <td>41110</td>\n      <td>6.97</td>\n      <td>35.91</td>\n      <td>27.35</td>\n      <td>21.80</td>\n      <td>22.02</td>\n      <td>9.26</td>\n      <td>2.42</td>\n      <td>10.00</td>\n      <td>22.55</td>\n      <td>14.96</td>\n      <td>7.48</td>\n      <td>15.39</td>\n      <td>9.21</td>\n      <td>5.09</td>\n    </tr>\n    <tr>\n      <th>85102</th>\n      <td>202012</td>\n      <td>29170</td>\n      <td>41130</td>\n      <td>13.45</td>\n      <td>27.70</td>\n      <td>24.01</td>\n      <td>24.48</td>\n      <td>28.95</td>\n      <td>8.63</td>\n      <td>4.57</td>\n      <td>8.87</td>\n      <td>21.94</td>\n      <td>11.87</td>\n      <td>12.69</td>\n      <td>15.28</td>\n      <td>7.72</td>\n      <td>8.06</td>\n    </tr>\n    <tr>\n      <th>85103</th>\n      <td>202012</td>\n      <td>28140</td>\n      <td>41550</td>\n      <td>0.53</td>\n      <td>1.47</td>\n      <td>5.33</td>\n      <td>6.48</td>\n      <td>6.04</td>\n      <td>4.36</td>\n      <td>0.39</td>\n      <td>1.07</td>\n      <td>0.52</td>\n      <td>0.39</td>\n      <td>0.76</td>\n      <td>3.43</td>\n      <td>0.96</td>\n      <td>0.07</td>\n    </tr>\n  </tbody>\n</table>\n<p>85104 rows × 17 columns</p>\n</div>"
     },
     "execution_count": 2,
     "metadata": {},
     "output_type": "execute_result"
    }
   ]
  },
  {
   "cell_type": "code",
   "metadata": {
    "colab": {
     "base_uri": "https://localhost:8080/"
    },
    "id": "F_B3iMOGfGRz",
    "executionInfo": {
     "status": "ok",
     "timestamp": 1625660310772,
     "user_tz": -540,
     "elapsed": 21079,
     "user": {
      "displayName": "Jg P",
      "photoUrl": "",
      "userId": "14743859658637873937"
     }
    },
    "outputId": "1b047db6-85f6-4bc8-ddaf-2e14772942e8"
   },
   "source": [
    "# 데이터를 추출하기 위한 변수 입력\n",
    "destination = input(\">>> 확인할 지역 입력: \")\n",
    "gender = input(\">>> 성별 입력 (남성 / 여성): \")\n",
    "age = input(\">>> 확인할 나이대 입력(숫자만 입력): \")\n",
    "month = input(\">>> 확인할 달 입력(예 : 2월 --> 02): \")\n",
    "\n",
    "print(\"\\n\" + month+ \"월 \" + destination + \"지역에 관련된 \" + age + \"대 \" + gender + \"들의 유동인구를 확인합니다\")\n",
    "check_column = age + '대' + gender + ' ' + '유입인구'\n",
    "month= '2020' + month"
   ],
   "execution_count": 3,
   "outputs": [
    {
     "name": "stdout",
     "output_type": "stream",
     "text": [
      "\n",
      "08월 41550지역에 관련된 40대 남성들의 유동인구를 확인합니다\n"
     ]
    }
   ]
  },
  {
   "cell_type": "code",
   "metadata": {
    "colab": {
     "base_uri": "https://localhost:8080/",
     "height": 562
    },
    "id": "OeUJqmWd8ZHk",
    "executionInfo": {
     "status": "ok",
     "timestamp": 1625664132734,
     "user_tz": -540,
     "elapsed": 425,
     "user": {
      "displayName": "Jg P",
      "photoUrl": "",
      "userId": "14743859658637873937"
     }
    },
    "outputId": "a3a17341-b1fa-4a66-f984-b2d580d2ffce"
   },
   "source": [
    "# 입력한 변수 바탕으로 데이터 전처리\n",
    "data = df.loc[:,['년월','출발지(야간체류지) 시군코드','도착지 시군코드',check_column]][df['년월']==int(month)]\n",
    "data_simple = data[data['도착지 시군코드']==int(destination)]\n",
    "data_simple = data_simple.drop(['년월','도착지 시군코드'],axis=1)\n",
    "data_simple['출발지'] = data_simple['출발지(야간체류지) 시군코드']-(data_simple['출발지(야간체류지) 시군코드']%1000)\n",
    "data_simple['출발지'] = data_simple['출발지']/1000\n",
    "data_simple['출발지'] = data_simple['출발지'].astype(int)\n",
    "data_simple=data_simple.drop('출발지(야간체류지) 시군코드',axis=1)\n",
    "return_data=data_simple.groupby('출발지', as_index=False).sum()\n",
    "return_data"
   ],
   "execution_count": 4,
   "outputs": [
    {
     "data": {
      "text/plain": "    출발지  40대남성 유입인구\n0    11     1338.59\n1    26       88.14\n2    27       81.27\n3    28      402.61\n4    29       51.29\n5    30      164.13\n6    31       25.94\n7    36       46.19\n8    41    22778.07\n9    42       95.58\n10   43      558.85\n11   44     1176.97\n12   45      112.82\n13   46       51.92\n14   47      103.79\n15   48      113.55\n16   50       24.78",
      "text/html": "<div>\n<style scoped>\n    .dataframe tbody tr th:only-of-type {\n        vertical-align: middle;\n    }\n\n    .dataframe tbody tr th {\n        vertical-align: top;\n    }\n\n    .dataframe thead th {\n        text-align: right;\n    }\n</style>\n<table border=\"1\" class=\"dataframe\">\n  <thead>\n    <tr style=\"text-align: right;\">\n      <th></th>\n      <th>출발지</th>\n      <th>40대남성 유입인구</th>\n    </tr>\n  </thead>\n  <tbody>\n    <tr>\n      <th>0</th>\n      <td>11</td>\n      <td>1338.59</td>\n    </tr>\n    <tr>\n      <th>1</th>\n      <td>26</td>\n      <td>88.14</td>\n    </tr>\n    <tr>\n      <th>2</th>\n      <td>27</td>\n      <td>81.27</td>\n    </tr>\n    <tr>\n      <th>3</th>\n      <td>28</td>\n      <td>402.61</td>\n    </tr>\n    <tr>\n      <th>4</th>\n      <td>29</td>\n      <td>51.29</td>\n    </tr>\n    <tr>\n      <th>5</th>\n      <td>30</td>\n      <td>164.13</td>\n    </tr>\n    <tr>\n      <th>6</th>\n      <td>31</td>\n      <td>25.94</td>\n    </tr>\n    <tr>\n      <th>7</th>\n      <td>36</td>\n      <td>46.19</td>\n    </tr>\n    <tr>\n      <th>8</th>\n      <td>41</td>\n      <td>22778.07</td>\n    </tr>\n    <tr>\n      <th>9</th>\n      <td>42</td>\n      <td>95.58</td>\n    </tr>\n    <tr>\n      <th>10</th>\n      <td>43</td>\n      <td>558.85</td>\n    </tr>\n    <tr>\n      <th>11</th>\n      <td>44</td>\n      <td>1176.97</td>\n    </tr>\n    <tr>\n      <th>12</th>\n      <td>45</td>\n      <td>112.82</td>\n    </tr>\n    <tr>\n      <th>13</th>\n      <td>46</td>\n      <td>51.92</td>\n    </tr>\n    <tr>\n      <th>14</th>\n      <td>47</td>\n      <td>103.79</td>\n    </tr>\n    <tr>\n      <th>15</th>\n      <td>48</td>\n      <td>113.55</td>\n    </tr>\n    <tr>\n      <th>16</th>\n      <td>50</td>\n      <td>24.78</td>\n    </tr>\n  </tbody>\n</table>\n</div>"
     },
     "execution_count": 4,
     "metadata": {},
     "output_type": "execute_result"
    }
   ]
  },
  {
   "cell_type": "code",
   "metadata": {
    "colab": {
     "base_uri": "https://localhost:8080/",
     "height": 425
    },
    "id": "uULA6Wj05u-O",
    "executionInfo": {
     "status": "ok",
     "timestamp": 1625664136703,
     "user_tz": -540,
     "elapsed": 437,
     "user": {
      "displayName": "Jg P",
      "photoUrl": "",
      "userId": "14743859658637873937"
     }
    },
    "outputId": "5cf007a6-565a-4de3-bc2d-8acb4fcff5aa"
   },
   "source": [
    "# df에서 입력한 지역에 따른 '출발지', '도착지' 시군코드 추출\n",
    "data1 = df.loc[df['출발지(야간체류지) 시군코드'] == int(destination)]\n",
    "data2 = df.loc[(df['도착지 시군코드']==int(destination))]\n",
    "data3= pd.concat([data1,data2])\n",
    "data3"
   ],
   "execution_count": 5,
   "outputs": [
    {
     "data": {
      "text/plain": "           년월  출발지(야간체류지) 시군코드  도착지 시군코드  10대남성 유입인구  20대남성 유입인구  30대남성 유입인구  \\\n2567   202001            41550     41110      118.55      304.43      290.07   \n2568   202001            41550     41130       32.77      109.92      119.61   \n2569   202001            41550     41150        5.58       23.11       28.59   \n2570   202001            41550     41170       25.36       81.28       53.14   \n2571   202001            41550     41190       25.14       80.78       70.92   \n...       ...              ...       ...         ...         ...         ...   \n84998  202012            47750     41550        0.00        0.00        0.04   \n85029  202012            29110     41550        0.93        0.45        1.20   \n85060  202012            29140     41550        1.62        2.22        3.42   \n85091  202012            29155     41550        0.19        1.80        2.72   \n85103  202012            28140     41550        0.53        1.47        5.33   \n\n       40대남성 유입인구  50대남성 유입인구  60대남성 유입인구  70대남성 유입인구  10대여성 유입인구  20대여성 유입인구  \\\n2567       233.01      187.08       90.78       36.41      105.08      186.76   \n2568       139.45       88.22       60.15       21.05       47.36       69.42   \n2569        17.09       25.83        9.86        5.08        5.39       14.41   \n2570        53.65       40.60       32.96       13.08       16.17       42.77   \n2571        59.44       55.96       24.28        7.20       27.73       33.12   \n...           ...         ...         ...         ...         ...         ...   \n84998        1.06        0.45        0.58        0.00        0.00        0.00   \n85029        0.99        4.30        0.89        0.04        0.06        0.91   \n85060       10.57        8.34        1.40        0.72        1.58        2.13   \n85091        3.56        3.19        1.06        0.27        1.68        0.98   \n85103        6.48        6.04        4.36        0.39        1.07        0.52   \n\n       30대여성 유입인구  40대여성 유입인구  50대여성 유입인구  60대여성 유입인구  70대여성 유입인구  \n2567       132.80      122.16      123.35       85.00       66.32  \n2568        70.03       63.41       51.87       34.43       37.58  \n2569        13.98       10.19       12.16        5.60        4.69  \n2570        30.53       30.22       26.70       21.81       15.84  \n2571        40.30       22.65       25.09       12.58        9.72  \n...           ...         ...         ...         ...         ...  \n84998        0.00        0.00        0.17        0.43        0.00  \n85029        1.13        1.64        1.06        1.49        0.09  \n85060        1.13        2.04        1.05        1.38        0.72  \n85091        2.08        0.74        0.69        0.84        0.23  \n85103        0.39        0.76        3.43        0.96        0.07  \n\n[3120 rows x 17 columns]",
      "text/html": "<div>\n<style scoped>\n    .dataframe tbody tr th:only-of-type {\n        vertical-align: middle;\n    }\n\n    .dataframe tbody tr th {\n        vertical-align: top;\n    }\n\n    .dataframe thead th {\n        text-align: right;\n    }\n</style>\n<table border=\"1\" class=\"dataframe\">\n  <thead>\n    <tr style=\"text-align: right;\">\n      <th></th>\n      <th>년월</th>\n      <th>출발지(야간체류지) 시군코드</th>\n      <th>도착지 시군코드</th>\n      <th>10대남성 유입인구</th>\n      <th>20대남성 유입인구</th>\n      <th>30대남성 유입인구</th>\n      <th>40대남성 유입인구</th>\n      <th>50대남성 유입인구</th>\n      <th>60대남성 유입인구</th>\n      <th>70대남성 유입인구</th>\n      <th>10대여성 유입인구</th>\n      <th>20대여성 유입인구</th>\n      <th>30대여성 유입인구</th>\n      <th>40대여성 유입인구</th>\n      <th>50대여성 유입인구</th>\n      <th>60대여성 유입인구</th>\n      <th>70대여성 유입인구</th>\n    </tr>\n  </thead>\n  <tbody>\n    <tr>\n      <th>2567</th>\n      <td>202001</td>\n      <td>41550</td>\n      <td>41110</td>\n      <td>118.55</td>\n      <td>304.43</td>\n      <td>290.07</td>\n      <td>233.01</td>\n      <td>187.08</td>\n      <td>90.78</td>\n      <td>36.41</td>\n      <td>105.08</td>\n      <td>186.76</td>\n      <td>132.80</td>\n      <td>122.16</td>\n      <td>123.35</td>\n      <td>85.00</td>\n      <td>66.32</td>\n    </tr>\n    <tr>\n      <th>2568</th>\n      <td>202001</td>\n      <td>41550</td>\n      <td>41130</td>\n      <td>32.77</td>\n      <td>109.92</td>\n      <td>119.61</td>\n      <td>139.45</td>\n      <td>88.22</td>\n      <td>60.15</td>\n      <td>21.05</td>\n      <td>47.36</td>\n      <td>69.42</td>\n      <td>70.03</td>\n      <td>63.41</td>\n      <td>51.87</td>\n      <td>34.43</td>\n      <td>37.58</td>\n    </tr>\n    <tr>\n      <th>2569</th>\n      <td>202001</td>\n      <td>41550</td>\n      <td>41150</td>\n      <td>5.58</td>\n      <td>23.11</td>\n      <td>28.59</td>\n      <td>17.09</td>\n      <td>25.83</td>\n      <td>9.86</td>\n      <td>5.08</td>\n      <td>5.39</td>\n      <td>14.41</td>\n      <td>13.98</td>\n      <td>10.19</td>\n      <td>12.16</td>\n      <td>5.60</td>\n      <td>4.69</td>\n    </tr>\n    <tr>\n      <th>2570</th>\n      <td>202001</td>\n      <td>41550</td>\n      <td>41170</td>\n      <td>25.36</td>\n      <td>81.28</td>\n      <td>53.14</td>\n      <td>53.65</td>\n      <td>40.60</td>\n      <td>32.96</td>\n      <td>13.08</td>\n      <td>16.17</td>\n      <td>42.77</td>\n      <td>30.53</td>\n      <td>30.22</td>\n      <td>26.70</td>\n      <td>21.81</td>\n      <td>15.84</td>\n    </tr>\n    <tr>\n      <th>2571</th>\n      <td>202001</td>\n      <td>41550</td>\n      <td>41190</td>\n      <td>25.14</td>\n      <td>80.78</td>\n      <td>70.92</td>\n      <td>59.44</td>\n      <td>55.96</td>\n      <td>24.28</td>\n      <td>7.20</td>\n      <td>27.73</td>\n      <td>33.12</td>\n      <td>40.30</td>\n      <td>22.65</td>\n      <td>25.09</td>\n      <td>12.58</td>\n      <td>9.72</td>\n    </tr>\n    <tr>\n      <th>...</th>\n      <td>...</td>\n      <td>...</td>\n      <td>...</td>\n      <td>...</td>\n      <td>...</td>\n      <td>...</td>\n      <td>...</td>\n      <td>...</td>\n      <td>...</td>\n      <td>...</td>\n      <td>...</td>\n      <td>...</td>\n      <td>...</td>\n      <td>...</td>\n      <td>...</td>\n      <td>...</td>\n      <td>...</td>\n    </tr>\n    <tr>\n      <th>84998</th>\n      <td>202012</td>\n      <td>47750</td>\n      <td>41550</td>\n      <td>0.00</td>\n      <td>0.00</td>\n      <td>0.04</td>\n      <td>1.06</td>\n      <td>0.45</td>\n      <td>0.58</td>\n      <td>0.00</td>\n      <td>0.00</td>\n      <td>0.00</td>\n      <td>0.00</td>\n      <td>0.00</td>\n      <td>0.17</td>\n      <td>0.43</td>\n      <td>0.00</td>\n    </tr>\n    <tr>\n      <th>85029</th>\n      <td>202012</td>\n      <td>29110</td>\n      <td>41550</td>\n      <td>0.93</td>\n      <td>0.45</td>\n      <td>1.20</td>\n      <td>0.99</td>\n      <td>4.30</td>\n      <td>0.89</td>\n      <td>0.04</td>\n      <td>0.06</td>\n      <td>0.91</td>\n      <td>1.13</td>\n      <td>1.64</td>\n      <td>1.06</td>\n      <td>1.49</td>\n      <td>0.09</td>\n    </tr>\n    <tr>\n      <th>85060</th>\n      <td>202012</td>\n      <td>29140</td>\n      <td>41550</td>\n      <td>1.62</td>\n      <td>2.22</td>\n      <td>3.42</td>\n      <td>10.57</td>\n      <td>8.34</td>\n      <td>1.40</td>\n      <td>0.72</td>\n      <td>1.58</td>\n      <td>2.13</td>\n      <td>1.13</td>\n      <td>2.04</td>\n      <td>1.05</td>\n      <td>1.38</td>\n      <td>0.72</td>\n    </tr>\n    <tr>\n      <th>85091</th>\n      <td>202012</td>\n      <td>29155</td>\n      <td>41550</td>\n      <td>0.19</td>\n      <td>1.80</td>\n      <td>2.72</td>\n      <td>3.56</td>\n      <td>3.19</td>\n      <td>1.06</td>\n      <td>0.27</td>\n      <td>1.68</td>\n      <td>0.98</td>\n      <td>2.08</td>\n      <td>0.74</td>\n      <td>0.69</td>\n      <td>0.84</td>\n      <td>0.23</td>\n    </tr>\n    <tr>\n      <th>85103</th>\n      <td>202012</td>\n      <td>28140</td>\n      <td>41550</td>\n      <td>0.53</td>\n      <td>1.47</td>\n      <td>5.33</td>\n      <td>6.48</td>\n      <td>6.04</td>\n      <td>4.36</td>\n      <td>0.39</td>\n      <td>1.07</td>\n      <td>0.52</td>\n      <td>0.39</td>\n      <td>0.76</td>\n      <td>3.43</td>\n      <td>0.96</td>\n      <td>0.07</td>\n    </tr>\n  </tbody>\n</table>\n<p>3120 rows × 17 columns</p>\n</div>"
     },
     "execution_count": 5,
     "metadata": {},
     "output_type": "execute_result"
    }
   ]
  },
  {
   "cell_type": "code",
   "metadata": {
    "colab": {
     "base_uri": "https://localhost:8080/",
     "height": 635
    },
    "id": "-w1BZqU76MsF",
    "executionInfo": {
     "status": "ok",
     "timestamp": 1625664140223,
     "user_tz": -540,
     "elapsed": 440,
     "user": {
      "displayName": "Jg P",
      "photoUrl": "",
      "userId": "14743859658637873937"
     }
    },
    "outputId": "fe45ea69-45a0-499d-8771-b8a21e4d7bb9"
   },
   "source": [
    "# destination의 값이 출발지에 있다면 \"출\", 도착지에 있으면 \"입\"의 값을 가지는 출/입 열 생성\n",
    "data1['출/입']='출'\n",
    "data2['출/입']='입'\n",
    "data3= pd.concat([data1,data2])\n",
    "data3"
   ],
   "execution_count": 6,
   "outputs": [
    {
     "name": "stderr",
     "output_type": "stream",
     "text": [
      "<ipython-input-6-52232f82c203>:2: SettingWithCopyWarning: \n",
      "A value is trying to be set on a copy of a slice from a DataFrame.\n",
      "Try using .loc[row_indexer,col_indexer] = value instead\n",
      "\n",
      "See the caveats in the documentation: https://pandas.pydata.org/pandas-docs/stable/user_guide/indexing.html#returning-a-view-versus-a-copy\n",
      "  data1['출/입']='출'\n",
      "<ipython-input-6-52232f82c203>:3: SettingWithCopyWarning: \n",
      "A value is trying to be set on a copy of a slice from a DataFrame.\n",
      "Try using .loc[row_indexer,col_indexer] = value instead\n",
      "\n",
      "See the caveats in the documentation: https://pandas.pydata.org/pandas-docs/stable/user_guide/indexing.html#returning-a-view-versus-a-copy\n",
      "  data2['출/입']='입'\n"
     ]
    },
    {
     "data": {
      "text/plain": "           년월  출발지(야간체류지) 시군코드  도착지 시군코드  10대남성 유입인구  20대남성 유입인구  30대남성 유입인구  \\\n2567   202001            41550     41110      118.55      304.43      290.07   \n2568   202001            41550     41130       32.77      109.92      119.61   \n2569   202001            41550     41150        5.58       23.11       28.59   \n2570   202001            41550     41170       25.36       81.28       53.14   \n2571   202001            41550     41190       25.14       80.78       70.92   \n...       ...              ...       ...         ...         ...         ...   \n84998  202012            47750     41550        0.00        0.00        0.04   \n85029  202012            29110     41550        0.93        0.45        1.20   \n85060  202012            29140     41550        1.62        2.22        3.42   \n85091  202012            29155     41550        0.19        1.80        2.72   \n85103  202012            28140     41550        0.53        1.47        5.33   \n\n       40대남성 유입인구  50대남성 유입인구  60대남성 유입인구  70대남성 유입인구  10대여성 유입인구  20대여성 유입인구  \\\n2567       233.01      187.08       90.78       36.41      105.08      186.76   \n2568       139.45       88.22       60.15       21.05       47.36       69.42   \n2569        17.09       25.83        9.86        5.08        5.39       14.41   \n2570        53.65       40.60       32.96       13.08       16.17       42.77   \n2571        59.44       55.96       24.28        7.20       27.73       33.12   \n...           ...         ...         ...         ...         ...         ...   \n84998        1.06        0.45        0.58        0.00        0.00        0.00   \n85029        0.99        4.30        0.89        0.04        0.06        0.91   \n85060       10.57        8.34        1.40        0.72        1.58        2.13   \n85091        3.56        3.19        1.06        0.27        1.68        0.98   \n85103        6.48        6.04        4.36        0.39        1.07        0.52   \n\n       30대여성 유입인구  40대여성 유입인구  50대여성 유입인구  60대여성 유입인구  70대여성 유입인구 출/입  \n2567       132.80      122.16      123.35       85.00       66.32   출  \n2568        70.03       63.41       51.87       34.43       37.58   출  \n2569        13.98       10.19       12.16        5.60        4.69   출  \n2570        30.53       30.22       26.70       21.81       15.84   출  \n2571        40.30       22.65       25.09       12.58        9.72   출  \n...           ...         ...         ...         ...         ...  ..  \n84998        0.00        0.00        0.17        0.43        0.00   입  \n85029        1.13        1.64        1.06        1.49        0.09   입  \n85060        1.13        2.04        1.05        1.38        0.72   입  \n85091        2.08        0.74        0.69        0.84        0.23   입  \n85103        0.39        0.76        3.43        0.96        0.07   입  \n\n[3120 rows x 18 columns]",
      "text/html": "<div>\n<style scoped>\n    .dataframe tbody tr th:only-of-type {\n        vertical-align: middle;\n    }\n\n    .dataframe tbody tr th {\n        vertical-align: top;\n    }\n\n    .dataframe thead th {\n        text-align: right;\n    }\n</style>\n<table border=\"1\" class=\"dataframe\">\n  <thead>\n    <tr style=\"text-align: right;\">\n      <th></th>\n      <th>년월</th>\n      <th>출발지(야간체류지) 시군코드</th>\n      <th>도착지 시군코드</th>\n      <th>10대남성 유입인구</th>\n      <th>20대남성 유입인구</th>\n      <th>30대남성 유입인구</th>\n      <th>40대남성 유입인구</th>\n      <th>50대남성 유입인구</th>\n      <th>60대남성 유입인구</th>\n      <th>70대남성 유입인구</th>\n      <th>10대여성 유입인구</th>\n      <th>20대여성 유입인구</th>\n      <th>30대여성 유입인구</th>\n      <th>40대여성 유입인구</th>\n      <th>50대여성 유입인구</th>\n      <th>60대여성 유입인구</th>\n      <th>70대여성 유입인구</th>\n      <th>출/입</th>\n    </tr>\n  </thead>\n  <tbody>\n    <tr>\n      <th>2567</th>\n      <td>202001</td>\n      <td>41550</td>\n      <td>41110</td>\n      <td>118.55</td>\n      <td>304.43</td>\n      <td>290.07</td>\n      <td>233.01</td>\n      <td>187.08</td>\n      <td>90.78</td>\n      <td>36.41</td>\n      <td>105.08</td>\n      <td>186.76</td>\n      <td>132.80</td>\n      <td>122.16</td>\n      <td>123.35</td>\n      <td>85.00</td>\n      <td>66.32</td>\n      <td>출</td>\n    </tr>\n    <tr>\n      <th>2568</th>\n      <td>202001</td>\n      <td>41550</td>\n      <td>41130</td>\n      <td>32.77</td>\n      <td>109.92</td>\n      <td>119.61</td>\n      <td>139.45</td>\n      <td>88.22</td>\n      <td>60.15</td>\n      <td>21.05</td>\n      <td>47.36</td>\n      <td>69.42</td>\n      <td>70.03</td>\n      <td>63.41</td>\n      <td>51.87</td>\n      <td>34.43</td>\n      <td>37.58</td>\n      <td>출</td>\n    </tr>\n    <tr>\n      <th>2569</th>\n      <td>202001</td>\n      <td>41550</td>\n      <td>41150</td>\n      <td>5.58</td>\n      <td>23.11</td>\n      <td>28.59</td>\n      <td>17.09</td>\n      <td>25.83</td>\n      <td>9.86</td>\n      <td>5.08</td>\n      <td>5.39</td>\n      <td>14.41</td>\n      <td>13.98</td>\n      <td>10.19</td>\n      <td>12.16</td>\n      <td>5.60</td>\n      <td>4.69</td>\n      <td>출</td>\n    </tr>\n    <tr>\n      <th>2570</th>\n      <td>202001</td>\n      <td>41550</td>\n      <td>41170</td>\n      <td>25.36</td>\n      <td>81.28</td>\n      <td>53.14</td>\n      <td>53.65</td>\n      <td>40.60</td>\n      <td>32.96</td>\n      <td>13.08</td>\n      <td>16.17</td>\n      <td>42.77</td>\n      <td>30.53</td>\n      <td>30.22</td>\n      <td>26.70</td>\n      <td>21.81</td>\n      <td>15.84</td>\n      <td>출</td>\n    </tr>\n    <tr>\n      <th>2571</th>\n      <td>202001</td>\n      <td>41550</td>\n      <td>41190</td>\n      <td>25.14</td>\n      <td>80.78</td>\n      <td>70.92</td>\n      <td>59.44</td>\n      <td>55.96</td>\n      <td>24.28</td>\n      <td>7.20</td>\n      <td>27.73</td>\n      <td>33.12</td>\n      <td>40.30</td>\n      <td>22.65</td>\n      <td>25.09</td>\n      <td>12.58</td>\n      <td>9.72</td>\n      <td>출</td>\n    </tr>\n    <tr>\n      <th>...</th>\n      <td>...</td>\n      <td>...</td>\n      <td>...</td>\n      <td>...</td>\n      <td>...</td>\n      <td>...</td>\n      <td>...</td>\n      <td>...</td>\n      <td>...</td>\n      <td>...</td>\n      <td>...</td>\n      <td>...</td>\n      <td>...</td>\n      <td>...</td>\n      <td>...</td>\n      <td>...</td>\n      <td>...</td>\n      <td>...</td>\n    </tr>\n    <tr>\n      <th>84998</th>\n      <td>202012</td>\n      <td>47750</td>\n      <td>41550</td>\n      <td>0.00</td>\n      <td>0.00</td>\n      <td>0.04</td>\n      <td>1.06</td>\n      <td>0.45</td>\n      <td>0.58</td>\n      <td>0.00</td>\n      <td>0.00</td>\n      <td>0.00</td>\n      <td>0.00</td>\n      <td>0.00</td>\n      <td>0.17</td>\n      <td>0.43</td>\n      <td>0.00</td>\n      <td>입</td>\n    </tr>\n    <tr>\n      <th>85029</th>\n      <td>202012</td>\n      <td>29110</td>\n      <td>41550</td>\n      <td>0.93</td>\n      <td>0.45</td>\n      <td>1.20</td>\n      <td>0.99</td>\n      <td>4.30</td>\n      <td>0.89</td>\n      <td>0.04</td>\n      <td>0.06</td>\n      <td>0.91</td>\n      <td>1.13</td>\n      <td>1.64</td>\n      <td>1.06</td>\n      <td>1.49</td>\n      <td>0.09</td>\n      <td>입</td>\n    </tr>\n    <tr>\n      <th>85060</th>\n      <td>202012</td>\n      <td>29140</td>\n      <td>41550</td>\n      <td>1.62</td>\n      <td>2.22</td>\n      <td>3.42</td>\n      <td>10.57</td>\n      <td>8.34</td>\n      <td>1.40</td>\n      <td>0.72</td>\n      <td>1.58</td>\n      <td>2.13</td>\n      <td>1.13</td>\n      <td>2.04</td>\n      <td>1.05</td>\n      <td>1.38</td>\n      <td>0.72</td>\n      <td>입</td>\n    </tr>\n    <tr>\n      <th>85091</th>\n      <td>202012</td>\n      <td>29155</td>\n      <td>41550</td>\n      <td>0.19</td>\n      <td>1.80</td>\n      <td>2.72</td>\n      <td>3.56</td>\n      <td>3.19</td>\n      <td>1.06</td>\n      <td>0.27</td>\n      <td>1.68</td>\n      <td>0.98</td>\n      <td>2.08</td>\n      <td>0.74</td>\n      <td>0.69</td>\n      <td>0.84</td>\n      <td>0.23</td>\n      <td>입</td>\n    </tr>\n    <tr>\n      <th>85103</th>\n      <td>202012</td>\n      <td>28140</td>\n      <td>41550</td>\n      <td>0.53</td>\n      <td>1.47</td>\n      <td>5.33</td>\n      <td>6.48</td>\n      <td>6.04</td>\n      <td>4.36</td>\n      <td>0.39</td>\n      <td>1.07</td>\n      <td>0.52</td>\n      <td>0.39</td>\n      <td>0.76</td>\n      <td>3.43</td>\n      <td>0.96</td>\n      <td>0.07</td>\n      <td>입</td>\n    </tr>\n  </tbody>\n</table>\n<p>3120 rows × 18 columns</p>\n</div>"
     },
     "execution_count": 6,
     "metadata": {},
     "output_type": "execute_result"
    }
   ]
  },
  {
   "cell_type": "code",
   "metadata": {
    "colab": {
     "base_uri": "https://localhost:8080/"
    },
    "id": "0M7hlaBB6UJl",
    "executionInfo": {
     "status": "ok",
     "timestamp": 1625660624590,
     "user_tz": -540,
     "elapsed": 759,
     "user": {
      "displayName": "Jg P",
      "photoUrl": "",
      "userId": "14743859658637873937"
     }
    },
    "outputId": "d690ba7d-9533-4fca-ffeb-e8647fc85507"
   },
   "source": [
    "# 출발지 시군코드와 도착지 시군코드열 제거 / 단, destination 코드가 아닌 코드값을 가지는 지역코드 열 생성\n",
    "# data1.drop(columns=['출발지(야간체류지) 시군코드'], inplace=True)\n",
    "# data2.drop(columns=['도착지 시군코드'], inplace=True)"
   ],
   "execution_count": 7,
   "outputs": []
  },
  {
   "cell_type": "code",
   "metadata": {
    "colab": {
     "base_uri": "https://localhost:8080/",
     "height": 635
    },
    "id": "Y4N4Ya_y7Jwd",
    "executionInfo": {
     "status": "ok",
     "timestamp": 1625664142840,
     "user_tz": -540,
     "elapsed": 7,
     "user": {
      "displayName": "Jg P",
      "photoUrl": "",
      "userId": "14743859658637873937"
     }
    },
    "outputId": "61259ce9-6beb-4274-b40c-102d84fac4bd"
   },
   "source": [
    "data1['출발지(야간체류지) 시군코드']=0\n",
    "data2['도착지 시군코드']=0\n",
    "data3= pd.concat([data1,data2])\n",
    "data3['도착지 시군코드']=data3['도착지 시군코드']+data3['출발지(야간체류지) 시군코드']\n",
    "data3.drop(columns=['출발지(야간체류지) 시군코드'], inplace=True)\n",
    "data3=data3.rename(columns={'도착지 시군코드':'지역코드'})\n",
    "data3=data3[['년월', '지역코드', '출/입','10대남성 유입인구', '20대남성 유입인구', '30대남성 유입인구',\n",
    "       '40대남성 유입인구', '50대남성 유입인구', '60대남성 유입인구', '70대남성 유입인구', '10대여성 유입인구',\n",
    "       '20대여성 유입인구', '30대여성 유입인구', '40대여성 유입인구', '50대여성 유입인구', '60대여성 유입인구',\n",
    "       '70대여성 유입인구']]\n",
    "data3"
   ],
   "execution_count": 8,
   "outputs": [
    {
     "name": "stderr",
     "output_type": "stream",
     "text": [
      "<ipython-input-8-9d1f1de1339a>:1: SettingWithCopyWarning: \n",
      "A value is trying to be set on a copy of a slice from a DataFrame.\n",
      "Try using .loc[row_indexer,col_indexer] = value instead\n",
      "\n",
      "See the caveats in the documentation: https://pandas.pydata.org/pandas-docs/stable/user_guide/indexing.html#returning-a-view-versus-a-copy\n",
      "  data1['출발지(야간체류지) 시군코드']=0\n",
      "<ipython-input-8-9d1f1de1339a>:2: SettingWithCopyWarning: \n",
      "A value is trying to be set on a copy of a slice from a DataFrame.\n",
      "Try using .loc[row_indexer,col_indexer] = value instead\n",
      "\n",
      "See the caveats in the documentation: https://pandas.pydata.org/pandas-docs/stable/user_guide/indexing.html#returning-a-view-versus-a-copy\n",
      "  data2['도착지 시군코드']=0\n"
     ]
    },
    {
     "data": {
      "text/plain": "           년월   지역코드 출/입  10대남성 유입인구  20대남성 유입인구  30대남성 유입인구  40대남성 유입인구  \\\n2567   202001  41110   출      118.55      304.43      290.07      233.01   \n2568   202001  41130   출       32.77      109.92      119.61      139.45   \n2569   202001  41150   출        5.58       23.11       28.59       17.09   \n2570   202001  41170   출       25.36       81.28       53.14       53.65   \n2571   202001  41190   출       25.14       80.78       70.92       59.44   \n...       ...    ...  ..         ...         ...         ...         ...   \n84998  202012  47750   입        0.00        0.00        0.04        1.06   \n85029  202012  29110   입        0.93        0.45        1.20        0.99   \n85060  202012  29140   입        1.62        2.22        3.42       10.57   \n85091  202012  29155   입        0.19        1.80        2.72        3.56   \n85103  202012  28140   입        0.53        1.47        5.33        6.48   \n\n       50대남성 유입인구  60대남성 유입인구  70대남성 유입인구  10대여성 유입인구  20대여성 유입인구  30대여성 유입인구  \\\n2567       187.08       90.78       36.41      105.08      186.76      132.80   \n2568        88.22       60.15       21.05       47.36       69.42       70.03   \n2569        25.83        9.86        5.08        5.39       14.41       13.98   \n2570        40.60       32.96       13.08       16.17       42.77       30.53   \n2571        55.96       24.28        7.20       27.73       33.12       40.30   \n...           ...         ...         ...         ...         ...         ...   \n84998        0.45        0.58        0.00        0.00        0.00        0.00   \n85029        4.30        0.89        0.04        0.06        0.91        1.13   \n85060        8.34        1.40        0.72        1.58        2.13        1.13   \n85091        3.19        1.06        0.27        1.68        0.98        2.08   \n85103        6.04        4.36        0.39        1.07        0.52        0.39   \n\n       40대여성 유입인구  50대여성 유입인구  60대여성 유입인구  70대여성 유입인구  \n2567       122.16      123.35       85.00       66.32  \n2568        63.41       51.87       34.43       37.58  \n2569        10.19       12.16        5.60        4.69  \n2570        30.22       26.70       21.81       15.84  \n2571        22.65       25.09       12.58        9.72  \n...           ...         ...         ...         ...  \n84998        0.00        0.17        0.43        0.00  \n85029        1.64        1.06        1.49        0.09  \n85060        2.04        1.05        1.38        0.72  \n85091        0.74        0.69        0.84        0.23  \n85103        0.76        3.43        0.96        0.07  \n\n[3120 rows x 17 columns]",
      "text/html": "<div>\n<style scoped>\n    .dataframe tbody tr th:only-of-type {\n        vertical-align: middle;\n    }\n\n    .dataframe tbody tr th {\n        vertical-align: top;\n    }\n\n    .dataframe thead th {\n        text-align: right;\n    }\n</style>\n<table border=\"1\" class=\"dataframe\">\n  <thead>\n    <tr style=\"text-align: right;\">\n      <th></th>\n      <th>년월</th>\n      <th>지역코드</th>\n      <th>출/입</th>\n      <th>10대남성 유입인구</th>\n      <th>20대남성 유입인구</th>\n      <th>30대남성 유입인구</th>\n      <th>40대남성 유입인구</th>\n      <th>50대남성 유입인구</th>\n      <th>60대남성 유입인구</th>\n      <th>70대남성 유입인구</th>\n      <th>10대여성 유입인구</th>\n      <th>20대여성 유입인구</th>\n      <th>30대여성 유입인구</th>\n      <th>40대여성 유입인구</th>\n      <th>50대여성 유입인구</th>\n      <th>60대여성 유입인구</th>\n      <th>70대여성 유입인구</th>\n    </tr>\n  </thead>\n  <tbody>\n    <tr>\n      <th>2567</th>\n      <td>202001</td>\n      <td>41110</td>\n      <td>출</td>\n      <td>118.55</td>\n      <td>304.43</td>\n      <td>290.07</td>\n      <td>233.01</td>\n      <td>187.08</td>\n      <td>90.78</td>\n      <td>36.41</td>\n      <td>105.08</td>\n      <td>186.76</td>\n      <td>132.80</td>\n      <td>122.16</td>\n      <td>123.35</td>\n      <td>85.00</td>\n      <td>66.32</td>\n    </tr>\n    <tr>\n      <th>2568</th>\n      <td>202001</td>\n      <td>41130</td>\n      <td>출</td>\n      <td>32.77</td>\n      <td>109.92</td>\n      <td>119.61</td>\n      <td>139.45</td>\n      <td>88.22</td>\n      <td>60.15</td>\n      <td>21.05</td>\n      <td>47.36</td>\n      <td>69.42</td>\n      <td>70.03</td>\n      <td>63.41</td>\n      <td>51.87</td>\n      <td>34.43</td>\n      <td>37.58</td>\n    </tr>\n    <tr>\n      <th>2569</th>\n      <td>202001</td>\n      <td>41150</td>\n      <td>출</td>\n      <td>5.58</td>\n      <td>23.11</td>\n      <td>28.59</td>\n      <td>17.09</td>\n      <td>25.83</td>\n      <td>9.86</td>\n      <td>5.08</td>\n      <td>5.39</td>\n      <td>14.41</td>\n      <td>13.98</td>\n      <td>10.19</td>\n      <td>12.16</td>\n      <td>5.60</td>\n      <td>4.69</td>\n    </tr>\n    <tr>\n      <th>2570</th>\n      <td>202001</td>\n      <td>41170</td>\n      <td>출</td>\n      <td>25.36</td>\n      <td>81.28</td>\n      <td>53.14</td>\n      <td>53.65</td>\n      <td>40.60</td>\n      <td>32.96</td>\n      <td>13.08</td>\n      <td>16.17</td>\n      <td>42.77</td>\n      <td>30.53</td>\n      <td>30.22</td>\n      <td>26.70</td>\n      <td>21.81</td>\n      <td>15.84</td>\n    </tr>\n    <tr>\n      <th>2571</th>\n      <td>202001</td>\n      <td>41190</td>\n      <td>출</td>\n      <td>25.14</td>\n      <td>80.78</td>\n      <td>70.92</td>\n      <td>59.44</td>\n      <td>55.96</td>\n      <td>24.28</td>\n      <td>7.20</td>\n      <td>27.73</td>\n      <td>33.12</td>\n      <td>40.30</td>\n      <td>22.65</td>\n      <td>25.09</td>\n      <td>12.58</td>\n      <td>9.72</td>\n    </tr>\n    <tr>\n      <th>...</th>\n      <td>...</td>\n      <td>...</td>\n      <td>...</td>\n      <td>...</td>\n      <td>...</td>\n      <td>...</td>\n      <td>...</td>\n      <td>...</td>\n      <td>...</td>\n      <td>...</td>\n      <td>...</td>\n      <td>...</td>\n      <td>...</td>\n      <td>...</td>\n      <td>...</td>\n      <td>...</td>\n      <td>...</td>\n    </tr>\n    <tr>\n      <th>84998</th>\n      <td>202012</td>\n      <td>47750</td>\n      <td>입</td>\n      <td>0.00</td>\n      <td>0.00</td>\n      <td>0.04</td>\n      <td>1.06</td>\n      <td>0.45</td>\n      <td>0.58</td>\n      <td>0.00</td>\n      <td>0.00</td>\n      <td>0.00</td>\n      <td>0.00</td>\n      <td>0.00</td>\n      <td>0.17</td>\n      <td>0.43</td>\n      <td>0.00</td>\n    </tr>\n    <tr>\n      <th>85029</th>\n      <td>202012</td>\n      <td>29110</td>\n      <td>입</td>\n      <td>0.93</td>\n      <td>0.45</td>\n      <td>1.20</td>\n      <td>0.99</td>\n      <td>4.30</td>\n      <td>0.89</td>\n      <td>0.04</td>\n      <td>0.06</td>\n      <td>0.91</td>\n      <td>1.13</td>\n      <td>1.64</td>\n      <td>1.06</td>\n      <td>1.49</td>\n      <td>0.09</td>\n    </tr>\n    <tr>\n      <th>85060</th>\n      <td>202012</td>\n      <td>29140</td>\n      <td>입</td>\n      <td>1.62</td>\n      <td>2.22</td>\n      <td>3.42</td>\n      <td>10.57</td>\n      <td>8.34</td>\n      <td>1.40</td>\n      <td>0.72</td>\n      <td>1.58</td>\n      <td>2.13</td>\n      <td>1.13</td>\n      <td>2.04</td>\n      <td>1.05</td>\n      <td>1.38</td>\n      <td>0.72</td>\n    </tr>\n    <tr>\n      <th>85091</th>\n      <td>202012</td>\n      <td>29155</td>\n      <td>입</td>\n      <td>0.19</td>\n      <td>1.80</td>\n      <td>2.72</td>\n      <td>3.56</td>\n      <td>3.19</td>\n      <td>1.06</td>\n      <td>0.27</td>\n      <td>1.68</td>\n      <td>0.98</td>\n      <td>2.08</td>\n      <td>0.74</td>\n      <td>0.69</td>\n      <td>0.84</td>\n      <td>0.23</td>\n    </tr>\n    <tr>\n      <th>85103</th>\n      <td>202012</td>\n      <td>28140</td>\n      <td>입</td>\n      <td>0.53</td>\n      <td>1.47</td>\n      <td>5.33</td>\n      <td>6.48</td>\n      <td>6.04</td>\n      <td>4.36</td>\n      <td>0.39</td>\n      <td>1.07</td>\n      <td>0.52</td>\n      <td>0.39</td>\n      <td>0.76</td>\n      <td>3.43</td>\n      <td>0.96</td>\n      <td>0.07</td>\n    </tr>\n  </tbody>\n</table>\n<p>3120 rows × 17 columns</p>\n</div>"
     },
     "execution_count": 8,
     "metadata": {},
     "output_type": "execute_result"
    }
   ]
  },
  {
   "cell_type": "code",
   "metadata": {
    "id": "jzcjfQNR7u8X",
    "executionInfo": {
     "status": "ok",
     "timestamp": 1625664146537,
     "user_tz": -540,
     "elapsed": 406,
     "user": {
      "displayName": "Jg P",
      "photoUrl": "",
      "userId": "14743859658637873937"
     }
    }
   },
   "source": [
    "filename = '유동인구_'+str(destination)\n",
    "data3.to_csv(filename+\".csv\", index = None)"
   ],
   "execution_count": 9,
   "outputs": []
  },
  {
   "cell_type": "markdown",
   "metadata": {
    "id": "EnTPPOj_8SVm"
   },
   "source": [
    "시각화"
   ]
  },
  {
   "cell_type": "code",
   "metadata": {
    "colab": {
     "base_uri": "https://localhost:8080/",
     "height": 562
    },
    "id": "2RwBLX9p8R4y",
    "executionInfo": {
     "status": "ok",
     "timestamp": 1625664224960,
     "user_tz": -540,
     "elapsed": 420,
     "user": {
      "displayName": "Jg P",
      "photoUrl": "",
      "userId": "14743859658637873937"
     }
    },
    "outputId": "0aa88945-0f72-4423-b897-5b3b7a0747c0"
   },
   "source": [
    "# 시군코드 - 도시명 연결\n",
    "condition_list = [\n",
    "    (return_data['출발지'] == 11),\n",
    "    (return_data['출발지'] == 26),\n",
    "    (return_data['출발지'] == 27),\n",
    "    (return_data['출발지'] == 28),\n",
    "    (return_data['출발지'] == 29),\n",
    "    (return_data['출발지'] == 30),\n",
    "    (return_data['출발지'] == 31),\n",
    "    (return_data['출발지'] == 36),\n",
    "    (return_data['출발지'] == 41),\n",
    "    (return_data['출발지'] == 42),\n",
    "    (return_data['출발지'] == 43),\n",
    "    (return_data['출발지'] == 44),\n",
    "    (return_data['출발지'] == 45),\n",
    "    (return_data['출발지'] == 46),\n",
    "    (return_data['출발지'] == 47),\n",
    "    (return_data['출발지'] == 48),\n",
    "    (return_data['출발지'] == 50)\n",
    "]\n",
    "city_list = ['서울특별시', '부산광역시', '대구광역시', '인천광역시',\n",
    "               '광주광역시', '대전광역시', '울산광역시', '세종특별자치시',\n",
    "               '경기도', '강원도', '충청북도', '충청남도', '전라북도',\n",
    "               '전라남도', '경상북도', '경상남도', '제주특별자치도']\n",
    "\n",
    "lat_list = [37.56, 35.16, 35.87, 37.46, 35.17, 36.37, 35.56, 36.25,\n",
    "            37.59, 37.86, 36.63, 36.53, 35.72, 34.69, 36.55, 35.18, 33.57]\n",
    "\n",
    "long_list = [126.90, 129.00, 128.53, 126.60, 126.80, 127.35, 129.28,\n",
    "             127.24, 126.53, 127.68, 127.68, 126.51, 126.64, 125.93,\n",
    "             129.28, 127.83, 126.29]\n",
    "\n",
    "return_data['ADDR'] = np.select(condition_list, city_list, default='Not Specified')\n",
    "return_data['lat'] = np.select(condition_list, lat_list, default='Not Specified')\n",
    "return_data['long'] = np.select(condition_list, long_list, default='Not Specified')\n",
    "\n",
    "return_data # 확인용 출력"
   ],
   "execution_count": 10,
   "outputs": [
    {
     "data": {
      "text/plain": "    출발지  40대남성 유입인구     ADDR    lat    long\n0    11     1338.59    서울특별시  37.56   126.9\n1    26       88.14    부산광역시  35.16   129.0\n2    27       81.27    대구광역시  35.87  128.53\n3    28      402.61    인천광역시  37.46   126.6\n4    29       51.29    광주광역시  35.17   126.8\n5    30      164.13    대전광역시  36.37  127.35\n6    31       25.94    울산광역시  35.56  129.28\n7    36       46.19  세종특별자치시  36.25  127.24\n8    41    22778.07      경기도  37.59  126.53\n9    42       95.58      강원도  37.86  127.68\n10   43      558.85     충청북도  36.63  127.68\n11   44     1176.97     충청남도  36.53  126.51\n12   45      112.82     전라북도  35.72  126.64\n13   46       51.92     전라남도  34.69  125.93\n14   47      103.79     경상북도  36.55  129.28\n15   48      113.55     경상남도  35.18  127.83\n16   50       24.78  제주특별자치도  33.57  126.29",
      "text/html": "<div>\n<style scoped>\n    .dataframe tbody tr th:only-of-type {\n        vertical-align: middle;\n    }\n\n    .dataframe tbody tr th {\n        vertical-align: top;\n    }\n\n    .dataframe thead th {\n        text-align: right;\n    }\n</style>\n<table border=\"1\" class=\"dataframe\">\n  <thead>\n    <tr style=\"text-align: right;\">\n      <th></th>\n      <th>출발지</th>\n      <th>40대남성 유입인구</th>\n      <th>ADDR</th>\n      <th>lat</th>\n      <th>long</th>\n    </tr>\n  </thead>\n  <tbody>\n    <tr>\n      <th>0</th>\n      <td>11</td>\n      <td>1338.59</td>\n      <td>서울특별시</td>\n      <td>37.56</td>\n      <td>126.9</td>\n    </tr>\n    <tr>\n      <th>1</th>\n      <td>26</td>\n      <td>88.14</td>\n      <td>부산광역시</td>\n      <td>35.16</td>\n      <td>129.0</td>\n    </tr>\n    <tr>\n      <th>2</th>\n      <td>27</td>\n      <td>81.27</td>\n      <td>대구광역시</td>\n      <td>35.87</td>\n      <td>128.53</td>\n    </tr>\n    <tr>\n      <th>3</th>\n      <td>28</td>\n      <td>402.61</td>\n      <td>인천광역시</td>\n      <td>37.46</td>\n      <td>126.6</td>\n    </tr>\n    <tr>\n      <th>4</th>\n      <td>29</td>\n      <td>51.29</td>\n      <td>광주광역시</td>\n      <td>35.17</td>\n      <td>126.8</td>\n    </tr>\n    <tr>\n      <th>5</th>\n      <td>30</td>\n      <td>164.13</td>\n      <td>대전광역시</td>\n      <td>36.37</td>\n      <td>127.35</td>\n    </tr>\n    <tr>\n      <th>6</th>\n      <td>31</td>\n      <td>25.94</td>\n      <td>울산광역시</td>\n      <td>35.56</td>\n      <td>129.28</td>\n    </tr>\n    <tr>\n      <th>7</th>\n      <td>36</td>\n      <td>46.19</td>\n      <td>세종특별자치시</td>\n      <td>36.25</td>\n      <td>127.24</td>\n    </tr>\n    <tr>\n      <th>8</th>\n      <td>41</td>\n      <td>22778.07</td>\n      <td>경기도</td>\n      <td>37.59</td>\n      <td>126.53</td>\n    </tr>\n    <tr>\n      <th>9</th>\n      <td>42</td>\n      <td>95.58</td>\n      <td>강원도</td>\n      <td>37.86</td>\n      <td>127.68</td>\n    </tr>\n    <tr>\n      <th>10</th>\n      <td>43</td>\n      <td>558.85</td>\n      <td>충청북도</td>\n      <td>36.63</td>\n      <td>127.68</td>\n    </tr>\n    <tr>\n      <th>11</th>\n      <td>44</td>\n      <td>1176.97</td>\n      <td>충청남도</td>\n      <td>36.53</td>\n      <td>126.51</td>\n    </tr>\n    <tr>\n      <th>12</th>\n      <td>45</td>\n      <td>112.82</td>\n      <td>전라북도</td>\n      <td>35.72</td>\n      <td>126.64</td>\n    </tr>\n    <tr>\n      <th>13</th>\n      <td>46</td>\n      <td>51.92</td>\n      <td>전라남도</td>\n      <td>34.69</td>\n      <td>125.93</td>\n    </tr>\n    <tr>\n      <th>14</th>\n      <td>47</td>\n      <td>103.79</td>\n      <td>경상북도</td>\n      <td>36.55</td>\n      <td>129.28</td>\n    </tr>\n    <tr>\n      <th>15</th>\n      <td>48</td>\n      <td>113.55</td>\n      <td>경상남도</td>\n      <td>35.18</td>\n      <td>127.83</td>\n    </tr>\n    <tr>\n      <th>16</th>\n      <td>50</td>\n      <td>24.78</td>\n      <td>제주특별자치도</td>\n      <td>33.57</td>\n      <td>126.29</td>\n    </tr>\n  </tbody>\n</table>\n</div>"
     },
     "execution_count": 10,
     "metadata": {},
     "output_type": "execute_result"
    }
   ]
  },
  {
   "cell_type": "code",
   "metadata": {
    "colab": {
     "base_uri": "https://localhost:8080/",
     "height": 562
    },
    "id": "iUMNoDuD8o07",
    "executionInfo": {
     "status": "ok",
     "timestamp": 1625664227912,
     "user_tz": -540,
     "elapsed": 555,
     "user": {
      "displayName": "Jg P",
      "photoUrl": "",
      "userId": "14743859658637873937"
     }
    },
    "outputId": "df31aab9-485c-4d49-d8c2-5ee9a8ba4684"
   },
   "source": [
    "# 가공된 DataFrame 정렬\n",
    "return_data_sorted = return_data.sort_values(by=[check_column], ascending=True)\n",
    "return_data_sorted = return_data_sorted.reset_index()\n",
    "return_data_sorted = return_data_sorted.drop('index', axis=1)\n",
    "return_data_sorted #확인용 출력"
   ],
   "execution_count": 11,
   "outputs": [
    {
     "data": {
      "text/plain": "    출발지  40대남성 유입인구     ADDR    lat    long\n0    50       24.78  제주특별자치도  33.57  126.29\n1    31       25.94    울산광역시  35.56  129.28\n2    36       46.19  세종특별자치시  36.25  127.24\n3    29       51.29    광주광역시  35.17   126.8\n4    46       51.92     전라남도  34.69  125.93\n5    27       81.27    대구광역시  35.87  128.53\n6    26       88.14    부산광역시  35.16   129.0\n7    42       95.58      강원도  37.86  127.68\n8    47      103.79     경상북도  36.55  129.28\n9    45      112.82     전라북도  35.72  126.64\n10   48      113.55     경상남도  35.18  127.83\n11   30      164.13    대전광역시  36.37  127.35\n12   28      402.61    인천광역시  37.46   126.6\n13   43      558.85     충청북도  36.63  127.68\n14   44     1176.97     충청남도  36.53  126.51\n15   11     1338.59    서울특별시  37.56   126.9\n16   41    22778.07      경기도  37.59  126.53",
      "text/html": "<div>\n<style scoped>\n    .dataframe tbody tr th:only-of-type {\n        vertical-align: middle;\n    }\n\n    .dataframe tbody tr th {\n        vertical-align: top;\n    }\n\n    .dataframe thead th {\n        text-align: right;\n    }\n</style>\n<table border=\"1\" class=\"dataframe\">\n  <thead>\n    <tr style=\"text-align: right;\">\n      <th></th>\n      <th>출발지</th>\n      <th>40대남성 유입인구</th>\n      <th>ADDR</th>\n      <th>lat</th>\n      <th>long</th>\n    </tr>\n  </thead>\n  <tbody>\n    <tr>\n      <th>0</th>\n      <td>50</td>\n      <td>24.78</td>\n      <td>제주특별자치도</td>\n      <td>33.57</td>\n      <td>126.29</td>\n    </tr>\n    <tr>\n      <th>1</th>\n      <td>31</td>\n      <td>25.94</td>\n      <td>울산광역시</td>\n      <td>35.56</td>\n      <td>129.28</td>\n    </tr>\n    <tr>\n      <th>2</th>\n      <td>36</td>\n      <td>46.19</td>\n      <td>세종특별자치시</td>\n      <td>36.25</td>\n      <td>127.24</td>\n    </tr>\n    <tr>\n      <th>3</th>\n      <td>29</td>\n      <td>51.29</td>\n      <td>광주광역시</td>\n      <td>35.17</td>\n      <td>126.8</td>\n    </tr>\n    <tr>\n      <th>4</th>\n      <td>46</td>\n      <td>51.92</td>\n      <td>전라남도</td>\n      <td>34.69</td>\n      <td>125.93</td>\n    </tr>\n    <tr>\n      <th>5</th>\n      <td>27</td>\n      <td>81.27</td>\n      <td>대구광역시</td>\n      <td>35.87</td>\n      <td>128.53</td>\n    </tr>\n    <tr>\n      <th>6</th>\n      <td>26</td>\n      <td>88.14</td>\n      <td>부산광역시</td>\n      <td>35.16</td>\n      <td>129.0</td>\n    </tr>\n    <tr>\n      <th>7</th>\n      <td>42</td>\n      <td>95.58</td>\n      <td>강원도</td>\n      <td>37.86</td>\n      <td>127.68</td>\n    </tr>\n    <tr>\n      <th>8</th>\n      <td>47</td>\n      <td>103.79</td>\n      <td>경상북도</td>\n      <td>36.55</td>\n      <td>129.28</td>\n    </tr>\n    <tr>\n      <th>9</th>\n      <td>45</td>\n      <td>112.82</td>\n      <td>전라북도</td>\n      <td>35.72</td>\n      <td>126.64</td>\n    </tr>\n    <tr>\n      <th>10</th>\n      <td>48</td>\n      <td>113.55</td>\n      <td>경상남도</td>\n      <td>35.18</td>\n      <td>127.83</td>\n    </tr>\n    <tr>\n      <th>11</th>\n      <td>30</td>\n      <td>164.13</td>\n      <td>대전광역시</td>\n      <td>36.37</td>\n      <td>127.35</td>\n    </tr>\n    <tr>\n      <th>12</th>\n      <td>28</td>\n      <td>402.61</td>\n      <td>인천광역시</td>\n      <td>37.46</td>\n      <td>126.6</td>\n    </tr>\n    <tr>\n      <th>13</th>\n      <td>43</td>\n      <td>558.85</td>\n      <td>충청북도</td>\n      <td>36.63</td>\n      <td>127.68</td>\n    </tr>\n    <tr>\n      <th>14</th>\n      <td>44</td>\n      <td>1176.97</td>\n      <td>충청남도</td>\n      <td>36.53</td>\n      <td>126.51</td>\n    </tr>\n    <tr>\n      <th>15</th>\n      <td>11</td>\n      <td>1338.59</td>\n      <td>서울특별시</td>\n      <td>37.56</td>\n      <td>126.9</td>\n    </tr>\n    <tr>\n      <th>16</th>\n      <td>41</td>\n      <td>22778.07</td>\n      <td>경기도</td>\n      <td>37.59</td>\n      <td>126.53</td>\n    </tr>\n  </tbody>\n</table>\n</div>"
     },
     "execution_count": 11,
     "metadata": {},
     "output_type": "execute_result"
    }
   ]
  },
  {
   "cell_type": "code",
   "metadata": {
    "id": "Hz6wyytV8q3y",
    "executionInfo": {
     "status": "ok",
     "timestamp": 1625664233551,
     "user_tz": -540,
     "elapsed": 462,
     "user": {
      "displayName": "Jg P",
      "photoUrl": "",
      "userId": "14743859658637873937"
     }
    }
   },
   "source": [
    "# folium을 이용하여 지도 핸들링\n",
    "map = folium.Map(location=[35.38, 127.51], zoom_start=6)"
   ],
   "execution_count": 12,
   "outputs": []
  },
  {
   "cell_type": "code",
   "metadata": {
    "colab": {
     "base_uri": "https://localhost:8080/",
     "height": 385
    },
    "id": "isTIjucw857f",
    "executionInfo": {
     "status": "error",
     "timestamp": 1625664235779,
     "user_tz": -540,
     "elapsed": 424,
     "user": {
      "displayName": "Jg P",
      "photoUrl": "",
      "userId": "14743859658637873937"
     }
    },
    "outputId": "2ef0c8b4-302a-4de7-d0fd-ca94364f85df"
   },
   "source": [
    "# Circle Marker로 지도에 아이콘 표시\n",
    "cnt=0\n",
    "\n",
    "for lat, long, addr, fp in zip(lat_list, long_list, return_data['ADDR'], return_data[check_column]):\n",
    "    cnt += 1\n",
    "    folium.CircleMarker(\n",
    "        location=[lat, long],\n",
    "        radius=5 + cnt,\n",
    "        fill=True,\n",
    "        fill_opacity=0.3,\n",
    "        popup=(addr, fp)\n",
    "    ).add_to(map)\n",
    "\n",
    "map"
   ],
   "execution_count": 13,
   "outputs": [
    {
     "data": {
      "text/plain": "<folium.folium.Map at 0x143fea520>",
      "text/html": "<div style=\"width:100%;\"><div style=\"position:relative;width:100%;height:0;padding-bottom:60%;\"><span style=\"color:#565656\">Make this Notebook Trusted to load map: File -> Trust Notebook</span><iframe src=\"about:blank\" style=\"position:absolute;width:100%;height:100%;left:0;top:0;border:none !important;\" data-html=%3C%21DOCTYPE%20html%3E%0A%3Chead%3E%20%20%20%20%0A%20%20%20%20%3Cmeta%20http-equiv%3D%22content-type%22%20content%3D%22text/html%3B%20charset%3DUTF-8%22%20/%3E%0A%20%20%20%20%0A%20%20%20%20%20%20%20%20%3Cscript%3E%0A%20%20%20%20%20%20%20%20%20%20%20%20L_NO_TOUCH%20%3D%20false%3B%0A%20%20%20%20%20%20%20%20%20%20%20%20L_DISABLE_3D%20%3D%20false%3B%0A%20%20%20%20%20%20%20%20%3C/script%3E%0A%20%20%20%20%0A%20%20%20%20%3Cstyle%3Ehtml%2C%20body%20%7Bwidth%3A%20100%25%3Bheight%3A%20100%25%3Bmargin%3A%200%3Bpadding%3A%200%3B%7D%3C/style%3E%0A%20%20%20%20%3Cstyle%3E%23map%20%7Bposition%3Aabsolute%3Btop%3A0%3Bbottom%3A0%3Bright%3A0%3Bleft%3A0%3B%7D%3C/style%3E%0A%20%20%20%20%3Cscript%20src%3D%22https%3A//cdn.jsdelivr.net/npm/leaflet%401.6.0/dist/leaflet.js%22%3E%3C/script%3E%0A%20%20%20%20%3Cscript%20src%3D%22https%3A//code.jquery.com/jquery-1.12.4.min.js%22%3E%3C/script%3E%0A%20%20%20%20%3Cscript%20src%3D%22https%3A//maxcdn.bootstrapcdn.com/bootstrap/3.2.0/js/bootstrap.min.js%22%3E%3C/script%3E%0A%20%20%20%20%3Cscript%20src%3D%22https%3A//cdnjs.cloudflare.com/ajax/libs/Leaflet.awesome-markers/2.0.2/leaflet.awesome-markers.js%22%3E%3C/script%3E%0A%20%20%20%20%3Clink%20rel%3D%22stylesheet%22%20href%3D%22https%3A//cdn.jsdelivr.net/npm/leaflet%401.6.0/dist/leaflet.css%22/%3E%0A%20%20%20%20%3Clink%20rel%3D%22stylesheet%22%20href%3D%22https%3A//maxcdn.bootstrapcdn.com/bootstrap/3.2.0/css/bootstrap.min.css%22/%3E%0A%20%20%20%20%3Clink%20rel%3D%22stylesheet%22%20href%3D%22https%3A//maxcdn.bootstrapcdn.com/bootstrap/3.2.0/css/bootstrap-theme.min.css%22/%3E%0A%20%20%20%20%3Clink%20rel%3D%22stylesheet%22%20href%3D%22https%3A//maxcdn.bootstrapcdn.com/font-awesome/4.6.3/css/font-awesome.min.css%22/%3E%0A%20%20%20%20%3Clink%20rel%3D%22stylesheet%22%20href%3D%22https%3A//cdnjs.cloudflare.com/ajax/libs/Leaflet.awesome-markers/2.0.2/leaflet.awesome-markers.css%22/%3E%0A%20%20%20%20%3Clink%20rel%3D%22stylesheet%22%20href%3D%22https%3A//cdn.jsdelivr.net/gh/python-visualization/folium/folium/templates/leaflet.awesome.rotate.min.css%22/%3E%0A%20%20%20%20%0A%20%20%20%20%20%20%20%20%20%20%20%20%3Cmeta%20name%3D%22viewport%22%20content%3D%22width%3Ddevice-width%2C%0A%20%20%20%20%20%20%20%20%20%20%20%20%20%20%20%20initial-scale%3D1.0%2C%20maximum-scale%3D1.0%2C%20user-scalable%3Dno%22%20/%3E%0A%20%20%20%20%20%20%20%20%20%20%20%20%3Cstyle%3E%0A%20%20%20%20%20%20%20%20%20%20%20%20%20%20%20%20%23map_d70ceb26c33146ab808e907ba057a81f%20%7B%0A%20%20%20%20%20%20%20%20%20%20%20%20%20%20%20%20%20%20%20%20position%3A%20relative%3B%0A%20%20%20%20%20%20%20%20%20%20%20%20%20%20%20%20%20%20%20%20width%3A%20100.0%25%3B%0A%20%20%20%20%20%20%20%20%20%20%20%20%20%20%20%20%20%20%20%20height%3A%20100.0%25%3B%0A%20%20%20%20%20%20%20%20%20%20%20%20%20%20%20%20%20%20%20%20left%3A%200.0%25%3B%0A%20%20%20%20%20%20%20%20%20%20%20%20%20%20%20%20%20%20%20%20top%3A%200.0%25%3B%0A%20%20%20%20%20%20%20%20%20%20%20%20%20%20%20%20%7D%0A%20%20%20%20%20%20%20%20%20%20%20%20%3C/style%3E%0A%20%20%20%20%20%20%20%20%0A%3C/head%3E%0A%3Cbody%3E%20%20%20%20%0A%20%20%20%20%0A%20%20%20%20%20%20%20%20%20%20%20%20%3Cdiv%20class%3D%22folium-map%22%20id%3D%22map_d70ceb26c33146ab808e907ba057a81f%22%20%3E%3C/div%3E%0A%20%20%20%20%20%20%20%20%0A%3C/body%3E%0A%3Cscript%3E%20%20%20%20%0A%20%20%20%20%0A%20%20%20%20%20%20%20%20%20%20%20%20var%20map_d70ceb26c33146ab808e907ba057a81f%20%3D%20L.map%28%0A%20%20%20%20%20%20%20%20%20%20%20%20%20%20%20%20%22map_d70ceb26c33146ab808e907ba057a81f%22%2C%0A%20%20%20%20%20%20%20%20%20%20%20%20%20%20%20%20%7B%0A%20%20%20%20%20%20%20%20%20%20%20%20%20%20%20%20%20%20%20%20center%3A%20%5B35.38%2C%20127.51%5D%2C%0A%20%20%20%20%20%20%20%20%20%20%20%20%20%20%20%20%20%20%20%20crs%3A%20L.CRS.EPSG3857%2C%0A%20%20%20%20%20%20%20%20%20%20%20%20%20%20%20%20%20%20%20%20zoom%3A%206%2C%0A%20%20%20%20%20%20%20%20%20%20%20%20%20%20%20%20%20%20%20%20zoomControl%3A%20true%2C%0A%20%20%20%20%20%20%20%20%20%20%20%20%20%20%20%20%20%20%20%20preferCanvas%3A%20false%2C%0A%20%20%20%20%20%20%20%20%20%20%20%20%20%20%20%20%7D%0A%20%20%20%20%20%20%20%20%20%20%20%20%29%3B%0A%0A%20%20%20%20%20%20%20%20%20%20%20%20%0A%0A%20%20%20%20%20%20%20%20%0A%20%20%20%20%0A%20%20%20%20%20%20%20%20%20%20%20%20var%20tile_layer_181fe454c02d4a5c9b433579fbf33273%20%3D%20L.tileLayer%28%0A%20%20%20%20%20%20%20%20%20%20%20%20%20%20%20%20%22https%3A//%7Bs%7D.tile.openstreetmap.org/%7Bz%7D/%7Bx%7D/%7By%7D.png%22%2C%0A%20%20%20%20%20%20%20%20%20%20%20%20%20%20%20%20%7B%22attribution%22%3A%20%22Data%20by%20%5Cu0026copy%3B%20%5Cu003ca%20href%3D%5C%22http%3A//openstreetmap.org%5C%22%5Cu003eOpenStreetMap%5Cu003c/a%5Cu003e%2C%20under%20%5Cu003ca%20href%3D%5C%22http%3A//www.openstreetmap.org/copyright%5C%22%5Cu003eODbL%5Cu003c/a%5Cu003e.%22%2C%20%22detectRetina%22%3A%20false%2C%20%22maxNativeZoom%22%3A%2018%2C%20%22maxZoom%22%3A%2018%2C%20%22minZoom%22%3A%200%2C%20%22noWrap%22%3A%20false%2C%20%22opacity%22%3A%201%2C%20%22subdomains%22%3A%20%22abc%22%2C%20%22tms%22%3A%20false%7D%0A%20%20%20%20%20%20%20%20%20%20%20%20%29.addTo%28map_d70ceb26c33146ab808e907ba057a81f%29%3B%0A%20%20%20%20%20%20%20%20%0A%20%20%20%20%0A%20%20%20%20%20%20%20%20%20%20%20%20var%20circle_marker_d4f05ac17547497fa2a42aac0368f221%20%3D%20L.circleMarker%28%0A%20%20%20%20%20%20%20%20%20%20%20%20%20%20%20%20%5B37.56%2C%20126.9%5D%2C%0A%20%20%20%20%20%20%20%20%20%20%20%20%20%20%20%20%7B%22bubblingMouseEvents%22%3A%20true%2C%20%22color%22%3A%20%22%233388ff%22%2C%20%22dashArray%22%3A%20null%2C%20%22dashOffset%22%3A%20null%2C%20%22fill%22%3A%20true%2C%20%22fillColor%22%3A%20%22%233388ff%22%2C%20%22fillOpacity%22%3A%200.3%2C%20%22fillRule%22%3A%20%22evenodd%22%2C%20%22lineCap%22%3A%20%22round%22%2C%20%22lineJoin%22%3A%20%22round%22%2C%20%22opacity%22%3A%201.0%2C%20%22radius%22%3A%206%2C%20%22stroke%22%3A%20true%2C%20%22weight%22%3A%203%7D%0A%20%20%20%20%20%20%20%20%20%20%20%20%29.addTo%28map_d70ceb26c33146ab808e907ba057a81f%29%3B%0A%20%20%20%20%20%20%20%20%0A%20%20%20%20%0A%20%20%20%20%20%20%20%20var%20popup_c76088ee1bcb4f5a86c216fd5f98832b%20%3D%20L.popup%28%7B%22maxWidth%22%3A%20%22100%25%22%7D%29%3B%0A%0A%20%20%20%20%20%20%20%20%0A%20%20%20%20%20%20%20%20%20%20%20%20var%20html_73ce2c57e7a5426b8ee790cb16dfe137%20%3D%20%24%28%60%3Cdiv%20id%3D%22html_73ce2c57e7a5426b8ee790cb16dfe137%22%20style%3D%22width%3A%20100.0%25%3B%20height%3A%20100.0%25%3B%22%3E%28%27%EC%84%9C%EC%9A%B8%ED%8A%B9%EB%B3%84%EC%8B%9C%27%2C%201338.5899999999997%29%3C/div%3E%60%29%5B0%5D%3B%0A%20%20%20%20%20%20%20%20%20%20%20%20popup_c76088ee1bcb4f5a86c216fd5f98832b.setContent%28html_73ce2c57e7a5426b8ee790cb16dfe137%29%3B%0A%20%20%20%20%20%20%20%20%0A%0A%20%20%20%20%20%20%20%20circle_marker_d4f05ac17547497fa2a42aac0368f221.bindPopup%28popup_c76088ee1bcb4f5a86c216fd5f98832b%29%0A%20%20%20%20%20%20%20%20%3B%0A%0A%20%20%20%20%20%20%20%20%0A%20%20%20%20%0A%20%20%20%20%0A%20%20%20%20%20%20%20%20%20%20%20%20var%20circle_marker_aecf8b70173842d59753b4e120ad87ce%20%3D%20L.circleMarker%28%0A%20%20%20%20%20%20%20%20%20%20%20%20%20%20%20%20%5B35.16%2C%20129.0%5D%2C%0A%20%20%20%20%20%20%20%20%20%20%20%20%20%20%20%20%7B%22bubblingMouseEvents%22%3A%20true%2C%20%22color%22%3A%20%22%233388ff%22%2C%20%22dashArray%22%3A%20null%2C%20%22dashOffset%22%3A%20null%2C%20%22fill%22%3A%20true%2C%20%22fillColor%22%3A%20%22%233388ff%22%2C%20%22fillOpacity%22%3A%200.3%2C%20%22fillRule%22%3A%20%22evenodd%22%2C%20%22lineCap%22%3A%20%22round%22%2C%20%22lineJoin%22%3A%20%22round%22%2C%20%22opacity%22%3A%201.0%2C%20%22radius%22%3A%207%2C%20%22stroke%22%3A%20true%2C%20%22weight%22%3A%203%7D%0A%20%20%20%20%20%20%20%20%20%20%20%20%29.addTo%28map_d70ceb26c33146ab808e907ba057a81f%29%3B%0A%20%20%20%20%20%20%20%20%0A%20%20%20%20%0A%20%20%20%20%20%20%20%20var%20popup_62ccdd2a1fea49d886d16ae5c9a7f419%20%3D%20L.popup%28%7B%22maxWidth%22%3A%20%22100%25%22%7D%29%3B%0A%0A%20%20%20%20%20%20%20%20%0A%20%20%20%20%20%20%20%20%20%20%20%20var%20html_71634e98635b4f8eb056e6ab1a1ea2f2%20%3D%20%24%28%60%3Cdiv%20id%3D%22html_71634e98635b4f8eb056e6ab1a1ea2f2%22%20style%3D%22width%3A%20100.0%25%3B%20height%3A%20100.0%25%3B%22%3E%28%27%EB%B6%80%EC%82%B0%EA%B4%91%EC%97%AD%EC%8B%9C%27%2C%2088.14%29%3C/div%3E%60%29%5B0%5D%3B%0A%20%20%20%20%20%20%20%20%20%20%20%20popup_62ccdd2a1fea49d886d16ae5c9a7f419.setContent%28html_71634e98635b4f8eb056e6ab1a1ea2f2%29%3B%0A%20%20%20%20%20%20%20%20%0A%0A%20%20%20%20%20%20%20%20circle_marker_aecf8b70173842d59753b4e120ad87ce.bindPopup%28popup_62ccdd2a1fea49d886d16ae5c9a7f419%29%0A%20%20%20%20%20%20%20%20%3B%0A%0A%20%20%20%20%20%20%20%20%0A%20%20%20%20%0A%20%20%20%20%0A%20%20%20%20%20%20%20%20%20%20%20%20var%20circle_marker_57cc1954ec904fffa53333b71e079533%20%3D%20L.circleMarker%28%0A%20%20%20%20%20%20%20%20%20%20%20%20%20%20%20%20%5B35.87%2C%20128.53%5D%2C%0A%20%20%20%20%20%20%20%20%20%20%20%20%20%20%20%20%7B%22bubblingMouseEvents%22%3A%20true%2C%20%22color%22%3A%20%22%233388ff%22%2C%20%22dashArray%22%3A%20null%2C%20%22dashOffset%22%3A%20null%2C%20%22fill%22%3A%20true%2C%20%22fillColor%22%3A%20%22%233388ff%22%2C%20%22fillOpacity%22%3A%200.3%2C%20%22fillRule%22%3A%20%22evenodd%22%2C%20%22lineCap%22%3A%20%22round%22%2C%20%22lineJoin%22%3A%20%22round%22%2C%20%22opacity%22%3A%201.0%2C%20%22radius%22%3A%208%2C%20%22stroke%22%3A%20true%2C%20%22weight%22%3A%203%7D%0A%20%20%20%20%20%20%20%20%20%20%20%20%29.addTo%28map_d70ceb26c33146ab808e907ba057a81f%29%3B%0A%20%20%20%20%20%20%20%20%0A%20%20%20%20%0A%20%20%20%20%20%20%20%20var%20popup_d08073064ba041b8bf19d6fb19384946%20%3D%20L.popup%28%7B%22maxWidth%22%3A%20%22100%25%22%7D%29%3B%0A%0A%20%20%20%20%20%20%20%20%0A%20%20%20%20%20%20%20%20%20%20%20%20var%20html_8a7611917f974a2c868255527b6eb1c4%20%3D%20%24%28%60%3Cdiv%20id%3D%22html_8a7611917f974a2c868255527b6eb1c4%22%20style%3D%22width%3A%20100.0%25%3B%20height%3A%20100.0%25%3B%22%3E%28%27%EB%8C%80%EA%B5%AC%EA%B4%91%EC%97%AD%EC%8B%9C%27%2C%2081.27000000000001%29%3C/div%3E%60%29%5B0%5D%3B%0A%20%20%20%20%20%20%20%20%20%20%20%20popup_d08073064ba041b8bf19d6fb19384946.setContent%28html_8a7611917f974a2c868255527b6eb1c4%29%3B%0A%20%20%20%20%20%20%20%20%0A%0A%20%20%20%20%20%20%20%20circle_marker_57cc1954ec904fffa53333b71e079533.bindPopup%28popup_d08073064ba041b8bf19d6fb19384946%29%0A%20%20%20%20%20%20%20%20%3B%0A%0A%20%20%20%20%20%20%20%20%0A%20%20%20%20%0A%20%20%20%20%0A%20%20%20%20%20%20%20%20%20%20%20%20var%20circle_marker_35665beef48b4032a04625b9cf82287a%20%3D%20L.circleMarker%28%0A%20%20%20%20%20%20%20%20%20%20%20%20%20%20%20%20%5B37.46%2C%20126.6%5D%2C%0A%20%20%20%20%20%20%20%20%20%20%20%20%20%20%20%20%7B%22bubblingMouseEvents%22%3A%20true%2C%20%22color%22%3A%20%22%233388ff%22%2C%20%22dashArray%22%3A%20null%2C%20%22dashOffset%22%3A%20null%2C%20%22fill%22%3A%20true%2C%20%22fillColor%22%3A%20%22%233388ff%22%2C%20%22fillOpacity%22%3A%200.3%2C%20%22fillRule%22%3A%20%22evenodd%22%2C%20%22lineCap%22%3A%20%22round%22%2C%20%22lineJoin%22%3A%20%22round%22%2C%20%22opacity%22%3A%201.0%2C%20%22radius%22%3A%209%2C%20%22stroke%22%3A%20true%2C%20%22weight%22%3A%203%7D%0A%20%20%20%20%20%20%20%20%20%20%20%20%29.addTo%28map_d70ceb26c33146ab808e907ba057a81f%29%3B%0A%20%20%20%20%20%20%20%20%0A%20%20%20%20%0A%20%20%20%20%20%20%20%20var%20popup_b0afd6c085064bad93ff878529c1110a%20%3D%20L.popup%28%7B%22maxWidth%22%3A%20%22100%25%22%7D%29%3B%0A%0A%20%20%20%20%20%20%20%20%0A%20%20%20%20%20%20%20%20%20%20%20%20var%20html_1f9d9b324d9b4fa298930933cc7bf0b3%20%3D%20%24%28%60%3Cdiv%20id%3D%22html_1f9d9b324d9b4fa298930933cc7bf0b3%22%20style%3D%22width%3A%20100.0%25%3B%20height%3A%20100.0%25%3B%22%3E%28%27%EC%9D%B8%EC%B2%9C%EA%B4%91%EC%97%AD%EC%8B%9C%27%2C%20402.61000000000007%29%3C/div%3E%60%29%5B0%5D%3B%0A%20%20%20%20%20%20%20%20%20%20%20%20popup_b0afd6c085064bad93ff878529c1110a.setContent%28html_1f9d9b324d9b4fa298930933cc7bf0b3%29%3B%0A%20%20%20%20%20%20%20%20%0A%0A%20%20%20%20%20%20%20%20circle_marker_35665beef48b4032a04625b9cf82287a.bindPopup%28popup_b0afd6c085064bad93ff878529c1110a%29%0A%20%20%20%20%20%20%20%20%3B%0A%0A%20%20%20%20%20%20%20%20%0A%20%20%20%20%0A%20%20%20%20%0A%20%20%20%20%20%20%20%20%20%20%20%20var%20circle_marker_9a46efdfb3de4eaca1a7fc133859f857%20%3D%20L.circleMarker%28%0A%20%20%20%20%20%20%20%20%20%20%20%20%20%20%20%20%5B35.17%2C%20126.8%5D%2C%0A%20%20%20%20%20%20%20%20%20%20%20%20%20%20%20%20%7B%22bubblingMouseEvents%22%3A%20true%2C%20%22color%22%3A%20%22%233388ff%22%2C%20%22dashArray%22%3A%20null%2C%20%22dashOffset%22%3A%20null%2C%20%22fill%22%3A%20true%2C%20%22fillColor%22%3A%20%22%233388ff%22%2C%20%22fillOpacity%22%3A%200.3%2C%20%22fillRule%22%3A%20%22evenodd%22%2C%20%22lineCap%22%3A%20%22round%22%2C%20%22lineJoin%22%3A%20%22round%22%2C%20%22opacity%22%3A%201.0%2C%20%22radius%22%3A%2010%2C%20%22stroke%22%3A%20true%2C%20%22weight%22%3A%203%7D%0A%20%20%20%20%20%20%20%20%20%20%20%20%29.addTo%28map_d70ceb26c33146ab808e907ba057a81f%29%3B%0A%20%20%20%20%20%20%20%20%0A%20%20%20%20%0A%20%20%20%20%20%20%20%20var%20popup_96e3038f41f14f52a27f07b4adbf8c1b%20%3D%20L.popup%28%7B%22maxWidth%22%3A%20%22100%25%22%7D%29%3B%0A%0A%20%20%20%20%20%20%20%20%0A%20%20%20%20%20%20%20%20%20%20%20%20var%20html_e3f1f4f12ef34c148959e54ab03c3cc0%20%3D%20%24%28%60%3Cdiv%20id%3D%22html_e3f1f4f12ef34c148959e54ab03c3cc0%22%20style%3D%22width%3A%20100.0%25%3B%20height%3A%20100.0%25%3B%22%3E%28%27%EA%B4%91%EC%A3%BC%EA%B4%91%EC%97%AD%EC%8B%9C%27%2C%2051.29%29%3C/div%3E%60%29%5B0%5D%3B%0A%20%20%20%20%20%20%20%20%20%20%20%20popup_96e3038f41f14f52a27f07b4adbf8c1b.setContent%28html_e3f1f4f12ef34c148959e54ab03c3cc0%29%3B%0A%20%20%20%20%20%20%20%20%0A%0A%20%20%20%20%20%20%20%20circle_marker_9a46efdfb3de4eaca1a7fc133859f857.bindPopup%28popup_96e3038f41f14f52a27f07b4adbf8c1b%29%0A%20%20%20%20%20%20%20%20%3B%0A%0A%20%20%20%20%20%20%20%20%0A%20%20%20%20%0A%20%20%20%20%0A%20%20%20%20%20%20%20%20%20%20%20%20var%20circle_marker_7543a369ac25437c9e50262cb28164bd%20%3D%20L.circleMarker%28%0A%20%20%20%20%20%20%20%20%20%20%20%20%20%20%20%20%5B36.37%2C%20127.35%5D%2C%0A%20%20%20%20%20%20%20%20%20%20%20%20%20%20%20%20%7B%22bubblingMouseEvents%22%3A%20true%2C%20%22color%22%3A%20%22%233388ff%22%2C%20%22dashArray%22%3A%20null%2C%20%22dashOffset%22%3A%20null%2C%20%22fill%22%3A%20true%2C%20%22fillColor%22%3A%20%22%233388ff%22%2C%20%22fillOpacity%22%3A%200.3%2C%20%22fillRule%22%3A%20%22evenodd%22%2C%20%22lineCap%22%3A%20%22round%22%2C%20%22lineJoin%22%3A%20%22round%22%2C%20%22opacity%22%3A%201.0%2C%20%22radius%22%3A%2011%2C%20%22stroke%22%3A%20true%2C%20%22weight%22%3A%203%7D%0A%20%20%20%20%20%20%20%20%20%20%20%20%29.addTo%28map_d70ceb26c33146ab808e907ba057a81f%29%3B%0A%20%20%20%20%20%20%20%20%0A%20%20%20%20%0A%20%20%20%20%20%20%20%20var%20popup_bbb9a88a2ad0499787470ad0447a8bb5%20%3D%20L.popup%28%7B%22maxWidth%22%3A%20%22100%25%22%7D%29%3B%0A%0A%20%20%20%20%20%20%20%20%0A%20%20%20%20%20%20%20%20%20%20%20%20var%20html_1961aa76cfb142b6898c1f6b1bc9d04d%20%3D%20%24%28%60%3Cdiv%20id%3D%22html_1961aa76cfb142b6898c1f6b1bc9d04d%22%20style%3D%22width%3A%20100.0%25%3B%20height%3A%20100.0%25%3B%22%3E%28%27%EB%8C%80%EC%A0%84%EA%B4%91%EC%97%AD%EC%8B%9C%27%2C%20164.13%29%3C/div%3E%60%29%5B0%5D%3B%0A%20%20%20%20%20%20%20%20%20%20%20%20popup_bbb9a88a2ad0499787470ad0447a8bb5.setContent%28html_1961aa76cfb142b6898c1f6b1bc9d04d%29%3B%0A%20%20%20%20%20%20%20%20%0A%0A%20%20%20%20%20%20%20%20circle_marker_7543a369ac25437c9e50262cb28164bd.bindPopup%28popup_bbb9a88a2ad0499787470ad0447a8bb5%29%0A%20%20%20%20%20%20%20%20%3B%0A%0A%20%20%20%20%20%20%20%20%0A%20%20%20%20%0A%20%20%20%20%0A%20%20%20%20%20%20%20%20%20%20%20%20var%20circle_marker_367d267d671f41a489ae82674a55c89c%20%3D%20L.circleMarker%28%0A%20%20%20%20%20%20%20%20%20%20%20%20%20%20%20%20%5B35.56%2C%20129.28%5D%2C%0A%20%20%20%20%20%20%20%20%20%20%20%20%20%20%20%20%7B%22bubblingMouseEvents%22%3A%20true%2C%20%22color%22%3A%20%22%233388ff%22%2C%20%22dashArray%22%3A%20null%2C%20%22dashOffset%22%3A%20null%2C%20%22fill%22%3A%20true%2C%20%22fillColor%22%3A%20%22%233388ff%22%2C%20%22fillOpacity%22%3A%200.3%2C%20%22fillRule%22%3A%20%22evenodd%22%2C%20%22lineCap%22%3A%20%22round%22%2C%20%22lineJoin%22%3A%20%22round%22%2C%20%22opacity%22%3A%201.0%2C%20%22radius%22%3A%2012%2C%20%22stroke%22%3A%20true%2C%20%22weight%22%3A%203%7D%0A%20%20%20%20%20%20%20%20%20%20%20%20%29.addTo%28map_d70ceb26c33146ab808e907ba057a81f%29%3B%0A%20%20%20%20%20%20%20%20%0A%20%20%20%20%0A%20%20%20%20%20%20%20%20var%20popup_559e0550e2b14ff9934491cc89a95e80%20%3D%20L.popup%28%7B%22maxWidth%22%3A%20%22100%25%22%7D%29%3B%0A%0A%20%20%20%20%20%20%20%20%0A%20%20%20%20%20%20%20%20%20%20%20%20var%20html_5cf6172166b54062b93f50abd4b917d8%20%3D%20%24%28%60%3Cdiv%20id%3D%22html_5cf6172166b54062b93f50abd4b917d8%22%20style%3D%22width%3A%20100.0%25%3B%20height%3A%20100.0%25%3B%22%3E%28%27%EC%9A%B8%EC%82%B0%EA%B4%91%EC%97%AD%EC%8B%9C%27%2C%2025.94%29%3C/div%3E%60%29%5B0%5D%3B%0A%20%20%20%20%20%20%20%20%20%20%20%20popup_559e0550e2b14ff9934491cc89a95e80.setContent%28html_5cf6172166b54062b93f50abd4b917d8%29%3B%0A%20%20%20%20%20%20%20%20%0A%0A%20%20%20%20%20%20%20%20circle_marker_367d267d671f41a489ae82674a55c89c.bindPopup%28popup_559e0550e2b14ff9934491cc89a95e80%29%0A%20%20%20%20%20%20%20%20%3B%0A%0A%20%20%20%20%20%20%20%20%0A%20%20%20%20%0A%20%20%20%20%0A%20%20%20%20%20%20%20%20%20%20%20%20var%20circle_marker_3504edb658d74288bacf1b622e3469d5%20%3D%20L.circleMarker%28%0A%20%20%20%20%20%20%20%20%20%20%20%20%20%20%20%20%5B36.25%2C%20127.24%5D%2C%0A%20%20%20%20%20%20%20%20%20%20%20%20%20%20%20%20%7B%22bubblingMouseEvents%22%3A%20true%2C%20%22color%22%3A%20%22%233388ff%22%2C%20%22dashArray%22%3A%20null%2C%20%22dashOffset%22%3A%20null%2C%20%22fill%22%3A%20true%2C%20%22fillColor%22%3A%20%22%233388ff%22%2C%20%22fillOpacity%22%3A%200.3%2C%20%22fillRule%22%3A%20%22evenodd%22%2C%20%22lineCap%22%3A%20%22round%22%2C%20%22lineJoin%22%3A%20%22round%22%2C%20%22opacity%22%3A%201.0%2C%20%22radius%22%3A%2013%2C%20%22stroke%22%3A%20true%2C%20%22weight%22%3A%203%7D%0A%20%20%20%20%20%20%20%20%20%20%20%20%29.addTo%28map_d70ceb26c33146ab808e907ba057a81f%29%3B%0A%20%20%20%20%20%20%20%20%0A%20%20%20%20%0A%20%20%20%20%20%20%20%20var%20popup_2d020c40030f46878a6bb84d2099ef27%20%3D%20L.popup%28%7B%22maxWidth%22%3A%20%22100%25%22%7D%29%3B%0A%0A%20%20%20%20%20%20%20%20%0A%20%20%20%20%20%20%20%20%20%20%20%20var%20html_ba95d5a6bbb24e8393a25c2af786e75b%20%3D%20%24%28%60%3Cdiv%20id%3D%22html_ba95d5a6bbb24e8393a25c2af786e75b%22%20style%3D%22width%3A%20100.0%25%3B%20height%3A%20100.0%25%3B%22%3E%28%27%EC%84%B8%EC%A2%85%ED%8A%B9%EB%B3%84%EC%9E%90%EC%B9%98%EC%8B%9C%27%2C%2046.19%29%3C/div%3E%60%29%5B0%5D%3B%0A%20%20%20%20%20%20%20%20%20%20%20%20popup_2d020c40030f46878a6bb84d2099ef27.setContent%28html_ba95d5a6bbb24e8393a25c2af786e75b%29%3B%0A%20%20%20%20%20%20%20%20%0A%0A%20%20%20%20%20%20%20%20circle_marker_3504edb658d74288bacf1b622e3469d5.bindPopup%28popup_2d020c40030f46878a6bb84d2099ef27%29%0A%20%20%20%20%20%20%20%20%3B%0A%0A%20%20%20%20%20%20%20%20%0A%20%20%20%20%0A%20%20%20%20%0A%20%20%20%20%20%20%20%20%20%20%20%20var%20circle_marker_cc872dbf09a54035a1f8baf6cdb82d9d%20%3D%20L.circleMarker%28%0A%20%20%20%20%20%20%20%20%20%20%20%20%20%20%20%20%5B37.59%2C%20126.53%5D%2C%0A%20%20%20%20%20%20%20%20%20%20%20%20%20%20%20%20%7B%22bubblingMouseEvents%22%3A%20true%2C%20%22color%22%3A%20%22%233388ff%22%2C%20%22dashArray%22%3A%20null%2C%20%22dashOffset%22%3A%20null%2C%20%22fill%22%3A%20true%2C%20%22fillColor%22%3A%20%22%233388ff%22%2C%20%22fillOpacity%22%3A%200.3%2C%20%22fillRule%22%3A%20%22evenodd%22%2C%20%22lineCap%22%3A%20%22round%22%2C%20%22lineJoin%22%3A%20%22round%22%2C%20%22opacity%22%3A%201.0%2C%20%22radius%22%3A%2014%2C%20%22stroke%22%3A%20true%2C%20%22weight%22%3A%203%7D%0A%20%20%20%20%20%20%20%20%20%20%20%20%29.addTo%28map_d70ceb26c33146ab808e907ba057a81f%29%3B%0A%20%20%20%20%20%20%20%20%0A%20%20%20%20%0A%20%20%20%20%20%20%20%20var%20popup_e12a7b172b174acd8890d1b55647c45f%20%3D%20L.popup%28%7B%22maxWidth%22%3A%20%22100%25%22%7D%29%3B%0A%0A%20%20%20%20%20%20%20%20%0A%20%20%20%20%20%20%20%20%20%20%20%20var%20html_c2b86170d94f44a6acc65bd16040b605%20%3D%20%24%28%60%3Cdiv%20id%3D%22html_c2b86170d94f44a6acc65bd16040b605%22%20style%3D%22width%3A%20100.0%25%3B%20height%3A%20100.0%25%3B%22%3E%28%27%EA%B2%BD%EA%B8%B0%EB%8F%84%27%2C%2022778.07%29%3C/div%3E%60%29%5B0%5D%3B%0A%20%20%20%20%20%20%20%20%20%20%20%20popup_e12a7b172b174acd8890d1b55647c45f.setContent%28html_c2b86170d94f44a6acc65bd16040b605%29%3B%0A%20%20%20%20%20%20%20%20%0A%0A%20%20%20%20%20%20%20%20circle_marker_cc872dbf09a54035a1f8baf6cdb82d9d.bindPopup%28popup_e12a7b172b174acd8890d1b55647c45f%29%0A%20%20%20%20%20%20%20%20%3B%0A%0A%20%20%20%20%20%20%20%20%0A%20%20%20%20%0A%20%20%20%20%0A%20%20%20%20%20%20%20%20%20%20%20%20var%20circle_marker_80d8f068345f4989b461daa237a3586c%20%3D%20L.circleMarker%28%0A%20%20%20%20%20%20%20%20%20%20%20%20%20%20%20%20%5B37.86%2C%20127.68%5D%2C%0A%20%20%20%20%20%20%20%20%20%20%20%20%20%20%20%20%7B%22bubblingMouseEvents%22%3A%20true%2C%20%22color%22%3A%20%22%233388ff%22%2C%20%22dashArray%22%3A%20null%2C%20%22dashOffset%22%3A%20null%2C%20%22fill%22%3A%20true%2C%20%22fillColor%22%3A%20%22%233388ff%22%2C%20%22fillOpacity%22%3A%200.3%2C%20%22fillRule%22%3A%20%22evenodd%22%2C%20%22lineCap%22%3A%20%22round%22%2C%20%22lineJoin%22%3A%20%22round%22%2C%20%22opacity%22%3A%201.0%2C%20%22radius%22%3A%2015%2C%20%22stroke%22%3A%20true%2C%20%22weight%22%3A%203%7D%0A%20%20%20%20%20%20%20%20%20%20%20%20%29.addTo%28map_d70ceb26c33146ab808e907ba057a81f%29%3B%0A%20%20%20%20%20%20%20%20%0A%20%20%20%20%0A%20%20%20%20%20%20%20%20var%20popup_59c576d017954577bd2e6b0f075be9af%20%3D%20L.popup%28%7B%22maxWidth%22%3A%20%22100%25%22%7D%29%3B%0A%0A%20%20%20%20%20%20%20%20%0A%20%20%20%20%20%20%20%20%20%20%20%20var%20html_0fbdb4e63bb94c94a97c1c4aea06c912%20%3D%20%24%28%60%3Cdiv%20id%3D%22html_0fbdb4e63bb94c94a97c1c4aea06c912%22%20style%3D%22width%3A%20100.0%25%3B%20height%3A%20100.0%25%3B%22%3E%28%27%EA%B0%95%EC%9B%90%EB%8F%84%27%2C%2095.58000000000001%29%3C/div%3E%60%29%5B0%5D%3B%0A%20%20%20%20%20%20%20%20%20%20%20%20popup_59c576d017954577bd2e6b0f075be9af.setContent%28html_0fbdb4e63bb94c94a97c1c4aea06c912%29%3B%0A%20%20%20%20%20%20%20%20%0A%0A%20%20%20%20%20%20%20%20circle_marker_80d8f068345f4989b461daa237a3586c.bindPopup%28popup_59c576d017954577bd2e6b0f075be9af%29%0A%20%20%20%20%20%20%20%20%3B%0A%0A%20%20%20%20%20%20%20%20%0A%20%20%20%20%0A%20%20%20%20%0A%20%20%20%20%20%20%20%20%20%20%20%20var%20circle_marker_e8aa82e41094499e89227732f01f62c8%20%3D%20L.circleMarker%28%0A%20%20%20%20%20%20%20%20%20%20%20%20%20%20%20%20%5B36.63%2C%20127.68%5D%2C%0A%20%20%20%20%20%20%20%20%20%20%20%20%20%20%20%20%7B%22bubblingMouseEvents%22%3A%20true%2C%20%22color%22%3A%20%22%233388ff%22%2C%20%22dashArray%22%3A%20null%2C%20%22dashOffset%22%3A%20null%2C%20%22fill%22%3A%20true%2C%20%22fillColor%22%3A%20%22%233388ff%22%2C%20%22fillOpacity%22%3A%200.3%2C%20%22fillRule%22%3A%20%22evenodd%22%2C%20%22lineCap%22%3A%20%22round%22%2C%20%22lineJoin%22%3A%20%22round%22%2C%20%22opacity%22%3A%201.0%2C%20%22radius%22%3A%2016%2C%20%22stroke%22%3A%20true%2C%20%22weight%22%3A%203%7D%0A%20%20%20%20%20%20%20%20%20%20%20%20%29.addTo%28map_d70ceb26c33146ab808e907ba057a81f%29%3B%0A%20%20%20%20%20%20%20%20%0A%20%20%20%20%0A%20%20%20%20%20%20%20%20var%20popup_cd73c3e521de447c870c064fe157bb22%20%3D%20L.popup%28%7B%22maxWidth%22%3A%20%22100%25%22%7D%29%3B%0A%0A%20%20%20%20%20%20%20%20%0A%20%20%20%20%20%20%20%20%20%20%20%20var%20html_35da3bc38db14a25b0cbd741dc5ed904%20%3D%20%24%28%60%3Cdiv%20id%3D%22html_35da3bc38db14a25b0cbd741dc5ed904%22%20style%3D%22width%3A%20100.0%25%3B%20height%3A%20100.0%25%3B%22%3E%28%27%EC%B6%A9%EC%B2%AD%EB%B6%81%EB%8F%84%27%2C%20558.85%29%3C/div%3E%60%29%5B0%5D%3B%0A%20%20%20%20%20%20%20%20%20%20%20%20popup_cd73c3e521de447c870c064fe157bb22.setContent%28html_35da3bc38db14a25b0cbd741dc5ed904%29%3B%0A%20%20%20%20%20%20%20%20%0A%0A%20%20%20%20%20%20%20%20circle_marker_e8aa82e41094499e89227732f01f62c8.bindPopup%28popup_cd73c3e521de447c870c064fe157bb22%29%0A%20%20%20%20%20%20%20%20%3B%0A%0A%20%20%20%20%20%20%20%20%0A%20%20%20%20%0A%20%20%20%20%0A%20%20%20%20%20%20%20%20%20%20%20%20var%20circle_marker_b349d10ff67c4e7682037bebc227bca9%20%3D%20L.circleMarker%28%0A%20%20%20%20%20%20%20%20%20%20%20%20%20%20%20%20%5B36.53%2C%20126.51%5D%2C%0A%20%20%20%20%20%20%20%20%20%20%20%20%20%20%20%20%7B%22bubblingMouseEvents%22%3A%20true%2C%20%22color%22%3A%20%22%233388ff%22%2C%20%22dashArray%22%3A%20null%2C%20%22dashOffset%22%3A%20null%2C%20%22fill%22%3A%20true%2C%20%22fillColor%22%3A%20%22%233388ff%22%2C%20%22fillOpacity%22%3A%200.3%2C%20%22fillRule%22%3A%20%22evenodd%22%2C%20%22lineCap%22%3A%20%22round%22%2C%20%22lineJoin%22%3A%20%22round%22%2C%20%22opacity%22%3A%201.0%2C%20%22radius%22%3A%2017%2C%20%22stroke%22%3A%20true%2C%20%22weight%22%3A%203%7D%0A%20%20%20%20%20%20%20%20%20%20%20%20%29.addTo%28map_d70ceb26c33146ab808e907ba057a81f%29%3B%0A%20%20%20%20%20%20%20%20%0A%20%20%20%20%0A%20%20%20%20%20%20%20%20var%20popup_3365e00d06384c34b9dd7902c7e2d6eb%20%3D%20L.popup%28%7B%22maxWidth%22%3A%20%22100%25%22%7D%29%3B%0A%0A%20%20%20%20%20%20%20%20%0A%20%20%20%20%20%20%20%20%20%20%20%20var%20html_204820972aae4d2ca9cb7e8fefd2faf5%20%3D%20%24%28%60%3Cdiv%20id%3D%22html_204820972aae4d2ca9cb7e8fefd2faf5%22%20style%3D%22width%3A%20100.0%25%3B%20height%3A%20100.0%25%3B%22%3E%28%27%EC%B6%A9%EC%B2%AD%EB%82%A8%EB%8F%84%27%2C%201176.97%29%3C/div%3E%60%29%5B0%5D%3B%0A%20%20%20%20%20%20%20%20%20%20%20%20popup_3365e00d06384c34b9dd7902c7e2d6eb.setContent%28html_204820972aae4d2ca9cb7e8fefd2faf5%29%3B%0A%20%20%20%20%20%20%20%20%0A%0A%20%20%20%20%20%20%20%20circle_marker_b349d10ff67c4e7682037bebc227bca9.bindPopup%28popup_3365e00d06384c34b9dd7902c7e2d6eb%29%0A%20%20%20%20%20%20%20%20%3B%0A%0A%20%20%20%20%20%20%20%20%0A%20%20%20%20%0A%20%20%20%20%0A%20%20%20%20%20%20%20%20%20%20%20%20var%20circle_marker_bc501a80c6434b9588279275de9c0de4%20%3D%20L.circleMarker%28%0A%20%20%20%20%20%20%20%20%20%20%20%20%20%20%20%20%5B35.72%2C%20126.64%5D%2C%0A%20%20%20%20%20%20%20%20%20%20%20%20%20%20%20%20%7B%22bubblingMouseEvents%22%3A%20true%2C%20%22color%22%3A%20%22%233388ff%22%2C%20%22dashArray%22%3A%20null%2C%20%22dashOffset%22%3A%20null%2C%20%22fill%22%3A%20true%2C%20%22fillColor%22%3A%20%22%233388ff%22%2C%20%22fillOpacity%22%3A%200.3%2C%20%22fillRule%22%3A%20%22evenodd%22%2C%20%22lineCap%22%3A%20%22round%22%2C%20%22lineJoin%22%3A%20%22round%22%2C%20%22opacity%22%3A%201.0%2C%20%22radius%22%3A%2018%2C%20%22stroke%22%3A%20true%2C%20%22weight%22%3A%203%7D%0A%20%20%20%20%20%20%20%20%20%20%20%20%29.addTo%28map_d70ceb26c33146ab808e907ba057a81f%29%3B%0A%20%20%20%20%20%20%20%20%0A%20%20%20%20%0A%20%20%20%20%20%20%20%20var%20popup_03197df44b1b42fbba542a1171656cb6%20%3D%20L.popup%28%7B%22maxWidth%22%3A%20%22100%25%22%7D%29%3B%0A%0A%20%20%20%20%20%20%20%20%0A%20%20%20%20%20%20%20%20%20%20%20%20var%20html_cca7c6cfe2114b7a8d8908729f76d790%20%3D%20%24%28%60%3Cdiv%20id%3D%22html_cca7c6cfe2114b7a8d8908729f76d790%22%20style%3D%22width%3A%20100.0%25%3B%20height%3A%20100.0%25%3B%22%3E%28%27%EC%A0%84%EB%9D%BC%EB%B6%81%EB%8F%84%27%2C%20112.82000000000001%29%3C/div%3E%60%29%5B0%5D%3B%0A%20%20%20%20%20%20%20%20%20%20%20%20popup_03197df44b1b42fbba542a1171656cb6.setContent%28html_cca7c6cfe2114b7a8d8908729f76d790%29%3B%0A%20%20%20%20%20%20%20%20%0A%0A%20%20%20%20%20%20%20%20circle_marker_bc501a80c6434b9588279275de9c0de4.bindPopup%28popup_03197df44b1b42fbba542a1171656cb6%29%0A%20%20%20%20%20%20%20%20%3B%0A%0A%20%20%20%20%20%20%20%20%0A%20%20%20%20%0A%20%20%20%20%0A%20%20%20%20%20%20%20%20%20%20%20%20var%20circle_marker_5a2c8a8812c449d7a400a6cb4840c1f7%20%3D%20L.circleMarker%28%0A%20%20%20%20%20%20%20%20%20%20%20%20%20%20%20%20%5B34.69%2C%20125.93%5D%2C%0A%20%20%20%20%20%20%20%20%20%20%20%20%20%20%20%20%7B%22bubblingMouseEvents%22%3A%20true%2C%20%22color%22%3A%20%22%233388ff%22%2C%20%22dashArray%22%3A%20null%2C%20%22dashOffset%22%3A%20null%2C%20%22fill%22%3A%20true%2C%20%22fillColor%22%3A%20%22%233388ff%22%2C%20%22fillOpacity%22%3A%200.3%2C%20%22fillRule%22%3A%20%22evenodd%22%2C%20%22lineCap%22%3A%20%22round%22%2C%20%22lineJoin%22%3A%20%22round%22%2C%20%22opacity%22%3A%201.0%2C%20%22radius%22%3A%2019%2C%20%22stroke%22%3A%20true%2C%20%22weight%22%3A%203%7D%0A%20%20%20%20%20%20%20%20%20%20%20%20%29.addTo%28map_d70ceb26c33146ab808e907ba057a81f%29%3B%0A%20%20%20%20%20%20%20%20%0A%20%20%20%20%0A%20%20%20%20%20%20%20%20var%20popup_f6dced88050846609f6519fa6d7ca5f1%20%3D%20L.popup%28%7B%22maxWidth%22%3A%20%22100%25%22%7D%29%3B%0A%0A%20%20%20%20%20%20%20%20%0A%20%20%20%20%20%20%20%20%20%20%20%20var%20html_c1d85fd560d74e288afc4386545a1a35%20%3D%20%24%28%60%3Cdiv%20id%3D%22html_c1d85fd560d74e288afc4386545a1a35%22%20style%3D%22width%3A%20100.0%25%3B%20height%3A%20100.0%25%3B%22%3E%28%27%EC%A0%84%EB%9D%BC%EB%82%A8%EB%8F%84%27%2C%2051.92000000000001%29%3C/div%3E%60%29%5B0%5D%3B%0A%20%20%20%20%20%20%20%20%20%20%20%20popup_f6dced88050846609f6519fa6d7ca5f1.setContent%28html_c1d85fd560d74e288afc4386545a1a35%29%3B%0A%20%20%20%20%20%20%20%20%0A%0A%20%20%20%20%20%20%20%20circle_marker_5a2c8a8812c449d7a400a6cb4840c1f7.bindPopup%28popup_f6dced88050846609f6519fa6d7ca5f1%29%0A%20%20%20%20%20%20%20%20%3B%0A%0A%20%20%20%20%20%20%20%20%0A%20%20%20%20%0A%20%20%20%20%0A%20%20%20%20%20%20%20%20%20%20%20%20var%20circle_marker_cadcb111bbf24c0e9959448b4f56d599%20%3D%20L.circleMarker%28%0A%20%20%20%20%20%20%20%20%20%20%20%20%20%20%20%20%5B36.55%2C%20129.28%5D%2C%0A%20%20%20%20%20%20%20%20%20%20%20%20%20%20%20%20%7B%22bubblingMouseEvents%22%3A%20true%2C%20%22color%22%3A%20%22%233388ff%22%2C%20%22dashArray%22%3A%20null%2C%20%22dashOffset%22%3A%20null%2C%20%22fill%22%3A%20true%2C%20%22fillColor%22%3A%20%22%233388ff%22%2C%20%22fillOpacity%22%3A%200.3%2C%20%22fillRule%22%3A%20%22evenodd%22%2C%20%22lineCap%22%3A%20%22round%22%2C%20%22lineJoin%22%3A%20%22round%22%2C%20%22opacity%22%3A%201.0%2C%20%22radius%22%3A%2020%2C%20%22stroke%22%3A%20true%2C%20%22weight%22%3A%203%7D%0A%20%20%20%20%20%20%20%20%20%20%20%20%29.addTo%28map_d70ceb26c33146ab808e907ba057a81f%29%3B%0A%20%20%20%20%20%20%20%20%0A%20%20%20%20%0A%20%20%20%20%20%20%20%20var%20popup_0fb92ddec4254dbeb690a8f38ea5ed7d%20%3D%20L.popup%28%7B%22maxWidth%22%3A%20%22100%25%22%7D%29%3B%0A%0A%20%20%20%20%20%20%20%20%0A%20%20%20%20%20%20%20%20%20%20%20%20var%20html_a61c0f7d1a9f409f858bb88f69d3347c%20%3D%20%24%28%60%3Cdiv%20id%3D%22html_a61c0f7d1a9f409f858bb88f69d3347c%22%20style%3D%22width%3A%20100.0%25%3B%20height%3A%20100.0%25%3B%22%3E%28%27%EA%B2%BD%EC%83%81%EB%B6%81%EB%8F%84%27%2C%20103.79%29%3C/div%3E%60%29%5B0%5D%3B%0A%20%20%20%20%20%20%20%20%20%20%20%20popup_0fb92ddec4254dbeb690a8f38ea5ed7d.setContent%28html_a61c0f7d1a9f409f858bb88f69d3347c%29%3B%0A%20%20%20%20%20%20%20%20%0A%0A%20%20%20%20%20%20%20%20circle_marker_cadcb111bbf24c0e9959448b4f56d599.bindPopup%28popup_0fb92ddec4254dbeb690a8f38ea5ed7d%29%0A%20%20%20%20%20%20%20%20%3B%0A%0A%20%20%20%20%20%20%20%20%0A%20%20%20%20%0A%20%20%20%20%0A%20%20%20%20%20%20%20%20%20%20%20%20var%20circle_marker_2362d2872e7140e8b0f0f1742109071a%20%3D%20L.circleMarker%28%0A%20%20%20%20%20%20%20%20%20%20%20%20%20%20%20%20%5B35.18%2C%20127.83%5D%2C%0A%20%20%20%20%20%20%20%20%20%20%20%20%20%20%20%20%7B%22bubblingMouseEvents%22%3A%20true%2C%20%22color%22%3A%20%22%233388ff%22%2C%20%22dashArray%22%3A%20null%2C%20%22dashOffset%22%3A%20null%2C%20%22fill%22%3A%20true%2C%20%22fillColor%22%3A%20%22%233388ff%22%2C%20%22fillOpacity%22%3A%200.3%2C%20%22fillRule%22%3A%20%22evenodd%22%2C%20%22lineCap%22%3A%20%22round%22%2C%20%22lineJoin%22%3A%20%22round%22%2C%20%22opacity%22%3A%201.0%2C%20%22radius%22%3A%2021%2C%20%22stroke%22%3A%20true%2C%20%22weight%22%3A%203%7D%0A%20%20%20%20%20%20%20%20%20%20%20%20%29.addTo%28map_d70ceb26c33146ab808e907ba057a81f%29%3B%0A%20%20%20%20%20%20%20%20%0A%20%20%20%20%0A%20%20%20%20%20%20%20%20var%20popup_bea4cef3beb24f4382672006bbe375e0%20%3D%20L.popup%28%7B%22maxWidth%22%3A%20%22100%25%22%7D%29%3B%0A%0A%20%20%20%20%20%20%20%20%0A%20%20%20%20%20%20%20%20%20%20%20%20var%20html_cc08ed4e13bc40d7a55f488dcfde21c2%20%3D%20%24%28%60%3Cdiv%20id%3D%22html_cc08ed4e13bc40d7a55f488dcfde21c2%22%20style%3D%22width%3A%20100.0%25%3B%20height%3A%20100.0%25%3B%22%3E%28%27%EA%B2%BD%EC%83%81%EB%82%A8%EB%8F%84%27%2C%20113.55000000000003%29%3C/div%3E%60%29%5B0%5D%3B%0A%20%20%20%20%20%20%20%20%20%20%20%20popup_bea4cef3beb24f4382672006bbe375e0.setContent%28html_cc08ed4e13bc40d7a55f488dcfde21c2%29%3B%0A%20%20%20%20%20%20%20%20%0A%0A%20%20%20%20%20%20%20%20circle_marker_2362d2872e7140e8b0f0f1742109071a.bindPopup%28popup_bea4cef3beb24f4382672006bbe375e0%29%0A%20%20%20%20%20%20%20%20%3B%0A%0A%20%20%20%20%20%20%20%20%0A%20%20%20%20%0A%20%20%20%20%0A%20%20%20%20%20%20%20%20%20%20%20%20var%20circle_marker_b934bb323c16453bb37da3243192768d%20%3D%20L.circleMarker%28%0A%20%20%20%20%20%20%20%20%20%20%20%20%20%20%20%20%5B33.57%2C%20126.29%5D%2C%0A%20%20%20%20%20%20%20%20%20%20%20%20%20%20%20%20%7B%22bubblingMouseEvents%22%3A%20true%2C%20%22color%22%3A%20%22%233388ff%22%2C%20%22dashArray%22%3A%20null%2C%20%22dashOffset%22%3A%20null%2C%20%22fill%22%3A%20true%2C%20%22fillColor%22%3A%20%22%233388ff%22%2C%20%22fillOpacity%22%3A%200.3%2C%20%22fillRule%22%3A%20%22evenodd%22%2C%20%22lineCap%22%3A%20%22round%22%2C%20%22lineJoin%22%3A%20%22round%22%2C%20%22opacity%22%3A%201.0%2C%20%22radius%22%3A%2022%2C%20%22stroke%22%3A%20true%2C%20%22weight%22%3A%203%7D%0A%20%20%20%20%20%20%20%20%20%20%20%20%29.addTo%28map_d70ceb26c33146ab808e907ba057a81f%29%3B%0A%20%20%20%20%20%20%20%20%0A%20%20%20%20%0A%20%20%20%20%20%20%20%20var%20popup_2f5fd3c2460347d186024fbdc5ec7b0f%20%3D%20L.popup%28%7B%22maxWidth%22%3A%20%22100%25%22%7D%29%3B%0A%0A%20%20%20%20%20%20%20%20%0A%20%20%20%20%20%20%20%20%20%20%20%20var%20html_09e2fd96546049908c90b050920e81fd%20%3D%20%24%28%60%3Cdiv%20id%3D%22html_09e2fd96546049908c90b050920e81fd%22%20style%3D%22width%3A%20100.0%25%3B%20height%3A%20100.0%25%3B%22%3E%28%27%EC%A0%9C%EC%A3%BC%ED%8A%B9%EB%B3%84%EC%9E%90%EC%B9%98%EB%8F%84%27%2C%2024.78%29%3C/div%3E%60%29%5B0%5D%3B%0A%20%20%20%20%20%20%20%20%20%20%20%20popup_2f5fd3c2460347d186024fbdc5ec7b0f.setContent%28html_09e2fd96546049908c90b050920e81fd%29%3B%0A%20%20%20%20%20%20%20%20%0A%0A%20%20%20%20%20%20%20%20circle_marker_b934bb323c16453bb37da3243192768d.bindPopup%28popup_2f5fd3c2460347d186024fbdc5ec7b0f%29%0A%20%20%20%20%20%20%20%20%3B%0A%0A%20%20%20%20%20%20%20%20%0A%20%20%20%20%0A%3C/script%3E onload=\"this.contentDocument.open();this.contentDocument.write(    decodeURIComponent(this.getAttribute('data-html')));this.contentDocument.close();\" allowfullscreen webkitallowfullscreen mozallowfullscreen></iframe></div></div>"
     },
     "execution_count": 13,
     "metadata": {},
     "output_type": "execute_result"
    }
   ]
  },
  {
   "cell_type": "code",
   "execution_count": 16,
   "outputs": [
    {
     "data": {
      "text/plain": "<Figure size 432x288 with 1 Axes>",
      "image/png": "[encoded data removed]"
     },
     "metadata": {
      "needs_background": "light"
     },
     "output_type": "display_data"
    }
   ],
   "source": [
    "# Bar Plot 작성\n",
    "\n",
    "# 한글 오류 문제 해결\n",
    "plt.rcParams['font.family'] = 'AppleGothic' # Mac에서 실행할 경우, 주석 헤제\n",
    "# plt.rcParams['font.family'] = 'Malgun Gothic' # Windows에서 실행할 경우, 주석 해제\n",
    "\n",
    "plt.bar(return_data['ADDR'], return_data[check_column])\n",
    "plt.xlabel('출발지')\n",
    "plt.xticks(rotation=45)\n",
    "plt.ylabel('유동인구')\n",
    "plt.ylim(0, 3000)\n",
    "\n",
    "plt.show()"
   ],
   "metadata": {
    "collapsed": false,
    "pycharm": {
     "name": "#%%\n"
    }
   }
  }
 ]
}